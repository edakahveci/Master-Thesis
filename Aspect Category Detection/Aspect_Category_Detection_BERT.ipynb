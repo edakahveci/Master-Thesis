{
  "nbformat": 4,
  "nbformat_minor": 0,
  "metadata": {
    "accelerator": "GPU",
    "colab": {
      "name": "Tensorflow_BERT.ipynb",
      "provenance": [],
      "collapsed_sections": [],
      "toc_visible": true
    },
    "kernelspec": {
      "display_name": "Python 3",
      "language": "python",
      "name": "python3"
    },
    "language_info": {
      "codemirror_mode": {
        "name": "ipython",
        "version": 3
      },
      "file_extension": ".py",
      "mimetype": "text/x-python",
      "name": "python",
      "nbconvert_exporter": "python",
      "pygments_lexer": "ipython3",
      "version": "3.7.6"
    }
  },
  "cells": [
    {
      "cell_type": "markdown",
      "metadata": {
        "id": "SUrE_P_XXjWu"
      },
      "source": [
        "# Task Description"
      ]
    },
    {
      "cell_type": "markdown",
      "metadata": {
        "id": "a2g3lSaBs7V8"
      },
      "source": [
        "The notebook includes the BERT model for category detection task. Due its straightforward structure and better results (in comparison to Pytorch), I picked the Tensorflow package for BERT model for this task. After I conduct necessary data cleaning and processing, I subtract three necessary inputs of a BERT model. I applied the model through downloading the base pretrained BERT layer from Tensorflow hub and add to the neural network model as a Keras layer.\n",
        "\n",
        "I followed the model developing through the graphs of validation loss and precision and recall, which seem proper for a well functioning neural network model. For the success of the model I paid my attention on F1 score (among other metrics) the most.\n",
        "\n",
        "To elaborate the result, I checked the labelwise classification report which shows the precision, recall and the f1 score for each label and the confusion metrices that I constructed manually for each label. "
      ]
    },
    {
      "cell_type": "markdown",
      "metadata": {
        "id": "Uq8y1NXZ7Vim"
      },
      "source": [
        "# Packages"
      ]
    },
    {
      "cell_type": "code",
      "metadata": {
        "id": "B-5QskFL7kaq",
        "colab": {
          "base_uri": "https://localhost:8080/",
          "height": 429
        },
        "outputId": "8b8cf694-a967-4b0e-f7f1-7f62a5e57cfb"
      },
      "source": [
        "pip install transformers"
      ],
      "execution_count": null,
      "outputs": [
        {
          "output_type": "stream",
          "text": [
            "Requirement already satisfied: transformers in /usr/local/lib/python3.6/dist-packages (3.3.1)\n",
            "Requirement already satisfied: sacremoses in /usr/local/lib/python3.6/dist-packages (from transformers) (0.0.43)\n",
            "Requirement already satisfied: regex!=2019.12.17 in /usr/local/lib/python3.6/dist-packages (from transformers) (2019.12.20)\n",
            "Requirement already satisfied: packaging in /usr/local/lib/python3.6/dist-packages (from transformers) (20.4)\n",
            "Requirement already satisfied: tqdm>=4.27 in /usr/local/lib/python3.6/dist-packages (from transformers) (4.41.1)\n",
            "Requirement already satisfied: sentencepiece!=0.1.92 in /usr/local/lib/python3.6/dist-packages (from transformers) (0.1.91)\n",
            "Requirement already satisfied: dataclasses; python_version < \"3.7\" in /usr/local/lib/python3.6/dist-packages (from transformers) (0.7)\n",
            "Requirement already satisfied: requests in /usr/local/lib/python3.6/dist-packages (from transformers) (2.23.0)\n",
            "Requirement already satisfied: numpy in /usr/local/lib/python3.6/dist-packages (from transformers) (1.18.5)\n",
            "Requirement already satisfied: tokenizers==0.8.1.rc2 in /usr/local/lib/python3.6/dist-packages (from transformers) (0.8.1rc2)\n",
            "Requirement already satisfied: filelock in /usr/local/lib/python3.6/dist-packages (from transformers) (3.0.12)\n",
            "Requirement already satisfied: click in /usr/local/lib/python3.6/dist-packages (from sacremoses->transformers) (7.1.2)\n",
            "Requirement already satisfied: six in /usr/local/lib/python3.6/dist-packages (from sacremoses->transformers) (1.15.0)\n",
            "Requirement already satisfied: joblib in /usr/local/lib/python3.6/dist-packages (from sacremoses->transformers) (0.16.0)\n",
            "Requirement already satisfied: pyparsing>=2.0.2 in /usr/local/lib/python3.6/dist-packages (from packaging->transformers) (2.4.7)\n",
            "Requirement already satisfied: urllib3!=1.25.0,!=1.25.1,<1.26,>=1.21.1 in /usr/local/lib/python3.6/dist-packages (from requests->transformers) (1.24.3)\n",
            "Requirement already satisfied: certifi>=2017.4.17 in /usr/local/lib/python3.6/dist-packages (from requests->transformers) (2020.6.20)\n",
            "Requirement already satisfied: idna<3,>=2.5 in /usr/local/lib/python3.6/dist-packages (from requests->transformers) (2.10)\n",
            "Requirement already satisfied: chardet<4,>=3.0.2 in /usr/local/lib/python3.6/dist-packages (from requests->transformers) (3.0.4)\n"
          ],
          "name": "stdout"
        }
      ]
    },
    {
      "cell_type": "code",
      "metadata": {
        "id": "oQ9wGZii7AD4"
      },
      "source": [
        "import matplotlib.pyplot as plt\n",
        "import numpy as np\n",
        "import os\n",
        "import pandas as pd\n",
        "import random\n",
        "import re\n",
        "import seaborn as sns\n",
        "import string \n",
        "import tensorflow as tf\n",
        "import tensorflow_hub as hub\n",
        "\n",
        "from sklearn.metrics import accuracy_score, average_precision_score, classification_report, confusion_matrix\n",
        "from sklearn.metrics import f1_score, hamming_loss, roc_auc_score, roc_curve\n",
        "from tensorflow.keras.callbacks import EarlyStopping, ModelCheckpoint\n",
        "from tensorflow.keras.layers import Dense, Dropout, Input\n",
        "from tensorflow.keras.losses import CategoricalCrossentropy\n",
        "from tensorflow.keras.metrics import Precision, Recall, FalseNegatives, FalsePositives\n",
        "from tensorflow.keras.models import Model \n",
        "from tensorflow.keras.optimizers import Adam, SGD, RMSprop\n",
        "from tensorflow.keras.utils import to_categorical\n",
        "from transformers import BertTokenizer"
      ],
      "execution_count": null,
      "outputs": []
    },
    {
      "cell_type": "markdown",
      "metadata": {
        "id": "RHArMTeM82Jj"
      },
      "source": [
        "# Data Preprocessing "
      ]
    },
    {
      "cell_type": "code",
      "metadata": {
        "id": "50D_wAeU82Jl",
        "colab": {
          "base_uri": "https://localhost:8080/",
          "height": 499
        },
        "outputId": "18cd4594-543e-4986-e4eb-30c54be4b3d4"
      },
      "source": [
        "# Import data\n",
        "train = pd.read_excel('Trainset.xlsx')\n",
        "test = pd.read_excel('Testset.xlsx')\n",
        "\n",
        "# Eliminate the NAs\n",
        "train = train.fillna('')\n",
        "test = test.fillna('')\n",
        "\n",
        "# Remove the rows without Opinion Category values\n",
        "train = train[train.OpinionCategory != ''] \n",
        "test = test[test.OpinionCategory != ''] \n",
        "\n",
        "# Sort the data\n",
        "train = train.sort_values('Sentence_ID').reset_index(drop=True)\n",
        "test = test.sort_values('Sentence_ID').reset_index(drop=True)\n",
        "train.head()"
      ],
      "execution_count": null,
      "outputs": [
        {
          "output_type": "execute_result",
          "data": {
            "text/html": [
              "<div>\n",
              "<style scoped>\n",
              "    .dataframe tbody tr th:only-of-type {\n",
              "        vertical-align: middle;\n",
              "    }\n",
              "\n",
              "    .dataframe tbody tr th {\n",
              "        vertical-align: top;\n",
              "    }\n",
              "\n",
              "    .dataframe thead th {\n",
              "        text-align: right;\n",
              "    }\n",
              "</style>\n",
              "<table border=\"1\" class=\"dataframe\">\n",
              "  <thead>\n",
              "    <tr style=\"text-align: right;\">\n",
              "      <th></th>\n",
              "      <th>ID_number</th>\n",
              "      <th>Review_ID</th>\n",
              "      <th>ID_and_Review</th>\n",
              "      <th>OutOfScope</th>\n",
              "      <th>Sentence_ID</th>\n",
              "      <th>OpinionCategory</th>\n",
              "      <th>OpinionFrom</th>\n",
              "      <th>Polarity</th>\n",
              "      <th>AspectTerm</th>\n",
              "      <th>OpinionTo</th>\n",
              "      <th>Text</th>\n",
              "    </tr>\n",
              "  </thead>\n",
              "  <tbody>\n",
              "    <tr>\n",
              "      <th>0</th>\n",
              "      <td>1004293</td>\n",
              "      <td>1</td>\n",
              "      <td>1004293:0</td>\n",
              "      <td></td>\n",
              "      <td>1</td>\n",
              "      <td>RESTAURANT#GENERAL</td>\n",
              "      <td>51</td>\n",
              "      <td>negative</td>\n",
              "      <td>place</td>\n",
              "      <td>56</td>\n",
              "      <td>Judging from previous posts this used to be a ...</td>\n",
              "    </tr>\n",
              "    <tr>\n",
              "      <th>1</th>\n",
              "      <td>1004293</td>\n",
              "      <td>1</td>\n",
              "      <td>1004293:1</td>\n",
              "      <td></td>\n",
              "      <td>2</td>\n",
              "      <td>SERVICE#GENERAL</td>\n",
              "      <td>75</td>\n",
              "      <td>negative</td>\n",
              "      <td>staff</td>\n",
              "      <td>80</td>\n",
              "      <td>We, there were four of us, arrived at noon - t...</td>\n",
              "    </tr>\n",
              "    <tr>\n",
              "      <th>2</th>\n",
              "      <td>1004293</td>\n",
              "      <td>1</td>\n",
              "      <td>1004293:2</td>\n",
              "      <td></td>\n",
              "      <td>3</td>\n",
              "      <td>SERVICE#GENERAL</td>\n",
              "      <td>0</td>\n",
              "      <td>negative</td>\n",
              "      <td></td>\n",
              "      <td>0</td>\n",
              "      <td>They never brought us complimentary noodles, i...</td>\n",
              "    </tr>\n",
              "    <tr>\n",
              "      <th>3</th>\n",
              "      <td>1004293</td>\n",
              "      <td>1</td>\n",
              "      <td>1004293:3</td>\n",
              "      <td></td>\n",
              "      <td>4</td>\n",
              "      <td>FOOD#QUALITY</td>\n",
              "      <td>4</td>\n",
              "      <td>negative</td>\n",
              "      <td>food</td>\n",
              "      <td>8</td>\n",
              "      <td>The food was lousy - too sweet or too salty an...</td>\n",
              "    </tr>\n",
              "    <tr>\n",
              "      <th>4</th>\n",
              "      <td>1004293</td>\n",
              "      <td>1</td>\n",
              "      <td>1004293:3</td>\n",
              "      <td></td>\n",
              "      <td>4</td>\n",
              "      <td>FOOD#STYLE_OPTIONS</td>\n",
              "      <td>52</td>\n",
              "      <td>negative</td>\n",
              "      <td>portions</td>\n",
              "      <td>60</td>\n",
              "      <td>The food was lousy - too sweet or too salty an...</td>\n",
              "    </tr>\n",
              "  </tbody>\n",
              "</table>\n",
              "</div>"
            ],
            "text/plain": [
              "  ID_number  ...                                               Text\n",
              "0   1004293  ...  Judging from previous posts this used to be a ...\n",
              "1   1004293  ...  We, there were four of us, arrived at noon - t...\n",
              "2   1004293  ...  They never brought us complimentary noodles, i...\n",
              "3   1004293  ...  The food was lousy - too sweet or too salty an...\n",
              "4   1004293  ...  The food was lousy - too sweet or too salty an...\n",
              "\n",
              "[5 rows x 11 columns]"
            ]
          },
          "metadata": {
            "tags": []
          },
          "execution_count": 3
        }
      ]
    },
    {
      "cell_type": "code",
      "metadata": {
        "id": "1HnSWFVauAKI",
        "colab": {
          "base_uri": "https://localhost:8080/",
          "height": 34
        },
        "outputId": "b485f173-e885-4b54-faa4-b63fccd27939"
      },
      "source": [
        "train.shape, test.shape"
      ],
      "execution_count": null,
      "outputs": [
        {
          "output_type": "execute_result",
          "data": {
            "text/plain": [
              "((2507, 11), (859, 11))"
            ]
          },
          "metadata": {
            "tags": []
          },
          "execution_count": 4
        }
      ]
    },
    {
      "cell_type": "markdown",
      "metadata": {
        "id": "rjD4e3GLt10Q"
      },
      "source": [
        "Train data consists of 11 variables. The four of them indicate the ID numbers of the sentences, the reviewer, the review and the combination of them. OutofScope variable loses its function when I eliminated the null OpinionCategory values. The Opinion Category shows the aspect which the review refers to. The Opinion Category consists of 12 classes and each class has an entity and a corresponding attribute, in other words, E#A pairs. \n",
        "\n",
        "\n",
        "In this notebook, I will deal only with the Opinion Category and the corresponding reviews under the Text column and leave the analysis for Polarity and AspectTerm (and related columns with AspectTerm) to other notebooks. "
      ]
    },
    {
      "cell_type": "markdown",
      "metadata": {
        "id": "WqIIySMTujpH"
      },
      "source": [
        "## Label Counts"
      ]
    },
    {
      "cell_type": "code",
      "metadata": {
        "id": "F04uJQJN82J5",
        "colab": {
          "base_uri": "https://localhost:8080/",
          "height": 238
        },
        "outputId": "14df12bb-8742-4e54-ca57-ee1294b01aa0"
      },
      "source": [
        "train.OpinionCategory.value_counts()"
      ],
      "execution_count": null,
      "outputs": [
        {
          "output_type": "execute_result",
          "data": {
            "text/plain": [
              "FOOD#QUALITY                849\n",
              "SERVICE#GENERAL             449\n",
              "RESTAURANT#GENERAL          422\n",
              "AMBIENCE#GENERAL            255\n",
              "FOOD#STYLE_OPTIONS          137\n",
              "RESTAURANT#MISCELLANEOUS     98\n",
              "FOOD#PRICES                  90\n",
              "RESTAURANT#PRICES            80\n",
              "DRINKS#QUALITY               47\n",
              "DRINKS#STYLE_OPTIONS         32\n",
              "LOCATION#GENERAL             28\n",
              "DRINKS#PRICES                20\n",
              "Name: OpinionCategory, dtype: int64"
            ]
          },
          "metadata": {
            "tags": []
          },
          "execution_count": 5
        }
      ]
    },
    {
      "cell_type": "markdown",
      "metadata": {
        "id": "iYrxh7fhumxm"
      },
      "source": [
        "As it can be seen above, the aspects mentioned in the sentences fall into 12 different categories. The distribution of categories is quite imbalanced, as the four biggest categories correspond to 78% of the training data."
      ]
    },
    {
      "cell_type": "markdown",
      "metadata": {
        "id": "B2xi_zFhvbUZ"
      },
      "source": [
        "## Multilabeling"
      ]
    },
    {
      "cell_type": "code",
      "metadata": {
        "id": "c-Lo-YjuQAwM",
        "colab": {
          "base_uri": "https://localhost:8080/",
          "height": 34
        },
        "outputId": "00634af3-b3da-4edd-ce20-e3ac7150244c"
      },
      "source": [
        "# First, one-hot encode each sentence (duplicate ones as well)\n",
        "train.OpinionCategory = train.OpinionCategory.astype('category')\n",
        "one_hot = to_categorical(train.OpinionCategory.cat.codes)\n",
        "one_hot = pd.DataFrame(one_hot)\n",
        "\n",
        "test.OpinionCategory = test.OpinionCategory.astype('category')\n",
        "one_hot_test = to_categorical(test.OpinionCategory.cat.codes)\n",
        "one_hot_test = pd.DataFrame(one_hot_test)\n",
        "\n",
        "one_hot.shape, one_hot_test.shape # There are 12 opinion category classes."
      ],
      "execution_count": null,
      "outputs": [
        {
          "output_type": "execute_result",
          "data": {
            "text/plain": [
              "((2507, 12), (859, 12))"
            ]
          },
          "metadata": {
            "tags": []
          },
          "execution_count": 6
        }
      ]
    },
    {
      "cell_type": "code",
      "metadata": {
        "id": "y6yHRl0W82KD",
        "colab": {
          "base_uri": "https://localhost:8080/",
          "height": 238
        },
        "outputId": "25e17f70-6683-42cc-f78f-6166cd7ca4ac"
      },
      "source": [
        "# Subtract the necessary columns for the analysis\n",
        "useful_train = train[['Sentence_ID','OpinionCategory','Text']]\n",
        "useful_test = test[['Sentence_ID','OpinionCategory','Text']]\n",
        "\n",
        "# Concatenate the train data and the one-hot-encoding of the opinion category classes.\n",
        "data_train = pd.concat([useful_train, one_hot], axis=1)\n",
        "data_test = pd.concat([useful_test, one_hot_test], axis=1)\n",
        "\n",
        "# Since the reviewer may have mentioned more than one opinion in a sentence, \n",
        "# Sum up the one-hot-encoded classes of each sentence.\n",
        "multi_label = data_train.groupby('Sentence_ID').sum().reset_index(drop=True)\n",
        "multi_label_test = data_test.groupby('Sentence_ID').sum().reset_index(drop=True)\n",
        "\n",
        "# In each sentence, an opinion category may be refered more than one.\n",
        "# Because of that, there were values besides 0 and 1, after the summation.\n",
        "# Since being refered is important rather than how many times, the values such as 2 or 3 are reverted to one.\n",
        "multi_label = np.array(multi_label.astype(bool).astype(int))\n",
        "multi_label_test = np.array(multi_label_test.astype(bool).astype(int))\n",
        "\n",
        "# After the multi-labeling of the sentences, remove the duplicates.\n",
        "train_Text = data_train.drop_duplicates(subset=['Sentence_ID'], keep='last').Text\n",
        "test_Text = data_test.drop_duplicates(subset=['Sentence_ID'], keep='last').Text\n",
        "\n",
        "multi_label, multi_label.shape, multi_label_test, multi_label_test.shape"
      ],
      "execution_count": null,
      "outputs": [
        {
          "output_type": "execute_result",
          "data": {
            "text/plain": [
              "(array([[0, 0, 0, ..., 0, 0, 0],\n",
              "        [0, 0, 0, ..., 0, 0, 1],\n",
              "        [0, 0, 0, ..., 0, 0, 1],\n",
              "        ...,\n",
              "        [0, 0, 0, ..., 0, 0, 1],\n",
              "        [0, 0, 0, ..., 0, 0, 1],\n",
              "        [0, 0, 0, ..., 0, 0, 1]]), (1708, 12), array([[0, 0, 0, ..., 0, 0, 0],\n",
              "        [0, 0, 0, ..., 0, 0, 0],\n",
              "        [0, 0, 0, ..., 0, 0, 0],\n",
              "        ...,\n",
              "        [0, 0, 0, ..., 0, 0, 0],\n",
              "        [0, 0, 0, ..., 1, 0, 1],\n",
              "        [0, 0, 0, ..., 0, 0, 0]]), (587, 12))"
            ]
          },
          "metadata": {
            "tags": []
          },
          "execution_count": 7
        }
      ]
    },
    {
      "cell_type": "markdown",
      "metadata": {
        "id": "H3AxWl_kTDEn"
      },
      "source": [
        "### How many multilabels?"
      ]
    },
    {
      "cell_type": "code",
      "metadata": {
        "id": "I4Z63l8xMzbQ",
        "colab": {
          "base_uri": "https://localhost:8080/",
          "height": 235
        },
        "outputId": "1dc66f7e-59ba-4911-b000-cbb8344dc28f"
      },
      "source": [
        "row_sums = np.sum(multi_label, axis = 1)\n",
        "unique_sums = list(set(row_sums))\n",
        "\n",
        "counts = []\n",
        "for i in unique_sums:\n",
        "    counts.append(row_sums.tolist().count(i))\n",
        "df_multi = pd.DataFrame({'multi_labels':unique_sums, 'counts_of_multi':counts})\n",
        "df_multi"
      ],
      "execution_count": null,
      "outputs": [
        {
          "output_type": "execute_result",
          "data": {
            "text/html": [
              "<div>\n",
              "<style scoped>\n",
              "    .dataframe tbody tr th:only-of-type {\n",
              "        vertical-align: middle;\n",
              "    }\n",
              "\n",
              "    .dataframe tbody tr th {\n",
              "        vertical-align: top;\n",
              "    }\n",
              "\n",
              "    .dataframe thead th {\n",
              "        text-align: right;\n",
              "    }\n",
              "</style>\n",
              "<table border=\"1\" class=\"dataframe\">\n",
              "  <thead>\n",
              "    <tr style=\"text-align: right;\">\n",
              "      <th></th>\n",
              "      <th>multi_labels</th>\n",
              "      <th>counts_of_multi</th>\n",
              "    </tr>\n",
              "  </thead>\n",
              "  <tbody>\n",
              "    <tr>\n",
              "      <th>0</th>\n",
              "      <td>1</td>\n",
              "      <td>1282</td>\n",
              "    </tr>\n",
              "    <tr>\n",
              "      <th>1</th>\n",
              "      <td>2</td>\n",
              "      <td>324</td>\n",
              "    </tr>\n",
              "    <tr>\n",
              "      <th>2</th>\n",
              "      <td>3</td>\n",
              "      <td>83</td>\n",
              "    </tr>\n",
              "    <tr>\n",
              "      <th>3</th>\n",
              "      <td>4</td>\n",
              "      <td>17</td>\n",
              "    </tr>\n",
              "    <tr>\n",
              "      <th>4</th>\n",
              "      <td>5</td>\n",
              "      <td>1</td>\n",
              "    </tr>\n",
              "    <tr>\n",
              "      <th>5</th>\n",
              "      <td>6</td>\n",
              "      <td>1</td>\n",
              "    </tr>\n",
              "  </tbody>\n",
              "</table>\n",
              "</div>"
            ],
            "text/plain": [
              "   multi_labels  counts_of_multi\n",
              "0             1             1282\n",
              "1             2              324\n",
              "2             3               83\n",
              "3             4               17\n",
              "4             5                1\n",
              "5             6                1"
            ]
          },
          "metadata": {
            "tags": []
          },
          "execution_count": 8
        }
      ]
    },
    {
      "cell_type": "code",
      "metadata": {
        "id": "wTAxMibQNJ--",
        "colab": {
          "base_uri": "https://localhost:8080/",
          "height": 441
        },
        "outputId": "bc4d96ea-3483-4660-9b65-da17cf580fe2"
      },
      "source": [
        "#plot\n",
        "plt.clf()\n",
        "plt.figure(figsize=(8,5))\n",
        "ax = sns.barplot(df_multi.multi_labels, df_multi.counts_of_multi)\n",
        "plt.title(\"Multiple categories per comment\")\n",
        "plt.ylabel('# of Occurrences', fontsize=12)\n",
        "plt.xlabel('# of categories', fontsize=12)"
      ],
      "execution_count": null,
      "outputs": [
        {
          "output_type": "stream",
          "text": [
            "/usr/local/lib/python3.6/dist-packages/seaborn/_decorators.py:43: FutureWarning: Pass the following variables as keyword args: x, y. From version 0.12, the only valid positional argument will be `data`, and passing other arguments without an explicit keyword will result in an error or misinterpretation.\n",
            "  FutureWarning\n"
          ],
          "name": "stderr"
        },
        {
          "output_type": "execute_result",
          "data": {
            "text/plain": [
              "Text(0.5, 0, '# of categories')"
            ]
          },
          "metadata": {
            "tags": []
          },
          "execution_count": 9
        },
        {
          "output_type": "display_data",
          "data": {
            "text/plain": [
              "<Figure size 432x288 with 0 Axes>"
            ]
          },
          "metadata": {
            "tags": []
          }
        },
        {
          "output_type": "display_data",
          "data": {
            "image/png": "[encoded data removed]",
            "text/plain": [
              "<Figure size 576x360 with 1 Axes>"
            ]
          },
          "metadata": {
            "tags": [],
            "needs_background": "light"
          }
        }
      ]
    },
    {
      "cell_type": "markdown",
      "metadata": {
        "id": "-e9PoSKjxQ2C"
      },
      "source": [
        "# Bert Tokenization"
      ]
    },
    {
      "cell_type": "code",
      "metadata": {
        "id": "GzluFLFkQAwu",
        "colab": {
          "base_uri": "https://localhost:8080/",
          "height": 51
        },
        "outputId": "f0885d93-c764-47f1-89c5-163b911212b0"
      },
      "source": [
        "# add special tokens for BERT to work properly\n",
        "sentences = [\"[CLS] \" + sent + \" [SEP]\" for sent in train_Text.astype(str)]\n",
        "sentences_test = [\"[CLS] \" + sent + \" [SEP]\" for sent in test_Text.astype(str)]\n",
        "\n",
        "sentences[0], sentences_test[0]"
      ],
      "execution_count": null,
      "outputs": [
        {
          "output_type": "execute_result",
          "data": {
            "text/plain": [
              "('[CLS] Judging from previous posts this used to be a good place, but not any longer. [SEP]',\n",
              " '[CLS] Yum! [SEP]')"
            ]
          },
          "metadata": {
            "tags": []
          },
          "execution_count": 10
        }
      ]
    },
    {
      "cell_type": "markdown",
      "metadata": {
        "id": "U2zHTKXm82KK"
      },
      "source": [
        "For the tokenization, pre-trained Bert-Base-Uncased dictionary is used. They constructed it with WordPiece embeddings with a 30,000 token vocabulary. "
      ]
    },
    {
      "cell_type": "code",
      "metadata": {
        "id": "B-3Al2iXQAww",
        "colab": {
          "base_uri": "https://localhost:8080/",
          "height": 357
        },
        "outputId": "1e99cd76-feba-4dd1-bd54-5fc221fd8b22"
      },
      "source": [
        "# Tokenize with BERT tokenizer both train and test data\n",
        "tokenizer = BertTokenizer.from_pretrained('bert-base-uncased', do_lower_case=True)\n",
        "tokenized_texts = [tokenizer.tokenize(sent) for sent in sentences]\n",
        "tokenized_texts_test = [tokenizer.tokenize(sent) for sent in sentences_test]\n",
        "\n",
        "tokenized_texts[0], tokenized_texts_test[0]"
      ],
      "execution_count": null,
      "outputs": [
        {
          "output_type": "execute_result",
          "data": {
            "text/plain": [
              "(['[CLS]',\n",
              "  'judging',\n",
              "  'from',\n",
              "  'previous',\n",
              "  'posts',\n",
              "  'this',\n",
              "  'used',\n",
              "  'to',\n",
              "  'be',\n",
              "  'a',\n",
              "  'good',\n",
              "  'place',\n",
              "  ',',\n",
              "  'but',\n",
              "  'not',\n",
              "  'any',\n",
              "  'longer',\n",
              "  '.',\n",
              "  '[SEP]'],\n",
              " ['[CLS]', 'yu', '##m', '!', '[SEP]'])"
            ]
          },
          "metadata": {
            "tags": []
          },
          "execution_count": 11
        }
      ]
    },
    {
      "cell_type": "markdown",
      "metadata": {
        "id": "swreGSowUcH0"
      },
      "source": [
        "# Input Preparation"
      ]
    },
    {
      "cell_type": "markdown",
      "metadata": {
        "id": "j_nQt7PY82KM"
      },
      "source": [
        "For the BERT model to work, we need three inputs. \n",
        "- Input IDs: shows the ID number of each token with padding. The ID numbers are restored from the BERT vocabulary dictionary.\n",
        "- Mask IDs: indicates which elements in the sequence are tokens and which are padding elements.\n",
        "- Segment IDs: distinguishes different sentences, 0 for one-sentence sequence, 1 if there are two sentences. (For the model in this notebook, it will play no role, since the data is constructed with separate sentences for each observation.)\n"
      ]
    },
    {
      "cell_type": "code",
      "metadata": {
        "id": "RNCcS863QAwx"
      },
      "source": [
        "def get_ids(tokens, tokenizer, max_seq_length):\n",
        "    token_ids = tokenizer.convert_tokens_to_ids(tokens)\n",
        "    input_ids = token_ids + [0] * (max_seq_length-len(token_ids))\n",
        "    return input_ids\n",
        "\n",
        "def get_masks(tokens, max_seq_length):\n",
        "    if len(tokens) > max_seq_length:\n",
        "        raise IndexError(\"Token length more than max seq length!\")\n",
        "    return [1]*len(tokens) + [0] * (max_seq_length - len(tokens))\n",
        "\n",
        "def get_segments(tokens, max_seq_length):\n",
        "    if len(tokens)>max_seq_length:\n",
        "        raise IndexError(\"Token length more than max seq length!\")\n",
        "    segments = []\n",
        "    current_segment_id = 0\n",
        "    for token in tokens:\n",
        "        segments.append(current_segment_id)\n",
        "        if token == \"[SEP]\":\n",
        "            current_segment_id = 1\n",
        "    return segments + [0] * (max_seq_length - len(tokens))"
      ],
      "execution_count": null,
      "outputs": []
    },
    {
      "cell_type": "code",
      "metadata": {
        "id": "85JdLD8582KO",
        "colab": {
          "base_uri": "https://localhost:8080/",
          "height": 34
        },
        "outputId": "bc10da54-552a-4771-d882-19f869db9162"
      },
      "source": [
        "# find the longest sequence for the padding\n",
        "def find_max_list(list):\n",
        "    list_len = [len(i) for i in list]\n",
        "    return max(list_len)\n",
        "    \n",
        "longestSeq_train = find_max_list(tokenized_texts)\n",
        "longestSeq_test = find_max_list(tokenized_texts_test)\n",
        "max_seq_length = max(longestSeq_train, longestSeq_test)\n",
        "print(max_seq_length)"
      ],
      "execution_count": null,
      "outputs": [
        {
          "output_type": "stream",
          "text": [
            "93\n"
          ],
          "name": "stdout"
        }
      ]
    },
    {
      "cell_type": "code",
      "metadata": {
        "id": "IkIZ39cpQAwy"
      },
      "source": [
        "# Find input_ids, mask_ids and segment_ids of the train and test data.\n",
        "max_seq_length = max_seq_length\n",
        "input_ids = []\n",
        "mask_ids = [] \n",
        "segments_ids = []\n",
        "for i in range(len(tokenized_texts)):\n",
        "    input_ids.append(get_ids(tokenized_texts[i], tokenizer, max_seq_length))\n",
        "    mask_ids.append(get_masks(tokenized_texts[i], max_seq_length))\n",
        "    segments_ids.append(get_segments(tokenized_texts[i], max_seq_length))\n",
        "    \n",
        "input_ids_test = []\n",
        "mask_ids_test = [] \n",
        "segments_ids_test = [] \n",
        "for i in range(len(tokenized_texts_test)):\n",
        "    input_ids_test.append(get_ids(tokenized_texts_test[i], tokenizer, max_seq_length))\n",
        "    mask_ids_test.append(get_masks(tokenized_texts_test[i], max_seq_length))\n",
        "    segments_ids_test.append(get_segments(tokenized_texts_test[i], max_seq_length))\n",
        "    \n",
        "# For the model, I converted the lists to tensors.\n",
        "input_ids = tf.convert_to_tensor(input_ids, dtype = tf.int32)\n",
        "mask_ids = tf.convert_to_tensor(mask_ids, dtype = tf.int32)\n",
        "segments_ids = tf.convert_to_tensor(segments_ids, dtype = tf.int32)\n",
        "\n",
        "input_ids_test = tf.convert_to_tensor(input_ids_test, dtype = tf.int32)\n",
        "mask_ids_test = tf.convert_to_tensor(mask_ids_test, dtype = tf.int32)\n",
        "segments_ids_test = tf.convert_to_tensor(segments_ids_test, dtype = tf.int32)"
      ],
      "execution_count": null,
      "outputs": []
    },
    {
      "cell_type": "markdown",
      "metadata": {
        "id": "MiuTf_Bo82KR"
      },
      "source": [
        "# Model"
      ]
    },
    {
      "cell_type": "markdown",
      "metadata": {
        "id": "kKCLX9e182KR"
      },
      "source": [
        "The uncased BERT model is used with 12 hidden layers and 110M parameters, trained on Wikipedia and Book-Corpus data and hosted by Google on TensorFlow Hub. "
      ]
    },
    {
      "cell_type": "code",
      "metadata": {
        "id": "V9bpAlyu82KR",
        "colab": {
          "base_uri": "https://localhost:8080/",
          "height": 1000
        },
        "outputId": "7b99187f-a4c6-44f1-fb98-fbda8cd46f31"
      },
      "source": [
        "random.seed(123)\n",
        "# Three Inputs of the Bert Model\n",
        "InputIDLayer = Input(shape = (max_seq_length,), dtype = tf.int32, name = \"InputIDs\")\n",
        "MaskIDLayer = Input(shape = (max_seq_length,), dtype = tf.int32, name = \"MaskIDs\")\n",
        "SegmentIDLayer = Input(shape = (max_seq_length,), dtype = tf.int32, name = \"SegmentIDs\")\n",
        "\n",
        "# Import the pre-trained uncased Bert model\n",
        "bertLayer = hub.KerasLayer(\"https://tfhub.dev/tensorflow/bert_en_uncased_L-12_H-768_A-12/1\", trainable=True)\n",
        "\n",
        "# Since it is a classisfication problem, the pooled output is needed.\n",
        "pooled_output, sequence_output = bertLayer([InputIDLayer, MaskIDLayer, SegmentIDLayer])\n",
        "pooled_output = Dropout(0.5)(pooled_output)\n",
        "output = Dense(units = 768, activation = \"tanh\")(pooled_output)\n",
        "output = Dropout(0.5)(output)\n",
        "output = Dense(units = 12, activation = \"softmax\")(output)\n",
        "\n",
        "model = Model(inputs=[InputIDLayer, MaskIDLayer, SegmentIDLayer], outputs = output)\n",
        "\n",
        "# Model Compilation\n",
        "learning_rate = 2e-5\n",
        "number_of_epochs = 10\n",
        "optimizer = Adam(learning_rate = learning_rate, epsilon = 1e-08)\n",
        "loss = CategoricalCrossentropy(from_logits = False)\n",
        "metrics = [Precision(), Recall(),\n",
        "          FalseNegatives(), FalsePositives()]\n",
        "\n",
        "model.compile(optimizer = optimizer, \n",
        "              loss = loss,\n",
        "              metrics = metrics)\n",
        "\n",
        "# Model Training & Fine-Tuning on train data\n",
        "earlyStopping = EarlyStopping(monitor = \"val_loss\", mode = \"min\", patience = 1)\n",
        "checkpoint_path = 'training/cp.ckpt'\n",
        "cp_callback = tf.keras.callbacks.ModelCheckpoint(filepath = checkpoint_path,\n",
        "                                                 save_best_only = False,\n",
        "                                                 save_weights_only = True,\n",
        "                                                 verbose = 1)\n",
        "\n",
        "bert_history = model.fit([input_ids, mask_ids, segments_ids], [multi_label],\n",
        "                         epochs = number_of_epochs, \n",
        "                         batch_size = 64,\n",
        "                         validation_split = 0.1,\n",
        "                         callbacks = [earlyStopping, cp_callback]\n",
        "                         )"
      ],
      "execution_count": null,
      "outputs": [
        {
          "output_type": "stream",
          "text": [
            "INFO:absl:Using /tmp/tfhub_modules to cache modules.\n"
          ],
          "name": "stderr"
        },
        {
          "output_type": "stream",
          "text": [
            "Epoch 1/10\n",
            "25/25 [==============================] - ETA: 0s - loss: 3.4666 - precision: 0.4444 - recall: 0.0491 - false_negatives: 1936.0000 - false_positives: 125.0000\n",
            "Epoch 00001: saving model to training/cp.ckpt\n",
            "25/25 [==============================] - 34s 1s/step - loss: 3.4666 - precision: 0.4444 - recall: 0.0491 - false_negatives: 1936.0000 - false_positives: 125.0000 - val_loss: 2.4366 - val_precision: 0.5111 - val_recall: 0.2072 - val_false_negatives: 176.0000 - val_false_positives: 44.0000\n",
            "Epoch 2/10\n",
            "25/25 [==============================] - ETA: 0s - loss: 2.7749 - precision: 0.6357 - recall: 0.2151 - false_negatives: 1598.0000 - false_positives: 251.0000\n",
            "Epoch 00002: saving model to training/cp.ckpt\n",
            "25/25 [==============================] - 33s 1s/step - loss: 2.7749 - precision: 0.6357 - recall: 0.2151 - false_negatives: 1598.0000 - false_positives: 251.0000 - val_loss: 2.1297 - val_precision: 0.6455 - val_recall: 0.3198 - val_false_negatives: 151.0000 - val_false_positives: 39.0000\n",
            "Epoch 3/10\n",
            "25/25 [==============================] - ETA: 0s - loss: 2.4885 - precision: 0.7318 - recall: 0.3644 - false_negatives: 1294.0000 - false_positives: 272.0000\n",
            "Epoch 00003: saving model to training/cp.ckpt\n",
            "25/25 [==============================] - 33s 1s/step - loss: 2.4885 - precision: 0.7318 - recall: 0.3644 - false_negatives: 1294.0000 - false_positives: 272.0000 - val_loss: 1.9907 - val_precision: 0.7820 - val_recall: 0.4685 - val_false_negatives: 118.0000 - val_false_positives: 29.0000\n",
            "Epoch 4/10\n",
            "25/25 [==============================] - ETA: 0s - loss: 2.2054 - precision: 0.7960 - recall: 0.4484 - false_negatives: 1123.0000 - false_positives: 234.0000\n",
            "Epoch 00004: saving model to training/cp.ckpt\n",
            "25/25 [==============================] - 33s 1s/step - loss: 2.2054 - precision: 0.7960 - recall: 0.4484 - false_negatives: 1123.0000 - false_positives: 234.0000 - val_loss: 1.9396 - val_precision: 0.8231 - val_recall: 0.5450 - val_false_negatives: 101.0000 - val_false_positives: 26.0000\n",
            "Epoch 5/10\n",
            "25/25 [==============================] - ETA: 0s - loss: 1.9724 - precision: 0.8441 - recall: 0.5054 - false_negatives: 1007.0000 - false_positives: 190.0000\n",
            "Epoch 00005: saving model to training/cp.ckpt\n",
            "25/25 [==============================] - 34s 1s/step - loss: 1.9724 - precision: 0.8441 - recall: 0.5054 - false_negatives: 1007.0000 - false_positives: 190.0000 - val_loss: 1.8593 - val_precision: 0.8224 - val_recall: 0.5631 - val_false_negatives: 97.0000 - val_false_positives: 27.0000\n",
            "Epoch 6/10\n",
            "25/25 [==============================] - ETA: 0s - loss: 1.7844 - precision: 0.8811 - recall: 0.5530 - false_negatives: 910.0000 - false_positives: 152.0000\n",
            "Epoch 00006: saving model to training/cp.ckpt\n",
            "25/25 [==============================] - 33s 1s/step - loss: 1.7844 - precision: 0.8811 - recall: 0.5530 - false_negatives: 910.0000 - false_positives: 152.0000 - val_loss: 1.8864 - val_precision: 0.8182 - val_recall: 0.5676 - val_false_negatives: 96.0000 - val_false_positives: 28.0000\n"
          ],
          "name": "stdout"
        }
      ]
    },
    {
      "cell_type": "markdown",
      "metadata": {
        "id": "dXMx7rTQUBDg"
      },
      "source": [
        "## Performance Graphs"
      ]
    },
    {
      "cell_type": "markdown",
      "metadata": {
        "id": "pS4N7rFfRkUq"
      },
      "source": [
        "### Loss Graph"
      ]
    },
    {
      "cell_type": "code",
      "metadata": {
        "id": "Hn_33gKARC9s",
        "colab": {
          "base_uri": "https://localhost:8080/",
          "height": 427
        },
        "outputId": "1def34c9-8d52-4f10-aa71-ffb2227fd811"
      },
      "source": [
        "history_dict = bert_history.history\n",
        "\n",
        "precision = history_dict['precision']\n",
        "val_precision = history_dict['val_precision']\n",
        "recall = history_dict['recall']\n",
        "val_recall = history_dict['val_recall']\n",
        "loss = history_dict['loss']\n",
        "val_loss = history_dict['val_loss']\n",
        "\n",
        "epochs = range(1, len(precision) + 1)\n",
        "\n",
        "# Use plot styling from seaborn.\n",
        "sns.set_style('darkgrid')\n",
        "\n",
        "# Increase the plot size and font size.\n",
        "sns.set(font_scale=1.5)\n",
        "plt.rcParams[\"figure.figsize\"] = (12,6)\n",
        "\n",
        "# Plot the learning curve.\n",
        "plt.plot(loss, 'b-o', label=\"training loss\")\n",
        "plt.plot(val_loss, 'r-o', label=\"validation loss\")\n",
        "\n",
        "# Label the plot.\n",
        "plt.title(\"Learning curve\")\n",
        "plt.xlabel(\"Epoch\")\n",
        "plt.ylabel(\"Loss\")\n",
        "plt.legend()\n",
        "\n",
        "plt.show()"
      ],
      "execution_count": null,
      "outputs": [
        {
          "output_type": "display_data",
          "data": {
            "image/png": "[encoded data removed]",
            "text/plain": [
              "<Figure size 864x432 with 1 Axes>"
            ]
          },
          "metadata": {
            "tags": []
          }
        }
      ]
    },
    {
      "cell_type": "markdown",
      "metadata": {
        "id": "GuZ7zAKP8bXE"
      },
      "source": [
        "### Precision & Recall Graph"
      ]
    },
    {
      "cell_type": "code",
      "metadata": {
        "id": "y4OPEBbH1yCo",
        "colab": {
          "base_uri": "https://localhost:8080/",
          "height": 427
        },
        "outputId": "64f2941e-c631-447c-9734-913ce8d21a02"
      },
      "source": [
        "plt.clf()   # clear figure\n",
        "\n",
        "# Use plot styling from seaborn.\n",
        "sns.set(style='darkgrid')\n",
        "\n",
        "# Increase the plot size and font size.\n",
        "sns.set(font_scale=1.5)\n",
        "plt.rcParams[\"figure.figsize\"] = (12,6)\n",
        "\n",
        "plt.plot(epochs, precision, 'bo', label='Training precision')\n",
        "plt.plot(epochs, val_precision, 'b', label='Validation precision')\n",
        "plt.plot(epochs, recall, 'ro', label='Training recall')\n",
        "plt.plot(epochs, val_recall, 'r', label='Validation recall')\n",
        "plt.title('Precision & Recall Curve')\n",
        "plt.xlabel('Epochs')\n",
        "plt.ylabel('Precision § Recall')\n",
        "plt.legend()\n",
        "\n",
        "plt.show()"
      ],
      "execution_count": null,
      "outputs": [
        {
          "output_type": "display_data",
          "data": {
            "image/png": "[encoded data removed]",
            "text/plain": [
              "<Figure size 864x432 with 1 Axes>"
            ]
          },
          "metadata": {
            "tags": []
          }
        }
      ]
    },
    {
      "cell_type": "markdown",
      "metadata": {
        "id": "TqWkInk3TPE_"
      },
      "source": [
        "## Model Evaluation"
      ]
    },
    {
      "cell_type": "markdown",
      "metadata": {
        "id": "CBA8kqKHUILL"
      },
      "source": [
        "### F1 Score & Precision & Recall & Subset Accuracy & Hamming Loss"
      ]
    },
    {
      "cell_type": "code",
      "metadata": {
        "id": "0Ag-7pkI82KT",
        "colab": {
          "base_uri": "https://localhost:8080/",
          "height": 414
        },
        "outputId": "7a79a500-54b4-4814-ae5d-8574f6e65221"
      },
      "source": [
        "# Precision, Recall, F1 Score\n",
        "random.seed(123)\n",
        "results = model.evaluate([input_ids_test, mask_ids_test, segments_ids_test], multi_label_test)\n",
        "f1_score = 2 * (results[1] * results[2])/(results[1] + results[2])\n",
        "\n",
        "print(\"Test Precision: {}\".format(round(results[1], 3)))\n",
        "print(\"Test Recall: {}\".format(round(results[2], 3)))\n",
        "print(\"Test F1-Score: {}\".format(round(f1_score,3)))\n",
        "\n",
        "# Predictions\n",
        "pred_labels = model.predict([input_ids_test, mask_ids_test, segments_ids_test])\n",
        "\n",
        "multi_preds = pred_labels >= 0.10\n",
        "multi_preds = multi_preds.astype(int)\n",
        "\n",
        "# Average Precision Score\n",
        "avp = average_precision_score(multi_label_test, multi_preds)\n",
        "print(\"Test Average Precision Score: {}\".format(round(avp)))\n",
        "# Subset accuracy\n",
        "print('Subset accuracy: {0}'.format(round(accuracy_score(multi_label_test, multi_preds, normalize=True, sample_weight=None), 3)))\n",
        "# Hamming loss (smaller is better)\n",
        "print('Hamming loss: {0}'.format(round(hamming_loss(multi_label_test, multi_preds), 3)))"
      ],
      "execution_count": null,
      "outputs": [
        {
          "output_type": "stream",
          "text": [
            "19/19 [==============================] - 4s 208ms/step - loss: 1.8339 - precision: 0.8336 - recall: 0.6003 - false_negatives: 297.0000 - false_positives: 89.0000\n",
            "Test F1-Score: 0.698\n",
            "Test Precision: 0.834\n",
            "Test Recall: 0.6\n",
            "Test Average Precision Score: 0.0\n",
            "Subset accuracy: 0.538\n",
            "Hamming loss: 0.072\n"
          ],
          "name": "stdout"
        }
      ]
    },
    {
      "cell_type": "markdown",
      "metadata": {
        "id": "57OimztUr2tz"
      },
      "source": [
        "## Label Based Evaluation"
      ]
    },
    {
      "cell_type": "markdown",
      "metadata": {
        "id": "HyMf6yXs87Bn"
      },
      "source": [
        "### Classification Report"
      ]
    },
    {
      "cell_type": "code",
      "metadata": {
        "id": "R56riD7iFQkm",
        "colab": {
          "base_uri": "https://localhost:8080/",
          "height": 431
        },
        "outputId": "708b1be6-81df-4a79-f755-b9bd868e7afd"
      },
      "source": [
        "categories = sorted(train.OpinionCategory.unique())\n",
        "pred_bools = (multi_preds == 1)\n",
        "true_bools = (multi_label_test == 1)\n",
        "clf_report = classification_report(true_bools, pred_bools, target_names=categories\n",
        "                                   )\n",
        "print(clf_report)"
      ],
      "execution_count": null,
      "outputs": [
        {
          "output_type": "stream",
          "text": [
            "                          precision    recall  f1-score   support\n",
            "\n",
            "        AMBIENCE#GENERAL       0.41      0.88      0.56        57\n",
            "           DRINKS#PRICES       0.00      0.00      0.00         3\n",
            "          DRINKS#QUALITY       0.00      0.00      0.00        21\n",
            "    DRINKS#STYLE_OPTIONS       0.00      0.00      0.00        12\n",
            "             FOOD#PRICES       0.00      0.00      0.00        22\n",
            "            FOOD#QUALITY       0.76      0.97      0.86       226\n",
            "      FOOD#STYLE_OPTIONS       0.38      0.10      0.16        48\n",
            "        LOCATION#GENERAL       0.00      0.00      0.00        13\n",
            "      RESTAURANT#GENERAL       0.62      0.89      0.73       142\n",
            "RESTAURANT#MISCELLANEOUS       0.34      0.36      0.35        33\n",
            "       RESTAURANT#PRICES       0.29      0.10      0.14        21\n",
            "         SERVICE#GENERAL       0.70      0.92      0.80       145\n",
            "\n",
            "               micro avg       0.64      0.74      0.68       743\n",
            "               macro avg       0.29      0.35      0.30       743\n",
            "            weighted avg       0.57      0.74      0.63       743\n",
            "             samples avg       0.75      0.79      0.74       743\n",
            "\n"
          ],
          "name": "stdout"
        },
        {
          "output_type": "stream",
          "text": [
            "/usr/local/lib/python3.6/dist-packages/sklearn/metrics/_classification.py:1272: UndefinedMetricWarning: Precision and F-score are ill-defined and being set to 0.0 in labels with no predicted samples. Use `zero_division` parameter to control this behavior.\n",
            "  _warn_prf(average, modifier, msg_start, len(result))\n"
          ],
          "name": "stderr"
        }
      ]
    },
    {
      "cell_type": "markdown",
      "metadata": {
        "id": "W15wFr5nUO7_"
      },
      "source": [
        "### Confusion Matrices"
      ]
    },
    {
      "cell_type": "code",
      "metadata": {
        "id": "yj_Ouzh2kKqE",
        "colab": {
          "base_uri": "https://localhost:8080/",
          "height": 1000
        },
        "outputId": "a0a54e3c-f0e3-4edc-d8f9-6f25f6df3341"
      },
      "source": [
        "# Confusion Matrices\n",
        "# Setting the threshold as 0.10\n",
        "df_pred = pd.DataFrame(pred_labels)\n",
        "df_pred_clean = df_pred.apply(lambda x: [0 if y <= 0.10 else 1 for y in x])\n",
        "pred_clean = np.array(df_pred_clean)\n",
        "\n",
        "y_true = multi_label_test\n",
        "y_pred = pred_clean\n",
        "\n",
        "labels = range(12)\n",
        "\n",
        "# Confusion Matrices\n",
        "conf_mat_dict={}\n",
        "\n",
        "for label_col in labels:\n",
        "    y_true_label = y_true[:, label_col]\n",
        "    y_pred_label = y_pred[:, label_col]\n",
        "    conf_mat_dict.setdefault(label_col,[]).append(confusion_matrix(y_pred=y_pred_label, y_true=y_true_label))\n",
        "    conf_mat_dict.setdefault(label_col,[]).append(y_true_label)\n",
        "    conf_mat_dict.setdefault(label_col,[]).append(y_pred_label)\n",
        "\n",
        "for label, values in conf_mat_dict.items():\n",
        "    print(\"Confusion matrix for label {}:\".format(label))\n",
        "    matrix = values[0]\n",
        "    print(matrix)\n",
        "    recall = matrix[0][0] / (matrix[0][0] + matrix[1][0])\n",
        "    print(\"Recall: {}\".format(round(recall, 2)))\n",
        "    precision = matrix[0][0] / (matrix[0][0] + matrix[0][1])\n",
        "    print(\"Precision: {}\".format(round(precision, 2)))\n",
        "    f1_score =  2 * (precision * recall)/(precision + recall)\n",
        "    print(\"F1 Score: {}\".format(round(f1_score, 2)))\n",
        "    true_label = values[1]\n",
        "    pred_label = values[2]\n",
        "    \n",
        "    print(\"ROC/AUC Score: {}\".format(round(roc_auc_score(y_true_label, y_pred_label),2)))\n",
        "    fp, tp, thresholds = roc_curve(true_label, pred_label)\n",
        "    def evaluate_threshold(tpr, fpr,clf_threshold, threshold):\n",
        "      print('Sensitivity:', round(tp[thresholds > threshold][-1],2))\n",
        "      print('Specificity:', 1 - round(fp[thresholds > threshold][-1],2))\n",
        "    evaluate_threshold(tp, fp, thresholds, 0.1)\n",
        "    print()\n",
        "    plt.plot(fp, tp, label=\"label {}\". format(label))\n",
        "    plt.xlim([0.0, 1.0])\n",
        "    plt.ylim([0.0, 1.0])\n",
        "    plt.rcParams['font.size'] = 12\n",
        "    plt.title('ROC curve')\n",
        "    plt.xlabel('False Positive Rate (1 - Specificity)')\n",
        "    plt.ylabel('True Positive Rate (Sensitivity)')\n",
        "    plt.legend(loc=\"lower right\", fontsize=10)\n",
        "    plt.grid(True)  "
      ],
      "execution_count": null,
      "outputs": [
        {
          "output_type": "stream",
          "text": [
            "Confusion matrix for label 0:\n",
            "[[457  73]\n",
            " [  7  50]]\n",
            "Recall: 0.98\n",
            "Precision: 0.86\n",
            "F1 Score: 0.92\n",
            "ROC/AUC Score: 0.9\n",
            "Sensitivity: 0.88\n",
            "Specificity: 0.86\n",
            "\n",
            "Confusion matrix for label 1:\n",
            "[[584   0]\n",
            " [  3   0]]\n",
            "Recall: 0.99\n",
            "Precision: 1.0\n",
            "F1 Score: 1.0\n",
            "ROC/AUC Score: 0.9\n",
            "Sensitivity: 0.0\n",
            "Specificity: 1.0\n",
            "\n",
            "Confusion matrix for label 2:\n",
            "[[566   0]\n",
            " [ 21   0]]\n",
            "Recall: 0.96\n",
            "Precision: 1.0\n",
            "F1 Score: 0.98\n",
            "ROC/AUC Score: 0.9\n",
            "Sensitivity: 0.0\n",
            "Specificity: 1.0\n",
            "\n",
            "Confusion matrix for label 3:\n",
            "[[574   1]\n",
            " [ 12   0]]\n",
            "Recall: 0.98\n",
            "Precision: 1.0\n",
            "F1 Score: 0.99\n",
            "ROC/AUC Score: 0.9\n",
            "Sensitivity: 0.0\n",
            "Specificity: 1.0\n",
            "\n",
            "Confusion matrix for label 4:\n",
            "[[564   1]\n",
            " [ 22   0]]\n",
            "Recall: 0.96\n",
            "Precision: 1.0\n",
            "F1 Score: 0.98\n",
            "ROC/AUC Score: 0.9\n",
            "Sensitivity: 0.0\n",
            "Specificity: 1.0\n",
            "\n",
            "Confusion matrix for label 5:\n",
            "[[293  68]\n",
            " [  6 220]]\n",
            "Recall: 0.98\n",
            "Precision: 0.81\n",
            "F1 Score: 0.89\n",
            "ROC/AUC Score: 0.9\n",
            "Sensitivity: 0.97\n",
            "Specificity: 0.81\n",
            "\n",
            "Confusion matrix for label 6:\n",
            "[[531   8]\n",
            " [ 43   5]]\n",
            "Recall: 0.93\n",
            "Precision: 0.99\n",
            "F1 Score: 0.95\n",
            "ROC/AUC Score: 0.9\n",
            "Sensitivity: 0.1\n",
            "Specificity: 0.99\n",
            "\n",
            "Confusion matrix for label 7:\n",
            "[[574   0]\n",
            " [ 13   0]]\n",
            "Recall: 0.98\n",
            "Precision: 1.0\n",
            "F1 Score: 0.99\n",
            "ROC/AUC Score: 0.9\n",
            "Sensitivity: 0.0\n",
            "Specificity: 1.0\n",
            "\n",
            "Confusion matrix for label 8:\n",
            "[[366  79]\n",
            " [ 15 127]]\n",
            "Recall: 0.96\n",
            "Precision: 0.82\n",
            "F1 Score: 0.89\n",
            "ROC/AUC Score: 0.9\n",
            "Sensitivity: 0.89\n",
            "Specificity: 0.8200000000000001\n",
            "\n",
            "Confusion matrix for label 9:\n",
            "[[531  23]\n",
            " [ 21  12]]\n",
            "Recall: 0.96\n",
            "Precision: 0.96\n",
            "F1 Score: 0.96\n",
            "ROC/AUC Score: 0.9\n",
            "Sensitivity: 0.36\n",
            "Specificity: 0.96\n",
            "\n",
            "Confusion matrix for label 10:\n",
            "[[561   5]\n",
            " [ 19   2]]\n",
            "Recall: 0.97\n",
            "Precision: 0.99\n",
            "F1 Score: 0.98\n",
            "ROC/AUC Score: 0.9\n",
            "Sensitivity: 0.1\n",
            "Specificity: 0.99\n",
            "\n",
            "Confusion matrix for label 11:\n",
            "[[386  56]\n",
            " [ 12 133]]\n",
            "Recall: 0.97\n",
            "Precision: 0.87\n",
            "F1 Score: 0.92\n",
            "ROC/AUC Score: 0.9\n",
            "Sensitivity: 0.92\n",
            "Specificity: 0.87\n",
            "\n"
          ],
          "name": "stdout"
        },
        {
          "output_type": "display_data",
          "data": {
            "image/png": "[encoded data removed]",
            "text/plain": [
              "<Figure size 864x432 with 1 Axes>"
            ]
          },
          "metadata": {
            "tags": []
          }
        }
      ]
    },
    {
      "cell_type": "markdown",
      "metadata": {
        "id": "uJNBGJ7HjDrF"
      },
      "source": [
        "The label names corresponding to the indexes:\n",
        "- 0: Ambience#General\n",
        "- 1: Drinks#Prices\n",
        "- 2: Drinks#Quality\n",
        "- 3: Drinks#Style_Options\n",
        "- 4: Food#Prices\n",
        "- 5: Food#Quality\n",
        "- 6: Food#Style_Options\n",
        "- 7: Location#General\n",
        "- 8: Restaurant#General\n",
        "- 9: Restaurant#Miscelleanous\n",
        "- 10: Restaurant#Prices\n",
        "- 11: Service#General"
      ]
    },
    {
      "cell_type": "markdown",
      "metadata": {
        "id": "MMiols5s69SE"
      },
      "source": [
        "## Output Frame"
      ]
    },
    {
      "cell_type": "code",
      "metadata": {
        "id": "K9O7KcG565im",
        "colab": {
          "base_uri": "https://localhost:8080/",
          "height": 258
        },
        "outputId": "a736e03b-1711-4789-b760-2312cdc5a40c"
      },
      "source": [
        "label_cols = list(pd.DataFrame(multi_label).columns)\n",
        "label_cols_test = list(pd.DataFrame(multi_label_test).columns)\n",
        "label_names = sorted(train.OpinionCategory.values.unique())\n",
        "\n",
        "idx2label = dict(zip(range(12),label_cols))\n",
        "label2name = dict(zip(range(12),label_names))\n",
        "print(idx2label), print(label2name)\n",
        "\n",
        "# Getting indices of where boolean one hot vector true_bools is True so we can use idx2label to gather label names\n",
        "true_label_idxs, pred_label_idxs =[],[]\n",
        "for vals in true_bools:\n",
        "  true_label_idxs.append(np.where(vals)[0].flatten().tolist())\n",
        "for vals in pred_bools:\n",
        "  pred_label_idxs.append(np.where(vals)[0].flatten().tolist())\n",
        "\n",
        "# Gathering vectors of label names using idx2label\n",
        "true_label_texts, pred_label_texts = [], []\n",
        "for vals in true_label_idxs:\n",
        "  if vals:\n",
        "    true_label_texts.append([idx2label[val] for val in vals])\n",
        "  else:\n",
        "    true_label_texts.append(vals)\n",
        "\n",
        "for vals in pred_label_idxs:\n",
        "  if vals:\n",
        "    pred_label_texts.append([idx2label[val] for val in vals])\n",
        "  else:\n",
        "    pred_label_texts.append(vals)\n",
        "\n",
        "pred_names = []\n",
        "for i in range(len(pred_label_texts)):\n",
        "  j_list = []\n",
        "  for j in pred_label_texts[i]:\n",
        "    j_list.append(label2name[j])\n",
        "  pred_names.append(j_list)\n",
        "\n",
        "    # Decoding input ids to comment text\n",
        "#comment_texts = [tokenizer.decode(text,skip_special_tokens=True,clean_up_tokenization_spaces=False) for text in tokenized_texts]\n",
        "\n",
        "# Converting lists to df\n",
        "comparisons_df = pd.DataFrame({'comment_text': test_Text, 'true_labels': true_label_texts, 'pred_labels':pred_label_texts, 'pred_names':pred_names})\n",
        "comparisons_df.to_csv('comparisons_tensorflow.csv')\n",
        "comparisons_df.to_excel('comparisons_df.xlsx')\n",
        "comparisons_df.head()"
      ],
      "execution_count": null,
      "outputs": [
        {
          "output_type": "stream",
          "text": [
            "{0: 0, 1: 1, 2: 2, 3: 3, 4: 4, 5: 5, 6: 6, 7: 7, 8: 8, 9: 9, 10: 10, 11: 11}\n",
            "{0: 'AMBIENCE#GENERAL', 1: 'DRINKS#PRICES', 2: 'DRINKS#QUALITY', 3: 'DRINKS#STYLE_OPTIONS', 4: 'FOOD#PRICES', 5: 'FOOD#QUALITY', 6: 'FOOD#STYLE_OPTIONS', 7: 'LOCATION#GENERAL', 8: 'RESTAURANT#GENERAL', 9: 'RESTAURANT#MISCELLANEOUS', 10: 'RESTAURANT#PRICES', 11: 'SERVICE#GENERAL'}\n"
          ],
          "name": "stdout"
        },
        {
          "output_type": "execute_result",
          "data": {
            "text/html": [
              "<div>\n",
              "<style scoped>\n",
              "    .dataframe tbody tr th:only-of-type {\n",
              "        vertical-align: middle;\n",
              "    }\n",
              "\n",
              "    .dataframe tbody tr th {\n",
              "        vertical-align: top;\n",
              "    }\n",
              "\n",
              "    .dataframe thead th {\n",
              "        text-align: right;\n",
              "    }\n",
              "</style>\n",
              "<table border=\"1\" class=\"dataframe\">\n",
              "  <thead>\n",
              "    <tr style=\"text-align: right;\">\n",
              "      <th></th>\n",
              "      <th>comment_text</th>\n",
              "      <th>true_labels</th>\n",
              "      <th>pred_labels</th>\n",
              "      <th>pred_names</th>\n",
              "    </tr>\n",
              "  </thead>\n",
              "  <tbody>\n",
              "    <tr>\n",
              "      <th>0</th>\n",
              "      <td>Yum!</td>\n",
              "      <td>[5]</td>\n",
              "      <td>[5]</td>\n",
              "      <td>[FOOD#QUALITY]</td>\n",
              "    </tr>\n",
              "    <tr>\n",
              "      <th>1</th>\n",
              "      <td>Serves really good sushi.</td>\n",
              "      <td>[5]</td>\n",
              "      <td>[5]</td>\n",
              "      <td>[FOOD#QUALITY]</td>\n",
              "    </tr>\n",
              "    <tr>\n",
              "      <th>2</th>\n",
              "      <td>Not the biggest portions but adequate.</td>\n",
              "      <td>[6]</td>\n",
              "      <td>[5]</td>\n",
              "      <td>[FOOD#QUALITY]</td>\n",
              "    </tr>\n",
              "    <tr>\n",
              "      <th>3</th>\n",
              "      <td>Green Tea creme brulee is a must!</td>\n",
              "      <td>[5]</td>\n",
              "      <td>[5]</td>\n",
              "      <td>[FOOD#QUALITY]</td>\n",
              "    </tr>\n",
              "    <tr>\n",
              "      <th>4</th>\n",
              "      <td>Don't leave the restaurant without it.</td>\n",
              "      <td>[5]</td>\n",
              "      <td>[8]</td>\n",
              "      <td>[RESTAURANT#GENERAL]</td>\n",
              "    </tr>\n",
              "  </tbody>\n",
              "</table>\n",
              "</div>"
            ],
            "text/plain": [
              "                             comment_text  ...            pred_names\n",
              "0                                    Yum!  ...        [FOOD#QUALITY]\n",
              "1               Serves really good sushi.  ...        [FOOD#QUALITY]\n",
              "2  Not the biggest portions but adequate.  ...        [FOOD#QUALITY]\n",
              "3       Green Tea creme brulee is a must!  ...        [FOOD#QUALITY]\n",
              "4  Don't leave the restaurant without it.  ...  [RESTAURANT#GENERAL]\n",
              "\n",
              "[5 rows x 4 columns]"
            ]
          },
          "metadata": {
            "tags": []
          },
          "execution_count": 22
        }
      ]
    }
  ]
}