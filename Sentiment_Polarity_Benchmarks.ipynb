{
  "nbformat": 4,
  "nbformat_minor": 0,
  "metadata": {
    "accelerator": "TPU",
    "colab": {
      "name": "Sentiment_Polarity_Benchmarks.ipynb",
      "provenance": [],
      "collapsed_sections": [],
      "toc_visible": true,
      "machine_shape": "hm"
    },
    "kernelspec": {
      "display_name": "Python 3",
      "language": "python",
      "name": "python3"
    },
    "language_info": {
      "codemirror_mode": {
        "name": "ipython",
        "version": 3
      },
      "file_extension": ".py",
      "mimetype": "text/x-python",
      "name": "python",
      "nbconvert_exporter": "python",
      "pygments_lexer": "ipython3",
      "version": "3.7.6"
    }
  },
  "cells": [
    {
      "cell_type": "code",
      "metadata": {
        "colab": {
          "base_uri": "https://localhost:8080/"
        },
        "id": "Cwcrg0f31Qrt",
        "outputId": "21f85e69-0139-4c51-ac29-efc7237b589f"
      },
      "source": [
        "pip install contractions"
      ],
      "execution_count": null,
      "outputs": [
        {
          "output_type": "stream",
          "text": [
            "Requirement already satisfied: contractions in /usr/local/lib/python3.6/dist-packages (0.0.43)\n",
            "Requirement already satisfied: textsearch in /usr/local/lib/python3.6/dist-packages (from contractions) (0.0.17)\n",
            "Requirement already satisfied: Unidecode in /usr/local/lib/python3.6/dist-packages (from textsearch->contractions) (1.1.1)\n",
            "Requirement already satisfied: pyahocorasick in /usr/local/lib/python3.6/dist-packages (from textsearch->contractions) (1.4.0)\n"
          ],
          "name": "stdout"
        }
      ]
    },
    {
      "cell_type": "code",
      "metadata": {
        "id": "3UYJGiACI27P",
        "colab": {
          "base_uri": "https://localhost:8080/"
        },
        "outputId": "b9d576af-0588-4df3-aae6-ad8544dc507e"
      },
      "source": [
        "!pip install pytorch_pretrained_bert"
      ],
      "execution_count": null,
      "outputs": [
        {
          "output_type": "stream",
          "text": [
            "Requirement already satisfied: pytorch_pretrained_bert in /usr/local/lib/python3.6/dist-packages (0.6.2)\n",
            "Requirement already satisfied: tqdm in /usr/local/lib/python3.6/dist-packages (from pytorch_pretrained_bert) (4.41.1)\n",
            "Requirement already satisfied: torch>=0.4.1 in /usr/local/lib/python3.6/dist-packages (from pytorch_pretrained_bert) (1.7.0+cu101)\n",
            "Requirement already satisfied: numpy in /usr/local/lib/python3.6/dist-packages (from pytorch_pretrained_bert) (1.18.5)\n",
            "Requirement already satisfied: boto3 in /usr/local/lib/python3.6/dist-packages (from pytorch_pretrained_bert) (1.16.32)\n",
            "Requirement already satisfied: regex in /usr/local/lib/python3.6/dist-packages (from pytorch_pretrained_bert) (2019.12.20)\n",
            "Requirement already satisfied: requests in /usr/local/lib/python3.6/dist-packages (from pytorch_pretrained_bert) (2.23.0)\n",
            "Requirement already satisfied: typing-extensions in /usr/local/lib/python3.6/dist-packages (from torch>=0.4.1->pytorch_pretrained_bert) (3.7.4.3)\n",
            "Requirement already satisfied: dataclasses in /usr/local/lib/python3.6/dist-packages (from torch>=0.4.1->pytorch_pretrained_bert) (0.8)\n",
            "Requirement already satisfied: future in /usr/local/lib/python3.6/dist-packages (from torch>=0.4.1->pytorch_pretrained_bert) (0.16.0)\n",
            "Requirement already satisfied: jmespath<1.0.0,>=0.7.1 in /usr/local/lib/python3.6/dist-packages (from boto3->pytorch_pretrained_bert) (0.10.0)\n",
            "Requirement already satisfied: botocore<1.20.0,>=1.19.32 in /usr/local/lib/python3.6/dist-packages (from boto3->pytorch_pretrained_bert) (1.19.32)\n",
            "Requirement already satisfied: s3transfer<0.4.0,>=0.3.0 in /usr/local/lib/python3.6/dist-packages (from boto3->pytorch_pretrained_bert) (0.3.3)\n",
            "Requirement already satisfied: chardet<4,>=3.0.2 in /usr/local/lib/python3.6/dist-packages (from requests->pytorch_pretrained_bert) (3.0.4)\n",
            "Requirement already satisfied: certifi>=2017.4.17 in /usr/local/lib/python3.6/dist-packages (from requests->pytorch_pretrained_bert) (2020.11.8)\n",
            "Requirement already satisfied: idna<3,>=2.5 in /usr/local/lib/python3.6/dist-packages (from requests->pytorch_pretrained_bert) (2.10)\n",
            "Requirement already satisfied: urllib3!=1.25.0,!=1.25.1,<1.26,>=1.21.1 in /usr/local/lib/python3.6/dist-packages (from requests->pytorch_pretrained_bert) (1.24.3)\n",
            "Requirement already satisfied: python-dateutil<3.0.0,>=2.1 in /usr/local/lib/python3.6/dist-packages (from botocore<1.20.0,>=1.19.32->boto3->pytorch_pretrained_bert) (2.8.1)\n",
            "Requirement already satisfied: six>=1.5 in /usr/local/lib/python3.6/dist-packages (from python-dateutil<3.0.0,>=2.1->botocore<1.20.0,>=1.19.32->boto3->pytorch_pretrained_bert) (1.15.0)\n"
          ],
          "name": "stdout"
        }
      ]
    },
    {
      "cell_type": "code",
      "metadata": {
        "id": "CHIPWSrCQAvs",
        "colab": {
          "base_uri": "https://localhost:8080/"
        },
        "outputId": "52d93d27-ac28-4897-fda8-7c5b9beda264"
      },
      "source": [
        "import contractions\n",
        "import matplotlib.pyplot as plt\n",
        "import nltk\n",
        "nltk.download('stopwords')\n",
        "import numpy as np\n",
        "import pandas as pd\n",
        "import random\n",
        "import re\n",
        "import seaborn as sns\n",
        "import string \n",
        "import tensorflow as tf\n",
        "import tensorflow_hub as hub\n",
        "\n",
        "from nltk.corpus import stopwords\n",
        "from sklearn.feature_extraction.text import TfidfVectorizer\n",
        "from sklearn.linear_model import LogisticRegression\n",
        "from sklearn.metrics import accuracy_score, average_precision_score, classification_report, confusion_matrix\n",
        "from sklearn.metrics import f1_score, hamming_loss, precision_score, roc_auc_score, roc_curve, recall_score\n",
        "from sklearn.multiclass import OneVsRestClassifier\n",
        "from sklearn.naive_bayes import MultinomialNB\n",
        "from sklearn.pipeline import Pipeline\n",
        "from sklearn.svm import LinearSVC\n",
        "from string import digits\n",
        "from tensorflow.keras import backend as K\n",
        "from tensorflow.keras.callbacks import EarlyStopping, ModelCheckpoint\n",
        "from tensorflow.keras.layers import Dense, Embedding, LSTM, GRU, Dropout, Bidirectional, Input, LeakyReLU, Lambda\n",
        "from tensorflow.keras.layers import Conv1D, MaxPooling1D, Flatten\n",
        "from tensorflow.keras.losses import CategoricalCrossentropy\n",
        "from tensorflow.keras.metrics import Precision, Recall, FalseNegatives, FalsePositives\n",
        "from tensorflow.keras.models import Sequential, Model\n",
        "from tensorflow.keras.preprocessing.sequence import pad_sequences\n",
        "from tensorflow.keras.preprocessing.text import Tokenizer\n",
        "from tensorflow.keras.optimizers import Adam, SGD, RMSprop\n",
        "from tensorflow.keras.regularizers import l2\n",
        "from tensorflow.keras.utils import to_categorical\n",
        "from pytorch_pretrained_bert import BertTokenizer\n",
        "from tensorflow.keras.models import Model "
      ],
      "execution_count": null,
      "outputs": [
        {
          "output_type": "stream",
          "text": [
            "[nltk_data] Downloading package stopwords to /root/nltk_data...\n",
            "[nltk_data]   Package stopwords is already up-to-date!\n"
          ],
          "name": "stdout"
        }
      ]
    },
    {
      "cell_type": "markdown",
      "metadata": {
        "id": "GF0p7uiHQnkD"
      },
      "source": [
        "# Data Preprocessing"
      ]
    },
    {
      "cell_type": "code",
      "metadata": {
        "id": "uMT5swFUQnkg"
      },
      "source": [
        "# Import data\n",
        "train = pd.read_excel('Trainset.xlsx')\n",
        "test = pd.read_excel('Testset.xlsx')\n",
        "\n",
        "# Eliminate the NAs\n",
        "train = train.fillna('')\n",
        "test = test.fillna('')\n",
        "\n",
        "# Remove the rows without Opinion Category values\n",
        "train = train[train.OpinionCategory != ''] \n",
        "test = test[test.OpinionCategory != ''] \n",
        "\n",
        "# Sort the data\n",
        "train = train.sort_values('ID_and_Review').reset_index(drop=True)\n",
        "test = test.sort_values('ID_and_Review').reset_index(drop=True)"
      ],
      "execution_count": null,
      "outputs": []
    },
    {
      "cell_type": "code",
      "metadata": {
        "id": "lR63UypfPMmC",
        "colab": {
          "base_uri": "https://localhost:8080/",
          "height": 499
        },
        "outputId": "57b74ab5-3401-45f9-fc7b-9fc5b0bcf6f9"
      },
      "source": [
        "train.head()"
      ],
      "execution_count": null,
      "outputs": [
        {
          "output_type": "execute_result",
          "data": {
            "text/html": [
              "<div>\n",
              "<style scoped>\n",
              "    .dataframe tbody tr th:only-of-type {\n",
              "        vertical-align: middle;\n",
              "    }\n",
              "\n",
              "    .dataframe tbody tr th {\n",
              "        vertical-align: top;\n",
              "    }\n",
              "\n",
              "    .dataframe thead th {\n",
              "        text-align: right;\n",
              "    }\n",
              "</style>\n",
              "<table border=\"1\" class=\"dataframe\">\n",
              "  <thead>\n",
              "    <tr style=\"text-align: right;\">\n",
              "      <th></th>\n",
              "      <th>ID_number</th>\n",
              "      <th>Review_ID</th>\n",
              "      <th>ID_and_Review</th>\n",
              "      <th>OutOfScope</th>\n",
              "      <th>Sentence_ID</th>\n",
              "      <th>OpinionCategory</th>\n",
              "      <th>OpinionFrom</th>\n",
              "      <th>Polarity</th>\n",
              "      <th>AspectTerm</th>\n",
              "      <th>OpinionTo</th>\n",
              "      <th>Text</th>\n",
              "    </tr>\n",
              "  </thead>\n",
              "  <tbody>\n",
              "    <tr>\n",
              "      <th>0</th>\n",
              "      <td>1004293</td>\n",
              "      <td>1</td>\n",
              "      <td>1004293:0</td>\n",
              "      <td></td>\n",
              "      <td>1</td>\n",
              "      <td>RESTAURANT#GENERAL</td>\n",
              "      <td>51</td>\n",
              "      <td>negative</td>\n",
              "      <td>place</td>\n",
              "      <td>56</td>\n",
              "      <td>Judging from previous posts this used to be a ...</td>\n",
              "    </tr>\n",
              "    <tr>\n",
              "      <th>1</th>\n",
              "      <td>1004293</td>\n",
              "      <td>1</td>\n",
              "      <td>1004293:1</td>\n",
              "      <td></td>\n",
              "      <td>2</td>\n",
              "      <td>SERVICE#GENERAL</td>\n",
              "      <td>75</td>\n",
              "      <td>negative</td>\n",
              "      <td>staff</td>\n",
              "      <td>80</td>\n",
              "      <td>We, there were four of us, arrived at noon - t...</td>\n",
              "    </tr>\n",
              "    <tr>\n",
              "      <th>2</th>\n",
              "      <td>1004293</td>\n",
              "      <td>1</td>\n",
              "      <td>1004293:2</td>\n",
              "      <td></td>\n",
              "      <td>3</td>\n",
              "      <td>SERVICE#GENERAL</td>\n",
              "      <td>0</td>\n",
              "      <td>negative</td>\n",
              "      <td></td>\n",
              "      <td>0</td>\n",
              "      <td>They never brought us complimentary noodles, i...</td>\n",
              "    </tr>\n",
              "    <tr>\n",
              "      <th>3</th>\n",
              "      <td>1004293</td>\n",
              "      <td>1</td>\n",
              "      <td>1004293:3</td>\n",
              "      <td></td>\n",
              "      <td>4</td>\n",
              "      <td>FOOD#QUALITY</td>\n",
              "      <td>4</td>\n",
              "      <td>negative</td>\n",
              "      <td>food</td>\n",
              "      <td>8</td>\n",
              "      <td>The food was lousy - too sweet or too salty an...</td>\n",
              "    </tr>\n",
              "    <tr>\n",
              "      <th>4</th>\n",
              "      <td>1004293</td>\n",
              "      <td>1</td>\n",
              "      <td>1004293:3</td>\n",
              "      <td></td>\n",
              "      <td>4</td>\n",
              "      <td>FOOD#STYLE_OPTIONS</td>\n",
              "      <td>52</td>\n",
              "      <td>negative</td>\n",
              "      <td>portions</td>\n",
              "      <td>60</td>\n",
              "      <td>The food was lousy - too sweet or too salty an...</td>\n",
              "    </tr>\n",
              "  </tbody>\n",
              "</table>\n",
              "</div>"
            ],
            "text/plain": [
              "  ID_number  ...                                               Text\n",
              "0   1004293  ...  Judging from previous posts this used to be a ...\n",
              "1   1004293  ...  We, there were four of us, arrived at noon - t...\n",
              "2   1004293  ...  They never brought us complimentary noodles, i...\n",
              "3   1004293  ...  The food was lousy - too sweet or too salty an...\n",
              "4   1004293  ...  The food was lousy - too sweet or too salty an...\n",
              "\n",
              "[5 rows x 11 columns]"
            ]
          },
          "metadata": {
            "tags": []
          },
          "execution_count": 7
        }
      ]
    },
    {
      "cell_type": "code",
      "metadata": {
        "id": "j0BqJOHLQnkt",
        "colab": {
          "base_uri": "https://localhost:8080/"
        },
        "outputId": "c8620f39-8b05-43d0-9402-a99361f86c9f"
      },
      "source": [
        "train.Polarity.value_counts(), test.Polarity.value_counts()"
      ],
      "execution_count": null,
      "outputs": [
        {
          "output_type": "execute_result",
          "data": {
            "text/plain": [
              "(positive    1657\n",
              " negative     749\n",
              " neutral      101\n",
              " Name: Polarity, dtype: int64, positive    611\n",
              " negative    204\n",
              " neutral      44\n",
              " Name: Polarity, dtype: int64)"
            ]
          },
          "metadata": {
            "tags": []
          },
          "execution_count": 8
        }
      ]
    },
    {
      "cell_type": "markdown",
      "metadata": {
        "id": "_S-qK5pCPQuZ"
      },
      "source": [
        "Train data consists of 11 variables. The four of them indicate the ID numbers of the sentences, the reviewer, the review and the combination of them. OutofScope variable loses its function when I eliminated the null OpinionCategory values. The Opinion Category shows the aspect which the review refers to. The Opinion Category consists of 12 classes and each class has an entity and a corresponding attribute, in other words, E#A pairs. \n",
        "\n",
        "In this notebook, I will deal only with the Polarity and the corresponding reviews under the Text column."
      ]
    },
    {
      "cell_type": "markdown",
      "metadata": {
        "id": "B2xi_zFhvbUZ"
      },
      "source": [
        "## Multilabeling"
      ]
    },
    {
      "cell_type": "code",
      "metadata": {
        "id": "c-Lo-YjuQAwM",
        "colab": {
          "base_uri": "https://localhost:8080/"
        },
        "outputId": "75081a01-61a3-4611-9389-2caf8928ef6e"
      },
      "source": [
        "# First, one-hot encode each sentence (duplicate ones as well)\n",
        "train.Polarity = train.Polarity.astype('category')\n",
        "one_hot = to_categorical(train.Polarity.cat.codes)\n",
        "one_hot = pd.DataFrame(one_hot)\n",
        "\n",
        "test.Polarity = test.Polarity.astype('category')\n",
        "one_hot_test = to_categorical(test.Polarity.cat.codes)\n",
        "one_hot_test = pd.DataFrame(one_hot_test)\n",
        "\n",
        "one_hot.shape, one_hot_test.shape # There are 12 opinion category classes."
      ],
      "execution_count": null,
      "outputs": [
        {
          "output_type": "execute_result",
          "data": {
            "text/plain": [
              "((2507, 3), (859, 3))"
            ]
          },
          "metadata": {
            "tags": []
          },
          "execution_count": 9
        }
      ]
    },
    {
      "cell_type": "code",
      "metadata": {
        "id": "y6yHRl0W82KD",
        "colab": {
          "base_uri": "https://localhost:8080/"
        },
        "outputId": "a5042055-b372-44aa-9493-9d5522599aa4"
      },
      "source": [
        "# Subtract the necessary columns for the analysis\n",
        "useful_train = train[['Sentence_ID','Polarity','Text']]\n",
        "useful_test = test[['Sentence_ID','Polarity','Text']]\n",
        "\n",
        "# Concatenate the train data and the one-hot-encoding of the opinion category classes.\n",
        "data_train = pd.concat([useful_train, one_hot], axis=1)\n",
        "data_test = pd.concat([useful_test, one_hot_test], axis=1)\n",
        "\n",
        "# Since the reviewer may have mentioned more than one opinion in a sentence, \n",
        "# Sum up the one-hot-encoded classes of each sentence.\n",
        "multi_label = data_train.groupby('Sentence_ID').sum().reset_index(drop=True)\n",
        "multi_label_test = data_test.groupby('Sentence_ID').sum().reset_index(drop=True)\n",
        "\n",
        "# In each sentence, an opinion category may be refered more than one.\n",
        "# Because of that, there were values besides 0 and 1, after the summation.\n",
        "# Since being refered is important rather than how many times, the values such as 2 or 3 are reverted to one.\n",
        "multi_label = np.array(multi_label.astype(bool).astype(int))\n",
        "multi_label_test = np.array(multi_label_test.astype(bool).astype(int))\n",
        "\n",
        "# After the multi-labeling of the sentences, remove the duplicates.\n",
        "train_Text = data_train.drop_duplicates(subset=['Sentence_ID'], keep='last').Text\n",
        "test_Text = data_test.drop_duplicates(subset=['Sentence_ID'], keep='last').Text\n",
        "\n",
        "multi_label, multi_label.shape, multi_label_test, multi_label_test.shape"
      ],
      "execution_count": null,
      "outputs": [
        {
          "output_type": "execute_result",
          "data": {
            "text/plain": [
              "(array([[1, 0, 0],\n",
              "        [1, 0, 0],\n",
              "        [1, 0, 0],\n",
              "        ...,\n",
              "        [1, 0, 0],\n",
              "        [1, 0, 0],\n",
              "        [1, 0, 0]]), (1708, 3), array([[0, 0, 1],\n",
              "        [0, 0, 1],\n",
              "        [0, 1, 0],\n",
              "        ...,\n",
              "        [0, 0, 1],\n",
              "        [1, 0, 1],\n",
              "        [0, 0, 1]]), (587, 3))"
            ]
          },
          "metadata": {
            "tags": []
          },
          "execution_count": 10
        }
      ]
    },
    {
      "cell_type": "markdown",
      "metadata": {
        "id": "c2l72LckAPAM"
      },
      "source": [
        "## Undersampling & Oversampling"
      ]
    },
    {
      "cell_type": "code",
      "metadata": {
        "id": "rOD4LIZCgzY1"
      },
      "source": [
        "df = pd.merge(pd.DataFrame(train_Text).reset_index(drop=True), pd.DataFrame(multi_label), left_index=True, right_index=True)"
      ],
      "execution_count": null,
      "outputs": []
    },
    {
      "cell_type": "code",
      "metadata": {
        "id": "sYMpuvgK5HS1",
        "colab": {
          "base_uri": "https://localhost:8080/"
        },
        "outputId": "6a2045c9-971c-4f88-e020-93bddbca7be0"
      },
      "source": [
        "imbalance_list =[]\n",
        "for i in range(3):\n",
        "  imbalance_list.append(len(df[df[i]== 1]))\n",
        "imbalance_list"
      ],
      "execution_count": null,
      "outputs": [
        {
          "output_type": "execute_result",
          "data": {
            "text/plain": [
              "[592, 94, 1166]"
            ]
          },
          "metadata": {
            "tags": []
          },
          "execution_count": 12
        }
      ]
    },
    {
      "cell_type": "code",
      "metadata": {
        "colab": {
          "base_uri": "https://localhost:8080/",
          "height": 419
        },
        "id": "aS15DAu9hC8X",
        "outputId": "c7becb33-ef11-4cbf-852d-01848dc366ac"
      },
      "source": [
        "df"
      ],
      "execution_count": null,
      "outputs": [
        {
          "output_type": "execute_result",
          "data": {
            "text/html": [
              "<div>\n",
              "<style scoped>\n",
              "    .dataframe tbody tr th:only-of-type {\n",
              "        vertical-align: middle;\n",
              "    }\n",
              "\n",
              "    .dataframe tbody tr th {\n",
              "        vertical-align: top;\n",
              "    }\n",
              "\n",
              "    .dataframe thead th {\n",
              "        text-align: right;\n",
              "    }\n",
              "</style>\n",
              "<table border=\"1\" class=\"dataframe\">\n",
              "  <thead>\n",
              "    <tr style=\"text-align: right;\">\n",
              "      <th></th>\n",
              "      <th>Text</th>\n",
              "      <th>0</th>\n",
              "      <th>1</th>\n",
              "      <th>2</th>\n",
              "    </tr>\n",
              "  </thead>\n",
              "  <tbody>\n",
              "    <tr>\n",
              "      <th>0</th>\n",
              "      <td>Judging from previous posts this used to be a ...</td>\n",
              "      <td>1</td>\n",
              "      <td>0</td>\n",
              "      <td>0</td>\n",
              "    </tr>\n",
              "    <tr>\n",
              "      <th>1</th>\n",
              "      <td>We, there were four of us, arrived at noon - t...</td>\n",
              "      <td>1</td>\n",
              "      <td>0</td>\n",
              "      <td>0</td>\n",
              "    </tr>\n",
              "    <tr>\n",
              "      <th>2</th>\n",
              "      <td>They never brought us complimentary noodles, i...</td>\n",
              "      <td>1</td>\n",
              "      <td>0</td>\n",
              "      <td>0</td>\n",
              "    </tr>\n",
              "    <tr>\n",
              "      <th>3</th>\n",
              "      <td>The food was lousy - too sweet or too salty an...</td>\n",
              "      <td>1</td>\n",
              "      <td>0</td>\n",
              "      <td>0</td>\n",
              "    </tr>\n",
              "    <tr>\n",
              "      <th>4</th>\n",
              "      <td>After all that, they complained to me about th...</td>\n",
              "      <td>1</td>\n",
              "      <td>0</td>\n",
              "      <td>0</td>\n",
              "    </tr>\n",
              "    <tr>\n",
              "      <th>...</th>\n",
              "      <td>...</td>\n",
              "      <td>...</td>\n",
              "      <td>...</td>\n",
              "      <td>...</td>\n",
              "    </tr>\n",
              "    <tr>\n",
              "      <th>1703</th>\n",
              "      <td>The service was extremely fast and attentive(t...</td>\n",
              "      <td>1</td>\n",
              "      <td>0</td>\n",
              "      <td>0</td>\n",
              "    </tr>\n",
              "    <tr>\n",
              "      <th>1704</th>\n",
              "      <td>The food was ok and fair nothing to go crazy.</td>\n",
              "      <td>1</td>\n",
              "      <td>0</td>\n",
              "      <td>0</td>\n",
              "    </tr>\n",
              "    <tr>\n",
              "      <th>1705</th>\n",
              "      <td>Over all the looks of the place exceeds the ac...</td>\n",
              "      <td>1</td>\n",
              "      <td>0</td>\n",
              "      <td>0</td>\n",
              "    </tr>\n",
              "    <tr>\n",
              "      <th>1706</th>\n",
              "      <td>So what you really end up paying for is the re...</td>\n",
              "      <td>1</td>\n",
              "      <td>0</td>\n",
              "      <td>0</td>\n",
              "    </tr>\n",
              "    <tr>\n",
              "      <th>1707</th>\n",
              "      <td>Will prob. not return but it is a great dinnin...</td>\n",
              "      <td>1</td>\n",
              "      <td>0</td>\n",
              "      <td>0</td>\n",
              "    </tr>\n",
              "  </tbody>\n",
              "</table>\n",
              "<p>1708 rows × 4 columns</p>\n",
              "</div>"
            ],
            "text/plain": [
              "                                                   Text  0  1  2\n",
              "0     Judging from previous posts this used to be a ...  1  0  0\n",
              "1     We, there were four of us, arrived at noon - t...  1  0  0\n",
              "2     They never brought us complimentary noodles, i...  1  0  0\n",
              "3     The food was lousy - too sweet or too salty an...  1  0  0\n",
              "4     After all that, they complained to me about th...  1  0  0\n",
              "...                                                 ... .. .. ..\n",
              "1703  The service was extremely fast and attentive(t...  1  0  0\n",
              "1704      The food was ok and fair nothing to go crazy.  1  0  0\n",
              "1705  Over all the looks of the place exceeds the ac...  1  0  0\n",
              "1706  So what you really end up paying for is the re...  1  0  0\n",
              "1707  Will prob. not return but it is a great dinnin...  1  0  0\n",
              "\n",
              "[1708 rows x 4 columns]"
            ]
          },
          "metadata": {
            "tags": []
          },
          "execution_count": 13
        }
      ]
    },
    {
      "cell_type": "code",
      "metadata": {
        "id": "U4L2GCmt7huB",
        "colab": {
          "base_uri": "https://localhost:8080/",
          "height": 419
        },
        "outputId": "0c20e0cf-33c9-4331-a8d6-af25ffa513a4"
      },
      "source": [
        "x = df[df[0] == 1] # negative\n",
        "y = df[df[1] == 1] # neutral\n",
        "z = df[df[2] == 1] # positive\n",
        "\n",
        "#x = x.append([x]*2,ignore_index=True)\n",
        "y = y.append([y]*5,ignore_index=True)\n",
        "\n",
        "train_df = pd.concat([df, x, y]).reset_index(drop=True)\n",
        "train_df"
      ],
      "execution_count": null,
      "outputs": [
        {
          "output_type": "execute_result",
          "data": {
            "text/html": [
              "<div>\n",
              "<style scoped>\n",
              "    .dataframe tbody tr th:only-of-type {\n",
              "        vertical-align: middle;\n",
              "    }\n",
              "\n",
              "    .dataframe tbody tr th {\n",
              "        vertical-align: top;\n",
              "    }\n",
              "\n",
              "    .dataframe thead th {\n",
              "        text-align: right;\n",
              "    }\n",
              "</style>\n",
              "<table border=\"1\" class=\"dataframe\">\n",
              "  <thead>\n",
              "    <tr style=\"text-align: right;\">\n",
              "      <th></th>\n",
              "      <th>Text</th>\n",
              "      <th>0</th>\n",
              "      <th>1</th>\n",
              "      <th>2</th>\n",
              "    </tr>\n",
              "  </thead>\n",
              "  <tbody>\n",
              "    <tr>\n",
              "      <th>0</th>\n",
              "      <td>Judging from previous posts this used to be a ...</td>\n",
              "      <td>1</td>\n",
              "      <td>0</td>\n",
              "      <td>0</td>\n",
              "    </tr>\n",
              "    <tr>\n",
              "      <th>1</th>\n",
              "      <td>We, there were four of us, arrived at noon - t...</td>\n",
              "      <td>1</td>\n",
              "      <td>0</td>\n",
              "      <td>0</td>\n",
              "    </tr>\n",
              "    <tr>\n",
              "      <th>2</th>\n",
              "      <td>They never brought us complimentary noodles, i...</td>\n",
              "      <td>1</td>\n",
              "      <td>0</td>\n",
              "      <td>0</td>\n",
              "    </tr>\n",
              "    <tr>\n",
              "      <th>3</th>\n",
              "      <td>The food was lousy - too sweet or too salty an...</td>\n",
              "      <td>1</td>\n",
              "      <td>0</td>\n",
              "      <td>0</td>\n",
              "    </tr>\n",
              "    <tr>\n",
              "      <th>4</th>\n",
              "      <td>After all that, they complained to me about th...</td>\n",
              "      <td>1</td>\n",
              "      <td>0</td>\n",
              "      <td>0</td>\n",
              "    </tr>\n",
              "    <tr>\n",
              "      <th>...</th>\n",
              "      <td>...</td>\n",
              "      <td>...</td>\n",
              "      <td>...</td>\n",
              "      <td>...</td>\n",
              "    </tr>\n",
              "    <tr>\n",
              "      <th>2859</th>\n",
              "      <td>There is something about their atmosphere that...</td>\n",
              "      <td>0</td>\n",
              "      <td>1</td>\n",
              "      <td>0</td>\n",
              "    </tr>\n",
              "    <tr>\n",
              "      <th>2860</th>\n",
              "      <td>Not cheap but very yummy.</td>\n",
              "      <td>1</td>\n",
              "      <td>1</td>\n",
              "      <td>0</td>\n",
              "    </tr>\n",
              "    <tr>\n",
              "      <th>2861</th>\n",
              "      <td>Just go to Yamato and order the Red Dragon Roll.</td>\n",
              "      <td>0</td>\n",
              "      <td>1</td>\n",
              "      <td>1</td>\n",
              "    </tr>\n",
              "    <tr>\n",
              "      <th>2862</th>\n",
              "      <td>Once you try it for a special occasion beware....</td>\n",
              "      <td>0</td>\n",
              "      <td>1</td>\n",
              "      <td>1</td>\n",
              "    </tr>\n",
              "    <tr>\n",
              "      <th>2863</th>\n",
              "      <td>The atmosphere was pretty nice but had a bit l...</td>\n",
              "      <td>0</td>\n",
              "      <td>1</td>\n",
              "      <td>0</td>\n",
              "    </tr>\n",
              "  </tbody>\n",
              "</table>\n",
              "<p>2864 rows × 4 columns</p>\n",
              "</div>"
            ],
            "text/plain": [
              "                                                   Text  0  1  2\n",
              "0     Judging from previous posts this used to be a ...  1  0  0\n",
              "1     We, there were four of us, arrived at noon - t...  1  0  0\n",
              "2     They never brought us complimentary noodles, i...  1  0  0\n",
              "3     The food was lousy - too sweet or too salty an...  1  0  0\n",
              "4     After all that, they complained to me about th...  1  0  0\n",
              "...                                                 ... .. .. ..\n",
              "2859  There is something about their atmosphere that...  0  1  0\n",
              "2860                          Not cheap but very yummy.  1  1  0\n",
              "2861   Just go to Yamato and order the Red Dragon Roll.  0  1  1\n",
              "2862  Once you try it for a special occasion beware....  0  1  1\n",
              "2863  The atmosphere was pretty nice but had a bit l...  0  1  0\n",
              "\n",
              "[2864 rows x 4 columns]"
            ]
          },
          "metadata": {
            "tags": []
          },
          "execution_count": 14
        }
      ]
    },
    {
      "cell_type": "code",
      "metadata": {
        "id": "bLtZR_pXYTT-",
        "colab": {
          "base_uri": "https://localhost:8080/"
        },
        "outputId": "cfd17a82-a405-437e-c6fb-83a2034478cc"
      },
      "source": [
        "imbalance_list =[]\n",
        "for i in range(3):\n",
        "  imbalance_list.append(len(train_df[train_df[i]== 1]))\n",
        "imbalance_list"
      ],
      "execution_count": null,
      "outputs": [
        {
          "output_type": "execute_result",
          "data": {
            "text/plain": [
              "[1292, 676, 1418]"
            ]
          },
          "metadata": {
            "tags": []
          },
          "execution_count": 15
        }
      ]
    },
    {
      "cell_type": "code",
      "metadata": {
        "id": "uME7xA6__rMz",
        "colab": {
          "base_uri": "https://localhost:8080/"
        },
        "outputId": "e7a9d6ff-71ed-408f-ad98-015f88dc3b72"
      },
      "source": [
        "multi_label = np.array(train_df.iloc[:, 1:13])\n",
        "multi_label, multi_label.shape"
      ],
      "execution_count": null,
      "outputs": [
        {
          "output_type": "execute_result",
          "data": {
            "text/plain": [
              "(array([[1, 0, 0],\n",
              "        [1, 0, 0],\n",
              "        [1, 0, 0],\n",
              "        ...,\n",
              "        [0, 1, 1],\n",
              "        [0, 1, 1],\n",
              "        [0, 1, 0]]), (2864, 3))"
            ]
          },
          "metadata": {
            "tags": []
          },
          "execution_count": 16
        }
      ]
    },
    {
      "cell_type": "markdown",
      "metadata": {
        "id": "FfrH3KauiCuL"
      },
      "source": [
        "## Train & Test Data Cleaning"
      ]
    },
    {
      "cell_type": "code",
      "metadata": {
        "colab": {
          "base_uri": "https://localhost:8080/"
        },
        "id": "IoYD8rpeTloX",
        "outputId": "f6fd2e3f-cc0a-4f89-efe9-187473d1fe6d"
      },
      "source": [
        "# Reset the indexes to remove confusion in next steps\n",
        "train_Text = train_Text.astype('str').reset_index(drop = True)\n",
        "test_Text = test_Text.astype('str').reset_index(drop = True)\n",
        "train_Text"
      ],
      "execution_count": null,
      "outputs": [
        {
          "output_type": "execute_result",
          "data": {
            "text/plain": [
              "0       Judging from previous posts this used to be a ...\n",
              "1       We, there were four of us, arrived at noon - t...\n",
              "2       They never brought us complimentary noodles, i...\n",
              "3       The food was lousy - too sweet or too salty an...\n",
              "4       After all that, they complained to me about th...\n",
              "                              ...                        \n",
              "1703    The service was extremely fast and attentive(t...\n",
              "1704        The food was ok and fair nothing to go crazy.\n",
              "1705    Over all the looks of the place exceeds the ac...\n",
              "1706    So what you really end up paying for is the re...\n",
              "1707    Will prob. not return but it is a great dinnin...\n",
              "Name: Text, Length: 1708, dtype: object"
            ]
          },
          "metadata": {
            "tags": []
          },
          "execution_count": 17
        }
      ]
    },
    {
      "cell_type": "code",
      "metadata": {
        "id": "LKg9tCkeiCuP"
      },
      "source": [
        "def cleanText(text):\n",
        "    text = contractions.fix(text) # fix the contractions (such as I've = I have)\n",
        "    text = re.sub(r'^https?:\\/\\/.*[\\r\\n]*', '', text, flags=re.MULTILINE) # remove urls\n",
        "    text = ''.join([i for i in text if not i.isdigit()]) # remove numbers\n",
        "    text = re.sub(r'[,!@#$%^&*)(|/><\";:.?\\'\\\\}{]',\"\",text) # remove punctuations\n",
        "    text = text.lower() # make lower case\n",
        "    return text"
      ],
      "execution_count": null,
      "outputs": []
    },
    {
      "cell_type": "code",
      "metadata": {
        "colab": {
          "base_uri": "https://localhost:8080/"
        },
        "id": "uAoRhFgpYoju",
        "outputId": "99f839d6-a03a-448e-a439-8d372c74f662"
      },
      "source": [
        "train_Text = train_df.Text.astype(str).map(lambda x: cleanText(x))\n",
        "test_Text = test_Text.astype(str).map(lambda x: cleanText(x))\n",
        "train_Text"
      ],
      "execution_count": null,
      "outputs": [
        {
          "output_type": "execute_result",
          "data": {
            "text/plain": [
              "0       judging from previous posts this used to be a ...\n",
              "1       we there were four of us arrived at noon - the...\n",
              "2       they never brought us complimentary noodles ig...\n",
              "3       the food was lousy - too sweet or too salty an...\n",
              "4       after all that they complained to me about the...\n",
              "                              ...                        \n",
              "2859    there is something about their atmosphere that...\n",
              "2860                             not cheap but very yummy\n",
              "2861      just go to yamato and order the red dragon roll\n",
              "2862    once you try it for a special occasion beware ...\n",
              "2863    the atmosphere was pretty nice but had a bit l...\n",
              "Name: Text, Length: 2864, dtype: object"
            ]
          },
          "metadata": {
            "tags": []
          },
          "execution_count": 19
        }
      ]
    },
    {
      "cell_type": "markdown",
      "metadata": {
        "id": "NgDY3AZCUNpR"
      },
      "source": [
        "## Data Processing for Neural Network Models"
      ]
    },
    {
      "cell_type": "markdown",
      "metadata": {
        "id": "h1eLj7LaiCub"
      },
      "source": [
        "### Tokenization "
      ]
    },
    {
      "cell_type": "code",
      "metadata": {
        "colab": {
          "base_uri": "https://localhost:8080/"
        },
        "id": "SFDYJBABiCub",
        "outputId": "08dfa68e-1aa0-4a73-eb9c-4383ed097c1d"
      },
      "source": [
        "# Tokenization of texts \n",
        "tokenizer = Tokenizer()\n",
        "tokenizer.fit_on_texts(train_Text)\n",
        "text_tokens = tokenizer.texts_to_sequences(train_Text)\n",
        "text_tokens_test = tokenizer.texts_to_sequences(test_Text)\n",
        "text_tokens[0]"
      ],
      "execution_count": null,
      "outputs": [
        {
          "output_type": "execute_result",
          "data": {
            "text/plain": [
              "[1270, 53, 482, 1271, 17, 833, 8, 31, 4, 19, 20, 12, 7, 109, 749]"
            ]
          },
          "metadata": {
            "tags": []
          },
          "execution_count": 19
        }
      ]
    },
    {
      "cell_type": "markdown",
      "metadata": {
        "id": "VGP1mrKriCuf"
      },
      "source": [
        "### Padding"
      ]
    },
    {
      "cell_type": "code",
      "metadata": {
        "colab": {
          "base_uri": "https://localhost:8080/"
        },
        "id": "NiEDEbBxiCug",
        "outputId": "b0eae7c9-ce3b-43ea-c2ca-447c98ee6581"
      },
      "source": [
        "# Check the longest text & aspect term for padding \n",
        "longestText = max([len(s.split()) for s in train_Text])\n",
        "longestText_test = max([len(s.split()) for s in test_Text])\n",
        "max_text = max(longestText, longestText_test)\n",
        "longestText, longestText_test"
      ],
      "execution_count": null,
      "outputs": [
        {
          "output_type": "execute_result",
          "data": {
            "text/plain": [
              "(57, 51)"
            ]
          },
          "metadata": {
            "tags": []
          },
          "execution_count": 20
        }
      ]
    },
    {
      "cell_type": "code",
      "metadata": {
        "id": "7swQAQ6NiCul"
      },
      "source": [
        "X_train = pad_sequences(text_tokens,max_text, padding='post')\n",
        "X_test = pad_sequences(text_tokens_test,max_text, padding='post')"
      ],
      "execution_count": null,
      "outputs": []
    },
    {
      "cell_type": "markdown",
      "metadata": {
        "id": "HKZTbYn2iCuo"
      },
      "source": [
        "GloVe Embedding"
      ]
    },
    {
      "cell_type": "code",
      "metadata": {
        "colab": {
          "base_uri": "https://localhost:8080/"
        },
        "id": "Mv2Yc-fLiCuo",
        "outputId": "185514bc-31c3-478d-fa20-a927acd89516"
      },
      "source": [
        "embeddings_index = {}\n",
        "f = open('glove.6B.100d.txt', encoding=\"utf8\")\n",
        "for line in f:\n",
        "    values = line.split()\n",
        "    word = values[0]\n",
        "    coefs = np.asarray(values[1:], dtype='float32')\n",
        "    embeddings_index[word] = coefs\n",
        "f.close()\n",
        "\n",
        "print('Found %s word vectors.' % len(embeddings_index))"
      ],
      "execution_count": null,
      "outputs": [
        {
          "output_type": "stream",
          "text": [
            "Found 164302 word vectors.\n"
          ],
          "name": "stdout"
        }
      ]
    },
    {
      "cell_type": "code",
      "metadata": {
        "colab": {
          "base_uri": "https://localhost:8080/"
        },
        "id": "qW5qt5uliCus",
        "outputId": "78c2326d-d8b9-4712-98e3-bdc5b9b55c5f"
      },
      "source": [
        "word_index = tokenizer.word_index\n",
        "len(word_index)"
      ],
      "execution_count": null,
      "outputs": [
        {
          "output_type": "execute_result",
          "data": {
            "text/plain": [
              "3038"
            ]
          },
          "metadata": {
            "tags": []
          },
          "execution_count": 23
        }
      ]
    },
    {
      "cell_type": "code",
      "metadata": {
        "id": "YXm2JVNxiCuu"
      },
      "source": [
        "emb = 100\n",
        "embedding_matrix = np.zeros((len(word_index)+1, emb))\n",
        "for word, i in word_index.items():\n",
        "    embedding_vector = embeddings_index.get(word)\n",
        "    if embedding_vector is not None:\n",
        "        # words not found in embedding index will be all-zeros.\n",
        "        embedding_matrix[i-1] = embedding_vector"
      ],
      "execution_count": null,
      "outputs": []
    },
    {
      "cell_type": "code",
      "metadata": {
        "colab": {
          "base_uri": "https://localhost:8080/"
        },
        "id": "0J16QjjriCuv",
        "outputId": "e0af2fea-8b11-45e9-c777-d19be2309e1e"
      },
      "source": [
        "X_train.shape, X_test.shape, multi_label.shape, multi_label_test.shape, embedding_matrix.shape"
      ],
      "execution_count": null,
      "outputs": [
        {
          "output_type": "execute_result",
          "data": {
            "text/plain": [
              "((2864, 57), (587, 57), (2864, 3), (587, 3), (3039, 100))"
            ]
          },
          "metadata": {
            "tags": []
          },
          "execution_count": 25
        }
      ]
    },
    {
      "cell_type": "markdown",
      "metadata": {
        "id": "zHnRc2k-ZpH1"
      },
      "source": [
        "# Basic Machine Learning Algorithms"
      ]
    },
    {
      "cell_type": "code",
      "metadata": {
        "id": "V3teAjQ_5RAf"
      },
      "source": [
        "# Subtract the necessary columns for the analysis\n",
        "useful_train = train[['Sentence_ID','Polarity','Text']]\n",
        "useful_test = test[['Sentence_ID','Polarity','Text']]"
      ],
      "execution_count": null,
      "outputs": []
    },
    {
      "cell_type": "code",
      "metadata": {
        "colab": {
          "base_uri": "https://localhost:8080/",
          "height": 142
        },
        "id": "lwcg6Wxu5JvF",
        "outputId": "c8c81215-4858-4bee-e6eb-c24f92b65526"
      },
      "source": [
        "# To elobarate the results of the models, it is important to know the number of comments under each category.\n",
        "# This also shows if the data is imbalanced or not.\n",
        "counts = []\n",
        "categories = list(sorted(useful_train.Polarity.values.unique()))\n",
        "for i in categories:\n",
        "    counts.append((i, len(useful_train[useful_train.Polarity == i])))\n",
        "df_stats = pd.DataFrame(counts, columns=['category', 'number_of_comments'])\n",
        "df_stats"
      ],
      "execution_count": null,
      "outputs": [
        {
          "output_type": "execute_result",
          "data": {
            "text/html": [
              "<div>\n",
              "<style scoped>\n",
              "    .dataframe tbody tr th:only-of-type {\n",
              "        vertical-align: middle;\n",
              "    }\n",
              "\n",
              "    .dataframe tbody tr th {\n",
              "        vertical-align: top;\n",
              "    }\n",
              "\n",
              "    .dataframe thead th {\n",
              "        text-align: right;\n",
              "    }\n",
              "</style>\n",
              "<table border=\"1\" class=\"dataframe\">\n",
              "  <thead>\n",
              "    <tr style=\"text-align: right;\">\n",
              "      <th></th>\n",
              "      <th>category</th>\n",
              "      <th>number_of_comments</th>\n",
              "    </tr>\n",
              "  </thead>\n",
              "  <tbody>\n",
              "    <tr>\n",
              "      <th>0</th>\n",
              "      <td>negative</td>\n",
              "      <td>749</td>\n",
              "    </tr>\n",
              "    <tr>\n",
              "      <th>1</th>\n",
              "      <td>neutral</td>\n",
              "      <td>101</td>\n",
              "    </tr>\n",
              "    <tr>\n",
              "      <th>2</th>\n",
              "      <td>positive</td>\n",
              "      <td>1657</td>\n",
              "    </tr>\n",
              "  </tbody>\n",
              "</table>\n",
              "</div>"
            ],
            "text/plain": [
              "   category  number_of_comments\n",
              "0  negative                 749\n",
              "1   neutral                 101\n",
              "2  positive                1657"
            ]
          },
          "metadata": {
            "tags": []
          },
          "execution_count": 27
        }
      ]
    },
    {
      "cell_type": "markdown",
      "metadata": {
        "id": "yz8F6dhHKFxo"
      },
      "source": [
        "## Naive Bayes"
      ]
    },
    {
      "cell_type": "code",
      "metadata": {
        "colab": {
          "base_uri": "https://localhost:8080/"
        },
        "id": "zuoeI08SKH_k",
        "outputId": "1f16941a-c77b-4c56-cd86-6e5f8584c596"
      },
      "source": [
        "stop_words = set(stopwords.words('english'))\n",
        "# Build the pipeline\n",
        "NB_pipeline = Pipeline([\n",
        "                ('tfidf', TfidfVectorizer(stop_words=stop_words)), # feature extractor\n",
        "                ('clf', OneVsRestClassifier( # necessary for multilabel classification\n",
        "                    MultinomialNB(  \n",
        "                    fit_prior=True, class_prior=None))),\n",
        "            ])\n",
        "# Fit the model in training data & get predictions\n",
        "bayes_pred = []\n",
        "for category, i in zip(categories, range(3)):\n",
        "    NB_pipeline.fit(train_Text, multi_label[:,i])\n",
        "    prediction = NB_pipeline.predict(test_Text)\n",
        "    bayes_pred.append(prediction)\n",
        "\n",
        "df_bayes_pred = pd.DataFrame()\n",
        "for category, i in zip(categories, range(12)):\n",
        "  df_bayes_pred['{}'.format(category)] = bayes_pred[i]\n",
        "\n",
        "# Model Evaluation - Loss, Precision, Recall\n",
        "print(\"Test Precision: {}\".format(round(precision_score(multi_label_test, np.array(df_bayes_pred), average='weighted'), 3)))\n",
        "print(\"Test Recall: {}\".format(round(recall_score(multi_label_test, np.array(df_bayes_pred), average='weighted'), 3)))\n",
        "print(\"Test F1 Score: {}\".format(round(f1_score(multi_label_test, np.array(df_bayes_pred), average='weighted'), 3)))\n",
        "# Average Precision Score\n",
        "avp = average_precision_score(multi_label_test, df_bayes_pred)\n",
        "print(\"Test Average Precision Score: {}\".format(round(avp)))\n",
        "# Subset accuracy\n",
        "print('Subset accuracy: {0}'.format(round(accuracy_score(multi_label_test, df_bayes_pred, normalize=True, sample_weight=None), 3)))\n",
        "# Hamming loss (smaller is better)\n",
        "print('Hamming loss: {0}'.format(round(hamming_loss(multi_label_test, df_bayes_pred), 3)))\n",
        "# Classification Report\n",
        "pred_bools = (np.array(df_bayes_pred) == 1)\n",
        "true_bools = (multi_label_test == 1)\n",
        "clf_report = classification_report(true_bools, pred_bools)\n",
        "print('Classification Report:')\n",
        "print(clf_report)"
      ],
      "execution_count": null,
      "outputs": [
        {
          "output_type": "stream",
          "text": [
            "Test Precision: 0.58\n",
            "Test Recall: 0.5\n",
            "Test F1 Score: 0.532\n",
            "Test Average Precision Score: 0.0\n",
            "Subset accuracy: 0.404\n",
            "Hamming loss: 0.316\n",
            "Classification Report:\n",
            "              precision    recall  f1-score   support\n",
            "\n",
            "           0       0.28      0.35      0.31       165\n",
            "           1       0.14      0.03      0.04        40\n",
            "           2       0.74      0.60      0.66       425\n",
            "\n",
            "   micro avg       0.57      0.50      0.53       630\n",
            "   macro avg       0.39      0.33      0.34       630\n",
            "weighted avg       0.58      0.50      0.53       630\n",
            " samples avg       0.49      0.51      0.49       630\n",
            "\n"
          ],
          "name": "stdout"
        },
        {
          "output_type": "stream",
          "text": [
            "/usr/local/lib/python3.6/dist-packages/sklearn/metrics/_classification.py:1272: UndefinedMetricWarning: Precision and F-score are ill-defined and being set to 0.0 in samples with no predicted labels. Use `zero_division` parameter to control this behavior.\n",
            "  _warn_prf(average, modifier, msg_start, len(result))\n"
          ],
          "name": "stderr"
        }
      ]
    },
    {
      "cell_type": "markdown",
      "metadata": {
        "id": "kSUl8gglSOIP"
      },
      "source": [
        "## SVC"
      ]
    },
    {
      "cell_type": "code",
      "metadata": {
        "colab": {
          "base_uri": "https://localhost:8080/"
        },
        "id": "Lmr6XnkuSNuX",
        "outputId": "bd6ee0b0-8b90-4039-c928-267346550a37"
      },
      "source": [
        "SVC_pipeline = Pipeline([\n",
        "                ('tfidf', TfidfVectorizer(stop_words=stop_words)),\n",
        "                ('clf', OneVsRestClassifier(LinearSVC(), n_jobs=1)),\n",
        "            ])\n",
        "svc_pred = []\n",
        "for category, i in zip(categories, range(12)):\n",
        "    SVC_pipeline.fit(train_Text, multi_label[:,i])\n",
        "    prediction = SVC_pipeline.predict(test_Text)\n",
        "    svc_pred.append(prediction)\n",
        "\n",
        "df_svc_pred = pd.DataFrame()\n",
        "for category, i in zip(categories, range(12)):\n",
        "  df_svc_pred['{}'.format(category)] = svc_pred[i]\n",
        "\n",
        "# Model Evaluation - Loss, Precision, Recall\n",
        "print(\"Test Precision: {}\".format(round(precision_score(multi_label_test, np.array(df_svc_pred), average='weighted'), 3)))\n",
        "print(\"Test Recall: {}\".format(round(recall_score(multi_label_test, np.array(df_svc_pred), average='weighted'), 3)))\n",
        "print(\"Test F1 Score: {}\".format(round(f1_score(multi_label_test, np.array(df_svc_pred), average='weighted'), 3)))\n",
        "# Average Precision Score\n",
        "avp = average_precision_score(multi_label_test, df_svc_pred)\n",
        "print(\"Test Average Precision Score: {}\".format(round(avp)))\n",
        "# Subset accuracy\n",
        "print('Subset accuracy: {0}'.format(round(accuracy_score(multi_label_test, df_svc_pred, normalize=True, sample_weight=None), 3)))\n",
        "# Hamming loss (smaller is better)\n",
        "print('Hamming loss: {0}'.format(round(hamming_loss(multi_label_test, df_svc_pred), 3)))\n",
        "# Classification Report\n",
        "pred_bools = (np.array(df_svc_pred) == 1)\n",
        "true_bools = (multi_label_test == 1)\n",
        "clf_report = classification_report(true_bools, pred_bools)\n",
        "print('Classification Report:')\n",
        "print(clf_report)"
      ],
      "execution_count": null,
      "outputs": [
        {
          "output_type": "stream",
          "text": [
            "Test Precision: 0.587\n",
            "Test Recall: 0.568\n",
            "Test F1 Score: 0.574\n",
            "Test Average Precision Score: 0.0\n",
            "Subset accuracy: 0.431\n",
            "Hamming loss: 0.308\n",
            "Classification Report:\n",
            "              precision    recall  f1-score   support\n",
            "\n",
            "           0       0.30      0.39      0.34       165\n",
            "           1       0.16      0.07      0.10        40\n",
            "           2       0.74      0.68      0.71       425\n",
            "\n",
            "   micro avg       0.57      0.57      0.57       630\n",
            "   macro avg       0.40      0.38      0.38       630\n",
            "weighted avg       0.59      0.57      0.57       630\n",
            " samples avg       0.54      0.58      0.55       630\n",
            "\n"
          ],
          "name": "stdout"
        },
        {
          "output_type": "stream",
          "text": [
            "/usr/local/lib/python3.6/dist-packages/sklearn/metrics/_classification.py:1272: UndefinedMetricWarning: Precision and F-score are ill-defined and being set to 0.0 in samples with no predicted labels. Use `zero_division` parameter to control this behavior.\n",
            "  _warn_prf(average, modifier, msg_start, len(result))\n"
          ],
          "name": "stderr"
        }
      ]
    },
    {
      "cell_type": "markdown",
      "metadata": {
        "id": "JaT4djqZSc6-"
      },
      "source": [
        "## Logit"
      ]
    },
    {
      "cell_type": "code",
      "metadata": {
        "colab": {
          "base_uri": "https://localhost:8080/"
        },
        "id": "t92cjFMtScpD",
        "outputId": "89f7747e-85f4-4289-dd6c-2105449b1d2d"
      },
      "source": [
        "LogReg_pipeline = Pipeline([\n",
        "                ('tfidf', TfidfVectorizer(stop_words=stop_words)),\n",
        "                ('clf', OneVsRestClassifier(LogisticRegression(solver='sag'), n_jobs=1)),\n",
        "            ])\n",
        "logit_pred = []\n",
        "for category, i in zip(categories, range(12)):\n",
        "    LogReg_pipeline.fit(train_Text, multi_label[:,i])\n",
        "    prediction = LogReg_pipeline.predict(test_Text)\n",
        "    logit_pred.append(prediction)\n",
        "\n",
        "df_logit_pred = pd.DataFrame()\n",
        "for category, i in zip(categories, range(12)):\n",
        "  df_logit_pred['{}'.format(category)] = logit_pred[i]\n",
        "\n",
        "# Model Evaluation - Loss, Precision, Recall\n",
        "print(\"Test Precision: {}\".format(round(precision_score(multi_label_test, np.array(df_logit_pred), average='weighted'), 3)))\n",
        "print(\"Test Recall: {}\".format(round(recall_score(multi_label_test, np.array(df_logit_pred), average='weighted'), 3)))\n",
        "print(\"Test F1 Score: {}\".format(round(f1_score(multi_label_test, np.array(df_logit_pred), average='weighted'), 3)))\n",
        "# Average Precision Score\n",
        "avp = average_precision_score(multi_label_test, df_logit_pred)\n",
        "print(\"Test Average Precision Score: {}\".format(round(avp)))\n",
        "# Subset accuracy\n",
        "print('Subset accuracy: {0}'.format(round(accuracy_score(multi_label_test, df_logit_pred, normalize=True, sample_weight=None), 3)))\n",
        "# Hamming loss (smaller is better)\n",
        "print('Hamming loss: {0}'.format(round(hamming_loss(multi_label_test, df_logit_pred), 3)))\n",
        "# Classification Report\n",
        "pred_bools = (np.array(df_logit_pred) == 1)\n",
        "true_bools = (multi_label_test == 1)\n",
        "clf_report = classification_report(true_bools, pred_bools)\n",
        "print('Classification Report:')\n",
        "print(clf_report)"
      ],
      "execution_count": null,
      "outputs": [
        {
          "output_type": "stream",
          "text": [
            "Test Precision: 0.591\n",
            "Test Recall: 0.556\n",
            "Test F1 Score: 0.567\n",
            "Test Average Precision Score: 0.0\n",
            "Subset accuracy: 0.424\n",
            "Hamming loss: 0.307\n",
            "Classification Report:\n",
            "              precision    recall  f1-score   support\n",
            "\n",
            "           0       0.29      0.37      0.32       165\n",
            "           1       0.27      0.07      0.12        40\n",
            "           2       0.74      0.67      0.70       425\n",
            "\n",
            "   micro avg       0.57      0.56      0.56       630\n",
            "   macro avg       0.43      0.37      0.38       630\n",
            "weighted avg       0.59      0.56      0.57       630\n",
            " samples avg       0.54      0.57      0.54       630\n",
            "\n"
          ],
          "name": "stdout"
        },
        {
          "output_type": "stream",
          "text": [
            "/usr/local/lib/python3.6/dist-packages/sklearn/metrics/_classification.py:1272: UndefinedMetricWarning: Precision and F-score are ill-defined and being set to 0.0 in samples with no predicted labels. Use `zero_division` parameter to control this behavior.\n",
            "  _warn_prf(average, modifier, msg_start, len(result))\n"
          ],
          "name": "stderr"
        }
      ]
    },
    {
      "cell_type": "markdown",
      "metadata": {
        "id": "ejb7YCAVgAn3"
      },
      "source": [
        "## Output Frame of Basic MLs\n"
      ]
    },
    {
      "cell_type": "code",
      "metadata": {
        "colab": {
          "base_uri": "https://localhost:8080/",
          "height": 272
        },
        "id": "hFE-8YBnpq4E",
        "outputId": "c07d083f-6848-4abb-ca6b-c46dd5193494"
      },
      "source": [
        "# Convert predictions to Boolean vectors\n",
        "bayes_pred_bools = [pl==1 for pl in np.asarray(df_bayes_pred)]\n",
        "svc_pred_bools = [pl==1 for pl in np.asarray(df_svc_pred)]\n",
        "logit_pred_bools = [pl==1 for pl in np.asarray(df_logit_pred)]\n",
        "true_bools = [tl==1 for tl in multi_label_test]\n",
        "\n",
        "# Convert the boolean vectors to the prediction indexes\n",
        "true_label_idxs, bayes_pred_label_idxs, svc_pred_label_idxs, logit_pred_label_idxs =[],[],[],[]\n",
        "for vals in true_bools:\n",
        "  true_label_idxs.append(np.where(vals)[0].flatten().tolist())\n",
        "for vals in bayes_pred_bools:\n",
        "  bayes_pred_label_idxs.append(np.where(vals)[0].flatten().tolist())\n",
        "for vals in svc_pred_bools:\n",
        "  svc_pred_label_idxs.append(np.where(vals)[0].flatten().tolist())\n",
        "for vals in logit_pred_bools:\n",
        "  logit_pred_label_idxs.append(np.where(vals)[0].flatten().tolist())\n",
        "\n",
        "# Create a dictionary to map the label indexes to their names\n",
        "idx2label = dict(zip(range(12),categories))\n",
        "\n",
        "# Convert the indexes to label names \n",
        "true_label_texts, bayes_label_texts, svc_label_texts, logit_label_texts = [], [], [], []\n",
        "for vals in true_label_idxs:\n",
        "  if vals:\n",
        "    true_label_texts.append([idx2label[val] for val in vals])\n",
        "  else:\n",
        "    true_label_texts.append(vals)\n",
        "\n",
        "for vals in bayes_pred_label_idxs:\n",
        "  if vals:\n",
        "    bayes_label_texts.append([idx2label[val] for val in vals])\n",
        "  else:\n",
        "    bayes_label_texts.append(vals)\n",
        "\n",
        "for vals in svc_pred_label_idxs:\n",
        "  if vals:\n",
        "    svc_label_texts.append([idx2label[val] for val in vals])\n",
        "  else:\n",
        "    svc_label_texts.append(vals)\n",
        "\n",
        "for vals in logit_pred_label_idxs:\n",
        "  if vals:\n",
        "    logit_label_texts.append([idx2label[val] for val in vals])\n",
        "  else:\n",
        "    logit_label_texts.append(vals)\n",
        "\n",
        "# Combine all in a dataframe\n",
        "basic_ml_df = pd.DataFrame({'comment_text': test_Text, 'true_labels': true_label_texts, 'true_codes':true_label_idxs,\n",
        "                            'bayes_labels':bayes_label_texts, 'bayes_codes':bayes_pred_label_idxs, \n",
        "                            'svc_labels':svc_label_texts, 'svc_codes':svc_pred_label_idxs,\n",
        "                            'logit_labels':logit_label_texts, 'logit_codes':logit_pred_label_idxs})\n",
        "basic_ml_df.to_csv('basic_ml_df.csv')\n",
        "basic_ml_df.to_excel('basic_ml_df.xlsx')\n",
        "basic_ml_df.head()"
      ],
      "execution_count": null,
      "outputs": [
        {
          "output_type": "execute_result",
          "data": {
            "text/html": [
              "<div>\n",
              "<style scoped>\n",
              "    .dataframe tbody tr th:only-of-type {\n",
              "        vertical-align: middle;\n",
              "    }\n",
              "\n",
              "    .dataframe tbody tr th {\n",
              "        vertical-align: top;\n",
              "    }\n",
              "\n",
              "    .dataframe thead th {\n",
              "        text-align: right;\n",
              "    }\n",
              "</style>\n",
              "<table border=\"1\" class=\"dataframe\">\n",
              "  <thead>\n",
              "    <tr style=\"text-align: right;\">\n",
              "      <th></th>\n",
              "      <th>comment_text</th>\n",
              "      <th>true_labels</th>\n",
              "      <th>true_codes</th>\n",
              "      <th>bayes_labels</th>\n",
              "      <th>bayes_codes</th>\n",
              "      <th>svc_labels</th>\n",
              "      <th>svc_codes</th>\n",
              "      <th>logit_labels</th>\n",
              "      <th>logit_codes</th>\n",
              "    </tr>\n",
              "  </thead>\n",
              "  <tbody>\n",
              "    <tr>\n",
              "      <th>0</th>\n",
              "      <td>yum</td>\n",
              "      <td>[positive]</td>\n",
              "      <td>[2]</td>\n",
              "      <td>[positive]</td>\n",
              "      <td>[2]</td>\n",
              "      <td>[positive]</td>\n",
              "      <td>[2]</td>\n",
              "      <td>[positive]</td>\n",
              "      <td>[2]</td>\n",
              "    </tr>\n",
              "    <tr>\n",
              "      <th>1</th>\n",
              "      <td>serves really good sushi</td>\n",
              "      <td>[positive]</td>\n",
              "      <td>[2]</td>\n",
              "      <td>[negative]</td>\n",
              "      <td>[0]</td>\n",
              "      <td>[negative]</td>\n",
              "      <td>[0]</td>\n",
              "      <td>[negative]</td>\n",
              "      <td>[0]</td>\n",
              "    </tr>\n",
              "    <tr>\n",
              "      <th>2</th>\n",
              "      <td>not the biggest portions but adequate</td>\n",
              "      <td>[neutral]</td>\n",
              "      <td>[1]</td>\n",
              "      <td>[negative, positive]</td>\n",
              "      <td>[0, 2]</td>\n",
              "      <td>[positive]</td>\n",
              "      <td>[2]</td>\n",
              "      <td>[positive]</td>\n",
              "      <td>[2]</td>\n",
              "    </tr>\n",
              "    <tr>\n",
              "      <th>3</th>\n",
              "      <td>green tea creme brulee is a must</td>\n",
              "      <td>[positive]</td>\n",
              "      <td>[2]</td>\n",
              "      <td>[positive]</td>\n",
              "      <td>[2]</td>\n",
              "      <td>[positive]</td>\n",
              "      <td>[2]</td>\n",
              "      <td>[positive]</td>\n",
              "      <td>[2]</td>\n",
              "    </tr>\n",
              "    <tr>\n",
              "      <th>4</th>\n",
              "      <td>do not leave the restaurant without it</td>\n",
              "      <td>[positive]</td>\n",
              "      <td>[2]</td>\n",
              "      <td>[negative, positive]</td>\n",
              "      <td>[0, 2]</td>\n",
              "      <td>[negative, positive]</td>\n",
              "      <td>[0, 2]</td>\n",
              "      <td>[negative]</td>\n",
              "      <td>[0]</td>\n",
              "    </tr>\n",
              "  </tbody>\n",
              "</table>\n",
              "</div>"
            ],
            "text/plain": [
              "                             comment_text true_labels  ... logit_labels logit_codes\n",
              "0                                     yum  [positive]  ...   [positive]         [2]\n",
              "1                serves really good sushi  [positive]  ...   [negative]         [0]\n",
              "2   not the biggest portions but adequate   [neutral]  ...   [positive]         [2]\n",
              "3        green tea creme brulee is a must  [positive]  ...   [positive]         [2]\n",
              "4  do not leave the restaurant without it  [positive]  ...   [negative]         [0]\n",
              "\n",
              "[5 rows x 9 columns]"
            ]
          },
          "metadata": {
            "tags": []
          },
          "execution_count": 31
        }
      ]
    },
    {
      "cell_type": "markdown",
      "metadata": {
        "id": "qlbL1S9BZ6U_"
      },
      "source": [
        "# Neural Network Models"
      ]
    },
    {
      "cell_type": "markdown",
      "metadata": {
        "id": "1krGY8zxiCuy"
      },
      "source": [
        "## LSTM Model"
      ]
    },
    {
      "cell_type": "code",
      "metadata": {
        "colab": {
          "base_uri": "https://localhost:8080/"
        },
        "id": "-g7gjRaOiCu1",
        "outputId": "abde9816-4fa8-42d6-aa9c-8dab4d4c9ea2"
      },
      "source": [
        "text = Input(shape = (max_text,), name = 'text')\n",
        "text_embed = Embedding(output_dim=100, input_dim=len(word_index)+1, \n",
        "              input_length=max_text, weights=[embedding_matrix], \n",
        "              trainable=True)(text)\n",
        "textLayers = LSTM(64, dropout=0.25, recurrent_dropout=0.25,\n",
        "                  kernel_regularizer=l2(0.5), recurrent_regularizer=l2(0.5), bias_regularizer=l2(0.5))(text_embed)\n",
        "textLayers = Dropout(0.25)(textLayers)\n",
        "output = Dense(3, activation = 'softmax', name = 'output')(textLayers)\n",
        "\n",
        "model_lstm = Model(inputs = text, outputs = output)\n",
        "model_lstm.compile(optimizer='rmsprop', \n",
        "                    loss='categorical_crossentropy',\n",
        "                    metrics = [Precision(), Recall()])\n",
        "\n",
        "history_lstm = model_lstm.fit(X_train, multi_label, validation_split=0.1,\n",
        "                              batch_size = 64, epochs = 20,\n",
        "                              callbacks = [EarlyStopping(monitor=\"val_loss\", patience=1)])"
      ],
      "execution_count": null,
      "outputs": [
        {
          "output_type": "stream",
          "text": [
            "Epoch 1/20\n",
            "41/41 [==============================] - 5s 123ms/step - loss: 87.5207 - precision: 0.5128 - recall: 0.1287 - val_loss: 59.4267 - val_precision: 0.0000e+00 - val_recall: 0.0000e+00\n",
            "Epoch 2/20\n",
            "41/41 [==============================] - 5s 126ms/step - loss: 44.5710 - precision: 0.5197 - recall: 0.1692 - val_loss: 35.8972 - val_precision: 0.2683 - val_recall: 0.1838\n",
            "Epoch 3/20\n",
            "41/41 [==============================] - 4s 104ms/step - loss: 29.4009 - precision: 0.4948 - recall: 0.2073 - val_loss: 27.5193 - val_precision: 0.0000e+00 - val_recall: 0.0000e+00\n",
            "Epoch 4/20\n",
            "41/41 [==============================] - 4s 106ms/step - loss: 24.7634 - precision: 0.4673 - recall: 0.2171 - val_loss: 25.6228 - val_precision: 0.2606 - val_recall: 0.1766\n",
            "Epoch 5/20\n",
            "41/41 [==============================] - 4s 108ms/step - loss: 22.4444 - precision: 0.5184 - recall: 0.2615 - val_loss: 22.2323 - val_precision: 0.0000e+00 - val_recall: 0.0000e+00\n",
            "Epoch 6/20\n",
            "41/41 [==============================] - 5s 111ms/step - loss: 20.4414 - precision: 0.5165 - recall: 0.2639 - val_loss: 20.4462 - val_precision: 0.0000e+00 - val_recall: 0.0000e+00\n",
            "Epoch 7/20\n",
            "41/41 [==============================] - 4s 106ms/step - loss: 18.5285 - precision: 0.5010 - recall: 0.2629 - val_loss: 19.0359 - val_precision: 0.2606 - val_recall: 0.1766\n",
            "Epoch 8/20\n",
            "41/41 [==============================] - 4s 106ms/step - loss: 16.7701 - precision: 0.5174 - recall: 0.2861 - val_loss: 17.2892 - val_precision: 0.0000e+00 - val_recall: 0.0000e+00\n",
            "Epoch 9/20\n",
            "41/41 [==============================] - 4s 107ms/step - loss: 15.1035 - precision: 0.4933 - recall: 0.2713 - val_loss: 16.1589 - val_precision: 0.2683 - val_recall: 0.1838\n",
            "Epoch 10/20\n",
            "41/41 [==============================] - 5s 111ms/step - loss: 13.5649 - precision: 0.5033 - recall: 0.2824 - val_loss: 14.4401 - val_precision: 0.2606 - val_recall: 0.1766\n",
            "Epoch 11/20\n",
            "41/41 [==============================] - 4s 108ms/step - loss: 12.0947 - precision: 0.4982 - recall: 0.2764 - val_loss: 12.7809 - val_precision: 0.1937 - val_recall: 0.1313\n",
            "Epoch 12/20\n",
            "41/41 [==============================] - 4s 106ms/step - loss: 10.7446 - precision: 0.4961 - recall: 0.2774 - val_loss: 11.8145 - val_precision: 0.2606 - val_recall: 0.1766\n",
            "Epoch 13/20\n",
            "41/41 [==============================] - 5s 110ms/step - loss: 9.4909 - precision: 0.5044 - recall: 0.2885 - val_loss: 9.9151 - val_precision: 0.0000e+00 - val_recall: 0.0000e+00\n",
            "Epoch 14/20\n",
            "41/41 [==============================] - 4s 107ms/step - loss: 8.3296 - precision: 0.5172 - recall: 0.2888 - val_loss: 9.2041 - val_precision: 0.2633 - val_recall: 0.1766\n",
            "Epoch 15/20\n",
            "41/41 [==============================] - 4s 107ms/step - loss: 7.2784 - precision: 0.4973 - recall: 0.2814 - val_loss: 8.3595 - val_precision: 0.2606 - val_recall: 0.1766\n",
            "Epoch 16/20\n",
            "41/41 [==============================] - 4s 107ms/step - loss: 6.3437 - precision: 0.4964 - recall: 0.2787 - val_loss: 7.2485 - val_precision: 0.2683 - val_recall: 0.1838\n",
            "Epoch 17/20\n",
            "41/41 [==============================] - 4s 106ms/step - loss: 5.4589 - precision: 0.5102 - recall: 0.2878 - val_loss: 5.8185 - val_precision: 0.0000e+00 - val_recall: 0.0000e+00\n",
            "Epoch 18/20\n",
            "41/41 [==============================] - 4s 105ms/step - loss: 4.7356 - precision: 0.5067 - recall: 0.2794 - val_loss: 5.6406 - val_precision: 0.2606 - val_recall: 0.1766\n",
            "Epoch 19/20\n",
            "41/41 [==============================] - 4s 105ms/step - loss: 4.0938 - precision: 0.5187 - recall: 0.2845 - val_loss: 4.8246 - val_precision: 0.0000e+00 - val_recall: 0.0000e+00\n",
            "Epoch 20/20\n",
            "41/41 [==============================] - 4s 106ms/step - loss: 3.5342 - precision: 0.5201 - recall: 0.2872 - val_loss: 4.8269 - val_precision: 0.0000e+00 - val_recall: 0.0000e+00\n"
          ],
          "name": "stdout"
        }
      ]
    },
    {
      "cell_type": "markdown",
      "metadata": {
        "id": "yrdKQ9Awkb25"
      },
      "source": [
        "### Evaluation"
      ]
    },
    {
      "cell_type": "markdown",
      "metadata": {
        "id": "Ls7RemPZkdbN"
      },
      "source": [
        "#### Graphs"
      ]
    },
    {
      "cell_type": "code",
      "metadata": {
        "colab": {
          "base_uri": "https://localhost:8080/",
          "height": 427
        },
        "id": "O1Xm_ogmka6D",
        "outputId": "90182667-523a-4143-f197-ee914189b055"
      },
      "source": [
        "history_dict = history_lstm.history\n",
        "\n",
        "precision = history_dict['precision']\n",
        "val_precision = history_dict['val_precision']\n",
        "recall = history_dict['recall']\n",
        "val_recall = history_dict['val_recall']\n",
        "loss = history_dict['loss']\n",
        "val_loss = history_dict['val_loss']\n",
        "\n",
        "epochs = range(1, len(precision) + 1)\n",
        "\n",
        "# Use plot styling from seaborn.\n",
        "sns.set(style='darkgrid')\n",
        "\n",
        "# Increase the plot size and font size.\n",
        "sns.set(font_scale=1.5)\n",
        "plt.rcParams[\"figure.figsize\"] = (12,6)\n",
        "\n",
        "# Plot the learning curve.\n",
        "plt.plot(loss, 'b-o', label=\"training loss\")\n",
        "plt.plot(val_loss, 'r-o', label=\"validation loss\")\n",
        "\n",
        "# Label the plot.\n",
        "plt.title(\"Learning curve\")\n",
        "plt.xlabel(\"Epoch\")\n",
        "plt.ylabel(\"Loss\")\n",
        "plt.legend()\n",
        "\n",
        "plt.show()"
      ],
      "execution_count": null,
      "outputs": [
        {
          "output_type": "display_data",
          "data": {
            "image/png": "[encoded data removed]",
            "text/plain": [
              "<Figure size 864x432 with 1 Axes>"
            ]
          },
          "metadata": {
            "tags": []
          }
        }
      ]
    },
    {
      "cell_type": "markdown",
      "metadata": {
        "id": "CS-74ZJZkqfA"
      },
      "source": [
        "#### F1 Score & Precision & Recall & Subset Accuracy & Hamming Loss & Classification Report"
      ]
    },
    {
      "cell_type": "code",
      "metadata": {
        "colab": {
          "base_uri": "https://localhost:8080/"
        },
        "id": "0pydGz5xkoCP",
        "outputId": "a29060f6-760d-4ada-c8a1-995859a33826"
      },
      "source": [
        "# Model Evaluation - Loss, Precision, Recall\n",
        "results = model_lstm.evaluate(X_test, multi_label_test)\n",
        "print(\"Test Precision: {}\".format(round(results[1], 3)))\n",
        "print(\"Test Recall: {}\".format(round(results[2], 3)))\n",
        "\n",
        "# Predictions\n",
        "pred_labels = model_lstm.predict(X_test)\n",
        "\n",
        "multi_preds = pred_labels >= 0.10\n",
        "multi_preds = multi_preds.astype(int)\n",
        "\n",
        "# Average Precision Score\n",
        "avp = average_precision_score(multi_label_test, multi_preds)\n",
        "print(\"Test Average Precision Score: {}\".format(round(avp)))\n",
        "# Subset accuracy\n",
        "print('Subset accuracy: {0}'.format(round(accuracy_score(multi_label_test, multi_preds, normalize=True, sample_weight=None), 3)))\n",
        "# Hamming loss (smaller is better)\n",
        "print('Hamming loss: {0}'.format(round(hamming_loss(multi_label_test, multi_preds), 3)))\n",
        "\n",
        "# Classification Report\n",
        "df_pred = pd.DataFrame(pred_labels)\n",
        "df_pred_clean = df_pred.apply(lambda x: [0 if y <= 0.10 else 1 for y in x])\n",
        "pred_clean = np.array(df_pred_clean)\n",
        "\n",
        "pred_bools_lstm = (pred_clean == 1)[:]\n",
        "true_bools = (multi_label_test == 1)\n",
        "clf_report = classification_report(true_bools, pred_bools_lstm)\n",
        "print('Classification Report')\n",
        "print(clf_report)"
      ],
      "execution_count": null,
      "outputs": [
        {
          "output_type": "stream",
          "text": [
            "19/19 [==============================] - 0s 10ms/step - loss: 3.1892 - precision: 0.0000e+00 - recall: 0.0000e+00\n",
            "Test Precision: 0.0\n",
            "Test Recall: 0.0\n",
            "Test Average Precision Score: 0.0\n",
            "Subset accuracy: 0.002\n",
            "Hamming loss: 0.642\n",
            "Classification Report\n",
            "              precision    recall  f1-score   support\n",
            "\n",
            "           0       0.28      1.00      0.44       165\n",
            "           1       0.07      1.00      0.13        40\n",
            "           2       0.72      1.00      0.84       425\n",
            "\n",
            "   micro avg       0.36      1.00      0.53       630\n",
            "   macro avg       0.36      1.00      0.47       630\n",
            "weighted avg       0.57      1.00      0.69       630\n",
            " samples avg       0.36      1.00      0.52       630\n",
            "\n"
          ],
          "name": "stdout"
        }
      ]
    },
    {
      "cell_type": "markdown",
      "metadata": {
        "id": "GwxyCoy8lC-9"
      },
      "source": [
        "## BiLSTM Model"
      ]
    },
    {
      "cell_type": "code",
      "metadata": {
        "colab": {
          "base_uri": "https://localhost:8080/"
        },
        "id": "btesyNMnlxlu",
        "outputId": "86813e66-96e5-45f5-b986-2fb103bd23b4"
      },
      "source": [
        "text = Input(shape = (max_text,), name = 'text')\n",
        "text_embed = Embedding(output_dim=100, input_dim=len(word_index)+1, \n",
        "              input_length=max_text, weights=[embedding_matrix], \n",
        "              trainable=True)(text)\n",
        "textLayers = Bidirectional(LSTM(64, dropout=0.25, recurrent_dropout=0.25,\n",
        "                  kernel_regularizer=l2(0.5), recurrent_regularizer=l2(0.5), bias_regularizer=l2(0.5)))(text_embed)\n",
        "textLayers = Dropout(0.25)(textLayers)\n",
        "output = Dense(3, activation = 'softmax', name = 'output')(textLayers)\n",
        "\n",
        "model_bilstm = Model(inputs = text, outputs = output)\n",
        "model_bilstm.compile(optimizer='rmsprop', \n",
        "                    loss='categorical_crossentropy',\n",
        "                    metrics = [Precision(), Recall()])\n",
        "\n",
        "history_bilstm = model_bilstm.fit(X_train, multi_label, validation_split=0.1,\n",
        "                              batch_size = 64, epochs = 20,\n",
        "                              callbacks = [EarlyStopping(monitor=\"val_loss\", patience=1)])"
      ],
      "execution_count": null,
      "outputs": [
        {
          "output_type": "stream",
          "text": [
            "Epoch 1/20\n",
            "41/41 [==============================] - 8s 184ms/step - loss: 173.1467 - precision_1: 0.4967 - recall_1: 0.1277 - val_loss: 116.1887 - val_precision_1: 0.2222 - val_recall_1: 0.0143\n",
            "Epoch 2/20\n",
            "41/41 [==============================] - 7s 164ms/step - loss: 87.5256 - precision_1: 0.5010 - recall_1: 0.1689 - val_loss: 68.1467 - val_precision_1: 0.1937 - val_recall_1: 0.1313\n",
            "Epoch 3/20\n",
            "41/41 [==============================] - 7s 168ms/step - loss: 57.3681 - precision_1: 0.5178 - recall_1: 0.2251 - val_loss: 52.0183 - val_precision_1: 0.0000e+00 - val_recall_1: 0.0000e+00\n",
            "Epoch 4/20\n",
            "41/41 [==============================] - 7s 177ms/step - loss: 48.1450 - precision_1: 0.5055 - recall_1: 0.2319 - val_loss: 47.5201 - val_precision_1: 0.2683 - val_recall_1: 0.1838\n",
            "Epoch 5/20\n",
            "41/41 [==============================] - 7s 172ms/step - loss: 43.5026 - precision_1: 0.5086 - recall_1: 0.2679 - val_loss: 42.5147 - val_precision_1: 0.1937 - val_recall_1: 0.1313\n",
            "Epoch 6/20\n",
            "41/41 [==============================] - 7s 166ms/step - loss: 39.4377 - precision_1: 0.4978 - recall_1: 0.2649 - val_loss: 39.0641 - val_precision_1: 0.2683 - val_recall_1: 0.1838\n",
            "Epoch 7/20\n",
            "41/41 [==============================] - 7s 164ms/step - loss: 35.6600 - precision_1: 0.5381 - recall_1: 0.3094 - val_loss: 36.6544 - val_precision_1: 0.2683 - val_recall_1: 0.1838\n",
            "Epoch 8/20\n",
            "41/41 [==============================] - 6s 157ms/step - loss: 32.1594 - precision_1: 0.5137 - recall_1: 0.2845 - val_loss: 30.9723 - val_precision_1: 0.2637 - val_recall_1: 0.0573\n",
            "Epoch 9/20\n",
            "41/41 [==============================] - 6s 158ms/step - loss: 28.7636 - precision_1: 0.5295 - recall_1: 0.3111 - val_loss: 29.4767 - val_precision_1: 0.1916 - val_recall_1: 0.1313\n",
            "Epoch 10/20\n",
            "41/41 [==============================] - 7s 160ms/step - loss: 25.6919 - precision_1: 0.5162 - recall_1: 0.2845 - val_loss: 25.4438 - val_precision_1: 0.2683 - val_recall_1: 0.1838\n",
            "Epoch 11/20\n",
            "41/41 [==============================] - 7s 165ms/step - loss: 22.7975 - precision_1: 0.4906 - recall_1: 0.2737 - val_loss: 22.2744 - val_precision_1: 1.0000 - val_recall_1: 0.0072\n",
            "Epoch 12/20\n",
            "41/41 [==============================] - 8s 206ms/step - loss: 20.0573 - precision_1: 0.5075 - recall_1: 0.2740 - val_loss: 19.8408 - val_precision_1: 0.2673 - val_recall_1: 0.1384\n",
            "Epoch 13/20\n",
            "41/41 [==============================] - 7s 173ms/step - loss: 17.6903 - precision_1: 0.5080 - recall_1: 0.2878 - val_loss: 17.6322 - val_precision_1: 0.2683 - val_recall_1: 0.1838\n",
            "Epoch 14/20\n",
            "41/41 [==============================] - 7s 168ms/step - loss: 15.3668 - precision_1: 0.5083 - recall_1: 0.2986 - val_loss: 15.8382 - val_precision_1: 0.2009 - val_recall_1: 0.1098\n",
            "Epoch 15/20\n",
            "41/41 [==============================] - 7s 163ms/step - loss: 13.3116 - precision_1: 0.4961 - recall_1: 0.2801 - val_loss: 13.4374 - val_precision_1: 0.3333 - val_recall_1: 0.0072\n",
            "Epoch 16/20\n",
            "41/41 [==============================] - 7s 159ms/step - loss: 11.4711 - precision_1: 0.4939 - recall_1: 0.2720 - val_loss: 11.6589 - val_precision_1: 0.2709 - val_recall_1: 0.1623\n",
            "Epoch 17/20\n",
            "41/41 [==============================] - 6s 158ms/step - loss: 9.8203 - precision_1: 0.4959 - recall_1: 0.2848 - val_loss: 9.8121 - val_precision_1: 0.2528 - val_recall_1: 0.1623\n",
            "Epoch 18/20\n",
            "41/41 [==============================] - 6s 157ms/step - loss: 8.3420 - precision_1: 0.5194 - recall_1: 0.2926 - val_loss: 9.4057 - val_precision_1: 0.0000e+00 - val_recall_1: 0.0000e+00\n",
            "Epoch 19/20\n",
            "41/41 [==============================] - 6s 158ms/step - loss: 7.1555 - precision_1: 0.5202 - recall_1: 0.2865 - val_loss: 7.9767 - val_precision_1: 1.0000 - val_recall_1: 0.0072\n",
            "Epoch 20/20\n",
            "41/41 [==============================] - 6s 156ms/step - loss: 6.1068 - precision_1: 0.4862 - recall_1: 0.2727 - val_loss: 6.0916 - val_precision_1: 0.0000e+00 - val_recall_1: 0.0000e+00\n"
          ],
          "name": "stdout"
        }
      ]
    },
    {
      "cell_type": "markdown",
      "metadata": {
        "id": "gf_L0bZhlxl1"
      },
      "source": [
        "###Evaluation"
      ]
    },
    {
      "cell_type": "markdown",
      "metadata": {
        "id": "SdxXsGLflxl2"
      },
      "source": [
        "#### Graphs"
      ]
    },
    {
      "cell_type": "code",
      "metadata": {
        "colab": {
          "base_uri": "https://localhost:8080/",
          "height": 427
        },
        "id": "uT3AxWT-lxl4",
        "outputId": "6ae87939-ccf2-45a8-f9bd-ad373ca926a8"
      },
      "source": [
        "history_dict = history_bilstm.history\n",
        "\n",
        "precision = history_dict['precision_1']\n",
        "val_precision = history_dict['val_precision_1']\n",
        "recall = history_dict['recall_1']\n",
        "val_recall = history_dict['val_recall_1']\n",
        "loss = history_dict['loss']\n",
        "val_loss = history_dict['val_loss']\n",
        "\n",
        "epochs = range(1, len(precision) + 1)\n",
        "\n",
        "# Use plot styling from seaborn.\n",
        "sns.set(style='darkgrid')\n",
        "\n",
        "# Increase the plot size and font size.\n",
        "sns.set(font_scale=1.5)\n",
        "plt.rcParams[\"figure.figsize\"] = (12,6)\n",
        "\n",
        "# Plot the learning curve.\n",
        "plt.plot(loss, 'b-o', label=\"training loss\")\n",
        "plt.plot(val_loss, 'r-o', label=\"validation loss\")\n",
        "\n",
        "# Label the plot.\n",
        "plt.title(\"Learning curve\")\n",
        "plt.xlabel(\"Epoch\")\n",
        "plt.ylabel(\"Loss\")\n",
        "plt.legend()\n",
        "\n",
        "plt.show()"
      ],
      "execution_count": null,
      "outputs": [
        {
          "output_type": "display_data",
          "data": {
            "image/png": "[encoded data removed]",
            "text/plain": [
              "<Figure size 864x432 with 1 Axes>"
            ]
          },
          "metadata": {
            "tags": []
          }
        }
      ]
    },
    {
      "cell_type": "markdown",
      "metadata": {
        "id": "GLEPqFqwlxmC"
      },
      "source": [
        "#### F1 Score & Precision & Recall & Subset Accuracy & Hamming Loss & Classification Report"
      ]
    },
    {
      "cell_type": "code",
      "metadata": {
        "colab": {
          "base_uri": "https://localhost:8080/"
        },
        "id": "6i9mRHY8lxmD",
        "outputId": "53f99169-addd-4f63-aa02-289d314a4249"
      },
      "source": [
        "# Model Evaluation - Loss, Precision, Recall\n",
        "results = model_bilstm.evaluate(X_test, multi_label_test)\n",
        "\n",
        "print(\"Test Precision: {}\".format(round(results[1], 3)))\n",
        "print(\"Test Recall: {}\".format(round(results[2], 3)))\n",
        "\n",
        "# Predictions\n",
        "pred_labels = model_bilstm.predict(X_test)\n",
        "\n",
        "multi_preds = pred_labels >= 0.10\n",
        "multi_preds = multi_preds.astype(int)\n",
        "\n",
        "# Average Precision Score\n",
        "avp = average_precision_score(multi_label_test, multi_preds)\n",
        "print(\"Test Average Precision Score: {}\".format(round(avp)))\n",
        "# Subset accuracy\n",
        "print('Subset accuracy: {0}'.format(round(accuracy_score(multi_label_test, multi_preds, normalize=True, sample_weight=None), 3)))\n",
        "# Hamming loss (smaller is better)\n",
        "print('Hamming loss: {0}'.format(round(hamming_loss(multi_label_test, multi_preds), 3)))\n",
        "\n",
        "# Classification Report\n",
        "df_pred = pd.DataFrame(pred_labels)\n",
        "df_pred_clean = df_pred.apply(lambda x: [0 if y <= 0.10 else 1 for y in x])\n",
        "pred_clean = np.array(df_pred_clean)\n",
        "\n",
        "pred_bools_bilstm = (pred_clean == 1)[:]\n",
        "true_bools = (multi_label_test == 1)\n",
        "clf_report = classification_report(true_bools, pred_bools_bilstm)\n",
        "print('Classification Report')\n",
        "print(clf_report)"
      ],
      "execution_count": null,
      "outputs": [
        {
          "output_type": "stream",
          "text": [
            "19/19 [==============================] - 0s 15ms/step - loss: 4.5467 - precision_1: 0.5000 - recall_1: 0.0016\n",
            "Test Precision: 0.5\n",
            "Test Recall: 0.002\n",
            "Test Average Precision Score: 0.0\n",
            "Subset accuracy: 0.003\n",
            "Hamming loss: 0.63\n",
            "Classification Report\n",
            "              precision    recall  f1-score   support\n",
            "\n",
            "           0       0.28      1.00      0.44       165\n",
            "           1       0.07      0.95      0.13        40\n",
            "           2       0.72      1.00      0.84       425\n",
            "\n",
            "   micro avg       0.36      1.00      0.53       630\n",
            "   macro avg       0.36      0.98      0.47       630\n",
            "weighted avg       0.57      1.00      0.69       630\n",
            " samples avg       0.36      1.00      0.53       630\n",
            "\n"
          ],
          "name": "stdout"
        }
      ]
    },
    {
      "cell_type": "markdown",
      "metadata": {
        "id": "Ov29Hc7xmdwb"
      },
      "source": [
        "## CNN Model"
      ]
    },
    {
      "cell_type": "code",
      "metadata": {
        "colab": {
          "base_uri": "https://localhost:8080/"
        },
        "id": "sLl5WNaZmdwv",
        "outputId": "cb213d26-7d22-40ba-8254-c985f7c4b06e"
      },
      "source": [
        "cnn_model = Sequential()\n",
        "cnn_model.add(Embedding(output_dim=100, input_dim=len(word_index)+1, input_length = max_text,\n",
        "                       weights = [embedding_matrix], trainable = True))\n",
        "\n",
        "cnn_model.add(Conv1D(filters = 250,\n",
        "                     kernel_size = 3, \n",
        "                     padding = 'valid'))\n",
        "cnn_model.add(LeakyReLU(alpha=0.1))\n",
        "cnn_model.add(MaxPooling1D(pool_size=2, padding='same'))\n",
        "cnn_model.add(Dropout(0.4))\n",
        "cnn_model.add(Flatten())\n",
        "cnn_model.add(Dense(128, activation='linear'))\n",
        "\n",
        "cnn_model.add(Dense(3, activation='softmax'))\n",
        "cnn_model.compile(loss = \"categorical_crossentropy\", \n",
        "              optimizer = \"adam\", \n",
        "              metrics=[Precision(), Recall()]) \n",
        "\n",
        "history_cnn = cnn_model.fit(X_train, multi_label, validation_split=0.1,\n",
        "                              batch_size = 64, epochs = 20,\n",
        "                              callbacks = [EarlyStopping(monitor=\"val_loss\", patience=1)])"
      ],
      "execution_count": null,
      "outputs": [
        {
          "output_type": "stream",
          "text": [
            "Epoch 1/20\n",
            "41/41 [==============================] - 1s 23ms/step - loss: 3.0695 - precision_2: 0.4980 - recall_2: 0.4112 - val_loss: 27.5168 - val_precision_2: 0.1916 - val_recall_2: 0.1313\n",
            "Epoch 2/20\n",
            "41/41 [==============================] - 1s 16ms/step - loss: 51.5424 - precision_2: 0.4645 - recall_2: 0.4034 - val_loss: 121.5753 - val_precision_2: 0.2787 - val_recall_2: 0.1909\n"
          ],
          "name": "stdout"
        }
      ]
    },
    {
      "cell_type": "markdown",
      "metadata": {
        "id": "iAAstm4cmdw5"
      },
      "source": [
        "### Evaluation"
      ]
    },
    {
      "cell_type": "markdown",
      "metadata": {
        "id": "KMZ7wG_Dmdw9"
      },
      "source": [
        "#### Graphs"
      ]
    },
    {
      "cell_type": "code",
      "metadata": {
        "colab": {
          "base_uri": "https://localhost:8080/",
          "height": 427
        },
        "id": "5DP5WXTgmdw-",
        "outputId": "ad6484a0-8cb8-4076-d89f-d8d9088a2528"
      },
      "source": [
        "history_dict = history_cnn.history\n",
        "\n",
        "precision = history_dict['precision_2']\n",
        "val_precision = history_dict['val_precision_2']\n",
        "recall = history_dict['recall_2']\n",
        "val_recall = history_dict['val_recall_2']\n",
        "loss = history_dict['loss']\n",
        "val_loss = history_dict['val_loss']\n",
        "\n",
        "epochs = range(1, len(precision) + 1)\n",
        "\n",
        "# Use plot styling from seaborn.\n",
        "sns.set(style='darkgrid')\n",
        "\n",
        "# Increase the plot size and font size.\n",
        "sns.set(font_scale=1.5)\n",
        "plt.rcParams[\"figure.figsize\"] = (12,6)\n",
        "\n",
        "# Plot the learning curve.\n",
        "plt.plot(loss, 'b-o', label=\"training loss\")\n",
        "plt.plot(val_loss, 'r-o', label=\"validation loss\")\n",
        "\n",
        "# Label the plot.\n",
        "plt.title(\"Learning curve\")\n",
        "plt.xlabel(\"Epoch\")\n",
        "plt.ylabel(\"Loss\")\n",
        "plt.legend()\n",
        "\n",
        "plt.show()"
      ],
      "execution_count": null,
      "outputs": [
        {
          "output_type": "display_data",
          "data": {
            "image/png": "[encoded data removed]",
            "text/plain": [
              "<Figure size 864x432 with 1 Axes>"
            ]
          },
          "metadata": {
            "tags": []
          }
        }
      ]
    },
    {
      "cell_type": "code",
      "metadata": {
        "colab": {
          "base_uri": "https://localhost:8080/",
          "height": 427
        },
        "id": "Tt9SFUKamdxE",
        "outputId": "5d9bfdd6-1d3e-46cc-da45-0468b672b025"
      },
      "source": [
        "plt.clf()   # clear figure\n",
        "\n",
        "# Use plot styling from seaborn.\n",
        "sns.set(style='darkgrid')\n",
        "\n",
        "# Increase the plot size and font size.\n",
        "sns.set(font_scale=1.5)\n",
        "plt.rcParams[\"figure.figsize\"] = (12,6)\n",
        "\n",
        "plt.plot(epochs, precision, 'bo', label='Training precision')\n",
        "plt.plot(epochs, val_precision, 'b', label='Validation precision')\n",
        "plt.plot(epochs, recall, 'ro', label='Training recall')\n",
        "plt.plot(epochs, val_recall, 'r', label='Validation recall')\n",
        "plt.title('Precision & Recall Curve')\n",
        "plt.xlabel('Epochs')\n",
        "plt.ylabel('Precision § Recall')\n",
        "plt.legend()\n",
        "\n",
        "plt.show()"
      ],
      "execution_count": null,
      "outputs": [
        {
          "output_type": "display_data",
          "data": {
            "image/png": "[encoded data removed]",
            "text/plain": [
              "<Figure size 864x432 with 1 Axes>"
            ]
          },
          "metadata": {
            "tags": []
          }
        }
      ]
    },
    {
      "cell_type": "markdown",
      "metadata": {
        "id": "cujqjrI2mdxJ"
      },
      "source": [
        "#### F1 Score & Precision & Recall & Subset Accuracy & Hamming Loss & Classification Report"
      ]
    },
    {
      "cell_type": "code",
      "metadata": {
        "colab": {
          "base_uri": "https://localhost:8080/"
        },
        "id": "A-cIFxfLmdxK",
        "outputId": "b8452e7d-4573-4f15-e881-d6df5e8687e4"
      },
      "source": [
        "# Model Evaluation - Loss, Precision, Recall\n",
        "results = cnn_model.evaluate(X_test, multi_label_test)\n",
        "f1_score = 2 * (results[1] * results[2])/(results[1] + results[2])\n",
        "\n",
        "print(\"Test F1-Score: {}\".format(round(f1_score,3)))\n",
        "print(\"Test Precision: {}\".format(round(results[1], 3)))\n",
        "print(\"Test Recall: {}\".format(round(results[2], 3)))\n",
        "\n",
        "# Predictions\n",
        "pred_labels = cnn_model.predict(X_test)\n",
        "\n",
        "multi_preds = pred_labels >= 0.10\n",
        "multi_preds = multi_preds.astype(int)\n",
        "\n",
        "# Average Precision Score\n",
        "avp = average_precision_score(multi_label_test, multi_preds)\n",
        "print(\"Test Average Precision Score: {}\".format(round(avp)))\n",
        "# Subset accuracy\n",
        "print('Subset accuracy: {0}'.format(round(accuracy_score(multi_label_test, multi_preds, normalize=True, sample_weight=None), 3)))\n",
        "# Hamming loss (smaller is better)\n",
        "print('Hamming loss: {0}'.format(round(hamming_loss(multi_label_test, multi_preds), 3)))\n",
        "\n",
        "# Classification Report\n",
        "df_pred = pd.DataFrame(pred_labels)\n",
        "df_pred_clean = df_pred.apply(lambda x: [0 if y <= 0.10 else 1 for y in x])\n",
        "pred_clean = np.array(df_pred_clean)\n",
        "\n",
        "pred_bools_cnn = (pred_clean == 1)[:]\n",
        "true_bools = (multi_label_test == 1)\n",
        "clf_report = classification_report(true_bools, pred_bools_cnn)\n",
        "print('Classification Report')\n",
        "print(clf_report)"
      ],
      "execution_count": null,
      "outputs": [
        {
          "output_type": "stream",
          "text": [
            "19/19 [==============================] - 0s 5ms/step - loss: 13.8038 - precision_2: 0.7172 - recall_2: 0.6683\n",
            "Test F1-Score: 0.692\n",
            "Test Precision: 0.717\n",
            "Test Recall: 0.668\n",
            "Test Average Precision Score: 0.0\n",
            "Subset accuracy: 0.649\n",
            "Hamming loss: 0.215\n",
            "Classification Report\n",
            "              precision    recall  f1-score   support\n",
            "\n",
            "           0       0.30      0.04      0.06       165\n",
            "           1       0.00      0.00      0.00        40\n",
            "           2       0.73      0.98      0.83       425\n",
            "\n",
            "   micro avg       0.71      0.67      0.69       630\n",
            "   macro avg       0.34      0.34      0.30       630\n",
            "weighted avg       0.57      0.67      0.58       630\n",
            " samples avg       0.71      0.69      0.70       630\n",
            "\n"
          ],
          "name": "stdout"
        },
        {
          "output_type": "stream",
          "text": [
            "/usr/local/lib/python3.6/dist-packages/sklearn/metrics/_classification.py:1272: UndefinedMetricWarning: Precision and F-score are ill-defined and being set to 0.0 in labels with no predicted samples. Use `zero_division` parameter to control this behavior.\n",
            "  _warn_prf(average, modifier, msg_start, len(result))\n"
          ],
          "name": "stderr"
        }
      ]
    },
    {
      "cell_type": "markdown",
      "metadata": {
        "id": "EF9KqppXiCu9"
      },
      "source": [
        "# ELMO"
      ]
    },
    {
      "cell_type": "markdown",
      "metadata": {
        "id": "fj7TvZjJolT3"
      },
      "source": [
        "## Model"
      ]
    },
    {
      "cell_type": "code",
      "metadata": {
        "colab": {
          "base_uri": "https://localhost:8080/",
          "height": 1000
        },
        "id": "QQ1aKto8wzlz",
        "outputId": "96febf33-735f-4b84-bbc9-948dfb6d2169"
      },
      "source": [
        "# In order to download the pretrained ELMO layer from the hub, lower the Tensorflow version\n",
        "!pip install tensorflow==1.15.0\n",
        "!pip install tensorflow_hub"
      ],
      "execution_count": null,
      "outputs": [
        {
          "output_type": "stream",
          "text": [
            "Collecting tensorflow==1.15.0\n",
            "\u001b[?25l  Downloading https://files.pythonhosted.org/packages/3f/98/5a99af92fb911d7a88a0005ad55005f35b4c1ba8d75fba02df726cd936e6/tensorflow-1.15.0-cp36-cp36m-manylinux2010_x86_64.whl (412.3MB)\n",
            "\u001b[K     |████████████████████████████████| 412.3MB 26kB/s \n",
            "\u001b[?25hRequirement already satisfied: opt-einsum>=2.3.2 in /usr/local/lib/python3.6/dist-packages (from tensorflow==1.15.0) (3.3.0)\n",
            "Requirement already satisfied: wheel>=0.26 in /usr/local/lib/python3.6/dist-packages (from tensorflow==1.15.0) (0.35.1)\n",
            "Requirement already satisfied: google-pasta>=0.1.6 in /usr/local/lib/python3.6/dist-packages (from tensorflow==1.15.0) (0.2.0)\n",
            "Requirement already satisfied: keras-preprocessing>=1.0.5 in /usr/local/lib/python3.6/dist-packages (from tensorflow==1.15.0) (1.1.2)\n",
            "Requirement already satisfied: termcolor>=1.1.0 in /usr/local/lib/python3.6/dist-packages (from tensorflow==1.15.0) (1.1.0)\n",
            "Collecting tensorboard<1.16.0,>=1.15.0\n",
            "\u001b[?25l  Downloading https://files.pythonhosted.org/packages/1e/e9/d3d747a97f7188f48aa5eda486907f3b345cd409f0a0850468ba867db246/tensorboard-1.15.0-py3-none-any.whl (3.8MB)\n",
            "\u001b[K     |████████████████████████████████| 3.8MB 59.0MB/s \n",
            "\u001b[?25hRequirement already satisfied: absl-py>=0.7.0 in /usr/local/lib/python3.6/dist-packages (from tensorflow==1.15.0) (0.10.0)\n",
            "Collecting keras-applications>=1.0.8\n",
            "\u001b[?25l  Downloading https://files.pythonhosted.org/packages/71/e3/19762fdfc62877ae9102edf6342d71b28fbfd9dea3d2f96a882ce099b03f/Keras_Applications-1.0.8-py3-none-any.whl (50kB)\n",
            "\u001b[K     |████████████████████████████████| 51kB 6.1MB/s \n",
            "\u001b[?25hRequirement already satisfied: wrapt>=1.11.1 in /usr/local/lib/python3.6/dist-packages (from tensorflow==1.15.0) (1.12.1)\n",
            "Requirement already satisfied: grpcio>=1.8.6 in /usr/local/lib/python3.6/dist-packages (from tensorflow==1.15.0) (1.33.2)\n",
            "Collecting gast==0.2.2\n",
            "  Downloading https://files.pythonhosted.org/packages/4e/35/11749bf99b2d4e3cceb4d55ca22590b0d7c2c62b9de38ac4a4a7f4687421/gast-0.2.2.tar.gz\n",
            "Requirement already satisfied: astor>=0.6.0 in /usr/local/lib/python3.6/dist-packages (from tensorflow==1.15.0) (0.8.1)\n",
            "Requirement already satisfied: six>=1.10.0 in /usr/local/lib/python3.6/dist-packages (from tensorflow==1.15.0) (1.15.0)\n",
            "Collecting tensorflow-estimator==1.15.1\n",
            "\u001b[?25l  Downloading https://files.pythonhosted.org/packages/de/62/2ee9cd74c9fa2fa450877847ba560b260f5d0fb70ee0595203082dafcc9d/tensorflow_estimator-1.15.1-py2.py3-none-any.whl (503kB)\n",
            "\u001b[K     |████████████████████████████████| 512kB 55.2MB/s \n",
            "\u001b[?25hRequirement already satisfied: protobuf>=3.6.1 in /usr/local/lib/python3.6/dist-packages (from tensorflow==1.15.0) (3.12.4)\n",
            "Requirement already satisfied: numpy<2.0,>=1.16.0 in /usr/local/lib/python3.6/dist-packages (from tensorflow==1.15.0) (1.18.5)\n",
            "Requirement already satisfied: setuptools>=41.0.0 in /usr/local/lib/python3.6/dist-packages (from tensorboard<1.16.0,>=1.15.0->tensorflow==1.15.0) (50.3.2)\n",
            "Requirement already satisfied: werkzeug>=0.11.15 in /usr/local/lib/python3.6/dist-packages (from tensorboard<1.16.0,>=1.15.0->tensorflow==1.15.0) (1.0.1)\n",
            "Requirement already satisfied: markdown>=2.6.8 in /usr/local/lib/python3.6/dist-packages (from tensorboard<1.16.0,>=1.15.0->tensorflow==1.15.0) (3.3.3)\n",
            "Requirement already satisfied: h5py in /usr/local/lib/python3.6/dist-packages (from keras-applications>=1.0.8->tensorflow==1.15.0) (2.10.0)\n",
            "Requirement already satisfied: importlib-metadata; python_version < \"3.8\" in /usr/local/lib/python3.6/dist-packages (from markdown>=2.6.8->tensorboard<1.16.0,>=1.15.0->tensorflow==1.15.0) (2.0.0)\n",
            "Requirement already satisfied: zipp>=0.5 in /usr/local/lib/python3.6/dist-packages (from importlib-metadata; python_version < \"3.8\"->markdown>=2.6.8->tensorboard<1.16.0,>=1.15.0->tensorflow==1.15.0) (3.4.0)\n",
            "Building wheels for collected packages: gast\n",
            "  Building wheel for gast (setup.py) ... \u001b[?25l\u001b[?25hdone\n",
            "  Created wheel for gast: filename=gast-0.2.2-cp36-none-any.whl size=7542 sha256=90defe08aa71a28ef04999ad48b430ddff0791c25e06c541821f9ea337df0d8e\n",
            "  Stored in directory: /root/.cache/pip/wheels/5c/2e/7e/a1d4d4fcebe6c381f378ce7743a3ced3699feb89bcfbdadadd\n",
            "Successfully built gast\n",
            "\u001b[31mERROR: tensorflow-probability 0.11.0 has requirement gast>=0.3.2, but you'll have gast 0.2.2 which is incompatible.\u001b[0m\n",
            "Installing collected packages: tensorboard, keras-applications, gast, tensorflow-estimator, tensorflow\n",
            "  Found existing installation: tensorboard 2.3.0\n",
            "    Uninstalling tensorboard-2.3.0:\n",
            "      Successfully uninstalled tensorboard-2.3.0\n",
            "  Found existing installation: gast 0.3.3\n",
            "    Uninstalling gast-0.3.3:\n",
            "      Successfully uninstalled gast-0.3.3\n",
            "  Found existing installation: tensorflow-estimator 2.3.0\n",
            "    Uninstalling tensorflow-estimator-2.3.0:\n",
            "      Successfully uninstalled tensorflow-estimator-2.3.0\n",
            "  Found existing installation: tensorflow 2.3.0\n",
            "    Uninstalling tensorflow-2.3.0:\n",
            "      Successfully uninstalled tensorflow-2.3.0\n",
            "Successfully installed gast-0.2.2 keras-applications-1.0.8 tensorboard-1.15.0 tensorflow-1.15.0 tensorflow-estimator-1.15.1\n"
          ],
          "name": "stdout"
        },
        {
          "output_type": "display_data",
          "data": {
            "application/vnd.colab-display-data+json": {
              "pip_warning": {
                "packages": [
                  "gast",
                  "tensorboard",
                  "tensorflow",
                  "tensorflow_estimator"
                ]
              }
            }
          },
          "metadata": {
            "tags": []
          }
        },
        {
          "output_type": "stream",
          "text": [
            "Requirement already satisfied: tensorflow_hub in /usr/local/lib/python3.6/dist-packages (0.10.0)\n",
            "Requirement already satisfied: numpy>=1.12.0 in /usr/local/lib/python3.6/dist-packages (from tensorflow_hub) (1.18.5)\n",
            "Requirement already satisfied: protobuf>=3.8.0 in /usr/local/lib/python3.6/dist-packages (from tensorflow_hub) (3.12.4)\n",
            "Requirement already satisfied: six>=1.9 in /usr/local/lib/python3.6/dist-packages (from protobuf>=3.8.0->tensorflow_hub) (1.15.0)\n",
            "Requirement already satisfied: setuptools in /usr/local/lib/python3.6/dist-packages (from protobuf>=3.8.0->tensorflow_hub) (50.3.2)\n"
          ],
          "name": "stdout"
        }
      ]
    },
    {
      "cell_type": "code",
      "metadata": {
        "colab": {
          "base_uri": "https://localhost:8080/"
        },
        "id": "cTZ2TVfOC_ok",
        "outputId": "0087683b-5d37-476b-991b-7d88acbfc773"
      },
      "source": [
        "# Adjust the data into a proper format \n",
        "xtrain = np.array(train_Text)\n",
        "ytrain = multi_label\n",
        "xtest = np.array(test_Text)\n",
        "ytest = multi_label_test\n",
        "\n",
        "# Download the pretrained ELMO layer from Tensorflow hub\n",
        "embed = hub.Module(\"https://tfhub.dev/google/elmo/2\")\n",
        "def ELMoEmbedding(x):\n",
        "    return embed(tf.reshape(tf.cast(x, tf.string), [-1]), signature=\"default\", as_dict=True)['default']\n",
        "\n",
        "# Model Metrics\n",
        "def recall_m(y_true, y_pred):\n",
        "        true_positives = K.sum(K.round(K.clip(y_true * y_pred, 0, 1)))\n",
        "        possible_positives = K.sum(K.round(K.clip(y_true, 0, 1)))\n",
        "        recall = true_positives / (possible_positives + K.epsilon())\n",
        "        return recall\n",
        "\n",
        "def precision_m(y_true, y_pred):\n",
        "        true_positives = K.sum(K.round(K.clip(y_true * y_pred, 0, 1)))\n",
        "        predicted_positives = K.sum(K.round(K.clip(y_pred, 0, 1)))\n",
        "        precision = true_positives / (predicted_positives + K.epsilon())\n",
        "        return precision\n",
        "\n",
        "def f1_m(y_true, y_pred):\n",
        "    precision = precision_m(y_true, y_pred)\n",
        "    recall = recall_m(y_true, y_pred)\n",
        "    return 2*((precision*recall)/(precision+recall+K.epsilon()))\n",
        "\n",
        "# ELMO Model\n",
        "def build_model(): \n",
        "    input_comment = Input(shape=(1,), dtype=\"string\", name='input_comment')\n",
        "    embedding = Lambda(ELMoEmbedding, output_shape=(1024, ))(input_comment)\n",
        "    dense = Dense(256, activation='relu', kernel_regularizer=tf.keras.regularizers.l2(0.001))(embedding)\n",
        "    pred = Dense(3, activation='sigmoid')(dense)\n",
        "    model = Model(inputs=[input_comment], outputs=pred)\n",
        "    model.compile(tf.keras.optimizers.Adam(lr=1e-4), loss='categorical_crossentropy', metrics=['accuracy', recall_m,\n",
        "                                                                                               precision_m, f1_m]) \n",
        "    return model\n",
        "model_elmo = build_model()\n",
        "\n",
        "# Fit the train data & Take predictions\n",
        "earlystopping = EarlyStopping(monitor = \"val_loss\", mode = \"min\", patience = 1)\n",
        "with tf.Session() as session:\n",
        "    K.set_session(session)\n",
        "    session.run(tf.global_variables_initializer())  \n",
        "    session.run(tf.tables_initializer())\n",
        "    history_elmo = model_elmo.fit(xtrain, ytrain,validation_data=(xtest, ytest), epochs=4, batch_size=32)\n",
        "    results = model_elmo.evaluate(xtest, ytest)\n",
        "    pred_labels = model_elmo.predict(xtest)\n",
        "    multi_preds = pred_labels >= 0.10\n",
        "    multi_preds = multi_preds.astype(int)"
      ],
      "execution_count": null,
      "outputs": [
        {
          "output_type": "stream",
          "text": [
            "INFO:tensorflow:Saver not created because there are no variables in the graph to restore\n"
          ],
          "name": "stdout"
        },
        {
          "output_type": "stream",
          "text": [
            "INFO:tensorflow:Saver not created because there are no variables in the graph to restore\n"
          ],
          "name": "stderr"
        },
        {
          "output_type": "stream",
          "text": [
            "WARNING:tensorflow:From /usr/local/lib/python3.6/dist-packages/tensorflow_core/python/ops/resource_variable_ops.py:1630: calling BaseResourceVariable.__init__ (from tensorflow.python.ops.resource_variable_ops) with constraint is deprecated and will be removed in a future version.\n",
            "Instructions for updating:\n",
            "If using Keras pass *_constraint arguments to layers.\n"
          ],
          "name": "stdout"
        },
        {
          "output_type": "stream",
          "text": [
            "WARNING:tensorflow:From /usr/local/lib/python3.6/dist-packages/tensorflow_core/python/ops/resource_variable_ops.py:1630: calling BaseResourceVariable.__init__ (from tensorflow.python.ops.resource_variable_ops) with constraint is deprecated and will be removed in a future version.\n",
            "Instructions for updating:\n",
            "If using Keras pass *_constraint arguments to layers.\n"
          ],
          "name": "stderr"
        },
        {
          "output_type": "stream",
          "text": [
            "WARNING:tensorflow:From /usr/local/lib/python3.6/dist-packages/tensorflow_core/python/ops/math_grad.py:1424: where (from tensorflow.python.ops.array_ops) is deprecated and will be removed in a future version.\n",
            "Instructions for updating:\n",
            "Use tf.where in 2.0, which has the same broadcast rule as np.where\n"
          ],
          "name": "stdout"
        },
        {
          "output_type": "stream",
          "text": [
            "WARNING:tensorflow:From /usr/local/lib/python3.6/dist-packages/tensorflow_core/python/ops/math_grad.py:1424: where (from tensorflow.python.ops.array_ops) is deprecated and will be removed in a future version.\n",
            "Instructions for updating:\n",
            "Use tf.where in 2.0, which has the same broadcast rule as np.where\n"
          ],
          "name": "stderr"
        },
        {
          "output_type": "stream",
          "text": [
            "Train on 2864 samples, validate on 587 samples\n",
            "Epoch 1/4\n",
            "2864/2864 [==============================] - 96s 33ms/sample - loss: 1.6177 - acc: 0.4633 - recall_m: 0.6708 - precision_m: 0.5006 - f1_m: 0.5646 - val_loss: 1.4002 - val_acc: 0.5315 - val_recall_m: 0.4458 - val_precision_m: 0.5823 - val_f1_m: 0.5018\n",
            "Epoch 2/4\n",
            "2864/2864 [==============================] - 92s 32ms/sample - loss: 1.5125 - acc: 0.5615 - recall_m: 0.1634 - precision_m: 0.6757 - f1_m: 0.2329 - val_loss: 1.3986 - val_acc: 0.5383 - val_recall_m: 0.0320 - val_precision_m: 0.6088 - val_f1_m: 0.0600\n",
            "Epoch 3/4\n",
            "2864/2864 [==============================] - 91s 32ms/sample - loss: 1.4292 - acc: 0.6072 - recall_m: 0.0062 - precision_m: 0.1778 - f1_m: 0.0119 - val_loss: 1.4650 - val_acc: 0.4736 - val_recall_m: 0.0000e+00 - val_precision_m: 0.0000e+00 - val_f1_m: 0.0000e+00\n",
            "Epoch 4/4\n",
            "2864/2864 [==============================] - 104s 36ms/sample - loss: 1.3745 - acc: 0.6383 - recall_m: 3.0030e-04 - precision_m: 0.0111 - f1_m: 5.8480e-04 - val_loss: 1.4478 - val_acc: 0.4855 - val_recall_m: 0.0000e+00 - val_precision_m: 0.0000e+00 - val_f1_m: 0.0000e+00\n",
            "587/587 [==============================] - 20s 34ms/sample - loss: 1.4438 - acc: 0.4974 - recall_m: 0.0000e+00 - precision_m: 0.0000e+00 - f1_m: 0.0000e+00\n"
          ],
          "name": "stdout"
        }
      ]
    },
    {
      "cell_type": "markdown",
      "metadata": {
        "id": "YPW2OisnOZiP"
      },
      "source": [
        "## Evaluation"
      ]
    },
    {
      "cell_type": "markdown",
      "metadata": {
        "id": "zDTcKfqfOZiQ"
      },
      "source": [
        "### Graphs"
      ]
    },
    {
      "cell_type": "code",
      "metadata": {
        "colab": {
          "base_uri": "https://localhost:8080/",
          "height": 427
        },
        "id": "iY0QBIguOZiR",
        "outputId": "df5826f4-8509-4f2c-9268-3e7e34766756"
      },
      "source": [
        "history_dict = history_elmo.history\n",
        "\n",
        "precision = history_dict['precision_m']\n",
        "val_precision = history_dict['val_precision_m']\n",
        "recall = history_dict['recall_m']\n",
        "val_recall = history_dict['val_recall_m']\n",
        "loss = history_dict['loss']\n",
        "val_loss = history_dict['val_loss']\n",
        "\n",
        "epochs = range(1, len(precision) + 1)\n",
        "\n",
        "# Use plot styling from seaborn.\n",
        "sns.set(style='darkgrid')\n",
        "\n",
        "# Increase the plot size and font size.\n",
        "sns.set(font_scale=1.5)\n",
        "plt.rcParams[\"figure.figsize\"] = (12,6)\n",
        "\n",
        "# Plot the learning curve.\n",
        "plt.plot(loss, 'b-o', label=\"training loss\")\n",
        "plt.plot(val_loss, 'r-o', label=\"validation loss\")\n",
        "\n",
        "# Label the plot.\n",
        "plt.title(\"Learning curve\")\n",
        "plt.xlabel(\"Epoch\")\n",
        "plt.ylabel(\"Loss\")\n",
        "plt.legend()\n",
        "\n",
        "plt.show()"
      ],
      "execution_count": null,
      "outputs": [
        {
          "output_type": "display_data",
          "data": {
            "image/png": "[encoded data removed]",
            "text/plain": [
              "<Figure size 864x432 with 1 Axes>"
            ]
          },
          "metadata": {
            "tags": []
          }
        }
      ]
    },
    {
      "cell_type": "code",
      "metadata": {
        "colab": {
          "base_uri": "https://localhost:8080/",
          "height": 427
        },
        "id": "mEN0MdrFOZiT",
        "outputId": "7f2fff2b-2efe-4d86-f7a0-d83b2d3525bd"
      },
      "source": [
        "plt.clf()   # clear figure\n",
        "\n",
        "# Use plot styling from seaborn.\n",
        "sns.set(style='darkgrid')\n",
        "\n",
        "# Increase the plot size and font size.\n",
        "sns.set(font_scale=1.5)\n",
        "plt.rcParams[\"figure.figsize\"] = (12,6)\n",
        "\n",
        "plt.plot(epochs, precision, 'bo', label='Training precision')\n",
        "plt.plot(epochs, val_precision, 'b', label='Validation precision')\n",
        "plt.plot(epochs, recall, 'ro', label='Training recall')\n",
        "plt.plot(epochs, val_recall, 'r', label='Validation recall')\n",
        "plt.title('Precision & Recall Curve')\n",
        "plt.xlabel('Epochs')\n",
        "plt.ylabel('Precision § Recall')\n",
        "plt.legend()\n",
        "\n",
        "plt.show()"
      ],
      "execution_count": null,
      "outputs": [
        {
          "output_type": "display_data",
          "data": {
            "image/png": "[encoded data removed]",
            "text/plain": [
              "<Figure size 864x432 with 1 Axes>"
            ]
          },
          "metadata": {
            "tags": []
          }
        }
      ]
    },
    {
      "cell_type": "markdown",
      "metadata": {
        "id": "oV1dz2XfOZiU"
      },
      "source": [
        "### F1 Score & Precision & Recall & Subset Accuracy & Hamming Loss & Classification Report"
      ]
    },
    {
      "cell_type": "code",
      "metadata": {
        "colab": {
          "base_uri": "https://localhost:8080/"
        },
        "id": "pELoUiUaOZiV",
        "outputId": "71a20d4c-14a3-43c1-f3a6-a46ffa55ae82"
      },
      "source": [
        "# Model Evaluation - Loss, Precision, Recall\n",
        "print(\"Test Accuracy: {}\".format(round(results[1],3)))\n",
        "print(\"Test Recall: {}\".format(round(results[2], 3)))\n",
        "print(\"Test Precision: {}\".format(round(results[3], 3)))\n",
        "print(\"Test F1 Score: {}\".format(round(results[4], 3)))\n",
        "\n",
        "# Average Precision Score\n",
        "avp = average_precision_score(multi_label_test, multi_preds)\n",
        "print(\"Test Average Precision Score: {}\".format(round(avp)))\n",
        "# Subset accuracy\n",
        "print('Subset accuracy: {0}'.format(round(accuracy_score(multi_label_test, multi_preds, normalize=True, sample_weight=None), 3)))\n",
        "# Hamming loss (smaller is better)\n",
        "print('Hamming loss: {0}'.format(round(hamming_loss(multi_label_test, multi_preds), 3)))\n",
        "\n",
        "# Classification Report\n",
        "df_pred = pd.DataFrame(pred_labels)\n",
        "df_pred_clean = df_pred.apply(lambda x: [0 if y <= 0.10 else 1 for y in x])\n",
        "pred_clean = np.array(df_pred_clean)\n",
        "\n",
        "pred_bools_elmo = (pred_clean == 1)[:]\n",
        "true_bools = (multi_label_test == 1)\n",
        "clf_report = classification_report(true_bools, pred_bools_elmo)\n",
        "print('Classification Report')\n",
        "print(clf_report)"
      ],
      "execution_count": null,
      "outputs": [
        {
          "output_type": "stream",
          "text": [
            "Test Accuracy: 0.4970000088214874\n",
            "Test Recall: 0.0\n",
            "Test Precision: 0.0\n",
            "Test F1 Score: 0.0\n",
            "Test Average Precision Score: 0.0\n",
            "Subset accuracy: 0.24\n",
            "Hamming loss: 0.346\n",
            "Classification Report\n",
            "              precision    recall  f1-score   support\n",
            "\n",
            "           0       0.28      0.45      0.35       165\n",
            "           1       0.15      0.15      0.15        40\n",
            "           2       0.73      0.60      0.66       425\n",
            "\n",
            "   micro avg       0.52      0.53      0.52       630\n",
            "   macro avg       0.39      0.40      0.39       630\n",
            "weighted avg       0.58      0.53      0.54       630\n",
            " samples avg       0.41      0.53      0.44       630\n",
            "\n"
          ],
          "name": "stdout"
        },
        {
          "output_type": "stream",
          "text": [
            "/usr/local/lib/python3.6/dist-packages/sklearn/metrics/_classification.py:1272: UndefinedMetricWarning: Precision and F-score are ill-defined and being set to 0.0 in samples with no predicted labels. Use `zero_division` parameter to control this behavior.\n",
            "  _warn_prf(average, modifier, msg_start, len(result))\n"
          ],
          "name": "stderr"
        }
      ]
    }
  ]
}