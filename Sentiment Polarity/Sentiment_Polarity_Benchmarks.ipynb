{
 "cells": [
  {
   "cell_type": "code",
   "execution_count": 1,
   "metadata": {
    "colab": {
     "base_uri": "https://localhost:8080/"
    },
    "id": "Cwcrg0f31Qrt",
    "outputId": "43c6029e-7c2e-4e24-80d1-b1dd725811b5"
   },
   "outputs": [
    {
     "name": "stdout",
     "output_type": "stream",
     "text": [
      "Requirement already satisfied: contractions in /usr/local/lib/python3.6/dist-packages (0.0.43)\n",
      "Requirement already satisfied: textsearch in /usr/local/lib/python3.6/dist-packages (from contractions) (0.0.17)\n",
      "Requirement already satisfied: pyahocorasick in /usr/local/lib/python3.6/dist-packages (from textsearch->contractions) (1.4.0)\n",
      "Requirement already satisfied: Unidecode in /usr/local/lib/python3.6/dist-packages (from textsearch->contractions) (1.1.2)\n"
     ]
    }
   ],
   "source": [
    "pip install contractions"
   ]
  },
  {
   "cell_type": "code",
   "execution_count": 2,
   "metadata": {
    "colab": {
     "base_uri": "https://localhost:8080/"
    },
    "id": "3UYJGiACI27P",
    "outputId": "cb23f523-247b-4ef3-f234-bba1fd7d35e9"
   },
   "outputs": [
    {
     "name": "stdout",
     "output_type": "stream",
     "text": [
      "Requirement already satisfied: pytorch_pretrained_bert in /usr/local/lib/python3.6/dist-packages (0.6.2)\n",
      "Requirement already satisfied: numpy in /usr/local/lib/python3.6/dist-packages (from pytorch_pretrained_bert) (1.19.4)\n",
      "Requirement already satisfied: torch>=0.4.1 in /usr/local/lib/python3.6/dist-packages (from pytorch_pretrained_bert) (1.7.0+cu101)\n",
      "Requirement already satisfied: requests in /usr/local/lib/python3.6/dist-packages (from pytorch_pretrained_bert) (2.23.0)\n",
      "Requirement already satisfied: boto3 in /usr/local/lib/python3.6/dist-packages (from pytorch_pretrained_bert) (1.16.41)\n",
      "Requirement already satisfied: regex in /usr/local/lib/python3.6/dist-packages (from pytorch_pretrained_bert) (2019.12.20)\n",
      "Requirement already satisfied: tqdm in /usr/local/lib/python3.6/dist-packages (from pytorch_pretrained_bert) (4.41.1)\n",
      "Requirement already satisfied: dataclasses in /usr/local/lib/python3.6/dist-packages (from torch>=0.4.1->pytorch_pretrained_bert) (0.8)\n",
      "Requirement already satisfied: future in /usr/local/lib/python3.6/dist-packages (from torch>=0.4.1->pytorch_pretrained_bert) (0.16.0)\n",
      "Requirement already satisfied: typing-extensions in /usr/local/lib/python3.6/dist-packages (from torch>=0.4.1->pytorch_pretrained_bert) (3.7.4.3)\n",
      "Requirement already satisfied: chardet<4,>=3.0.2 in /usr/local/lib/python3.6/dist-packages (from requests->pytorch_pretrained_bert) (3.0.4)\n",
      "Requirement already satisfied: certifi>=2017.4.17 in /usr/local/lib/python3.6/dist-packages (from requests->pytorch_pretrained_bert) (2020.12.5)\n",
      "Requirement already satisfied: idna<3,>=2.5 in /usr/local/lib/python3.6/dist-packages (from requests->pytorch_pretrained_bert) (2.10)\n",
      "Requirement already satisfied: urllib3!=1.25.0,!=1.25.1,<1.26,>=1.21.1 in /usr/local/lib/python3.6/dist-packages (from requests->pytorch_pretrained_bert) (1.24.3)\n",
      "Requirement already satisfied: s3transfer<0.4.0,>=0.3.0 in /usr/local/lib/python3.6/dist-packages (from boto3->pytorch_pretrained_bert) (0.3.3)\n",
      "Requirement already satisfied: botocore<1.20.0,>=1.19.41 in /usr/local/lib/python3.6/dist-packages (from boto3->pytorch_pretrained_bert) (1.19.41)\n",
      "Requirement already satisfied: jmespath<1.0.0,>=0.7.1 in /usr/local/lib/python3.6/dist-packages (from boto3->pytorch_pretrained_bert) (0.10.0)\n",
      "Requirement already satisfied: python-dateutil<3.0.0,>=2.1 in /usr/local/lib/python3.6/dist-packages (from botocore<1.20.0,>=1.19.41->boto3->pytorch_pretrained_bert) (2.8.1)\n",
      "Requirement already satisfied: six>=1.5 in /usr/local/lib/python3.6/dist-packages (from python-dateutil<3.0.0,>=2.1->botocore<1.20.0,>=1.19.41->boto3->pytorch_pretrained_bert) (1.15.0)\n"
     ]
    }
   ],
   "source": [
    "!pip install pytorch_pretrained_bert"
   ]
  },
  {
   "cell_type": "code",
   "execution_count": 3,
   "metadata": {
    "colab": {
     "base_uri": "https://localhost:8080/"
    },
    "id": "CHIPWSrCQAvs",
    "outputId": "d78e2820-14a4-4521-a2c7-89dcc02bc6d2"
   },
   "outputs": [
    {
     "name": "stdout",
     "output_type": "stream",
     "text": [
      "[nltk_data] Downloading package stopwords to /root/nltk_data...\n",
      "[nltk_data]   Package stopwords is already up-to-date!\n"
     ]
    }
   ],
   "source": [
    "import contractions\n",
    "import matplotlib.pyplot as plt\n",
    "import nltk\n",
    "nltk.download('stopwords')\n",
    "import numpy as np\n",
    "import pandas as pd\n",
    "import random\n",
    "import re\n",
    "import seaborn as sns\n",
    "import string \n",
    "import tensorflow as tf\n",
    "import tensorflow_hub as hub\n",
    "\n",
    "from nltk.corpus import stopwords\n",
    "from sklearn.feature_extraction.text import TfidfVectorizer\n",
    "from sklearn.linear_model import LogisticRegression\n",
    "from sklearn.metrics import accuracy_score, average_precision_score, classification_report, confusion_matrix\n",
    "from sklearn.metrics import f1_score, hamming_loss, precision_score, roc_auc_score, roc_curve, recall_score\n",
    "from sklearn.multiclass import OneVsRestClassifier\n",
    "from sklearn.naive_bayes import MultinomialNB\n",
    "from sklearn.pipeline import Pipeline\n",
    "from sklearn.svm import LinearSVC\n",
    "from string import digits\n",
    "from tensorflow.keras import backend as K\n",
    "from tensorflow.keras.callbacks import EarlyStopping, ModelCheckpoint\n",
    "from tensorflow.keras.layers import Dense, Embedding, LSTM, GRU, Dropout, Bidirectional, Input, LeakyReLU, Lambda\n",
    "from tensorflow.keras.layers import Conv1D, MaxPooling1D, Flatten\n",
    "from tensorflow.keras.losses import CategoricalCrossentropy\n",
    "from tensorflow.keras.metrics import Precision, Recall, FalseNegatives, FalsePositives\n",
    "from tensorflow.keras.models import Sequential, Model\n",
    "from tensorflow.keras.preprocessing.sequence import pad_sequences\n",
    "from tensorflow.keras.preprocessing.text import Tokenizer\n",
    "from tensorflow.keras.optimizers import Adam, SGD, RMSprop\n",
    "from tensorflow.keras.regularizers import l2\n",
    "from tensorflow.keras.utils import to_categorical\n",
    "from pytorch_pretrained_bert import BertTokenizer\n",
    "from tensorflow.keras.models import Model "
   ]
  },
  {
   "cell_type": "markdown",
   "metadata": {
    "id": "GF0p7uiHQnkD"
   },
   "source": [
    "# Data Preprocessing"
   ]
  },
  {
   "cell_type": "code",
   "execution_count": 4,
   "metadata": {
    "id": "uMT5swFUQnkg"
   },
   "outputs": [],
   "source": [
    "# Import data\n",
    "train = pd.read_excel('Trainset.xlsx')\n",
    "test = pd.read_excel('Testset.xlsx')\n",
    "\n",
    "# Eliminate the NAs\n",
    "train = train.fillna('')\n",
    "test = test.fillna('')\n",
    "\n",
    "# Remove the rows without Opinion Category values\n",
    "train = train[train.OpinionCategory != ''] \n",
    "test = test[test.OpinionCategory != ''] \n",
    "\n",
    "# Sort the data\n",
    "train = train.sort_values('ID_and_Review').reset_index(drop=True)\n",
    "test = test.sort_values('ID_and_Review').reset_index(drop=True)"
   ]
  },
  {
   "cell_type": "code",
   "execution_count": 5,
   "metadata": {
    "colab": {
     "base_uri": "https://localhost:8080/",
     "height": 499
    },
    "id": "lR63UypfPMmC",
    "outputId": "48350eee-beb7-46cc-ef10-be90b2b88600"
   },
   "outputs": [
    {
     "data": {
      "text/html": [
       "<div>\n",
       "<style scoped>\n",
       "    .dataframe tbody tr th:only-of-type {\n",
       "        vertical-align: middle;\n",
       "    }\n",
       "\n",
       "    .dataframe tbody tr th {\n",
       "        vertical-align: top;\n",
       "    }\n",
       "\n",
       "    .dataframe thead th {\n",
       "        text-align: right;\n",
       "    }\n",
       "</style>\n",
       "<table border=\"1\" class=\"dataframe\">\n",
       "  <thead>\n",
       "    <tr style=\"text-align: right;\">\n",
       "      <th></th>\n",
       "      <th>ID_number</th>\n",
       "      <th>Review_ID</th>\n",
       "      <th>ID_and_Review</th>\n",
       "      <th>OutOfScope</th>\n",
       "      <th>Sentence_ID</th>\n",
       "      <th>OpinionCategory</th>\n",
       "      <th>OpinionFrom</th>\n",
       "      <th>Polarity</th>\n",
       "      <th>AspectTerm</th>\n",
       "      <th>OpinionTo</th>\n",
       "      <th>Text</th>\n",
       "    </tr>\n",
       "  </thead>\n",
       "  <tbody>\n",
       "    <tr>\n",
       "      <th>0</th>\n",
       "      <td>1004293</td>\n",
       "      <td>1</td>\n",
       "      <td>1004293:0</td>\n",
       "      <td></td>\n",
       "      <td>1</td>\n",
       "      <td>RESTAURANT#GENERAL</td>\n",
       "      <td>51</td>\n",
       "      <td>negative</td>\n",
       "      <td>place</td>\n",
       "      <td>56</td>\n",
       "      <td>Judging from previous posts this used to be a ...</td>\n",
       "    </tr>\n",
       "    <tr>\n",
       "      <th>1</th>\n",
       "      <td>1004293</td>\n",
       "      <td>1</td>\n",
       "      <td>1004293:1</td>\n",
       "      <td></td>\n",
       "      <td>2</td>\n",
       "      <td>SERVICE#GENERAL</td>\n",
       "      <td>75</td>\n",
       "      <td>negative</td>\n",
       "      <td>staff</td>\n",
       "      <td>80</td>\n",
       "      <td>We, there were four of us, arrived at noon - t...</td>\n",
       "    </tr>\n",
       "    <tr>\n",
       "      <th>2</th>\n",
       "      <td>1004293</td>\n",
       "      <td>1</td>\n",
       "      <td>1004293:2</td>\n",
       "      <td></td>\n",
       "      <td>3</td>\n",
       "      <td>SERVICE#GENERAL</td>\n",
       "      <td>0</td>\n",
       "      <td>negative</td>\n",
       "      <td></td>\n",
       "      <td>0</td>\n",
       "      <td>They never brought us complimentary noodles, i...</td>\n",
       "    </tr>\n",
       "    <tr>\n",
       "      <th>3</th>\n",
       "      <td>1004293</td>\n",
       "      <td>1</td>\n",
       "      <td>1004293:3</td>\n",
       "      <td></td>\n",
       "      <td>4</td>\n",
       "      <td>FOOD#QUALITY</td>\n",
       "      <td>4</td>\n",
       "      <td>negative</td>\n",
       "      <td>food</td>\n",
       "      <td>8</td>\n",
       "      <td>The food was lousy - too sweet or too salty an...</td>\n",
       "    </tr>\n",
       "    <tr>\n",
       "      <th>4</th>\n",
       "      <td>1004293</td>\n",
       "      <td>1</td>\n",
       "      <td>1004293:3</td>\n",
       "      <td></td>\n",
       "      <td>4</td>\n",
       "      <td>FOOD#STYLE_OPTIONS</td>\n",
       "      <td>52</td>\n",
       "      <td>negative</td>\n",
       "      <td>portions</td>\n",
       "      <td>60</td>\n",
       "      <td>The food was lousy - too sweet or too salty an...</td>\n",
       "    </tr>\n",
       "  </tbody>\n",
       "</table>\n",
       "</div>"
      ],
      "text/plain": [
       "  ID_number  ...                                               Text\n",
       "0   1004293  ...  Judging from previous posts this used to be a ...\n",
       "1   1004293  ...  We, there were four of us, arrived at noon - t...\n",
       "2   1004293  ...  They never brought us complimentary noodles, i...\n",
       "3   1004293  ...  The food was lousy - too sweet or too salty an...\n",
       "4   1004293  ...  The food was lousy - too sweet or too salty an...\n",
       "\n",
       "[5 rows x 11 columns]"
      ]
     },
     "execution_count": 5,
     "metadata": {
      "tags": []
     },
     "output_type": "execute_result"
    }
   ],
   "source": [
    "train.head()"
   ]
  },
  {
   "cell_type": "code",
   "execution_count": 6,
   "metadata": {
    "colab": {
     "base_uri": "https://localhost:8080/"
    },
    "id": "j0BqJOHLQnkt",
    "outputId": "1bb8f860-6496-468f-8729-04475c8ef122"
   },
   "outputs": [
    {
     "data": {
      "text/plain": [
       "(positive    1657\n",
       " negative     749\n",
       " neutral      101\n",
       " Name: Polarity, dtype: int64, positive    611\n",
       " negative    204\n",
       " neutral      44\n",
       " Name: Polarity, dtype: int64)"
      ]
     },
     "execution_count": 6,
     "metadata": {
      "tags": []
     },
     "output_type": "execute_result"
    }
   ],
   "source": [
    "train.Polarity.value_counts(), test.Polarity.value_counts()"
   ]
  },
  {
   "cell_type": "markdown",
   "metadata": {
    "id": "_S-qK5pCPQuZ"
   },
   "source": [
    "Train data consists of 11 variables. The four of them indicate the ID numbers of the sentences, the reviewer, the review and the combination of them. OutofScope variable loses its function when I eliminated the null OpinionCategory values. The Opinion Category shows the aspect which the review refers to. The Opinion Category consists of 12 classes and each class has an entity and a corresponding attribute, in other words, E#A pairs. \n",
    "\n",
    "In this notebook, I will deal only with the Polarity and the corresponding reviews under the Text column."
   ]
  },
  {
   "cell_type": "markdown",
   "metadata": {
    "id": "B2xi_zFhvbUZ"
   },
   "source": [
    "## Multilabeling"
   ]
  },
  {
   "cell_type": "code",
   "execution_count": 7,
   "metadata": {
    "colab": {
     "base_uri": "https://localhost:8080/"
    },
    "id": "c-Lo-YjuQAwM",
    "outputId": "6ddf8725-55ab-4e16-f38e-21d5bf3d52e8"
   },
   "outputs": [
    {
     "data": {
      "text/plain": [
       "((2507, 3), (859, 3))"
      ]
     },
     "execution_count": 7,
     "metadata": {
      "tags": []
     },
     "output_type": "execute_result"
    }
   ],
   "source": [
    "# First, one-hot encode each sentence (duplicate ones as well)\n",
    "train.Polarity = train.Polarity.astype('category')\n",
    "one_hot = to_categorical(train.Polarity.cat.codes)\n",
    "one_hot = pd.DataFrame(one_hot)\n",
    "\n",
    "test.Polarity = test.Polarity.astype('category')\n",
    "one_hot_test = to_categorical(test.Polarity.cat.codes)\n",
    "one_hot_test = pd.DataFrame(one_hot_test)\n",
    "\n",
    "one_hot.shape, one_hot_test.shape # There are 12 opinion category classes."
   ]
  },
  {
   "cell_type": "code",
   "execution_count": 8,
   "metadata": {
    "colab": {
     "base_uri": "https://localhost:8080/"
    },
    "id": "y6yHRl0W82KD",
    "outputId": "bbd46968-55c3-4b68-b1a2-f6166ba082f3"
   },
   "outputs": [
    {
     "data": {
      "text/plain": [
       "(array([[1, 0, 0],\n",
       "        [1, 0, 0],\n",
       "        [1, 0, 0],\n",
       "        ...,\n",
       "        [1, 0, 0],\n",
       "        [1, 0, 0],\n",
       "        [1, 0, 0]]), (1708, 3), array([[0, 0, 1],\n",
       "        [0, 0, 1],\n",
       "        [0, 1, 0],\n",
       "        ...,\n",
       "        [0, 0, 1],\n",
       "        [1, 0, 1],\n",
       "        [0, 0, 1]]), (587, 3))"
      ]
     },
     "execution_count": 8,
     "metadata": {
      "tags": []
     },
     "output_type": "execute_result"
    }
   ],
   "source": [
    "# Subtract the necessary columns for the analysis\n",
    "useful_train = train[['Sentence_ID','Polarity','Text']]\n",
    "useful_test = test[['Sentence_ID','Polarity','Text']]\n",
    "\n",
    "# Concatenate the train data and the one-hot-encoding of the opinion category classes.\n",
    "data_train = pd.concat([useful_train, one_hot], axis=1)\n",
    "data_test = pd.concat([useful_test, one_hot_test], axis=1)\n",
    "\n",
    "# Since the reviewer may have mentioned more than one opinion in a sentence, \n",
    "# Sum up the one-hot-encoded classes of each sentence.\n",
    "multi_label = data_train.groupby('Sentence_ID').sum().reset_index(drop=True)\n",
    "multi_label_test = data_test.groupby('Sentence_ID').sum().reset_index(drop=True)\n",
    "\n",
    "# In each sentence, an opinion category may be refered more than one.\n",
    "# Because of that, there were values besides 0 and 1, after the summation.\n",
    "# Since being refered is important rather than how many times, the values such as 2 or 3 are reverted to one.\n",
    "multi_label = np.array(multi_label.astype(bool).astype(int))\n",
    "multi_label_test = np.array(multi_label_test.astype(bool).astype(int))\n",
    "\n",
    "# After the multi-labeling of the sentences, remove the duplicates.\n",
    "train_Text = data_train.drop_duplicates(subset=['Sentence_ID'], keep='last').Text\n",
    "test_Text = data_test.drop_duplicates(subset=['Sentence_ID'], keep='last').Text\n",
    "\n",
    "multi_label, multi_label.shape, multi_label_test, multi_label_test.shape"
   ]
  },
  {
   "cell_type": "markdown",
   "metadata": {
    "id": "c2l72LckAPAM"
   },
   "source": [
    "## Undersampling & Oversampling"
   ]
  },
  {
   "cell_type": "code",
   "execution_count": 9,
   "metadata": {
    "id": "rOD4LIZCgzY1"
   },
   "outputs": [],
   "source": [
    "df = pd.merge(pd.DataFrame(train_Text).reset_index(drop=True), pd.DataFrame(multi_label), left_index=True, right_index=True)"
   ]
  },
  {
   "cell_type": "code",
   "execution_count": 10,
   "metadata": {
    "colab": {
     "base_uri": "https://localhost:8080/"
    },
    "id": "sYMpuvgK5HS1",
    "outputId": "069bf454-8ee7-4429-8641-fe56c221f0c4"
   },
   "outputs": [
    {
     "data": {
      "text/plain": [
       "[592, 94, 1166]"
      ]
     },
     "execution_count": 10,
     "metadata": {
      "tags": []
     },
     "output_type": "execute_result"
    }
   ],
   "source": [
    "imbalance_list =[]\n",
    "for i in range(3):\n",
    "  imbalance_list.append(len(df[df[i]== 1]))\n",
    "imbalance_list"
   ]
  },
  {
   "cell_type": "code",
   "execution_count": 11,
   "metadata": {
    "colab": {
     "base_uri": "https://localhost:8080/",
     "height": 419
    },
    "id": "aS15DAu9hC8X",
    "outputId": "66315952-abf1-403c-97e4-a2de9bea3be1"
   },
   "outputs": [
    {
     "data": {
      "text/html": [
       "<div>\n",
       "<style scoped>\n",
       "    .dataframe tbody tr th:only-of-type {\n",
       "        vertical-align: middle;\n",
       "    }\n",
       "\n",
       "    .dataframe tbody tr th {\n",
       "        vertical-align: top;\n",
       "    }\n",
       "\n",
       "    .dataframe thead th {\n",
       "        text-align: right;\n",
       "    }\n",
       "</style>\n",
       "<table border=\"1\" class=\"dataframe\">\n",
       "  <thead>\n",
       "    <tr style=\"text-align: right;\">\n",
       "      <th></th>\n",
       "      <th>Text</th>\n",
       "      <th>0</th>\n",
       "      <th>1</th>\n",
       "      <th>2</th>\n",
       "    </tr>\n",
       "  </thead>\n",
       "  <tbody>\n",
       "    <tr>\n",
       "      <th>0</th>\n",
       "      <td>Judging from previous posts this used to be a ...</td>\n",
       "      <td>1</td>\n",
       "      <td>0</td>\n",
       "      <td>0</td>\n",
       "    </tr>\n",
       "    <tr>\n",
       "      <th>1</th>\n",
       "      <td>We, there were four of us, arrived at noon - t...</td>\n",
       "      <td>1</td>\n",
       "      <td>0</td>\n",
       "      <td>0</td>\n",
       "    </tr>\n",
       "    <tr>\n",
       "      <th>2</th>\n",
       "      <td>They never brought us complimentary noodles, i...</td>\n",
       "      <td>1</td>\n",
       "      <td>0</td>\n",
       "      <td>0</td>\n",
       "    </tr>\n",
       "    <tr>\n",
       "      <th>3</th>\n",
       "      <td>The food was lousy - too sweet or too salty an...</td>\n",
       "      <td>1</td>\n",
       "      <td>0</td>\n",
       "      <td>0</td>\n",
       "    </tr>\n",
       "    <tr>\n",
       "      <th>4</th>\n",
       "      <td>After all that, they complained to me about th...</td>\n",
       "      <td>1</td>\n",
       "      <td>0</td>\n",
       "      <td>0</td>\n",
       "    </tr>\n",
       "    <tr>\n",
       "      <th>...</th>\n",
       "      <td>...</td>\n",
       "      <td>...</td>\n",
       "      <td>...</td>\n",
       "      <td>...</td>\n",
       "    </tr>\n",
       "    <tr>\n",
       "      <th>1703</th>\n",
       "      <td>The service was extremely fast and attentive(t...</td>\n",
       "      <td>1</td>\n",
       "      <td>0</td>\n",
       "      <td>0</td>\n",
       "    </tr>\n",
       "    <tr>\n",
       "      <th>1704</th>\n",
       "      <td>The food was ok and fair nothing to go crazy.</td>\n",
       "      <td>1</td>\n",
       "      <td>0</td>\n",
       "      <td>0</td>\n",
       "    </tr>\n",
       "    <tr>\n",
       "      <th>1705</th>\n",
       "      <td>Over all the looks of the place exceeds the ac...</td>\n",
       "      <td>1</td>\n",
       "      <td>0</td>\n",
       "      <td>0</td>\n",
       "    </tr>\n",
       "    <tr>\n",
       "      <th>1706</th>\n",
       "      <td>So what you really end up paying for is the re...</td>\n",
       "      <td>1</td>\n",
       "      <td>0</td>\n",
       "      <td>0</td>\n",
       "    </tr>\n",
       "    <tr>\n",
       "      <th>1707</th>\n",
       "      <td>Will prob. not return but it is a great dinnin...</td>\n",
       "      <td>1</td>\n",
       "      <td>0</td>\n",
       "      <td>0</td>\n",
       "    </tr>\n",
       "  </tbody>\n",
       "</table>\n",
       "<p>1708 rows × 4 columns</p>\n",
       "</div>"
      ],
      "text/plain": [
       "                                                   Text  0  1  2\n",
       "0     Judging from previous posts this used to be a ...  1  0  0\n",
       "1     We, there were four of us, arrived at noon - t...  1  0  0\n",
       "2     They never brought us complimentary noodles, i...  1  0  0\n",
       "3     The food was lousy - too sweet or too salty an...  1  0  0\n",
       "4     After all that, they complained to me about th...  1  0  0\n",
       "...                                                 ... .. .. ..\n",
       "1703  The service was extremely fast and attentive(t...  1  0  0\n",
       "1704      The food was ok and fair nothing to go crazy.  1  0  0\n",
       "1705  Over all the looks of the place exceeds the ac...  1  0  0\n",
       "1706  So what you really end up paying for is the re...  1  0  0\n",
       "1707  Will prob. not return but it is a great dinnin...  1  0  0\n",
       "\n",
       "[1708 rows x 4 columns]"
      ]
     },
     "execution_count": 11,
     "metadata": {
      "tags": []
     },
     "output_type": "execute_result"
    }
   ],
   "source": [
    "df"
   ]
  },
  {
   "cell_type": "code",
   "execution_count": 12,
   "metadata": {
    "colab": {
     "base_uri": "https://localhost:8080/",
     "height": 419
    },
    "id": "U4L2GCmt7huB",
    "outputId": "76b08f50-ea5e-4a60-816c-0aeeffea26d4"
   },
   "outputs": [
    {
     "data": {
      "text/html": [
       "<div>\n",
       "<style scoped>\n",
       "    .dataframe tbody tr th:only-of-type {\n",
       "        vertical-align: middle;\n",
       "    }\n",
       "\n",
       "    .dataframe tbody tr th {\n",
       "        vertical-align: top;\n",
       "    }\n",
       "\n",
       "    .dataframe thead th {\n",
       "        text-align: right;\n",
       "    }\n",
       "</style>\n",
       "<table border=\"1\" class=\"dataframe\">\n",
       "  <thead>\n",
       "    <tr style=\"text-align: right;\">\n",
       "      <th></th>\n",
       "      <th>Text</th>\n",
       "      <th>0</th>\n",
       "      <th>1</th>\n",
       "      <th>2</th>\n",
       "    </tr>\n",
       "  </thead>\n",
       "  <tbody>\n",
       "    <tr>\n",
       "      <th>0</th>\n",
       "      <td>Judging from previous posts this used to be a ...</td>\n",
       "      <td>1</td>\n",
       "      <td>0</td>\n",
       "      <td>0</td>\n",
       "    </tr>\n",
       "    <tr>\n",
       "      <th>1</th>\n",
       "      <td>We, there were four of us, arrived at noon - t...</td>\n",
       "      <td>1</td>\n",
       "      <td>0</td>\n",
       "      <td>0</td>\n",
       "    </tr>\n",
       "    <tr>\n",
       "      <th>2</th>\n",
       "      <td>They never brought us complimentary noodles, i...</td>\n",
       "      <td>1</td>\n",
       "      <td>0</td>\n",
       "      <td>0</td>\n",
       "    </tr>\n",
       "    <tr>\n",
       "      <th>3</th>\n",
       "      <td>The food was lousy - too sweet or too salty an...</td>\n",
       "      <td>1</td>\n",
       "      <td>0</td>\n",
       "      <td>0</td>\n",
       "    </tr>\n",
       "    <tr>\n",
       "      <th>4</th>\n",
       "      <td>After all that, they complained to me about th...</td>\n",
       "      <td>1</td>\n",
       "      <td>0</td>\n",
       "      <td>0</td>\n",
       "    </tr>\n",
       "    <tr>\n",
       "      <th>...</th>\n",
       "      <td>...</td>\n",
       "      <td>...</td>\n",
       "      <td>...</td>\n",
       "      <td>...</td>\n",
       "    </tr>\n",
       "    <tr>\n",
       "      <th>2859</th>\n",
       "      <td>There is something about their atmosphere that...</td>\n",
       "      <td>0</td>\n",
       "      <td>1</td>\n",
       "      <td>0</td>\n",
       "    </tr>\n",
       "    <tr>\n",
       "      <th>2860</th>\n",
       "      <td>Not cheap but very yummy.</td>\n",
       "      <td>1</td>\n",
       "      <td>1</td>\n",
       "      <td>0</td>\n",
       "    </tr>\n",
       "    <tr>\n",
       "      <th>2861</th>\n",
       "      <td>Just go to Yamato and order the Red Dragon Roll.</td>\n",
       "      <td>0</td>\n",
       "      <td>1</td>\n",
       "      <td>1</td>\n",
       "    </tr>\n",
       "    <tr>\n",
       "      <th>2862</th>\n",
       "      <td>Once you try it for a special occasion beware....</td>\n",
       "      <td>0</td>\n",
       "      <td>1</td>\n",
       "      <td>1</td>\n",
       "    </tr>\n",
       "    <tr>\n",
       "      <th>2863</th>\n",
       "      <td>The atmosphere was pretty nice but had a bit l...</td>\n",
       "      <td>0</td>\n",
       "      <td>1</td>\n",
       "      <td>0</td>\n",
       "    </tr>\n",
       "  </tbody>\n",
       "</table>\n",
       "<p>2864 rows × 4 columns</p>\n",
       "</div>"
      ],
      "text/plain": [
       "                                                   Text  0  1  2\n",
       "0     Judging from previous posts this used to be a ...  1  0  0\n",
       "1     We, there were four of us, arrived at noon - t...  1  0  0\n",
       "2     They never brought us complimentary noodles, i...  1  0  0\n",
       "3     The food was lousy - too sweet or too salty an...  1  0  0\n",
       "4     After all that, they complained to me about th...  1  0  0\n",
       "...                                                 ... .. .. ..\n",
       "2859  There is something about their atmosphere that...  0  1  0\n",
       "2860                          Not cheap but very yummy.  1  1  0\n",
       "2861   Just go to Yamato and order the Red Dragon Roll.  0  1  1\n",
       "2862  Once you try it for a special occasion beware....  0  1  1\n",
       "2863  The atmosphere was pretty nice but had a bit l...  0  1  0\n",
       "\n",
       "[2864 rows x 4 columns]"
      ]
     },
     "execution_count": 12,
     "metadata": {
      "tags": []
     },
     "output_type": "execute_result"
    }
   ],
   "source": [
    "x = df[df[0] == 1] # negative\n",
    "y = df[df[1] == 1] # neutral\n",
    "z = df[df[2] == 1] # positive\n",
    "\n",
    "#x = x.append([x]*2,ignore_index=True)\n",
    "y = y.append([y]*5,ignore_index=True)\n",
    "\n",
    "train_df = pd.concat([df, x, y]).reset_index(drop=True)\n",
    "train_df"
   ]
  },
  {
   "cell_type": "code",
   "execution_count": 13,
   "metadata": {
    "colab": {
     "base_uri": "https://localhost:8080/"
    },
    "id": "bLtZR_pXYTT-",
    "outputId": "fcd86d5e-b406-4258-d1a3-246bd6494ee1"
   },
   "outputs": [
    {
     "data": {
      "text/plain": [
       "[1292, 676, 1418]"
      ]
     },
     "execution_count": 13,
     "metadata": {
      "tags": []
     },
     "output_type": "execute_result"
    }
   ],
   "source": [
    "imbalance_list =[]\n",
    "for i in range(3):\n",
    "  imbalance_list.append(len(train_df[train_df[i]== 1]))\n",
    "imbalance_list"
   ]
  },
  {
   "cell_type": "code",
   "execution_count": 14,
   "metadata": {
    "colab": {
     "base_uri": "https://localhost:8080/"
    },
    "id": "uME7xA6__rMz",
    "outputId": "1d3bf152-cf9c-4001-8a1c-013ccbb65fda"
   },
   "outputs": [
    {
     "data": {
      "text/plain": [
       "(array([[1, 0, 0],\n",
       "        [1, 0, 0],\n",
       "        [1, 0, 0],\n",
       "        ...,\n",
       "        [0, 1, 1],\n",
       "        [0, 1, 1],\n",
       "        [0, 1, 0]]), (2864, 3))"
      ]
     },
     "execution_count": 14,
     "metadata": {
      "tags": []
     },
     "output_type": "execute_result"
    }
   ],
   "source": [
    "multi_label = np.array(train_df.iloc[:, 1:13])\n",
    "multi_label, multi_label.shape"
   ]
  },
  {
   "cell_type": "markdown",
   "metadata": {
    "id": "FfrH3KauiCuL"
   },
   "source": [
    "## Train & Test Data Cleaning"
   ]
  },
  {
   "cell_type": "code",
   "execution_count": 16,
   "metadata": {
    "colab": {
     "base_uri": "https://localhost:8080/"
    },
    "id": "IoYD8rpeTloX",
    "outputId": "e54ddc65-8ced-4529-f698-2c0c66245d74"
   },
   "outputs": [
    {
     "data": {
      "text/plain": [
       "0       Judging from previous posts this used to be a ...\n",
       "1       We, there were four of us, arrived at noon - t...\n",
       "2       They never brought us complimentary noodles, i...\n",
       "3       The food was lousy - too sweet or too salty an...\n",
       "4       After all that, they complained to me about th...\n",
       "                              ...                        \n",
       "1703    The service was extremely fast and attentive(t...\n",
       "1704        The food was ok and fair nothing to go crazy.\n",
       "1705    Over all the looks of the place exceeds the ac...\n",
       "1706    So what you really end up paying for is the re...\n",
       "1707    Will prob. not return but it is a great dinnin...\n",
       "Name: Text, Length: 1708, dtype: object"
      ]
     },
     "execution_count": 16,
     "metadata": {
      "tags": []
     },
     "output_type": "execute_result"
    }
   ],
   "source": [
    "# Reset the indexes to remove confusion in next steps\n",
    "train_Text = train_Text.astype('str').reset_index(drop = True)\n",
    "test_Text = test_Text.astype('str').reset_index(drop = True)\n",
    "train_Text"
   ]
  },
  {
   "cell_type": "code",
   "execution_count": 17,
   "metadata": {
    "id": "LKg9tCkeiCuP"
   },
   "outputs": [],
   "source": [
    "def cleanText(text):\n",
    "    text = contractions.fix(text) # fix the contractions (such as I've = I have)\n",
    "    text = re.sub(r'^https?:\\/\\/.*[\\r\\n]*', '', text, flags=re.MULTILINE) # remove urls\n",
    "    text = ''.join([i for i in text if not i.isdigit()]) # remove numbers\n",
    "    text = re.sub(r'[,!@#$%^&*)(|/><\";:.?\\'\\\\}{]',\"\",text) # remove punctuations\n",
    "    text = text.lower() # make lower case\n",
    "    return text"
   ]
  },
  {
   "cell_type": "code",
   "execution_count": 18,
   "metadata": {
    "colab": {
     "base_uri": "https://localhost:8080/"
    },
    "id": "uAoRhFgpYoju",
    "outputId": "d4f6d8b7-d98d-4e9d-bdbd-49e1457dc726"
   },
   "outputs": [
    {
     "data": {
      "text/plain": [
       "0       judging from previous posts this used to be a ...\n",
       "1       we there were four of us arrived at noon - the...\n",
       "2       they never brought us complimentary noodles ig...\n",
       "3       the food was lousy - too sweet or too salty an...\n",
       "4       after all that they complained to me about the...\n",
       "                              ...                        \n",
       "2859    there is something about their atmosphere that...\n",
       "2860                             not cheap but very yummy\n",
       "2861      just go to yamato and order the red dragon roll\n",
       "2862    once you try it for a special occasion beware ...\n",
       "2863    the atmosphere was pretty nice but had a bit l...\n",
       "Name: Text, Length: 2864, dtype: object"
      ]
     },
     "execution_count": 18,
     "metadata": {
      "tags": []
     },
     "output_type": "execute_result"
    }
   ],
   "source": [
    "train_Text = train_df.Text.astype(str).map(lambda x: cleanText(x))\n",
    "test_Text = test_Text.astype(str).map(lambda x: cleanText(x))\n",
    "train_Text"
   ]
  },
  {
   "cell_type": "markdown",
   "metadata": {
    "id": "NgDY3AZCUNpR"
   },
   "source": [
    "## Data Processing for Neural Network Models"
   ]
  },
  {
   "cell_type": "markdown",
   "metadata": {
    "id": "h1eLj7LaiCub"
   },
   "source": [
    "### Tokenization "
   ]
  },
  {
   "cell_type": "code",
   "execution_count": null,
   "metadata": {
    "colab": {
     "base_uri": "https://localhost:8080/"
    },
    "id": "SFDYJBABiCub",
    "outputId": "b7e6cd50-0ce9-4114-a916-a812d9f9c946"
   },
   "outputs": [
    {
     "data": {
      "text/plain": [
       "[1270, 53, 482, 1271, 17, 833, 8, 31, 4, 19, 20, 12, 7, 109, 749]"
      ]
     },
     "execution_count": 18,
     "metadata": {
      "tags": []
     },
     "output_type": "execute_result"
    }
   ],
   "source": [
    "# Tokenization of texts \n",
    "tokenizer = Tokenizer()\n",
    "tokenizer.fit_on_texts(train_Text)\n",
    "text_tokens = tokenizer.texts_to_sequences(train_Text)\n",
    "text_tokens_test = tokenizer.texts_to_sequences(test_Text)\n",
    "text_tokens[0]"
   ]
  },
  {
   "cell_type": "markdown",
   "metadata": {
    "id": "VGP1mrKriCuf"
   },
   "source": [
    "### Padding"
   ]
  },
  {
   "cell_type": "code",
   "execution_count": null,
   "metadata": {
    "colab": {
     "base_uri": "https://localhost:8080/"
    },
    "id": "NiEDEbBxiCug",
    "outputId": "03f41f69-371d-4b5d-c300-417cd754e97f"
   },
   "outputs": [
    {
     "data": {
      "text/plain": [
       "(57, 51)"
      ]
     },
     "execution_count": 19,
     "metadata": {
      "tags": []
     },
     "output_type": "execute_result"
    }
   ],
   "source": [
    "# Check the longest text & aspect term for padding \n",
    "longestText = max([len(s.split()) for s in train_Text])\n",
    "longestText_test = max([len(s.split()) for s in test_Text])\n",
    "max_text = max(longestText, longestText_test)\n",
    "longestText, longestText_test"
   ]
  },
  {
   "cell_type": "code",
   "execution_count": null,
   "metadata": {
    "id": "7swQAQ6NiCul"
   },
   "outputs": [],
   "source": [
    "X_train = pad_sequences(text_tokens,max_text, padding='post')\n",
    "X_test = pad_sequences(text_tokens_test,max_text, padding='post')"
   ]
  },
  {
   "cell_type": "markdown",
   "metadata": {
    "id": "HKZTbYn2iCuo"
   },
   "source": [
    "GloVe Embedding"
   ]
  },
  {
   "cell_type": "code",
   "execution_count": null,
   "metadata": {
    "colab": {
     "base_uri": "https://localhost:8080/"
    },
    "id": "Mv2Yc-fLiCuo",
    "outputId": "ce28c061-65b7-44c5-f438-80ad4803c1d7"
   },
   "outputs": [
    {
     "name": "stdout",
     "output_type": "stream",
     "text": [
      "Found 400000 word vectors.\n"
     ]
    }
   ],
   "source": [
    "embeddings_index = {}\n",
    "f = open('glove.6B.100d.txt', encoding=\"utf8\")\n",
    "for line in f:\n",
    "    values = line.split()\n",
    "    word = values[0]\n",
    "    coefs = np.asarray(values[1:], dtype='float32')\n",
    "    embeddings_index[word] = coefs\n",
    "f.close()\n",
    "\n",
    "print('Found %s word vectors.' % len(embeddings_index))"
   ]
  },
  {
   "cell_type": "code",
   "execution_count": null,
   "metadata": {
    "colab": {
     "base_uri": "https://localhost:8080/"
    },
    "id": "qW5qt5uliCus",
    "outputId": "8e2b9f0b-c39a-40aa-fc91-fbc670297766"
   },
   "outputs": [
    {
     "data": {
      "text/plain": [
       "3038"
      ]
     },
     "execution_count": 25,
     "metadata": {
      "tags": []
     },
     "output_type": "execute_result"
    }
   ],
   "source": [
    "word_index = tokenizer.word_index\n",
    "len(word_index)"
   ]
  },
  {
   "cell_type": "code",
   "execution_count": null,
   "metadata": {
    "id": "YXm2JVNxiCuu"
   },
   "outputs": [],
   "source": [
    "emb = 100\n",
    "embedding_matrix = np.zeros((len(word_index)+1, emb))\n",
    "for word, i in word_index.items():\n",
    "    embedding_vector = embeddings_index.get(word)\n",
    "    if embedding_vector is not None:\n",
    "        # words not found in embedding index will be all-zeros.\n",
    "        embedding_matrix[i-1] = embedding_vector"
   ]
  },
  {
   "cell_type": "code",
   "execution_count": null,
   "metadata": {
    "colab": {
     "base_uri": "https://localhost:8080/"
    },
    "id": "0J16QjjriCuv",
    "outputId": "a5b28487-6de4-4289-9bde-c21144a5dd46"
   },
   "outputs": [
    {
     "data": {
      "text/plain": [
       "((2864, 57), (587, 57), (2864, 3), (587, 3), (3039, 100))"
      ]
     },
     "execution_count": 27,
     "metadata": {
      "tags": []
     },
     "output_type": "execute_result"
    }
   ],
   "source": [
    "X_train.shape, X_test.shape, multi_label.shape, multi_label_test.shape, embedding_matrix.shape"
   ]
  },
  {
   "cell_type": "markdown",
   "metadata": {
    "id": "zHnRc2k-ZpH1"
   },
   "source": [
    "# Basic Machine Learning Algorithms"
   ]
  },
  {
   "cell_type": "code",
   "execution_count": null,
   "metadata": {
    "id": "V3teAjQ_5RAf"
   },
   "outputs": [],
   "source": [
    "# Subtract the necessary columns for the analysis\n",
    "useful_train = train[['Sentence_ID','Polarity','Text']]\n",
    "useful_test = test[['Sentence_ID','Polarity','Text']]"
   ]
  },
  {
   "cell_type": "code",
   "execution_count": null,
   "metadata": {
    "colab": {
     "base_uri": "https://localhost:8080/",
     "height": 142
    },
    "id": "lwcg6Wxu5JvF",
    "outputId": "88e07af8-449b-4102-a72c-224569a083df"
   },
   "outputs": [
    {
     "data": {
      "text/html": [
       "<div>\n",
       "<style scoped>\n",
       "    .dataframe tbody tr th:only-of-type {\n",
       "        vertical-align: middle;\n",
       "    }\n",
       "\n",
       "    .dataframe tbody tr th {\n",
       "        vertical-align: top;\n",
       "    }\n",
       "\n",
       "    .dataframe thead th {\n",
       "        text-align: right;\n",
       "    }\n",
       "</style>\n",
       "<table border=\"1\" class=\"dataframe\">\n",
       "  <thead>\n",
       "    <tr style=\"text-align: right;\">\n",
       "      <th></th>\n",
       "      <th>category</th>\n",
       "      <th>number_of_comments</th>\n",
       "    </tr>\n",
       "  </thead>\n",
       "  <tbody>\n",
       "    <tr>\n",
       "      <th>0</th>\n",
       "      <td>negative</td>\n",
       "      <td>749</td>\n",
       "    </tr>\n",
       "    <tr>\n",
       "      <th>1</th>\n",
       "      <td>neutral</td>\n",
       "      <td>101</td>\n",
       "    </tr>\n",
       "    <tr>\n",
       "      <th>2</th>\n",
       "      <td>positive</td>\n",
       "      <td>1657</td>\n",
       "    </tr>\n",
       "  </tbody>\n",
       "</table>\n",
       "</div>"
      ],
      "text/plain": [
       "   category  number_of_comments\n",
       "0  negative                 749\n",
       "1   neutral                 101\n",
       "2  positive                1657"
      ]
     },
     "execution_count": 29,
     "metadata": {
      "tags": []
     },
     "output_type": "execute_result"
    }
   ],
   "source": [
    "# To elobarate the results of the models, it is important to know the number of comments under each category.\n",
    "# This also shows if the data is imbalanced or not.\n",
    "counts = []\n",
    "categories = list(sorted(useful_train.Polarity.values.unique()))\n",
    "for i in categories:\n",
    "    counts.append((i, len(useful_train[useful_train.Polarity == i])))\n",
    "df_stats = pd.DataFrame(counts, columns=['category', 'number_of_comments'])\n",
    "df_stats"
   ]
  },
  {
   "cell_type": "markdown",
   "metadata": {
    "id": "yz8F6dhHKFxo"
   },
   "source": [
    "## Naive Bayes"
   ]
  },
  {
   "cell_type": "code",
   "execution_count": null,
   "metadata": {
    "colab": {
     "base_uri": "https://localhost:8080/"
    },
    "id": "zuoeI08SKH_k",
    "outputId": "1c3ed60c-fc3c-4260-cccf-73aee252e1d7"
   },
   "outputs": [
    {
     "name": "stdout",
     "output_type": "stream",
     "text": [
      "Test Precision: 0.58\n",
      "Test Recall: 0.5\n",
      "Test F1 Score: 0.532\n",
      "Test Average Precision Score: 0\n",
      "Subset accuracy: 0.404\n",
      "Hamming loss: 0.316\n",
      "Classification Report:\n",
      "              precision    recall  f1-score   support\n",
      "\n",
      "           0       0.28      0.35      0.31       165\n",
      "           1       0.14      0.03      0.04        40\n",
      "           2       0.74      0.60      0.66       425\n",
      "\n",
      "   micro avg       0.57      0.50      0.53       630\n",
      "   macro avg       0.39      0.33      0.34       630\n",
      "weighted avg       0.58      0.50      0.53       630\n",
      " samples avg       0.49      0.51      0.49       630\n",
      "\n",
      "0.403747870528109\n"
     ]
    },
    {
     "name": "stderr",
     "output_type": "stream",
     "text": [
      "/usr/local/lib/python3.6/dist-packages/sklearn/metrics/_classification.py:1272: UndefinedMetricWarning: Precision and F-score are ill-defined and being set to 0.0 in samples with no predicted labels. Use `zero_division` parameter to control this behavior.\n",
      "  _warn_prf(average, modifier, msg_start, len(result))\n"
     ]
    }
   ],
   "source": [
    "stop_words = set(stopwords.words('english'))\n",
    "# Build the pipeline\n",
    "NB_pipeline = Pipeline([\n",
    "                ('tfidf', TfidfVectorizer(stop_words=stop_words)), # feature extractor\n",
    "                ('clf', OneVsRestClassifier( # necessary for multilabel classification\n",
    "                    MultinomialNB(  \n",
    "                    fit_prior=True, class_prior=None))),\n",
    "            ])\n",
    "# Fit the model in training data & get predictions\n",
    "bayes_pred = []\n",
    "for category, i in zip(categories, range(3)):\n",
    "    NB_pipeline.fit(train_Text, multi_label[:,i])\n",
    "    prediction = NB_pipeline.predict(test_Text)\n",
    "    bayes_pred.append(prediction)\n",
    "\n",
    "df_bayes_pred = pd.DataFrame()\n",
    "for category, i in zip(categories, range(12)):\n",
    "  df_bayes_pred['{}'.format(category)] = bayes_pred[i]\n",
    "\n",
    "# Model Evaluation - Loss, Precision, Recall\n",
    "print(\"Test Precision: {}\".format(round(precision_score(multi_label_test, np.array(df_bayes_pred), average='weighted'), 3)))\n",
    "print(\"Test Recall: {}\".format(round(recall_score(multi_label_test, np.array(df_bayes_pred), average='weighted'), 3)))\n",
    "print(\"Test F1 Score: {}\".format(round(f1_score(multi_label_test, np.array(df_bayes_pred), average='weighted'), 3)))\n",
    "# Average Precision Score\n",
    "avp = average_precision_score(multi_label_test, df_bayes_pred)\n",
    "print(\"Test Average Precision Score: {}\".format(round(avp)))\n",
    "# Subset accuracy\n",
    "print('Subset accuracy: {0}'.format(round(accuracy_score(multi_label_test, df_bayes_pred, normalize=True, sample_weight=None), 3)))\n",
    "# Hamming loss (smaller is better)\n",
    "print('Hamming loss: {0}'.format(round(hamming_loss(multi_label_test, df_bayes_pred), 3)))\n",
    "# Classification Report\n",
    "pred_bools = (np.array(df_bayes_pred) == 1)\n",
    "true_bools = (multi_label_test == 1)\n",
    "clf_report = classification_report(true_bools, pred_bools)\n",
    "accuracy = accuracy_score(true_bools, pred_bools)\n",
    "print('Classification Report:')\n",
    "print(clf_report)\n",
    "print(accuracy)"
   ]
  },
  {
   "cell_type": "markdown",
   "metadata": {
    "id": "kSUl8gglSOIP"
   },
   "source": [
    "## SVC"
   ]
  },
  {
   "cell_type": "code",
   "execution_count": null,
   "metadata": {
    "colab": {
     "base_uri": "https://localhost:8080/"
    },
    "id": "Lmr6XnkuSNuX",
    "outputId": "5024fb52-de07-401d-e886-cc2687b3c1d0"
   },
   "outputs": [
    {
     "name": "stdout",
     "output_type": "stream",
     "text": [
      "Test Precision: 0.587\n",
      "Test Recall: 0.568\n",
      "Test F1 Score: 0.574\n",
      "Test Average Precision Score: 0\n",
      "Subset accuracy: 0.431\n",
      "Hamming loss: 0.308\n",
      "Classification Report:\n",
      "              precision    recall  f1-score   support\n",
      "\n",
      "           0       0.30      0.39      0.34       165\n",
      "           1       0.16      0.07      0.10        40\n",
      "           2       0.74      0.68      0.71       425\n",
      "\n",
      "   micro avg       0.57      0.57      0.57       630\n",
      "   macro avg       0.40      0.38      0.38       630\n",
      "weighted avg       0.59      0.57      0.57       630\n",
      " samples avg       0.54      0.58      0.55       630\n",
      "\n",
      "0.43100511073253833\n"
     ]
    },
    {
     "name": "stderr",
     "output_type": "stream",
     "text": [
      "/usr/local/lib/python3.6/dist-packages/sklearn/metrics/_classification.py:1272: UndefinedMetricWarning: Precision and F-score are ill-defined and being set to 0.0 in samples with no predicted labels. Use `zero_division` parameter to control this behavior.\n",
      "  _warn_prf(average, modifier, msg_start, len(result))\n"
     ]
    }
   ],
   "source": [
    "SVC_pipeline = Pipeline([\n",
    "                ('tfidf', TfidfVectorizer(stop_words=stop_words)),\n",
    "                ('clf', OneVsRestClassifier(LinearSVC(), n_jobs=1)),\n",
    "            ])\n",
    "svc_pred = []\n",
    "for category, i in zip(categories, range(12)):\n",
    "    SVC_pipeline.fit(train_Text, multi_label[:,i])\n",
    "    prediction = SVC_pipeline.predict(test_Text)\n",
    "    svc_pred.append(prediction)\n",
    "\n",
    "df_svc_pred = pd.DataFrame()\n",
    "for category, i in zip(categories, range(12)):\n",
    "  df_svc_pred['{}'.format(category)] = svc_pred[i]\n",
    "\n",
    "# Model Evaluation - Loss, Precision, Recall\n",
    "print(\"Test Precision: {}\".format(round(precision_score(multi_label_test, np.array(df_svc_pred), average='weighted'), 3)))\n",
    "print(\"Test Recall: {}\".format(round(recall_score(multi_label_test, np.array(df_svc_pred), average='weighted'), 3)))\n",
    "print(\"Test F1 Score: {}\".format(round(f1_score(multi_label_test, np.array(df_svc_pred), average='weighted'), 3)))\n",
    "# Average Precision Score\n",
    "avp = average_precision_score(multi_label_test, df_svc_pred)\n",
    "print(\"Test Average Precision Score: {}\".format(round(avp)))\n",
    "# Subset accuracy\n",
    "print('Subset accuracy: {0}'.format(round(accuracy_score(multi_label_test, df_svc_pred, normalize=True, sample_weight=None), 3)))\n",
    "# Hamming loss (smaller is better)\n",
    "print('Hamming loss: {0}'.format(round(hamming_loss(multi_label_test, df_svc_pred), 3)))\n",
    "# Classification Report\n",
    "pred_bools = (np.array(df_svc_pred) == 1)\n",
    "true_bools = (multi_label_test == 1)\n",
    "clf_report = classification_report(true_bools, pred_bools)\n",
    "accuracy = accuracy_score(true_bools, pred_bools)\n",
    "print('Classification Report:')\n",
    "print(clf_report)\n",
    "print(accuracy)"
   ]
  },
  {
   "cell_type": "markdown",
   "metadata": {
    "id": "JaT4djqZSc6-"
   },
   "source": [
    "## Logit"
   ]
  },
  {
   "cell_type": "code",
   "execution_count": null,
   "metadata": {
    "colab": {
     "base_uri": "https://localhost:8080/"
    },
    "id": "t92cjFMtScpD",
    "outputId": "ee46885f-7892-4995-b9d6-230399423558"
   },
   "outputs": [
    {
     "name": "stdout",
     "output_type": "stream",
     "text": [
      "Test Precision: 0.591\n",
      "Test Recall: 0.556\n",
      "Test F1 Score: 0.567\n",
      "Test Average Precision Score: 0\n",
      "Subset accuracy: 0.424\n",
      "Hamming loss: 0.307\n",
      "Classification Report:\n",
      "              precision    recall  f1-score   support\n",
      "\n",
      "           0       0.29      0.37      0.32       165\n",
      "           1       0.27      0.07      0.12        40\n",
      "           2       0.74      0.67      0.70       425\n",
      "\n",
      "   micro avg       0.57      0.56      0.56       630\n",
      "   macro avg       0.43      0.37      0.38       630\n",
      "weighted avg       0.59      0.56      0.57       630\n",
      " samples avg       0.54      0.57      0.54       630\n",
      "\n",
      "0.424190800681431\n"
     ]
    },
    {
     "name": "stderr",
     "output_type": "stream",
     "text": [
      "/usr/local/lib/python3.6/dist-packages/sklearn/metrics/_classification.py:1272: UndefinedMetricWarning: Precision and F-score are ill-defined and being set to 0.0 in samples with no predicted labels. Use `zero_division` parameter to control this behavior.\n",
      "  _warn_prf(average, modifier, msg_start, len(result))\n"
     ]
    }
   ],
   "source": [
    "LogReg_pipeline = Pipeline([\n",
    "                ('tfidf', TfidfVectorizer(stop_words=stop_words)),\n",
    "                ('clf', OneVsRestClassifier(LogisticRegression(solver='sag'), n_jobs=1)),\n",
    "            ])\n",
    "logit_pred = []\n",
    "for category, i in zip(categories, range(12)):\n",
    "    LogReg_pipeline.fit(train_Text, multi_label[:,i])\n",
    "    prediction = LogReg_pipeline.predict(test_Text)\n",
    "    logit_pred.append(prediction)\n",
    "\n",
    "df_logit_pred = pd.DataFrame()\n",
    "for category, i in zip(categories, range(12)):\n",
    "  df_logit_pred['{}'.format(category)] = logit_pred[i]\n",
    "\n",
    "# Model Evaluation - Loss, Precision, Recall\n",
    "print(\"Test Precision: {}\".format(round(precision_score(multi_label_test, np.array(df_logit_pred), average='weighted'), 3)))\n",
    "print(\"Test Recall: {}\".format(round(recall_score(multi_label_test, np.array(df_logit_pred), average='weighted'), 3)))\n",
    "print(\"Test F1 Score: {}\".format(round(f1_score(multi_label_test, np.array(df_logit_pred), average='weighted'), 3)))\n",
    "# Average Precision Score\n",
    "avp = average_precision_score(multi_label_test, df_logit_pred)\n",
    "print(\"Test Average Precision Score: {}\".format(round(avp)))\n",
    "# Subset accuracy\n",
    "print('Subset accuracy: {0}'.format(round(accuracy_score(multi_label_test, df_logit_pred, normalize=True, sample_weight=None), 3)))\n",
    "# Hamming loss (smaller is better)\n",
    "print('Hamming loss: {0}'.format(round(hamming_loss(multi_label_test, df_logit_pred), 3)))\n",
    "# Classification Report\n",
    "pred_bools = (np.array(df_logit_pred) == 1)\n",
    "true_bools = (multi_label_test == 1)\n",
    "clf_report = classification_report(true_bools, pred_bools)\n",
    "accuracy = accuracy_score(true_bools, pred_bools)\n",
    "print('Classification Report:')\n",
    "print(clf_report)\n",
    "print(accuracy)"
   ]
  },
  {
   "cell_type": "markdown",
   "metadata": {
    "id": "ejb7YCAVgAn3"
   },
   "source": [
    "## Output Frame of Basic MLs\n"
   ]
  },
  {
   "cell_type": "code",
   "execution_count": null,
   "metadata": {
    "colab": {
     "base_uri": "https://localhost:8080/",
     "height": 272
    },
    "id": "hFE-8YBnpq4E",
    "outputId": "e46aa0c3-f511-4db0-fc64-637f69a45434"
   },
   "outputs": [
    {
     "data": {
      "text/html": [
       "<div>\n",
       "<style scoped>\n",
       "    .dataframe tbody tr th:only-of-type {\n",
       "        vertical-align: middle;\n",
       "    }\n",
       "\n",
       "    .dataframe tbody tr th {\n",
       "        vertical-align: top;\n",
       "    }\n",
       "\n",
       "    .dataframe thead th {\n",
       "        text-align: right;\n",
       "    }\n",
       "</style>\n",
       "<table border=\"1\" class=\"dataframe\">\n",
       "  <thead>\n",
       "    <tr style=\"text-align: right;\">\n",
       "      <th></th>\n",
       "      <th>comment_text</th>\n",
       "      <th>true_labels</th>\n",
       "      <th>true_codes</th>\n",
       "      <th>bayes_labels</th>\n",
       "      <th>bayes_codes</th>\n",
       "      <th>svc_labels</th>\n",
       "      <th>svc_codes</th>\n",
       "      <th>logit_labels</th>\n",
       "      <th>logit_codes</th>\n",
       "    </tr>\n",
       "  </thead>\n",
       "  <tbody>\n",
       "    <tr>\n",
       "      <th>0</th>\n",
       "      <td>yum</td>\n",
       "      <td>[positive]</td>\n",
       "      <td>[2]</td>\n",
       "      <td>[positive]</td>\n",
       "      <td>[2]</td>\n",
       "      <td>[positive]</td>\n",
       "      <td>[2]</td>\n",
       "      <td>[positive]</td>\n",
       "      <td>[2]</td>\n",
       "    </tr>\n",
       "    <tr>\n",
       "      <th>1</th>\n",
       "      <td>serves really good sushi</td>\n",
       "      <td>[positive]</td>\n",
       "      <td>[2]</td>\n",
       "      <td>[negative]</td>\n",
       "      <td>[0]</td>\n",
       "      <td>[negative]</td>\n",
       "      <td>[0]</td>\n",
       "      <td>[negative]</td>\n",
       "      <td>[0]</td>\n",
       "    </tr>\n",
       "    <tr>\n",
       "      <th>2</th>\n",
       "      <td>not the biggest portions but adequate</td>\n",
       "      <td>[neutral]</td>\n",
       "      <td>[1]</td>\n",
       "      <td>[negative, positive]</td>\n",
       "      <td>[0, 2]</td>\n",
       "      <td>[positive]</td>\n",
       "      <td>[2]</td>\n",
       "      <td>[positive]</td>\n",
       "      <td>[2]</td>\n",
       "    </tr>\n",
       "    <tr>\n",
       "      <th>3</th>\n",
       "      <td>green tea creme brulee is a must</td>\n",
       "      <td>[positive]</td>\n",
       "      <td>[2]</td>\n",
       "      <td>[positive]</td>\n",
       "      <td>[2]</td>\n",
       "      <td>[positive]</td>\n",
       "      <td>[2]</td>\n",
       "      <td>[positive]</td>\n",
       "      <td>[2]</td>\n",
       "    </tr>\n",
       "    <tr>\n",
       "      <th>4</th>\n",
       "      <td>do not leave the restaurant without it</td>\n",
       "      <td>[positive]</td>\n",
       "      <td>[2]</td>\n",
       "      <td>[negative, positive]</td>\n",
       "      <td>[0, 2]</td>\n",
       "      <td>[negative, positive]</td>\n",
       "      <td>[0, 2]</td>\n",
       "      <td>[negative]</td>\n",
       "      <td>[0]</td>\n",
       "    </tr>\n",
       "  </tbody>\n",
       "</table>\n",
       "</div>"
      ],
      "text/plain": [
       "                             comment_text true_labels  ... logit_labels logit_codes\n",
       "0                                     yum  [positive]  ...   [positive]         [2]\n",
       "1                serves really good sushi  [positive]  ...   [negative]         [0]\n",
       "2   not the biggest portions but adequate   [neutral]  ...   [positive]         [2]\n",
       "3        green tea creme brulee is a must  [positive]  ...   [positive]         [2]\n",
       "4  do not leave the restaurant without it  [positive]  ...   [negative]         [0]\n",
       "\n",
       "[5 rows x 9 columns]"
      ]
     },
     "execution_count": 37,
     "metadata": {
      "tags": []
     },
     "output_type": "execute_result"
    }
   ],
   "source": [
    "# Convert predictions to Boolean vectors\n",
    "bayes_pred_bools = [pl==1 for pl in np.asarray(df_bayes_pred)]\n",
    "svc_pred_bools = [pl==1 for pl in np.asarray(df_svc_pred)]\n",
    "logit_pred_bools = [pl==1 for pl in np.asarray(df_logit_pred)]\n",
    "true_bools = [tl==1 for tl in multi_label_test]\n",
    "\n",
    "# Convert the boolean vectors to the prediction indexes\n",
    "true_label_idxs, bayes_pred_label_idxs, svc_pred_label_idxs, logit_pred_label_idxs =[],[],[],[]\n",
    "for vals in true_bools:\n",
    "  true_label_idxs.append(np.where(vals)[0].flatten().tolist())\n",
    "for vals in bayes_pred_bools:\n",
    "  bayes_pred_label_idxs.append(np.where(vals)[0].flatten().tolist())\n",
    "for vals in svc_pred_bools:\n",
    "  svc_pred_label_idxs.append(np.where(vals)[0].flatten().tolist())\n",
    "for vals in logit_pred_bools:\n",
    "  logit_pred_label_idxs.append(np.where(vals)[0].flatten().tolist())\n",
    "\n",
    "# Create a dictionary to map the label indexes to their names\n",
    "idx2label = dict(zip(range(12),categories))\n",
    "\n",
    "# Convert the indexes to label names \n",
    "true_label_texts, bayes_label_texts, svc_label_texts, logit_label_texts = [], [], [], []\n",
    "for vals in true_label_idxs:\n",
    "  if vals:\n",
    "    true_label_texts.append([idx2label[val] for val in vals])\n",
    "  else:\n",
    "    true_label_texts.append(vals)\n",
    "\n",
    "for vals in bayes_pred_label_idxs:\n",
    "  if vals:\n",
    "    bayes_label_texts.append([idx2label[val] for val in vals])\n",
    "  else:\n",
    "    bayes_label_texts.append(vals)\n",
    "\n",
    "for vals in svc_pred_label_idxs:\n",
    "  if vals:\n",
    "    svc_label_texts.append([idx2label[val] for val in vals])\n",
    "  else:\n",
    "    svc_label_texts.append(vals)\n",
    "\n",
    "for vals in logit_pred_label_idxs:\n",
    "  if vals:\n",
    "    logit_label_texts.append([idx2label[val] for val in vals])\n",
    "  else:\n",
    "    logit_label_texts.append(vals)\n",
    "\n",
    "# Combine all in a dataframe\n",
    "basic_ml_df = pd.DataFrame({'comment_text': test_Text, 'true_labels': true_label_texts, 'true_codes':true_label_idxs,\n",
    "                            'bayes_labels':bayes_label_texts, 'bayes_codes':bayes_pred_label_idxs, \n",
    "                            'svc_labels':svc_label_texts, 'svc_codes':svc_pred_label_idxs,\n",
    "                            'logit_labels':logit_label_texts, 'logit_codes':logit_pred_label_idxs})\n",
    "basic_ml_df.to_csv('basic_ml_df.csv')\n",
    "basic_ml_df.to_excel('basic_ml_df.xlsx')\n",
    "basic_ml_df.head()"
   ]
  },
  {
   "cell_type": "markdown",
   "metadata": {
    "id": "qlbL1S9BZ6U_"
   },
   "source": [
    "# Neural Network Models"
   ]
  },
  {
   "cell_type": "markdown",
   "metadata": {
    "id": "1krGY8zxiCuy"
   },
   "source": [
    "## LSTM Model"
   ]
  },
  {
   "cell_type": "code",
   "execution_count": null,
   "metadata": {
    "colab": {
     "base_uri": "https://localhost:8080/"
    },
    "id": "-g7gjRaOiCu1",
    "outputId": "f949f8aa-41e5-487c-d68c-80392e96f316"
   },
   "outputs": [
    {
     "name": "stdout",
     "output_type": "stream",
     "text": [
      "Epoch 1/20\n",
      "41/41 [==============================] - 8s 113ms/step - loss: 105.6421 - precision: 0.5051 - recall: 0.1302 - val_loss: 59.6965 - val_precision: 0.2606 - val_recall: 0.1766\n",
      "Epoch 2/20\n",
      "41/41 [==============================] - 4s 93ms/step - loss: 50.5033 - precision: 0.4842 - recall: 0.1732 - val_loss: 35.6002 - val_precision: 0.0000e+00 - val_recall: 0.0000e+00\n",
      "Epoch 3/20\n",
      "41/41 [==============================] - 4s 109ms/step - loss: 31.2642 - precision: 0.5290 - recall: 0.2502 - val_loss: 27.2237 - val_precision: 0.0000e+00 - val_recall: 0.0000e+00\n",
      "Epoch 4/20\n",
      "41/41 [==============================] - 5s 111ms/step - loss: 25.3936 - precision: 0.4956 - recall: 0.2352 - val_loss: 24.6374 - val_precision: 0.2606 - val_recall: 0.1766\n",
      "Epoch 5/20\n",
      "41/41 [==============================] - 4s 96ms/step - loss: 22.8892 - precision: 0.5084 - recall: 0.2680 - val_loss: 22.9616 - val_precision: 0.2683 - val_recall: 0.1838\n",
      "Epoch 6/20\n",
      "41/41 [==============================] - 4s 91ms/step - loss: 20.8395 - precision: 0.4870 - recall: 0.2659 - val_loss: 20.2453 - val_precision: 0.0000e+00 - val_recall: 0.0000e+00\n",
      "Epoch 7/20\n",
      "41/41 [==============================] - 4s 93ms/step - loss: 18.9184 - precision: 0.4919 - recall: 0.2568 - val_loss: 18.9953 - val_precision: 0.0000e+00 - val_recall: 0.0000e+00\n",
      "Epoch 8/20\n",
      "41/41 [==============================] - 4s 93ms/step - loss: 17.1122 - precision: 0.4862 - recall: 0.2591 - val_loss: 17.0929 - val_precision: 0.1916 - val_recall: 0.1313\n",
      "Epoch 9/20\n",
      "41/41 [==============================] - 4s 93ms/step - loss: 15.4227 - precision: 0.5138 - recall: 0.2873 - val_loss: 15.8146 - val_precision: 0.2606 - val_recall: 0.1766\n",
      "Epoch 10/20\n",
      "41/41 [==============================] - 4s 93ms/step - loss: 13.8870 - precision: 0.5220 - recall: 0.3082 - val_loss: 14.1685 - val_precision: 0.2606 - val_recall: 0.1766\n",
      "Epoch 11/20\n",
      "41/41 [==============================] - 4s 95ms/step - loss: 12.3224 - precision: 0.5346 - recall: 0.3089 - val_loss: 12.2730 - val_precision: 0.0000e+00 - val_recall: 0.0000e+00\n",
      "Epoch 12/20\n",
      "41/41 [==============================] - 4s 94ms/step - loss: 10.9946 - precision: 0.5036 - recall: 0.2869 - val_loss: 11.4674 - val_precision: 0.1937 - val_recall: 0.1313\n",
      "Epoch 13/20\n",
      "41/41 [==============================] - 4s 94ms/step - loss: 9.6642 - precision: 0.4842 - recall: 0.2948 - val_loss: 10.3845 - val_precision: 0.1937 - val_recall: 0.1313\n",
      "Epoch 14/20\n",
      "41/41 [==============================] - 4s 93ms/step - loss: 8.5894 - precision: 0.5083 - recall: 0.2860 - val_loss: 8.7277 - val_precision: 0.0000e+00 - val_recall: 0.0000e+00\n",
      "Epoch 15/20\n",
      "41/41 [==============================] - 4s 98ms/step - loss: 7.4939 - precision: 0.4921 - recall: 0.2881 - val_loss: 8.3205 - val_precision: 0.2606 - val_recall: 0.1766\n",
      "Epoch 16/20\n",
      "41/41 [==============================] - 4s 99ms/step - loss: 6.4864 - precision: 0.4978 - recall: 0.2994 - val_loss: 7.5994 - val_precision: 0.0000e+00 - val_recall: 0.0000e+00\n",
      "Epoch 17/20\n",
      "41/41 [==============================] - 4s 99ms/step - loss: 5.7538 - precision: 0.4818 - recall: 0.2797 - val_loss: 6.2861 - val_precision: 0.2606 - val_recall: 0.1766\n",
      "Epoch 18/20\n",
      "41/41 [==============================] - 4s 90ms/step - loss: 4.8606 - precision: 0.4870 - recall: 0.2843 - val_loss: 5.4557 - val_precision: 0.0000e+00 - val_recall: 0.0000e+00\n",
      "Epoch 19/20\n",
      "41/41 [==============================] - 4s 90ms/step - loss: 4.2188 - precision: 0.4974 - recall: 0.2830 - val_loss: 5.2127 - val_precision: 0.1937 - val_recall: 0.1313\n",
      "Epoch 20/20\n",
      "41/41 [==============================] - 4s 92ms/step - loss: 3.6074 - precision: 0.5025 - recall: 0.3008 - val_loss: 5.4353 - val_precision: 0.2683 - val_recall: 0.1838\n"
     ]
    }
   ],
   "source": [
    "text = Input(shape = (max_text,), name = 'text')\n",
    "text_embed = Embedding(output_dim=100, input_dim=len(word_index)+1, \n",
    "              input_length=max_text, weights=[embedding_matrix], \n",
    "              trainable=True)(text)\n",
    "textLayers = LSTM(64, dropout=0.25, recurrent_dropout=0.25,\n",
    "                  kernel_regularizer=l2(0.5), recurrent_regularizer=l2(0.5), bias_regularizer=l2(0.5))(text_embed)\n",
    "textLayers = Dropout(0.25)(textLayers)\n",
    "output = Dense(3, activation = 'softmax', name = 'output')(textLayers)\n",
    "\n",
    "model_lstm = Model(inputs = text, outputs = output)\n",
    "model_lstm.compile(optimizer='rmsprop', \n",
    "                    loss='categorical_crossentropy',\n",
    "                    metrics = [Precision(), Recall()])\n",
    "\n",
    "history_lstm = model_lstm.fit(X_train, multi_label, validation_split=0.1,\n",
    "                              batch_size = 64, epochs = 20,\n",
    "                              callbacks = [EarlyStopping(monitor=\"val_loss\", patience=1)])"
   ]
  },
  {
   "cell_type": "markdown",
   "metadata": {
    "id": "yrdKQ9Awkb25"
   },
   "source": [
    "### Evaluation"
   ]
  },
  {
   "cell_type": "markdown",
   "metadata": {
    "id": "Ls7RemPZkdbN"
   },
   "source": [
    "#### Graphs"
   ]
  },
  {
   "cell_type": "code",
   "execution_count": null,
   "metadata": {
    "colab": {
     "base_uri": "https://localhost:8080/",
     "height": 427
    },
    "id": "O1Xm_ogmka6D",
    "outputId": "90182667-523a-4143-f197-ee914189b055"
   },
   "outputs": [
    {
     "data": {
      "image/png": "[encoded data removed]",
      "text/plain": [
       "<Figure size 864x432 with 1 Axes>"
      ]
     },
     "metadata": {
      "tags": []
     },
     "output_type": "display_data"
    }
   ],
   "source": [
    "history_dict = history_lstm.history\n",
    "\n",
    "precision = history_dict['precision']\n",
    "val_precision = history_dict['val_precision']\n",
    "recall = history_dict['recall']\n",
    "val_recall = history_dict['val_recall']\n",
    "loss = history_dict['loss']\n",
    "val_loss = history_dict['val_loss']\n",
    "\n",
    "epochs = range(1, len(precision) + 1)\n",
    "\n",
    "# Use plot styling from seaborn.\n",
    "sns.set(style='darkgrid')\n",
    "\n",
    "# Increase the plot size and font size.\n",
    "sns.set(font_scale=1.5)\n",
    "plt.rcParams[\"figure.figsize\"] = (12,6)\n",
    "\n",
    "# Plot the learning curve.\n",
    "plt.plot(loss, 'b-o', label=\"training loss\")\n",
    "plt.plot(val_loss, 'r-o', label=\"validation loss\")\n",
    "\n",
    "# Label the plot.\n",
    "plt.title(\"Learning curve\")\n",
    "plt.xlabel(\"Epoch\")\n",
    "plt.ylabel(\"Loss\")\n",
    "plt.legend()\n",
    "\n",
    "plt.show()"
   ]
  },
  {
   "cell_type": "markdown",
   "metadata": {
    "id": "CS-74ZJZkqfA"
   },
   "source": [
    "#### F1 Score & Precision & Recall & Subset Accuracy & Hamming Loss & Classification Report"
   ]
  },
  {
   "cell_type": "code",
   "execution_count": null,
   "metadata": {
    "colab": {
     "base_uri": "https://localhost:8080/"
    },
    "id": "0pydGz5xkoCP",
    "outputId": "3f3f4419-7f5c-494d-edf0-6b9a9d9103f9"
   },
   "outputs": [
    {
     "name": "stdout",
     "output_type": "stream",
     "text": [
      "19/19 [==============================] - 0s 11ms/step - loss: 3.4754 - precision: 0.7240 - recall: 0.6746\n",
      "Test Precision: 0.724\n",
      "Test Recall: 0.675\n",
      "Test Average Precision Score: 0\n",
      "Subset accuracy: 0.048\n",
      "Hamming loss: 0.354\n",
      "0.04770017035775128\n",
      "Classification Report\n",
      "              precision    recall  f1-score   support\n",
      "\n",
      "           0       0.28      1.00      0.44       165\n",
      "           1       0.00      0.00      0.00        40\n",
      "           2       0.72      1.00      0.84       425\n",
      "\n",
      "   micro avg       0.50      0.94      0.65       630\n",
      "   macro avg       0.34      0.67      0.43       630\n",
      "weighted avg       0.56      0.94      0.68       630\n",
      " samples avg       0.50      0.94      0.65       630\n",
      "\n"
     ]
    },
    {
     "name": "stderr",
     "output_type": "stream",
     "text": [
      "/usr/local/lib/python3.6/dist-packages/sklearn/metrics/_classification.py:1272: UndefinedMetricWarning: Precision and F-score are ill-defined and being set to 0.0 in labels with no predicted samples. Use `zero_division` parameter to control this behavior.\n",
      "  _warn_prf(average, modifier, msg_start, len(result))\n"
     ]
    }
   ],
   "source": [
    "# Model Evaluation - Loss, Precision, Recall\n",
    "results = model_lstm.evaluate(X_test, multi_label_test)\n",
    "print(\"Test Precision: {}\".format(round(results[1], 3)))\n",
    "print(\"Test Recall: {}\".format(round(results[2], 3)))\n",
    "\n",
    "# Predictions\n",
    "pred_labels = model_lstm.predict(X_test)\n",
    "\n",
    "multi_preds = pred_labels >= 0.10\n",
    "multi_preds = multi_preds.astype(int)\n",
    "\n",
    "# Average Precision Score\n",
    "avp = average_precision_score(multi_label_test, multi_preds)\n",
    "print(\"Test Average Precision Score: {}\".format(round(avp)))\n",
    "# Subset accuracy\n",
    "print('Subset accuracy: {0}'.format(round(accuracy_score(multi_label_test, multi_preds, normalize=True, sample_weight=None), 3)))\n",
    "# Hamming loss (smaller is better)\n",
    "print('Hamming loss: {0}'.format(round(hamming_loss(multi_label_test, multi_preds), 3)))\n",
    "\n",
    "# Classification Report\n",
    "df_pred = pd.DataFrame(pred_labels)\n",
    "df_pred_clean = df_pred.apply(lambda x: [0 if y <= 0.10 else 1 for y in x])\n",
    "pred_clean = np.array(df_pred_clean)\n",
    "\n",
    "pred_bools_lstm = (pred_clean == 1)[:]\n",
    "true_bools = (multi_label_test == 1)\n",
    "clf_report = classification_report(true_bools, pred_bools_lstm)\n",
    "accuracy = accuracy_score(true_bools, pred_bools_lstm)\n",
    "print(accuracy)\n",
    "print('Classification Report')\n",
    "print(clf_report)"
   ]
  },
  {
   "cell_type": "markdown",
   "metadata": {
    "id": "GwxyCoy8lC-9"
   },
   "source": [
    "## BiLSTM Model"
   ]
  },
  {
   "cell_type": "code",
   "execution_count": null,
   "metadata": {
    "colab": {
     "base_uri": "https://localhost:8080/"
    },
    "id": "btesyNMnlxlu",
    "outputId": "2296031a-236a-45c8-c9c1-32dc2a4961b7"
   },
   "outputs": [
    {
     "name": "stdout",
     "output_type": "stream",
     "text": [
      "Epoch 1/20\n",
      "41/41 [==============================] - 13s 188ms/step - loss: 208.7281 - precision_1: 0.5112 - recall_1: 0.1849 - val_loss: 116.2513 - val_precision_1: 0.2606 - val_recall_1: 0.1766\n",
      "Epoch 2/20\n",
      "41/41 [==============================] - 7s 165ms/step - loss: 99.2082 - precision_1: 0.5136 - recall_1: 0.2138 - val_loss: 67.8985 - val_precision_1: 0.2683 - val_recall_1: 0.1838\n",
      "Epoch 3/20\n",
      "41/41 [==============================] - 7s 160ms/step - loss: 61.1500 - precision_1: 0.5129 - recall_1: 0.2145 - val_loss: 52.9552 - val_precision_1: 0.2683 - val_recall_1: 0.1838\n",
      "Epoch 4/20\n",
      "41/41 [==============================] - 7s 159ms/step - loss: 49.4181 - precision_1: 0.5019 - recall_1: 0.2675 - val_loss: 47.2991 - val_precision_1: 0.2683 - val_recall_1: 0.1838\n",
      "Epoch 5/20\n",
      "41/41 [==============================] - 7s 163ms/step - loss: 44.4586 - precision_1: 0.5264 - recall_1: 0.2977 - val_loss: 42.5930 - val_precision_1: 0.0000e+00 - val_recall_1: 0.0000e+00\n",
      "Epoch 6/20\n",
      "41/41 [==============================] - 7s 162ms/step - loss: 40.3007 - precision_1: 0.5077 - recall_1: 0.2736 - val_loss: 39.4929 - val_precision_1: 0.2863 - val_recall_1: 0.1695\n",
      "Epoch 7/20\n",
      "41/41 [==============================] - 7s 160ms/step - loss: 36.5189 - precision_1: 0.5034 - recall_1: 0.2721 - val_loss: 34.6493 - val_precision_1: 0.0000e+00 - val_recall_1: 0.0000e+00\n",
      "Epoch 8/20\n",
      "41/41 [==============================] - 8s 194ms/step - loss: 32.7713 - precision_1: 0.5104 - recall_1: 0.2671 - val_loss: 31.6724 - val_precision_1: 0.2683 - val_recall_1: 0.1838\n",
      "Epoch 9/20\n",
      "41/41 [==============================] - 7s 167ms/step - loss: 29.4691 - precision_1: 0.5194 - recall_1: 0.2693 - val_loss: 28.6226 - val_precision_1: 0.1916 - val_recall_1: 0.1313\n",
      "Epoch 10/20\n",
      "41/41 [==============================] - 7s 168ms/step - loss: 26.2280 - precision_1: 0.4766 - recall_1: 0.2931 - val_loss: 25.2435 - val_precision_1: 0.0000e+00 - val_recall_1: 0.0000e+00\n",
      "Epoch 11/20\n",
      "41/41 [==============================] - 7s 168ms/step - loss: 23.3639 - precision_1: 0.5019 - recall_1: 0.2610 - val_loss: 22.3875 - val_precision_1: 0.1429 - val_recall_1: 0.0072\n",
      "Epoch 12/20\n",
      "41/41 [==============================] - 7s 165ms/step - loss: 20.5717 - precision_1: 0.5293 - recall_1: 0.3075 - val_loss: 20.1096 - val_precision_1: 0.2721 - val_recall_1: 0.1766\n",
      "Epoch 13/20\n",
      "41/41 [==============================] - 7s 160ms/step - loss: 18.0873 - precision_1: 0.5176 - recall_1: 0.2951 - val_loss: 17.7550 - val_precision_1: 0.1916 - val_recall_1: 0.1313\n",
      "Epoch 14/20\n",
      "41/41 [==============================] - 7s 163ms/step - loss: 15.8448 - precision_1: 0.5162 - recall_1: 0.3007 - val_loss: 16.1512 - val_precision_1: 0.4865 - val_recall_1: 0.0430\n",
      "Epoch 15/20\n",
      "41/41 [==============================] - 7s 166ms/step - loss: 13.6571 - precision_1: 0.4828 - recall_1: 0.2761 - val_loss: 14.5745 - val_precision_1: 0.2711 - val_recall_1: 0.1838\n",
      "Epoch 16/20\n",
      "41/41 [==============================] - 7s 164ms/step - loss: 11.9524 - precision_1: 0.5549 - recall_1: 0.3247 - val_loss: 12.7530 - val_precision_1: 0.3069 - val_recall_1: 0.1384\n",
      "Epoch 17/20\n",
      "41/41 [==============================] - 7s 164ms/step - loss: 10.2547 - precision_1: 0.4793 - recall_1: 0.2671 - val_loss: 10.0071 - val_precision_1: 0.2845 - val_recall_1: 0.1623\n",
      "Epoch 18/20\n",
      "41/41 [==============================] - 7s 167ms/step - loss: 8.6273 - precision_1: 0.5099 - recall_1: 0.2971 - val_loss: 8.5359 - val_precision_1: 0.2751 - val_recall_1: 0.1766\n",
      "Epoch 19/20\n",
      "41/41 [==============================] - 7s 163ms/step - loss: 7.2061 - precision_1: 0.4943 - recall_1: 0.2827 - val_loss: 9.2355 - val_precision_1: 0.1429 - val_recall_1: 0.0143\n"
     ]
    }
   ],
   "source": [
    "text = Input(shape = (max_text,), name = 'text')\n",
    "text_embed = Embedding(output_dim=100, input_dim=len(word_index)+1, \n",
    "              input_length=max_text, weights=[embedding_matrix], \n",
    "              trainable=True)(text)\n",
    "textLayers = Bidirectional(LSTM(64, dropout=0.25, recurrent_dropout=0.25,\n",
    "                  kernel_regularizer=l2(0.5), recurrent_regularizer=l2(0.5), bias_regularizer=l2(0.5)))(text_embed)\n",
    "textLayers = Dropout(0.25)(textLayers)\n",
    "output = Dense(3, activation = 'softmax', name = 'output')(textLayers)\n",
    "\n",
    "model_bilstm = Model(inputs = text, outputs = output)\n",
    "model_bilstm.compile(optimizer='rmsprop', \n",
    "                    loss='categorical_crossentropy',\n",
    "                    metrics = [Precision(), Recall()])\n",
    "\n",
    "history_bilstm = model_bilstm.fit(X_train, multi_label, validation_split=0.1,\n",
    "                              batch_size = 64, epochs = 20,\n",
    "                              callbacks = [EarlyStopping(monitor=\"val_loss\", patience=1)])"
   ]
  },
  {
   "cell_type": "markdown",
   "metadata": {
    "id": "gf_L0bZhlxl1"
   },
   "source": [
    "###Evaluation"
   ]
  },
  {
   "cell_type": "markdown",
   "metadata": {
    "id": "SdxXsGLflxl2"
   },
   "source": [
    "#### Graphs"
   ]
  },
  {
   "cell_type": "code",
   "execution_count": null,
   "metadata": {
    "colab": {
     "base_uri": "https://localhost:8080/",
     "height": 427
    },
    "id": "uT3AxWT-lxl4",
    "outputId": "0ed005b8-95a0-49bf-a922-09efe7f87632"
   },
   "outputs": [
    {
     "data": {
      "image/png": "[encoded data removed]",
      "text/plain": [
       "<Figure size 864x432 with 1 Axes>"
      ]
     },
     "metadata": {
      "tags": []
     },
     "output_type": "display_data"
    }
   ],
   "source": [
    "history_dict = history_bilstm.history\n",
    "\n",
    "precision = history_dict['precision_1']\n",
    "val_precision = history_dict['val_precision_1']\n",
    "recall = history_dict['recall_1']\n",
    "val_recall = history_dict['val_recall_1']\n",
    "loss = history_dict['loss']\n",
    "val_loss = history_dict['val_loss']\n",
    "\n",
    "epochs = range(1, len(precision) + 1)\n",
    "\n",
    "# Use plot styling from seaborn.\n",
    "sns.set(style='darkgrid')\n",
    "\n",
    "# Increase the plot size and font size.\n",
    "sns.set(font_scale=1.5)\n",
    "plt.rcParams[\"figure.figsize\"] = (12,6)\n",
    "\n",
    "# Plot the learning curve.\n",
    "plt.plot(loss, 'b-o', label=\"training loss\")\n",
    "plt.plot(val_loss, 'r-o', label=\"validation loss\")\n",
    "\n",
    "# Label the plot.\n",
    "plt.title(\"Learning curve\")\n",
    "plt.xlabel(\"Epoch\")\n",
    "plt.ylabel(\"Loss\")\n",
    "plt.legend()\n",
    "\n",
    "plt.show()"
   ]
  },
  {
   "cell_type": "markdown",
   "metadata": {
    "id": "GLEPqFqwlxmC"
   },
   "source": [
    "#### F1 Score & Precision & Recall & Subset Accuracy & Hamming Loss & Classification Report"
   ]
  },
  {
   "cell_type": "code",
   "execution_count": null,
   "metadata": {
    "colab": {
     "base_uri": "https://localhost:8080/"
    },
    "id": "6i9mRHY8lxmD",
    "outputId": "e8172fa6-16a0-4bb6-e3b8-ac123fc72eed"
   },
   "outputs": [
    {
     "name": "stdout",
     "output_type": "stream",
     "text": [
      "19/19 [==============================] - 0s 16ms/step - loss: 7.4714 - precision_1: 0.2931 - recall_1: 0.0540\n",
      "Test Precision: 0.293\n",
      "Test Recall: 0.054\n",
      "Test Average Precision Score: 0\n",
      "Subset accuracy: 0.048\n",
      "Hamming loss: 0.354\n",
      "0.04770017035775128\n",
      "Classification Report\n",
      "              precision    recall  f1-score   support\n",
      "\n",
      "           0       0.28      1.00      0.44       165\n",
      "           1       0.00      0.00      0.00        40\n",
      "           2       0.72      1.00      0.84       425\n",
      "\n",
      "   micro avg       0.50      0.94      0.65       630\n",
      "   macro avg       0.34      0.67      0.43       630\n",
      "weighted avg       0.56      0.94      0.68       630\n",
      " samples avg       0.50      0.94      0.65       630\n",
      "\n"
     ]
    },
    {
     "name": "stderr",
     "output_type": "stream",
     "text": [
      "/usr/local/lib/python3.6/dist-packages/sklearn/metrics/_classification.py:1272: UndefinedMetricWarning: Precision and F-score are ill-defined and being set to 0.0 in labels with no predicted samples. Use `zero_division` parameter to control this behavior.\n",
      "  _warn_prf(average, modifier, msg_start, len(result))\n"
     ]
    }
   ],
   "source": [
    "# Model Evaluation - Loss, Precision, Recall\n",
    "results = model_bilstm.evaluate(X_test, multi_label_test)\n",
    "\n",
    "print(\"Test Precision: {}\".format(round(results[1], 3)))\n",
    "print(\"Test Recall: {}\".format(round(results[2], 3)))\n",
    "\n",
    "# Predictions\n",
    "pred_labels = model_bilstm.predict(X_test)\n",
    "\n",
    "multi_preds = pred_labels >= 0.10\n",
    "multi_preds = multi_preds.astype(int)\n",
    "\n",
    "# Average Precision Score\n",
    "avp = average_precision_score(multi_label_test, multi_preds)\n",
    "print(\"Test Average Precision Score: {}\".format(round(avp)))\n",
    "# Subset accuracy\n",
    "print('Subset accuracy: {0}'.format(round(accuracy_score(multi_label_test, multi_preds, normalize=True, sample_weight=None), 3)))\n",
    "# Hamming loss (smaller is better)\n",
    "print('Hamming loss: {0}'.format(round(hamming_loss(multi_label_test, multi_preds), 3)))\n",
    "\n",
    "# Classification Report\n",
    "df_pred = pd.DataFrame(pred_labels)\n",
    "df_pred_clean = df_pred.apply(lambda x: [0 if y <= 0.10 else 1 for y in x])\n",
    "pred_clean = np.array(df_pred_clean)\n",
    "\n",
    "pred_bools_bilstm = (pred_clean == 1)[:]\n",
    "true_bools = (multi_label_test == 1)\n",
    "clf_report = classification_report(true_bools, pred_bools_bilstm)\n",
    "accuracy = accuracy_score(true_bools, pred_bools_bilstm)\n",
    "print(accuracy)\n",
    "print('Classification Report')\n",
    "print(clf_report)"
   ]
  },
  {
   "cell_type": "markdown",
   "metadata": {
    "id": "Ov29Hc7xmdwb"
   },
   "source": [
    "## CNN Model"
   ]
  },
  {
   "cell_type": "code",
   "execution_count": null,
   "metadata": {
    "colab": {
     "base_uri": "https://localhost:8080/"
    },
    "id": "sLl5WNaZmdwv",
    "outputId": "7b95727e-1430-4073-ab7c-05f693c05477"
   },
   "outputs": [
    {
     "name": "stdout",
     "output_type": "stream",
     "text": [
      "Epoch 1/20\n",
      "41/41 [==============================] - 2s 26ms/step - loss: 3.7823 - precision_2: 0.5104 - recall_2: 0.4016 - val_loss: 56.3070 - val_precision_2: 0.1916 - val_recall_2: 0.1313\n",
      "Epoch 2/20\n",
      "41/41 [==============================] - 1s 17ms/step - loss: 40.2983 - precision_2: 0.4740 - recall_2: 0.4126 - val_loss: 426.7269 - val_precision_2: 0.2683 - val_recall_2: 0.1838\n"
     ]
    }
   ],
   "source": [
    "cnn_model = Sequential()\n",
    "cnn_model.add(Embedding(output_dim=100, input_dim=len(word_index)+1, input_length = max_text,\n",
    "                       weights = [embedding_matrix], trainable = True))\n",
    "\n",
    "cnn_model.add(Conv1D(filters = 250,\n",
    "                     kernel_size = 3, \n",
    "                     padding = 'valid'))\n",
    "cnn_model.add(LeakyReLU(alpha=0.1))\n",
    "cnn_model.add(MaxPooling1D(pool_size=2, padding='same'))\n",
    "cnn_model.add(Dropout(0.4))\n",
    "cnn_model.add(Flatten())\n",
    "cnn_model.add(Dense(128, activation='linear'))\n",
    "\n",
    "cnn_model.add(Dense(3, activation='softmax'))\n",
    "cnn_model.compile(loss = \"categorical_crossentropy\", \n",
    "              optimizer = \"adam\", \n",
    "              metrics=[Precision(), Recall()]) \n",
    "\n",
    "history_cnn = cnn_model.fit(X_train, multi_label, validation_split=0.1,\n",
    "                              batch_size = 64, epochs = 20,\n",
    "                              callbacks = [EarlyStopping(monitor=\"val_loss\", patience=1)])"
   ]
  },
  {
   "cell_type": "markdown",
   "metadata": {
    "id": "iAAstm4cmdw5"
   },
   "source": [
    "### Evaluation"
   ]
  },
  {
   "cell_type": "markdown",
   "metadata": {
    "id": "KMZ7wG_Dmdw9"
   },
   "source": [
    "#### Graphs"
   ]
  },
  {
   "cell_type": "code",
   "execution_count": null,
   "metadata": {
    "colab": {
     "base_uri": "https://localhost:8080/",
     "height": 427
    },
    "id": "5DP5WXTgmdw-",
    "outputId": "f276b82d-2f05-4534-8283-c249f67f2ec6"
   },
   "outputs": [
    {
     "data": {
      "image/png": "[encoded data removed]",
      "text/plain": [
       "<Figure size 864x432 with 1 Axes>"
      ]
     },
     "metadata": {
      "tags": []
     },
     "output_type": "display_data"
    }
   ],
   "source": [
    "history_dict = history_cnn.history\n",
    "\n",
    "precision = history_dict['precision_2']\n",
    "val_precision = history_dict['val_precision_2']\n",
    "recall = history_dict['recall_2']\n",
    "val_recall = history_dict['val_recall_2']\n",
    "loss = history_dict['loss']\n",
    "val_loss = history_dict['val_loss']\n",
    "\n",
    "epochs = range(1, len(precision) + 1)\n",
    "\n",
    "# Use plot styling from seaborn.\n",
    "sns.set(style='darkgrid')\n",
    "\n",
    "# Increase the plot size and font size.\n",
    "sns.set(font_scale=1.5)\n",
    "plt.rcParams[\"figure.figsize\"] = (12,6)\n",
    "\n",
    "# Plot the learning curve.\n",
    "plt.plot(loss, 'b-o', label=\"training loss\")\n",
    "plt.plot(val_loss, 'r-o', label=\"validation loss\")\n",
    "\n",
    "# Label the plot.\n",
    "plt.title(\"Learning curve\")\n",
    "plt.xlabel(\"Epoch\")\n",
    "plt.ylabel(\"Loss\")\n",
    "plt.legend()\n",
    "\n",
    "plt.show()"
   ]
  },
  {
   "cell_type": "code",
   "execution_count": null,
   "metadata": {
    "colab": {
     "base_uri": "https://localhost:8080/",
     "height": 427
    },
    "id": "Tt9SFUKamdxE",
    "outputId": "98287608-9916-48d3-8e00-9a39df088d13"
   },
   "outputs": [
    {
     "data": {
      "image/png": "[encoded data removed]",
      "text/plain": [
       "<Figure size 864x432 with 1 Axes>"
      ]
     },
     "metadata": {
      "tags": []
     },
     "output_type": "display_data"
    }
   ],
   "source": [
    "plt.clf()   # clear figure\n",
    "\n",
    "# Use plot styling from seaborn.\n",
    "sns.set(style='darkgrid')\n",
    "\n",
    "# Increase the plot size and font size.\n",
    "sns.set(font_scale=1.5)\n",
    "plt.rcParams[\"figure.figsize\"] = (12,6)\n",
    "\n",
    "plt.plot(epochs, precision, 'bo', label='Training precision')\n",
    "plt.plot(epochs, val_precision, 'b', label='Validation precision')\n",
    "plt.plot(epochs, recall, 'ro', label='Training recall')\n",
    "plt.plot(epochs, val_recall, 'r', label='Validation recall')\n",
    "plt.title('Precision & Recall Curve')\n",
    "plt.xlabel('Epochs')\n",
    "plt.ylabel('Precision § Recall')\n",
    "plt.legend()\n",
    "\n",
    "plt.show()"
   ]
  },
  {
   "cell_type": "markdown",
   "metadata": {
    "id": "cujqjrI2mdxJ"
   },
   "source": [
    "#### F1 Score & Precision & Recall & Subset Accuracy & Hamming Loss & Classification Report"
   ]
  },
  {
   "cell_type": "code",
   "execution_count": null,
   "metadata": {
    "colab": {
     "base_uri": "https://localhost:8080/"
    },
    "id": "A-cIFxfLmdxK",
    "outputId": "fcb0d5c6-101a-4536-abf5-3299103d39a2"
   },
   "outputs": [
    {
     "name": "stdout",
     "output_type": "stream",
     "text": [
      "19/19 [==============================] - 0s 4ms/step - loss: 88.9045 - precision_2: 0.7240 - recall_2: 0.6746\n",
      "Test F1-Score: 0.698\n",
      "Test Precision: 0.724\n",
      "Test Recall: 0.675\n",
      "Test Average Precision Score: 0\n",
      "Subset accuracy: 0.663\n",
      "Hamming loss: 0.208\n",
      "0.6626916524701874\n",
      "Classification Report\n",
      "              precision    recall  f1-score   support\n",
      "\n",
      "           0       0.00      0.00      0.00       165\n",
      "           1       0.00      0.00      0.00        40\n",
      "           2       0.72      1.00      0.84       425\n",
      "\n",
      "   micro avg       0.72      0.67      0.70       630\n",
      "   macro avg       0.24      0.33      0.28       630\n",
      "weighted avg       0.49      0.67      0.57       630\n",
      " samples avg       0.72      0.69      0.70       630\n",
      "\n"
     ]
    },
    {
     "name": "stderr",
     "output_type": "stream",
     "text": [
      "/usr/local/lib/python3.6/dist-packages/sklearn/metrics/_classification.py:1272: UndefinedMetricWarning: Precision and F-score are ill-defined and being set to 0.0 in labels with no predicted samples. Use `zero_division` parameter to control this behavior.\n",
      "  _warn_prf(average, modifier, msg_start, len(result))\n"
     ]
    }
   ],
   "source": [
    "# Model Evaluation - Loss, Precision, Recall\n",
    "results = cnn_model.evaluate(X_test, multi_label_test)\n",
    "f1_score = 2 * (results[1] * results[2])/(results[1] + results[2])\n",
    "\n",
    "print(\"Test F1-Score: {}\".format(round(f1_score,3)))\n",
    "print(\"Test Precision: {}\".format(round(results[1], 3)))\n",
    "print(\"Test Recall: {}\".format(round(results[2], 3)))\n",
    "\n",
    "# Predictions\n",
    "pred_labels = cnn_model.predict(X_test)\n",
    "\n",
    "multi_preds = pred_labels >= 0.10\n",
    "multi_preds = multi_preds.astype(int)\n",
    "\n",
    "# Average Precision Score\n",
    "avp = average_precision_score(multi_label_test, multi_preds)\n",
    "print(\"Test Average Precision Score: {}\".format(round(avp)))\n",
    "# Subset accuracy\n",
    "print('Subset accuracy: {0}'.format(round(accuracy_score(multi_label_test, multi_preds, normalize=True, sample_weight=None), 3)))\n",
    "# Hamming loss (smaller is better)\n",
    "print('Hamming loss: {0}'.format(round(hamming_loss(multi_label_test, multi_preds), 3)))\n",
    "\n",
    "# Classification Report\n",
    "df_pred = pd.DataFrame(pred_labels)\n",
    "df_pred_clean = df_pred.apply(lambda x: [0 if y <= 0.10 else 1 for y in x])\n",
    "pred_clean = np.array(df_pred_clean)\n",
    "\n",
    "pred_bools_cnn = (pred_clean == 1)[:]\n",
    "true_bools = (multi_label_test == 1)\n",
    "clf_report = classification_report(true_bools, pred_bools_cnn)\n",
    "accuracy = accuracy_score(true_bools, pred_bools_cnn)\n",
    "print(accuracy)\n",
    "print('Classification Report')\n",
    "print(clf_report)"
   ]
  },
  {
   "cell_type": "markdown",
   "metadata": {
    "id": "EF9KqppXiCu9"
   },
   "source": [
    "# ELMO"
   ]
  },
  {
   "cell_type": "markdown",
   "metadata": {
    "id": "fj7TvZjJolT3"
   },
   "source": [
    "## Model"
   ]
  },
  {
   "cell_type": "code",
   "execution_count": null,
   "metadata": {
    "colab": {
     "base_uri": "https://localhost:8080/",
     "height": 1000
    },
    "id": "QQ1aKto8wzlz",
    "outputId": "9424bcef-f3e6-4f06-edcd-9008afcef7d4"
   },
   "outputs": [
    {
     "name": "stdout",
     "output_type": "stream",
     "text": [
      "Collecting tensorflow==1.15.0\n",
      "\u001b[?25l  Downloading https://files.pythonhosted.org/packages/3f/98/5a99af92fb911d7a88a0005ad55005f35b4c1ba8d75fba02df726cd936e6/tensorflow-1.15.0-cp36-cp36m-manylinux2010_x86_64.whl (412.3MB)\n",
      "\u001b[K     |████████████████████████████████| 412.3MB 33kB/s \n",
      "\u001b[?25hRequirement already satisfied: astor>=0.6.0 in /usr/local/lib/python3.6/dist-packages (from tensorflow==1.15.0) (0.8.1)\n",
      "Collecting keras-applications>=1.0.8\n",
      "\u001b[?25l  Downloading https://files.pythonhosted.org/packages/71/e3/19762fdfc62877ae9102edf6342d71b28fbfd9dea3d2f96a882ce099b03f/Keras_Applications-1.0.8-py3-none-any.whl (50kB)\n",
      "\u001b[K     |████████████████████████████████| 51kB 5.8MB/s \n",
      "\u001b[?25hCollecting gast==0.2.2\n",
      "  Downloading https://files.pythonhosted.org/packages/4e/35/11749bf99b2d4e3cceb4d55ca22590b0d7c2c62b9de38ac4a4a7f4687421/gast-0.2.2.tar.gz\n",
      "Requirement already satisfied: keras-preprocessing>=1.0.5 in /usr/local/lib/python3.6/dist-packages (from tensorflow==1.15.0) (1.1.2)\n",
      "Requirement already satisfied: wheel>=0.26 in /usr/local/lib/python3.6/dist-packages (from tensorflow==1.15.0) (0.36.2)\n",
      "Requirement already satisfied: google-pasta>=0.1.6 in /usr/local/lib/python3.6/dist-packages (from tensorflow==1.15.0) (0.2.0)\n",
      "Requirement already satisfied: absl-py>=0.7.0 in /usr/local/lib/python3.6/dist-packages (from tensorflow==1.15.0) (0.10.0)\n",
      "Requirement already satisfied: numpy<2.0,>=1.16.0 in /usr/local/lib/python3.6/dist-packages (from tensorflow==1.15.0) (1.19.4)\n",
      "Collecting tensorboard<1.16.0,>=1.15.0\n",
      "\u001b[?25l  Downloading https://files.pythonhosted.org/packages/1e/e9/d3d747a97f7188f48aa5eda486907f3b345cd409f0a0850468ba867db246/tensorboard-1.15.0-py3-none-any.whl (3.8MB)\n",
      "\u001b[K     |████████████████████████████████| 3.8MB 56.0MB/s \n",
      "\u001b[?25hRequirement already satisfied: six>=1.10.0 in /usr/local/lib/python3.6/dist-packages (from tensorflow==1.15.0) (1.15.0)\n",
      "Requirement already satisfied: termcolor>=1.1.0 in /usr/local/lib/python3.6/dist-packages (from tensorflow==1.15.0) (1.1.0)\n",
      "Requirement already satisfied: protobuf>=3.6.1 in /usr/local/lib/python3.6/dist-packages (from tensorflow==1.15.0) (3.12.4)\n",
      "Requirement already satisfied: grpcio>=1.8.6 in /usr/local/lib/python3.6/dist-packages (from tensorflow==1.15.0) (1.32.0)\n",
      "Requirement already satisfied: wrapt>=1.11.1 in /usr/local/lib/python3.6/dist-packages (from tensorflow==1.15.0) (1.12.1)\n",
      "Collecting tensorflow-estimator==1.15.1\n",
      "\u001b[?25l  Downloading https://files.pythonhosted.org/packages/de/62/2ee9cd74c9fa2fa450877847ba560b260f5d0fb70ee0595203082dafcc9d/tensorflow_estimator-1.15.1-py2.py3-none-any.whl (503kB)\n",
      "\u001b[K     |████████████████████████████████| 512kB 58.6MB/s \n",
      "\u001b[?25hRequirement already satisfied: opt-einsum>=2.3.2 in /usr/local/lib/python3.6/dist-packages (from tensorflow==1.15.0) (3.3.0)\n",
      "Requirement already satisfied: h5py in /usr/local/lib/python3.6/dist-packages (from keras-applications>=1.0.8->tensorflow==1.15.0) (2.10.0)\n",
      "Requirement already satisfied: setuptools>=41.0.0 in /usr/local/lib/python3.6/dist-packages (from tensorboard<1.16.0,>=1.15.0->tensorflow==1.15.0) (50.3.2)\n",
      "Requirement already satisfied: werkzeug>=0.11.15 in /usr/local/lib/python3.6/dist-packages (from tensorboard<1.16.0,>=1.15.0->tensorflow==1.15.0) (1.0.1)\n",
      "Requirement already satisfied: markdown>=2.6.8 in /usr/local/lib/python3.6/dist-packages (from tensorboard<1.16.0,>=1.15.0->tensorflow==1.15.0) (3.3.3)\n",
      "Requirement already satisfied: importlib-metadata; python_version < \"3.8\" in /usr/local/lib/python3.6/dist-packages (from markdown>=2.6.8->tensorboard<1.16.0,>=1.15.0->tensorflow==1.15.0) (3.3.0)\n",
      "Requirement already satisfied: typing-extensions>=3.6.4; python_version < \"3.8\" in /usr/local/lib/python3.6/dist-packages (from importlib-metadata; python_version < \"3.8\"->markdown>=2.6.8->tensorboard<1.16.0,>=1.15.0->tensorflow==1.15.0) (3.7.4.3)\n",
      "Requirement already satisfied: zipp>=0.5 in /usr/local/lib/python3.6/dist-packages (from importlib-metadata; python_version < \"3.8\"->markdown>=2.6.8->tensorboard<1.16.0,>=1.15.0->tensorflow==1.15.0) (3.4.0)\n",
      "Building wheels for collected packages: gast\n",
      "  Building wheel for gast (setup.py) ... \u001b[?25l\u001b[?25hdone\n",
      "  Created wheel for gast: filename=gast-0.2.2-cp36-none-any.whl size=7540 sha256=34964483468c523182f88ffe734c973a66df46935505b9dd7fce8514789bc485\n",
      "  Stored in directory: /root/.cache/pip/wheels/5c/2e/7e/a1d4d4fcebe6c381f378ce7743a3ced3699feb89bcfbdadadd\n",
      "Successfully built gast\n",
      "\u001b[31mERROR: tensorflow-probability 0.11.0 has requirement gast>=0.3.2, but you'll have gast 0.2.2 which is incompatible.\u001b[0m\n",
      "Installing collected packages: keras-applications, gast, tensorboard, tensorflow-estimator, tensorflow\n",
      "  Found existing installation: gast 0.3.3\n",
      "    Uninstalling gast-0.3.3:\n",
      "      Successfully uninstalled gast-0.3.3\n",
      "  Found existing installation: tensorboard 2.4.0\n",
      "    Uninstalling tensorboard-2.4.0:\n",
      "      Successfully uninstalled tensorboard-2.4.0\n",
      "  Found existing installation: tensorflow-estimator 2.4.0\n",
      "    Uninstalling tensorflow-estimator-2.4.0:\n",
      "      Successfully uninstalled tensorflow-estimator-2.4.0\n",
      "  Found existing installation: tensorflow 2.4.0\n",
      "    Uninstalling tensorflow-2.4.0:\n",
      "      Successfully uninstalled tensorflow-2.4.0\n",
      "Successfully installed gast-0.2.2 keras-applications-1.0.8 tensorboard-1.15.0 tensorflow-1.15.0 tensorflow-estimator-1.15.1\n"
     ]
    },
    {
     "data": {
      "application/vnd.colab-display-data+json": {
       "pip_warning": {
        "packages": [
         "gast",
         "tensorboard",
         "tensorflow",
         "tensorflow_estimator"
        ]
       }
      }
     },
     "metadata": {
      "tags": []
     },
     "output_type": "display_data"
    },
    {
     "name": "stdout",
     "output_type": "stream",
     "text": [
      "Requirement already satisfied: tensorflow_hub in /usr/local/lib/python3.6/dist-packages (0.10.0)\n",
      "Requirement already satisfied: protobuf>=3.8.0 in /usr/local/lib/python3.6/dist-packages (from tensorflow_hub) (3.12.4)\n",
      "Requirement already satisfied: numpy>=1.12.0 in /usr/local/lib/python3.6/dist-packages (from tensorflow_hub) (1.19.4)\n",
      "Requirement already satisfied: six>=1.9 in /usr/local/lib/python3.6/dist-packages (from protobuf>=3.8.0->tensorflow_hub) (1.15.0)\n",
      "Requirement already satisfied: setuptools in /usr/local/lib/python3.6/dist-packages (from protobuf>=3.8.0->tensorflow_hub) (50.3.2)\n"
     ]
    }
   ],
   "source": [
    "# In order to download the pretrained ELMO layer from the hub, lower the Tensorflow version\n",
    "# Since this version of tensorflow requires to restart the runtime, the data processing part until \n",
    "# \"Data Processing for Neural Networks\" is needed to be run again.\n",
    "!pip install tensorflow==1.15.0\n",
    "!pip install tensorflow_hub"
   ]
  },
  {
   "cell_type": "code",
   "execution_count": null,
   "metadata": {
    "colab": {
     "base_uri": "https://localhost:8080/"
    },
    "id": "cTZ2TVfOC_ok",
    "outputId": "136c0fa1-012e-40cd-ec76-ef2537f45897"
   },
   "outputs": [
    {
     "name": "stdout",
     "output_type": "stream",
     "text": [
      "INFO:tensorflow:Saver not created because there are no variables in the graph to restore\n"
     ]
    },
    {
     "name": "stderr",
     "output_type": "stream",
     "text": [
      "INFO:tensorflow:Saver not created because there are no variables in the graph to restore\n"
     ]
    },
    {
     "name": "stdout",
     "output_type": "stream",
     "text": [
      "WARNING:tensorflow:From /usr/local/lib/python3.6/dist-packages/tensorflow_core/python/ops/resource_variable_ops.py:1630: calling BaseResourceVariable.__init__ (from tensorflow.python.ops.resource_variable_ops) with constraint is deprecated and will be removed in a future version.\n",
      "Instructions for updating:\n",
      "If using Keras pass *_constraint arguments to layers.\n"
     ]
    },
    {
     "name": "stderr",
     "output_type": "stream",
     "text": [
      "WARNING:tensorflow:From /usr/local/lib/python3.6/dist-packages/tensorflow_core/python/ops/resource_variable_ops.py:1630: calling BaseResourceVariable.__init__ (from tensorflow.python.ops.resource_variable_ops) with constraint is deprecated and will be removed in a future version.\n",
      "Instructions for updating:\n",
      "If using Keras pass *_constraint arguments to layers.\n"
     ]
    },
    {
     "name": "stdout",
     "output_type": "stream",
     "text": [
      "WARNING:tensorflow:From /usr/local/lib/python3.6/dist-packages/tensorflow_core/python/ops/math_grad.py:1424: where (from tensorflow.python.ops.array_ops) is deprecated and will be removed in a future version.\n",
      "Instructions for updating:\n",
      "Use tf.where in 2.0, which has the same broadcast rule as np.where\n"
     ]
    },
    {
     "name": "stderr",
     "output_type": "stream",
     "text": [
      "WARNING:tensorflow:From /usr/local/lib/python3.6/dist-packages/tensorflow_core/python/ops/math_grad.py:1424: where (from tensorflow.python.ops.array_ops) is deprecated and will be removed in a future version.\n",
      "Instructions for updating:\n",
      "Use tf.where in 2.0, which has the same broadcast rule as np.where\n"
     ]
    },
    {
     "name": "stdout",
     "output_type": "stream",
     "text": [
      "Train on 2864 samples, validate on 587 samples\n",
      "Epoch 1/4\n",
      "2864/2864 [==============================] - 109s 38ms/sample - loss: 1.6168 - acc: 0.4756 - recall_m: 0.7311 - precision_m: 0.4972 - f1_m: 0.5854 - val_loss: 1.3886 - val_acc: 0.5571 - val_recall_m: 0.5761 - val_precision_m: 0.5818 - val_f1_m: 0.5776\n",
      "Epoch 2/4\n",
      "2864/2864 [==============================] - 109s 38ms/sample - loss: 1.5030 - acc: 0.5499 - recall_m: 0.2225 - precision_m: 0.7074 - f1_m: 0.3067 - val_loss: 1.4050 - val_acc: 0.4940 - val_recall_m: 0.0352 - val_precision_m: 0.4687 - val_f1_m: 0.0639\n",
      "Epoch 3/4\n",
      "2864/2864 [==============================] - 103s 36ms/sample - loss: 1.4184 - acc: 0.6086 - recall_m: 0.0258 - precision_m: 0.4493 - f1_m: 0.0478 - val_loss: 1.3513 - val_acc: 0.5537 - val_recall_m: 0.0123 - val_precision_m: 0.2105 - val_f1_m: 0.0224\n",
      "Epoch 4/4\n",
      "2864/2864 [==============================] - 103s 36ms/sample - loss: 1.3537 - acc: 0.6466 - recall_m: 5.6340e-04 - precision_m: 0.0222 - f1_m: 0.0011 - val_loss: 1.3863 - val_acc: 0.5605 - val_recall_m: 0.0015 - val_precision_m: 0.0526 - val_f1_m: 0.0028\n",
      "587/587 [==============================] - 16s 28ms/sample - loss: 1.4000 - acc: 0.5503 - recall_m: 0.0015 - precision_m: 0.0526 - f1_m: 0.0030\n"
     ]
    }
   ],
   "source": [
    "# Adjust the data into a proper format \n",
    "xtrain = np.array(train_Text)\n",
    "ytrain = multi_label\n",
    "xtest = np.array(test_Text)\n",
    "ytest = multi_label_test\n",
    "\n",
    "# Download the pretrained ELMO layer from Tensorflow hub\n",
    "embed = hub.Module(\"https://tfhub.dev/google/elmo/2\")\n",
    "def ELMoEmbedding(x):\n",
    "    return embed(tf.reshape(tf.cast(x, tf.string), [-1]), signature=\"default\", as_dict=True)['default']\n",
    "\n",
    "# Model Metrics\n",
    "def recall_m(y_true, y_pred):\n",
    "        true_positives = K.sum(K.round(K.clip(y_true * y_pred, 0, 1)))\n",
    "        possible_positives = K.sum(K.round(K.clip(y_true, 0, 1)))\n",
    "        recall = true_positives / (possible_positives + K.epsilon())\n",
    "        return recall\n",
    "\n",
    "def precision_m(y_true, y_pred):\n",
    "        true_positives = K.sum(K.round(K.clip(y_true * y_pred, 0, 1)))\n",
    "        predicted_positives = K.sum(K.round(K.clip(y_pred, 0, 1)))\n",
    "        precision = true_positives / (predicted_positives + K.epsilon())\n",
    "        return precision\n",
    "\n",
    "def f1_m(y_true, y_pred):\n",
    "    precision = precision_m(y_true, y_pred)\n",
    "    recall = recall_m(y_true, y_pred)\n",
    "    return 2*((precision*recall)/(precision+recall+K.epsilon()))\n",
    "\n",
    "# ELMO Model\n",
    "def build_model(): \n",
    "    input_comment = Input(shape=(1,), dtype=\"string\", name='input_comment')\n",
    "    embedding = Lambda(ELMoEmbedding, output_shape=(1024, ))(input_comment)\n",
    "    dense = Dense(256, activation='relu', kernel_regularizer=tf.keras.regularizers.l2(0.001))(embedding)\n",
    "    pred = Dense(3, activation='sigmoid')(dense)\n",
    "    model = Model(inputs=[input_comment], outputs=pred)\n",
    "    model.compile(tf.keras.optimizers.Adam(lr=1e-4), loss='categorical_crossentropy', metrics=['accuracy', recall_m,\n",
    "                                                                                               precision_m, f1_m]) \n",
    "    return model\n",
    "model_elmo = build_model()\n",
    "\n",
    "# Fit the train data & Take predictions\n",
    "earlystopping = EarlyStopping(monitor = \"val_loss\", mode = \"min\", patience = 1)\n",
    "with tf.Session() as session:\n",
    "    K.set_session(session)\n",
    "    session.run(tf.global_variables_initializer())  \n",
    "    session.run(tf.tables_initializer())\n",
    "    history_elmo = model_elmo.fit(xtrain, ytrain,validation_data=(xtest, ytest), epochs=4, batch_size=32)\n",
    "    results = model_elmo.evaluate(xtest, ytest)\n",
    "    pred_labels = model_elmo.predict(xtest)\n",
    "    multi_preds = pred_labels >= 0.10\n",
    "    multi_preds = multi_preds.astype(int)"
   ]
  },
  {
   "cell_type": "markdown",
   "metadata": {
    "id": "YPW2OisnOZiP"
   },
   "source": [
    "## Evaluation"
   ]
  },
  {
   "cell_type": "markdown",
   "metadata": {
    "id": "zDTcKfqfOZiQ"
   },
   "source": [
    "### Graphs"
   ]
  },
  {
   "cell_type": "code",
   "execution_count": null,
   "metadata": {
    "colab": {
     "base_uri": "https://localhost:8080/",
     "height": 427
    },
    "id": "iY0QBIguOZiR",
    "outputId": "97acec6b-daa5-4dc2-935b-156024c6a292"
   },
   "outputs": [
    {
     "data": {
      "image/png": "[encoded data removed]",
      "text/plain": [
       "<Figure size 864x432 with 1 Axes>"
      ]
     },
     "metadata": {
      "tags": []
     },
     "output_type": "display_data"
    }
   ],
   "source": [
    "history_dict = history_elmo.history\n",
    "\n",
    "precision = history_dict['precision_m']\n",
    "val_precision = history_dict['val_precision_m']\n",
    "recall = history_dict['recall_m']\n",
    "val_recall = history_dict['val_recall_m']\n",
    "loss = history_dict['loss']\n",
    "val_loss = history_dict['val_loss']\n",
    "\n",
    "epochs = range(1, len(precision) + 1)\n",
    "\n",
    "# Use plot styling from seaborn.\n",
    "sns.set(style='darkgrid')\n",
    "\n",
    "# Increase the plot size and font size.\n",
    "sns.set(font_scale=1.5)\n",
    "plt.rcParams[\"figure.figsize\"] = (12,6)\n",
    "\n",
    "# Plot the learning curve.\n",
    "plt.plot(loss, 'b-o', label=\"training loss\")\n",
    "plt.plot(val_loss, 'r-o', label=\"validation loss\")\n",
    "\n",
    "# Label the plot.\n",
    "plt.title(\"Learning curve\")\n",
    "plt.xlabel(\"Epoch\")\n",
    "plt.ylabel(\"Loss\")\n",
    "plt.legend()\n",
    "\n",
    "plt.show()"
   ]
  },
  {
   "cell_type": "code",
   "execution_count": null,
   "metadata": {
    "colab": {
     "base_uri": "https://localhost:8080/",
     "height": 427
    },
    "id": "mEN0MdrFOZiT",
    "outputId": "781558ff-773b-4919-b42d-929b056fda20"
   },
   "outputs": [
    {
     "data": {
      "image/png": "[encoded data removed]",
      "text/plain": [
       "<Figure size 864x432 with 1 Axes>"
      ]
     },
     "metadata": {
      "tags": []
     },
     "output_type": "display_data"
    }
   ],
   "source": [
    "plt.clf()   # clear figure\n",
    "\n",
    "# Use plot styling from seaborn.\n",
    "sns.set(style='darkgrid')\n",
    "\n",
    "# Increase the plot size and font size.\n",
    "sns.set(font_scale=1.5)\n",
    "plt.rcParams[\"figure.figsize\"] = (12,6)\n",
    "\n",
    "plt.plot(epochs, precision, 'bo', label='Traini;ng precision')\n",
    "plt.plot(epochs, val_precision, 'b', label='Validation precision')\n",
    "plt.plot(epochs, recall, 'ro', label='Training recall')\n",
    "plt.plot(epochs, val_recall, 'r', label='Validation recall')\n",
    "plt.title('Precision & Recall Curve')\n",
    "plt.xlabel('Epochs')\n",
    "plt.ylabel('Precision § Recall')\n",
    "plt.legend()\n",
    "\n",
    "plt.show()"
   ]
  },
  {
   "cell_type": "markdown",
   "metadata": {
    "id": "oV1dz2XfOZiU"
   },
   "source": [
    "### F1 Score & Precision & Recall & Subset Accuracy & Hamming Loss & Classification Report"
   ]
  },
  {
   "cell_type": "code",
   "execution_count": null,
   "metadata": {
    "colab": {
     "base_uri": "https://localhost:8080/"
    },
    "id": "pELoUiUaOZiV",
    "outputId": "550f4140-8d70-4d80-c82a-16b4b75ddefd"
   },
   "outputs": [
    {
     "name": "stdout",
     "output_type": "stream",
     "text": [
      "Test Accuracy: 0.550000011920929\n",
      "Test Recall: 0.0020000000949949026\n",
      "Test Precision: 0.05299999937415123\n",
      "Test F1 Score: 0.003000000026077032\n",
      "Test Average Precision Score: 0\n",
      "Subset accuracy: 0.351\n",
      "Hamming loss: 0.323\n",
      "0.35093696763202725\n",
      "Classification Report\n",
      "              precision    recall  f1-score   support\n",
      "\n",
      "           0       0.26      0.41      0.32       165\n",
      "           1       0.16      0.20      0.18        40\n",
      "           2       0.73      0.80      0.77       425\n",
      "\n",
      "   micro avg       0.54      0.66      0.60       630\n",
      "   macro avg       0.39      0.47      0.42       630\n",
      "weighted avg       0.57      0.66      0.61       630\n",
      " samples avg       0.53      0.67      0.57       630\n",
      "\n"
     ]
    },
    {
     "name": "stderr",
     "output_type": "stream",
     "text": [
      "/usr/local/lib/python3.6/dist-packages/sklearn/metrics/_classification.py:1272: UndefinedMetricWarning: Precision and F-score are ill-defined and being set to 0.0 in samples with no predicted labels. Use `zero_division` parameter to control this behavior.\n",
      "  _warn_prf(average, modifier, msg_start, len(result))\n"
     ]
    }
   ],
   "source": [
    "# Model Evaluation - Loss, Precision, Recall\n",
    "print(\"Test Accuracy: {}\".format(round(results[1],3)))\n",
    "print(\"Test Recall: {}\".format(round(results[2], 3)))\n",
    "print(\"Test Precision: {}\".format(round(results[3], 3)))\n",
    "print(\"Test F1 Score: {}\".format(round(results[4], 3)))\n",
    "\n",
    "# Average Precision Score\n",
    "avp = average_precision_score(multi_label_test, multi_preds)\n",
    "print(\"Test Average Precision Score: {}\".format(round(avp)))\n",
    "# Subset accuracy\n",
    "print('Subset accuracy: {0}'.format(round(accuracy_score(multi_label_test, multi_preds, normalize=True, sample_weight=None), 3)))\n",
    "# Hamming loss (smaller is better)\n",
    "print('Hamming loss: {0}'.format(round(hamming_loss(multi_label_test, multi_preds), 3)))\n",
    "\n",
    "# Classification Report\n",
    "df_pred = pd.DataFrame(pred_labels)\n",
    "df_pred_clean = df_pred.apply(lambda x: [0 if y <= 0.10 else 1 for y in x])\n",
    "pred_clean = np.array(df_pred_clean)\n",
    "\n",
    "pred_bools_elmo = (pred_clean == 1)[:]\n",
    "true_bools = (multi_label_test == 1)\n",
    "clf_report = classification_report(true_bools, pred_bools_elmo)\n",
    "accuracy = accuracy_score(true_bools, pred_bools_elmo)\n",
    "print(accuracy)\n",
    "print('Classification Report')\n",
    "print(clf_report)"
   ]
  },
  {
   "cell_type": "markdown",
   "metadata": {
    "id": "yHkJp1Dafn1u"
   },
   "source": [
    "# BERT\n"
   ]
  },
  {
   "cell_type": "markdown",
   "metadata": {
    "id": "-e9PoSKjxQ2C"
   },
   "source": [
    "## Bert Tokenization"
   ]
  },
  {
   "cell_type": "code",
   "execution_count": 15,
   "metadata": {
    "colab": {
     "base_uri": "https://localhost:8080/"
    },
    "id": "GzluFLFkQAwu",
    "outputId": "c2f3d458-3768-451c-e5ff-c62e914a623a"
   },
   "outputs": [
    {
     "data": {
      "text/plain": [
       "('[CLS] Judging from previous posts this used to be a good place, but not any longer. [SEP]',\n",
       " '[CLS] Yum! [SEP]')"
      ]
     },
     "execution_count": 15,
     "metadata": {
      "tags": []
     },
     "output_type": "execute_result"
    }
   ],
   "source": [
    "# add special tokens for BERT to work properly\n",
    "sentences = [\"[CLS] \" + sent + \" [SEP]\" for sent in train_Text.astype(str)]\n",
    "sentences_test = [\"[CLS] \" + sent + \" [SEP]\" for sent in test_Text.astype(str)]\n",
    "\n",
    "sentences[0], sentences_test[0]"
   ]
  },
  {
   "cell_type": "markdown",
   "metadata": {
    "id": "U2zHTKXm82KK"
   },
   "source": [
    "For the tokenization, pre-trained Bert-Base-Uncased dictionary is used. They constructed it with WordPiece embeddings with a 30,000 token vocabulary. "
   ]
  },
  {
   "cell_type": "code",
   "execution_count": 16,
   "metadata": {
    "colab": {
     "base_uri": "https://localhost:8080/"
    },
    "id": "B-3Al2iXQAww",
    "outputId": "453786ad-3c09-444f-f926-bc113e06b113"
   },
   "outputs": [
    {
     "data": {
      "text/plain": [
       "(['[CLS]',\n",
       "  'judging',\n",
       "  'from',\n",
       "  'previous',\n",
       "  'posts',\n",
       "  'this',\n",
       "  'used',\n",
       "  'to',\n",
       "  'be',\n",
       "  'a',\n",
       "  'good',\n",
       "  'place',\n",
       "  ',',\n",
       "  'but',\n",
       "  'not',\n",
       "  'any',\n",
       "  'longer',\n",
       "  '.',\n",
       "  '[SEP]'],\n",
       " ['[CLS]', 'yu', '##m', '!', '[SEP]'])"
      ]
     },
     "execution_count": 16,
     "metadata": {
      "tags": []
     },
     "output_type": "execute_result"
    }
   ],
   "source": [
    "# Tokenize with BERT tokenizer both train and test data\n",
    "tokenizer = BertTokenizer.from_pretrained('bert-base-uncased', do_lower_case=True)\n",
    "tokenized_texts = [tokenizer.tokenize(sent) for sent in sentences]\n",
    "tokenized_texts_test = [tokenizer.tokenize(sent) for sent in sentences_test]\n",
    "\n",
    "tokenized_texts[0], tokenized_texts_test[0]"
   ]
  },
  {
   "cell_type": "markdown",
   "metadata": {
    "id": "swreGSowUcH0"
   },
   "source": [
    "## Input Preparation"
   ]
  },
  {
   "cell_type": "markdown",
   "metadata": {
    "id": "j_nQt7PY82KM"
   },
   "source": [
    "For the BERT model to work, we need three inputs. \n",
    "- Input IDs: shows the ID number of each token with padding. The ID numbers are restored from the BERT vocabulary dictionary.\n",
    "- Mask IDs: indicates which elements in the sequence are tokens and which are padding elements.\n",
    "- Segment IDs: distinguishes different sentences, 0 for one-sentence sequence, 1 if there are two sentences.\n",
    "\n",
    "The functions below are extracted from: https://towardsdatascience.com/simple-bert-using-tensorflow-2-0-132cb19e9b22"
   ]
  },
  {
   "cell_type": "code",
   "execution_count": 17,
   "metadata": {
    "id": "RNCcS863QAwx"
   },
   "outputs": [],
   "source": [
    "def get_ids(tokens, tokenizer, max_seq_length):\n",
    "    token_ids = tokenizer.convert_tokens_to_ids(tokens)\n",
    "    input_ids = token_ids + [0] * (max_seq_length-len(token_ids))\n",
    "    return input_ids\n",
    "\n",
    "def get_masks(tokens, max_seq_length):\n",
    "    if len(tokens) > max_seq_length:\n",
    "        raise IndexError(\"Token length more than max seq length!\")\n",
    "    return [1]*len(tokens) + [0] * (max_seq_length - len(tokens))\n",
    "\n",
    "def get_segments(tokens, max_seq_length):\n",
    "    if len(tokens)>max_seq_length:\n",
    "        raise IndexError(\"Token length more than max seq length!\")\n",
    "    segments = []\n",
    "    current_segment_id = 0\n",
    "    for token in tokens:\n",
    "        segments.append(current_segment_id)\n",
    "        if token == \"[SEP]\":\n",
    "            current_segment_id = 1\n",
    "    return segments + [0] * (max_seq_length - len(tokens))"
   ]
  },
  {
   "cell_type": "code",
   "execution_count": 18,
   "metadata": {
    "colab": {
     "base_uri": "https://localhost:8080/"
    },
    "id": "85JdLD8582KO",
    "outputId": "d1cecb8e-2134-4ed5-f7a9-98487e9ea14a"
   },
   "outputs": [
    {
     "name": "stdout",
     "output_type": "stream",
     "text": [
      "93\n"
     ]
    }
   ],
   "source": [
    "# find the longest sequence for the padding\n",
    "def find_max_list(list):\n",
    "    list_len = [len(i) for i in list]\n",
    "    return max(list_len)\n",
    "    \n",
    "longestSeq_train = find_max_list(tokenized_texts)\n",
    "longestSeq_test = find_max_list(tokenized_texts_test)\n",
    "max_seq_length = max(longestSeq_train, longestSeq_test)\n",
    "print(max_seq_length)"
   ]
  },
  {
   "cell_type": "code",
   "execution_count": 19,
   "metadata": {
    "id": "IkIZ39cpQAwy"
   },
   "outputs": [],
   "source": [
    "# Find input_ids, mask_ids and segment_ids of the train and test data.\n",
    "max_seq_length = max_seq_length\n",
    "input_ids = []\n",
    "mask_ids = [] \n",
    "segments_ids = []\n",
    "for i in range(len(tokenized_texts)):\n",
    "    input_ids.append(get_ids(tokenized_texts[i], tokenizer, max_seq_length))\n",
    "    mask_ids.append(get_masks(tokenized_texts[i], max_seq_length))\n",
    "    segments_ids.append(get_segments(tokenized_texts[i], max_seq_length))\n",
    "    \n",
    "input_ids_test = []\n",
    "mask_ids_test = [] \n",
    "segments_ids_test = [] \n",
    "for i in range(len(tokenized_texts_test)):\n",
    "    input_ids_test.append(get_ids(tokenized_texts_test[i], tokenizer, max_seq_length))\n",
    "    mask_ids_test.append(get_masks(tokenized_texts_test[i], max_seq_length))\n",
    "    segments_ids_test.append(get_segments(tokenized_texts_test[i], max_seq_length))\n",
    "    \n",
    "# For the model, I converted the lists to tensors.\n",
    "input_ids = tf.convert_to_tensor(input_ids, dtype = tf.int32)\n",
    "mask_ids = tf.convert_to_tensor(mask_ids, dtype = tf.int32)\n",
    "segments_ids = tf.convert_to_tensor(segments_ids, dtype = tf.int32)\n",
    "\n",
    "input_ids_test = tf.convert_to_tensor(input_ids_test, dtype = tf.int32)\n",
    "mask_ids_test = tf.convert_to_tensor(mask_ids_test, dtype = tf.int32)\n",
    "segments_ids_test = tf.convert_to_tensor(segments_ids_test, dtype = tf.int32)"
   ]
  },
  {
   "cell_type": "markdown",
   "metadata": {
    "id": "MiuTf_Bo82KR"
   },
   "source": [
    "## Model"
   ]
  },
  {
   "cell_type": "markdown",
   "metadata": {
    "id": "kKCLX9e182KR"
   },
   "source": [
    "I used the uncased BERT model with 12 hidden layers and 110M parameters, trained on Wikipedia and Book-Corpus data and hosted by Google on TensorFlow Hub. "
   ]
  },
  {
   "cell_type": "code",
   "execution_count": null,
   "metadata": {
    "id": "V9bpAlyu82KR"
   },
   "outputs": [],
   "source": [
    "random.seed(123)\n",
    "# Three Inputs of the Bert Model\n",
    "InputIDLayer = Input(shape = (max_seq_length,), dtype = tf.int32, name = \"InputIDs\")\n",
    "MaskIDLayer = Input(shape = (max_seq_length,), dtype = tf.int32, name = \"MaskIDs\")\n",
    "SegmentIDLayer = Input(shape = (max_seq_length,), dtype = tf.int32, name = \"SegmentIDs\")\n",
    "\n",
    "# Import the pre-trained uncased Bert model\n",
    "bertLayer = hub.KerasLayer(\"https://tfhub.dev/tensorflow/bert_en_uncased_L-12_H-768_A-12/1\", trainable=True)\n",
    "\n",
    "# Since it is a classisfication problem, the pooled output is needed.\n",
    "pooled_output, sequence_output = bertLayer([InputIDLayer, MaskIDLayer, SegmentIDLayer])\n",
    "pooled_output = Dropout(0.5)(pooled_output)\n",
    "output = Dense(units = 768, activation = \"tanh\")(pooled_output)\n",
    "output = Dropout(0.5)(output)\n",
    "output = Dense(units = 3, activation = \"softmax\")(output)\n",
    "\n",
    "model = Model(inputs=[InputIDLayer, MaskIDLayer, SegmentIDLayer], outputs = output)\n",
    "\n",
    "# Model Compilation\n",
    "learning_rate = 2e-5\n",
    "number_of_epochs = 10\n",
    "optimizer = Adam(learning_rate = learning_rate, epsilon = 1e-08)\n",
    "loss = CategoricalCrossentropy(from_logits = False)\n",
    "metrics = [Precision(), Recall(),\n",
    "          FalseNegatives(), FalsePositives()]\n",
    "\n",
    "model.compile(optimizer = optimizer, \n",
    "              loss = loss,\n",
    "              metrics = metrics)\n",
    "\n",
    "# Model Training & Fine-Tuning on train data\n",
    "earlyStopping = EarlyStopping(monitor = \"val_loss\", mode = \"min\", patience = 1)\n",
    "checkpoint_path = 'training/cp.ckpt'\n",
    "\n",
    "# Create a callback that saves the model's weights\n",
    "cp_callback = tf.keras.callbacks.ModelCheckpoint(filepath = checkpoint_path,\n",
    "                                                 save_best_only = False,\n",
    "                                                 save_weights_only = True,\n",
    "                                                 verbose = 1)\n",
    "\n",
    "bert_history = model.fit([input_ids, mask_ids, segments_ids], [multi_label],\n",
    "                         epochs = number_of_epochs, \n",
    "                         batch_size = 64,\n",
    "                         validation_split = 0.1,\n",
    "                         #callbacks = [earlyStopping, cp_callback]\n",
    "                         )"
   ]
  },
  {
   "cell_type": "markdown",
   "metadata": {
    "id": "dXMx7rTQUBDg"
   },
   "source": [
    "## Performance Graphs"
   ]
  },
  {
   "cell_type": "markdown",
   "metadata": {
    "id": "pS4N7rFfRkUq"
   },
   "source": [
    "### Loss Graph"
   ]
  },
  {
   "cell_type": "code",
   "execution_count": null,
   "metadata": {
    "colab": {
     "base_uri": "https://localhost:8080/",
     "height": 427
    },
    "id": "Hn_33gKARC9s",
    "outputId": "49667a80-1727-44d5-c40e-5e8179c99da6"
   },
   "outputs": [
    {
     "data": {
      "image/png": "[encoded data removed]",
      "text/plain": [
       "<Figure size 864x432 with 1 Axes>"
      ]
     },
     "metadata": {
      "tags": []
     },
     "output_type": "display_data"
    }
   ],
   "source": [
    "history_dict = bert_history.history\n",
    "\n",
    "precision = history_dict['precision']\n",
    "val_precision = history_dict['val_precision']\n",
    "recall = history_dict['recall']\n",
    "val_recall = history_dict['val_recall']\n",
    "loss = history_dict['loss']\n",
    "val_loss = history_dict['val_loss']\n",
    "\n",
    "epochs = range(1, len(precision) + 1)\n",
    "\n",
    "# Use plot styling from seaborn.\n",
    "sns.set(style='darkgrid')\n",
    "\n",
    "# Increase the plot size and font size.\n",
    "sns.set(font_scale=1.5)\n",
    "plt.rcParams[\"figure.figsize\"] = (12,6)\n",
    "\n",
    "# Plot the learning curve.\n",
    "plt.plot(loss, 'b-o', label=\"training loss\")\n",
    "plt.plot(val_loss, 'r-o', label=\"validation loss\")\n",
    "\n",
    "# Label the plot.\n",
    "plt.title(\"Learning curve\")\n",
    "plt.xlabel(\"Epoch\")\n",
    "plt.ylabel(\"Loss\")\n",
    "plt.legend()\n",
    "\n",
    "plt.show()"
   ]
  },
  {
   "cell_type": "markdown",
   "metadata": {
    "id": "GuZ7zAKP8bXE"
   },
   "source": [
    "### Precision & Recall Graph"
   ]
  },
  {
   "cell_type": "code",
   "execution_count": null,
   "metadata": {
    "colab": {
     "base_uri": "https://localhost:8080/",
     "height": 427
    },
    "id": "PnSg2o3_EHa-",
    "outputId": "de336a7e-4912-4c42-8552-2a7127b7424e"
   },
   "outputs": [
    {
     "data": {
      "image/png": "[encoded data removed]",
      "text/plain": [
       "<Figure size 864x432 with 1 Axes>"
      ]
     },
     "metadata": {
      "tags": []
     },
     "output_type": "display_data"
    }
   ],
   "source": [
    "plt.clf()   # clear figure\n",
    "\n",
    "# Use plot styling from seaborn.\n",
    "sns.set(style='darkgrid')\n",
    "\n",
    "# Increase the plot size and font size.\n",
    "sns.set(font_scale=1.5)\n",
    "plt.rcParams[\"figure.figsize\"] = (12,6)\n",
    "\n",
    "plt.plot(epochs, precision, 'bo', label='Training precision')\n",
    "plt.plot(epochs, val_precision, 'b', label='Validation precision')\n",
    "plt.plot(epochs, recall, 'ro', label='Training recall')\n",
    "plt.plot(epochs, val_recall, 'r', label='Validation recall')\n",
    "plt.title('Precision & Recall Curve')\n",
    "plt.xlabel('Epochs')\n",
    "plt.ylabel('Precision § Recall')\n",
    "plt.legend()\n",
    "\n",
    "plt.show()"
   ]
  },
  {
   "cell_type": "markdown",
   "metadata": {
    "id": "TqWkInk3TPE_"
   },
   "source": [
    "## Model Evaluation"
   ]
  },
  {
   "cell_type": "markdown",
   "metadata": {
    "id": "CBA8kqKHUILL"
   },
   "source": [
    "### F1 Score & Precision & Recall & Subset Accuracy & Hamming Loss"
   ]
  },
  {
   "cell_type": "markdown",
   "metadata": {
    "id": "5_c5XKripSo-"
   },
   "source": [
    "https://stats.stackexchange.com/questions/233275/multilabel-classification-metrics-on-scikit/234354\n",
    "\n"
   ]
  },
  {
   "cell_type": "code",
   "execution_count": null,
   "metadata": {
    "colab": {
     "base_uri": "https://localhost:8080/",
     "height": 414
    },
    "id": "0Ag-7pkI82KT",
    "outputId": "338ba246-5252-49ff-fa18-c3344f8cc5b8"
   },
   "outputs": [
    {
     "name": "stdout",
     "output_type": "stream",
     "text": [
      "19/19 [==============================] - 7s 351ms/step - loss: 1.9526 - precision: 0.8211 - recall: 0.5559 - false_negatives: 330.0000 - false_positives: 90.0000\n",
      "Test F1-Score: 0.663\n",
      "Test Precision: 0.821\n",
      "Test Recall: 0.556\n",
      "Test Average Precision Score: 0.0\n",
      "Hamming score: 0.636\n",
      "Subset accuracy: 0.455\n",
      "Hamming loss: 0.084\n"
     ]
    }
   ],
   "source": [
    "# Model Evaluation - Loss, Precision, Recall, PrecisionAtRecall, RecallAtPrecision, FalseNegatives, FalsePositives\n",
    "results = model.evaluate([input_ids_test, mask_ids_test, segments_ids_test], multi_label_test)\n",
    "f1_score = 2 * (results[1] * results[2])/(results[1] + results[2])\n",
    "\n",
    "print(\"Test F1-Score: {}\".format(round(f1_score,3)))\n",
    "print(\"Test Precision: {}\".format(round(results[1], 3)))\n",
    "print(\"Test Recall: {}\".format(round(results[2], 3)))\n",
    "\n",
    "# Predictions\n",
    "pred_labels = model.predict([input_ids_test, mask_ids_test, segments_ids_test])\n",
    "\n",
    "multi_preds = pred_labels >= 0.10\n",
    "multi_preds = multi_preds.astype(int)\n",
    "\n",
    "# Average Precision Score\n",
    "avp = average_precision_score(multi_label_test, multi_preds)\n",
    "print(\"Test Average Precision Score: {}\".format(round(avp)))\n",
    "\n",
    "# Hamming Score\n",
    "def hamming_score(y_true, y_pred, normalize=True, sample_weight=None):\n",
    "    acc_list = []\n",
    "    for i in range(y_true.shape[0]):\n",
    "        set_true = set( np.where(y_true[i])[0] )\n",
    "        set_pred = set( np.where(y_pred[i])[0] )\n",
    "        #print('\\nset_true: {0}'.format(set_true))\n",
    "        #print('set_pred: {0}'.format(set_pred))\n",
    "        tmp_a = None\n",
    "        if len(set_true) == 0 and len(set_pred) == 0:\n",
    "            tmp_a = 1\n",
    "        else:\n",
    "            tmp_a = len(set_true.intersection(set_pred))/\\\n",
    "                    float( len(set_true.union(set_pred)) )\n",
    "        #print('tmp_a: {0}'.format(tmp_a))\n",
    "        acc_list.append(tmp_a)\n",
    "    return np.mean(acc_list)\n",
    "\n",
    "if __name__ == \"__main__\":\n",
    "    print('Hamming score: {0}'.format(round(hamming_score(multi_label_test, multi_preds), 3))) # 0.375 (= (0.5+1+0+0)/4)\n",
    "\n",
    "    # Subset accuracy\n",
    "    # 0.25 (= 0+1+0+0 / 4) --> 1 if the prediction for one sample fully matches the gold. 0 otherwise.\n",
    "    print('Subset accuracy: {0}'.format(round(accuracy_score(multi_label_test, multi_preds, normalize=True, sample_weight=None), 3)))\n",
    "\n",
    "    # Hamming loss (smaller is better)\n",
    "    print('Hamming loss: {0}'.format(round(hamming_loss(multi_label_test, multi_preds), 3)))"
   ]
  },
  {
   "cell_type": "markdown",
   "metadata": {
    "id": "57OimztUr2tz"
   },
   "source": [
    "## Label Based Evaluation"
   ]
  },
  {
   "cell_type": "markdown",
   "metadata": {
    "id": "HyMf6yXs87Bn"
   },
   "source": [
    "### Classification Report"
   ]
  },
  {
   "cell_type": "code",
   "execution_count": null,
   "metadata": {
    "colab": {
     "base_uri": "https://localhost:8080/",
     "height": 451
    },
    "id": "R56riD7iFQkm",
    "outputId": "6139bc24-9440-4420-b948-df281f26f59c"
   },
   "outputs": [
    {
     "name": "stdout",
     "output_type": "stream",
     "text": [
      "              precision    recall  f1-score   support\n",
      "\n",
      "           0       0.32      0.88      0.47        57\n",
      "           1       0.25      0.33      0.29         3\n",
      "           2       0.33      0.10      0.15        21\n",
      "           3       0.00      0.00      0.00        12\n",
      "           4       0.00      0.00      0.00        22\n",
      "           5       0.65      0.99      0.78       226\n",
      "           6       0.36      0.17      0.23        48\n",
      "           7       0.00      0.00      0.00        13\n",
      "           8       0.59      0.89      0.71       142\n",
      "           9       0.43      0.09      0.15        33\n",
      "          10       0.25      0.10      0.14        21\n",
      "          11       0.74      0.87      0.80       145\n",
      "\n",
      "   micro avg       0.58      0.73      0.65       743\n",
      "   macro avg       0.33      0.37      0.31       743\n",
      "weighted avg       0.54      0.73      0.60       743\n",
      " samples avg       0.70      0.78      0.70       743\n",
      "\n"
     ]
    },
    {
     "name": "stderr",
     "output_type": "stream",
     "text": [
      "/usr/local/lib/python3.6/dist-packages/sklearn/metrics/_classification.py:1272: UndefinedMetricWarning: Precision and F-score are ill-defined and being set to 0.0 in labels with no predicted samples. Use `zero_division` parameter to control this behavior.\n",
      "  _warn_prf(average, modifier, msg_start, len(result))\n"
     ]
    }
   ],
   "source": [
    "# Predictions\n",
    "pred_labels = model.predict([input_ids_test, mask_ids_test, segments_ids_test])\n",
    "\n",
    "# Calculate Accuracy\n",
    "threshold = 0.10\n",
    "pred_bools = [pl>threshold for pl in pred_labels]\n",
    "true_bools = [tl==1 for tl in multi_label_test]\n",
    "\n",
    "clf_report = classification_report(true_bools, pred_bools, #target_names=test_label_cols\n",
    "                                   )\n",
    "print(clf_report)"
   ]
  },
  {
   "cell_type": "markdown",
   "metadata": {
    "id": "W15wFr5nUO7_"
   },
   "source": [
    "### Confusion Matrices"
   ]
  },
  {
   "cell_type": "code",
   "execution_count": null,
   "metadata": {
    "colab": {
     "base_uri": "https://localhost:8080/",
     "height": 1000
    },
    "id": "2LrVVqBtcCOn",
    "outputId": "4cbb30a8-e0f5-488f-b400-1d976539f671"
   },
   "outputs": [
    {
     "name": "stdout",
     "output_type": "stream",
     "text": [
      "Confusion matrix for label 0:\n",
      "[[424 106]\n",
      " [  7  50]]\n",
      "Precision: 0.98\n",
      "Recall: 0.8\n",
      "F1 Score: 0.88\n",
      "Confusion matrix for label 1:\n",
      "[[581   3]\n",
      " [  2   1]]\n",
      "Precision: 1.0\n",
      "Recall: 0.99\n",
      "F1 Score: 1.0\n",
      "Confusion matrix for label 2:\n",
      "[[562   4]\n",
      " [ 19   2]]\n",
      "Precision: 0.97\n",
      "Recall: 0.99\n",
      "F1 Score: 0.98\n",
      "Confusion matrix for label 3:\n",
      "[[574   1]\n",
      " [ 12   0]]\n",
      "Precision: 0.98\n",
      "Recall: 1.0\n",
      "F1 Score: 0.99\n",
      "Confusion matrix for label 4:\n",
      "[[565   0]\n",
      " [ 22   0]]\n",
      "Precision: 0.96\n",
      "Recall: 1.0\n",
      "F1 Score: 0.98\n",
      "Confusion matrix for label 5:\n",
      "[[240 121]\n",
      " [  3 223]]\n",
      "Precision: 0.99\n",
      "Recall: 0.66\n",
      "F1 Score: 0.79\n",
      "Confusion matrix for label 6:\n",
      "[[525  14]\n",
      " [ 40   8]]\n",
      "Precision: 0.93\n",
      "Recall: 0.97\n",
      "F1 Score: 0.95\n",
      "Confusion matrix for label 7:\n",
      "[[574   0]\n",
      " [ 13   0]]\n",
      "Precision: 0.98\n",
      "Recall: 1.0\n",
      "F1 Score: 0.99\n",
      "Confusion matrix for label 8:\n",
      "[[358  87]\n",
      " [ 16 126]]\n",
      "Precision: 0.96\n",
      "Recall: 0.8\n",
      "F1 Score: 0.87\n",
      "Confusion matrix for label 9:\n",
      "[[550   4]\n",
      " [ 30   3]]\n",
      "Precision: 0.95\n",
      "Recall: 0.99\n",
      "F1 Score: 0.97\n",
      "Confusion matrix for label 10:\n",
      "[[560   6]\n",
      " [ 19   2]]\n",
      "Precision: 0.97\n",
      "Recall: 0.99\n",
      "F1 Score: 0.98\n",
      "Confusion matrix for label 11:\n",
      "[[398  44]\n",
      " [ 19 126]]\n",
      "Precision: 0.95\n",
      "Recall: 0.9\n",
      "F1 Score: 0.93\n"
     ]
    }
   ],
   "source": [
    "# Confusion Matrices\n",
    "# Setting the threshold as 0.10\n",
    "df_pred = pd.DataFrame(pred_labels)\n",
    "df_pred_clean = df_pred.apply(lambda x: [0 if y <= 0.10 else 1 for y in x])\n",
    "pred_clean = np.array(df_pred_clean)\n",
    "\n",
    "y_true = multi_label_test\n",
    "y_pred = pred_clean\n",
    "\n",
    "labels = [\"0\", \"1\", \"2\", \"3\", \"4\", \"5\", \"6\", \"7\", \"8\", \"9\", \"10\", \"11\"]\n",
    "\n",
    "# Confusion Matrices\n",
    "conf_mat_dict={}\n",
    "\n",
    "for label_col in range(len(labels)):\n",
    "    y_true_label = y_true[:, label_col]\n",
    "    y_pred_label = y_pred[:, label_col]\n",
    "    conf_mat_dict[labels[label_col]] = confusion_matrix(y_pred=y_pred_label, y_true=y_true_label)\n",
    "\n",
    "\n",
    "for label, matrix in conf_mat_dict.items():\n",
    "    print(\"Confusion matrix for label {}:\".format(label))\n",
    "    print(matrix)\n",
    "    precision = matrix[0][0] / (matrix[0][0] + matrix[1][0])\n",
    "    print(\"Precision: {}\".format(round(precision, 2)))\n",
    "    recall = matrix[0][0] / (matrix[0][0] + matrix[0][1])\n",
    "    print(\"Recall: {}\".format(round(recall, 2)))\n",
    "    f1_score =  2 * (precision * recall)/(precision + recall)\n",
    "    print(\"F1 Score: {}\".format(round(f1_score, 2)))"
   ]
  },
  {
   "cell_type": "markdown",
   "metadata": {
    "id": "uJNBGJ7HjDrF"
   },
   "source": [
    "- 0: Ambience#General\n",
    "- 1: Drinks#Prices\n",
    "- 2: Drinks#Quality\n",
    "- 3: Drinks#Style_Options\n",
    "- 4: Food#Prices\n",
    "- 5: Food#Quality\n",
    "- 6: Food#Style_Options\n",
    "- 7: Location#General\n",
    "- 8: Restaurant#General\n",
    "- 9: Restaurant#Miscelleanous\n",
    "- 10: Restaurant#Prices\n",
    "- 11: Service#General\n",
    "\n"
   ]
  }
 ],
 "metadata": {
  "accelerator": "TPU",
  "colab": {
   "collapsed_sections": [],
   "machine_shape": "hm",
   "name": "Sentiment_Polarity_Benchmarks.ipynb",
   "provenance": [],
   "toc_visible": true
  },
  "kernelspec": {
   "display_name": "Python 3",
   "language": "python",
   "name": "python3"
  },
  "language_info": {
   "codemirror_mode": {
    "name": "ipython",
    "version": 3
   },
   "file_extension": ".py",
   "mimetype": "text/x-python",
   "name": "python",
   "nbconvert_exporter": "python",
   "pygments_lexer": "ipython3",
   "version": "3.7.6"
  }
 },
 "nbformat": 4,
 "nbformat_minor": 4
}
