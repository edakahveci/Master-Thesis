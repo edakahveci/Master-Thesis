{
  "nbformat": 4,
  "nbformat_minor": 0,
  "metadata": {
    "accelerator": "GPU",
    "colab": {
      "name": "Tensorflow_BERT.ipynb",
      "provenance": [],
      "collapsed_sections": [],
      "toc_visible": true
    },
    "kernelspec": {
      "display_name": "Python 3",
      "language": "python",
      "name": "python3"
    },
    "language_info": {
      "codemirror_mode": {
        "name": "ipython",
        "version": 3
      },
      "file_extension": ".py",
      "mimetype": "text/x-python",
      "name": "python",
      "nbconvert_exporter": "python",
      "pygments_lexer": "ipython3",
      "version": "3.7.6"
    }
  },
  "cells": [
    {
      "cell_type": "markdown",
      "metadata": {
        "id": "SUrE_P_XXjWu"
      },
      "source": [
        "# Task Description"
      ]
    },
    {
      "cell_type": "markdown",
      "metadata": {
        "id": "a2g3lSaBs7V8"
      },
      "source": [
        "The notebook includes the BERT model for category detection task. Due its straightforward structure and better results (in comparison to Pytorch), I picked the Tensorflow package for BERT model for this task. After I conduct necessary data cleaning and processing, I subtract three necessary inputs of a BERT model. I applied the model through downloading the base pretrained BERT layer from Tensorflow hub and add to the neural network model as a Keras layer.\n",
        "\n",
        "I followed the model developing through the graphs of validation loss and precision and recall, which seem proper for a well functioning neural network model. For the success of the model I paid my attention on F1 score (among other metrics) the most.\n",
        "\n",
        "To elaborate the result labelwise, I checked the  classification report which shows the precision, recall and the f1 score for each label and the confusion metrices that I constructed manually for each label. "
      ]
    },
    {
      "cell_type": "markdown",
      "metadata": {
        "id": "Uq8y1NXZ7Vim"
      },
      "source": [
        "# Packages"
      ]
    },
    {
      "cell_type": "code",
      "metadata": {
        "id": "B-5QskFL7kaq",
        "outputId": "1ed4138b-c00c-4ac0-aa23-61e7538c54b8",
        "colab": {
          "base_uri": "https://localhost:8080/",
          "height": 429
        }
      },
      "source": [
        "pip install transformers"
      ],
      "execution_count": null,
      "outputs": [
        {
          "output_type": "stream",
          "text": [
            "Requirement already satisfied: transformers in /usr/local/lib/python3.6/dist-packages (3.3.1)\n",
            "Requirement already satisfied: requests in /usr/local/lib/python3.6/dist-packages (from transformers) (2.23.0)\n",
            "Requirement already satisfied: regex!=2019.12.17 in /usr/local/lib/python3.6/dist-packages (from transformers) (2019.12.20)\n",
            "Requirement already satisfied: packaging in /usr/local/lib/python3.6/dist-packages (from transformers) (20.4)\n",
            "Requirement already satisfied: numpy in /usr/local/lib/python3.6/dist-packages (from transformers) (1.18.5)\n",
            "Requirement already satisfied: sacremoses in /usr/local/lib/python3.6/dist-packages (from transformers) (0.0.43)\n",
            "Requirement already satisfied: dataclasses; python_version < \"3.7\" in /usr/local/lib/python3.6/dist-packages (from transformers) (0.7)\n",
            "Requirement already satisfied: filelock in /usr/local/lib/python3.6/dist-packages (from transformers) (3.0.12)\n",
            "Requirement already satisfied: sentencepiece!=0.1.92 in /usr/local/lib/python3.6/dist-packages (from transformers) (0.1.91)\n",
            "Requirement already satisfied: tokenizers==0.8.1.rc2 in /usr/local/lib/python3.6/dist-packages (from transformers) (0.8.1rc2)\n",
            "Requirement already satisfied: tqdm>=4.27 in /usr/local/lib/python3.6/dist-packages (from transformers) (4.41.1)\n",
            "Requirement already satisfied: certifi>=2017.4.17 in /usr/local/lib/python3.6/dist-packages (from requests->transformers) (2020.6.20)\n",
            "Requirement already satisfied: urllib3!=1.25.0,!=1.25.1,<1.26,>=1.21.1 in /usr/local/lib/python3.6/dist-packages (from requests->transformers) (1.24.3)\n",
            "Requirement already satisfied: chardet<4,>=3.0.2 in /usr/local/lib/python3.6/dist-packages (from requests->transformers) (3.0.4)\n",
            "Requirement already satisfied: idna<3,>=2.5 in /usr/local/lib/python3.6/dist-packages (from requests->transformers) (2.10)\n",
            "Requirement already satisfied: six in /usr/local/lib/python3.6/dist-packages (from packaging->transformers) (1.15.0)\n",
            "Requirement already satisfied: pyparsing>=2.0.2 in /usr/local/lib/python3.6/dist-packages (from packaging->transformers) (2.4.7)\n",
            "Requirement already satisfied: joblib in /usr/local/lib/python3.6/dist-packages (from sacremoses->transformers) (0.16.0)\n",
            "Requirement already satisfied: click in /usr/local/lib/python3.6/dist-packages (from sacremoses->transformers) (7.1.2)\n"
          ],
          "name": "stdout"
        }
      ]
    },
    {
      "cell_type": "code",
      "metadata": {
        "id": "oQ9wGZii7AD4"
      },
      "source": [
        "import matplotlib.pyplot as plt\n",
        "import numpy as np\n",
        "import os\n",
        "import pandas as pd\n",
        "import random\n",
        "import re\n",
        "import seaborn as sns\n",
        "import string \n",
        "import tensorflow as tf\n",
        "import tensorflow_hub as hub\n",
        "\n",
        "from sklearn.metrics import accuracy_score, average_precision_score, classification_report, confusion_matrix\n",
        "from sklearn.metrics import f1_score, hamming_loss, roc_auc_score, roc_curve\n",
        "from tensorflow.keras.callbacks import EarlyStopping, ModelCheckpoint\n",
        "from tensorflow.keras.layers import Dense, Dropout, Input\n",
        "from tensorflow.keras.losses import CategoricalCrossentropy\n",
        "from tensorflow.keras.metrics import Precision, Recall\n",
        "from tensorflow.keras.models import Model \n",
        "from tensorflow.keras.optimizers import Adam, SGD, RMSprop\n",
        "from tensorflow.keras.utils import to_categorical\n",
        "from transformers import BertTokenizer"
      ],
      "execution_count": null,
      "outputs": []
    },
    {
      "cell_type": "markdown",
      "metadata": {
        "id": "RHArMTeM82Jj"
      },
      "source": [
        "# Data Preprocessing "
      ]
    },
    {
      "cell_type": "code",
      "metadata": {
        "id": "50D_wAeU82Jl",
        "outputId": "848aa107-fea2-414d-96c5-75d4b1ae1562",
        "colab": {
          "base_uri": "https://localhost:8080/",
          "height": 499
        }
      },
      "source": [
        "# Import data\n",
        "train = pd.read_excel('Trainset.xlsx')\n",
        "test = pd.read_excel('Testset.xlsx')\n",
        "\n",
        "# Eliminate the NAs\n",
        "train = train.fillna('')\n",
        "test = test.fillna('')\n",
        "\n",
        "# Remove the rows without Opinion Category İvalues\n",
        "train = train[train.OpinionCategory != ''] \n",
        "test = test[test.OpinionCategory != ''] \n",
        "\n",
        "# Sort the data\n",
        "train = train.sort_values('Sentence_ID').reset_index(drop=True)\n",
        "test = test.sort_values('Sentence_ID').reset_index(drop=True)\n",
        "train.head()"
      ],
      "execution_count": null,
      "outputs": [
        {
          "output_type": "execute_result",
          "data": {
            "text/html": [
              "<div>\n",
              "<style scoped>\n",
              "    .dataframe tbody tr th:only-of-type {\n",
              "        vertical-align: middle;\n",
              "    }\n",
              "\n",
              "    .dataframe tbody tr th {\n",
              "        vertical-align: top;\n",
              "    }\n",
              "\n",
              "    .dataframe thead th {\n",
              "        text-align: right;\n",
              "    }\n",
              "</style>\n",
              "<table border=\"1\" class=\"dataframe\">\n",
              "  <thead>\n",
              "    <tr style=\"text-align: right;\">\n",
              "      <th></th>\n",
              "      <th>ID_number</th>\n",
              "      <th>Review_ID</th>\n",
              "      <th>ID_and_Review</th>\n",
              "      <th>OutOfScope</th>\n",
              "      <th>Sentence_ID</th>\n",
              "      <th>OpinionCategory</th>\n",
              "      <th>OpinionFrom</th>\n",
              "      <th>Polarity</th>\n",
              "      <th>AspectTerm</th>\n",
              "      <th>OpinionTo</th>\n",
              "      <th>Text</th>\n",
              "    </tr>\n",
              "  </thead>\n",
              "  <tbody>\n",
              "    <tr>\n",
              "      <th>0</th>\n",
              "      <td>1004293</td>\n",
              "      <td>1</td>\n",
              "      <td>1004293:0</td>\n",
              "      <td></td>\n",
              "      <td>1</td>\n",
              "      <td>RESTAURANT#GENERAL</td>\n",
              "      <td>51</td>\n",
              "      <td>negative</td>\n",
              "      <td>place</td>\n",
              "      <td>56</td>\n",
              "      <td>Judging from previous posts this used to be a ...</td>\n",
              "    </tr>\n",
              "    <tr>\n",
              "      <th>1</th>\n",
              "      <td>1004293</td>\n",
              "      <td>1</td>\n",
              "      <td>1004293:1</td>\n",
              "      <td></td>\n",
              "      <td>2</td>\n",
              "      <td>SERVICE#GENERAL</td>\n",
              "      <td>75</td>\n",
              "      <td>negative</td>\n",
              "      <td>staff</td>\n",
              "      <td>80</td>\n",
              "      <td>We, there were four of us, arrived at noon - t...</td>\n",
              "    </tr>\n",
              "    <tr>\n",
              "      <th>2</th>\n",
              "      <td>1004293</td>\n",
              "      <td>1</td>\n",
              "      <td>1004293:2</td>\n",
              "      <td></td>\n",
              "      <td>3</td>\n",
              "      <td>SERVICE#GENERAL</td>\n",
              "      <td>0</td>\n",
              "      <td>negative</td>\n",
              "      <td></td>\n",
              "      <td>0</td>\n",
              "      <td>They never brought us complimentary noodles, i...</td>\n",
              "    </tr>\n",
              "    <tr>\n",
              "      <th>3</th>\n",
              "      <td>1004293</td>\n",
              "      <td>1</td>\n",
              "      <td>1004293:3</td>\n",
              "      <td></td>\n",
              "      <td>4</td>\n",
              "      <td>FOOD#QUALITY</td>\n",
              "      <td>4</td>\n",
              "      <td>negative</td>\n",
              "      <td>food</td>\n",
              "      <td>8</td>\n",
              "      <td>The food was lousy - too sweet or too salty an...</td>\n",
              "    </tr>\n",
              "    <tr>\n",
              "      <th>4</th>\n",
              "      <td>1004293</td>\n",
              "      <td>1</td>\n",
              "      <td>1004293:3</td>\n",
              "      <td></td>\n",
              "      <td>4</td>\n",
              "      <td>FOOD#STYLE_OPTIONS</td>\n",
              "      <td>52</td>\n",
              "      <td>negative</td>\n",
              "      <td>portions</td>\n",
              "      <td>60</td>\n",
              "      <td>The food was lousy - too sweet or too salty an...</td>\n",
              "    </tr>\n",
              "  </tbody>\n",
              "</table>\n",
              "</div>"
            ],
            "text/plain": [
              "  ID_number  ...                                               Text\n",
              "0   1004293  ...  Judging from previous posts this used to be a ...\n",
              "1   1004293  ...  We, there were four of us, arrived at noon - t...\n",
              "2   1004293  ...  They never brought us complimentary noodles, i...\n",
              "3   1004293  ...  The food was lousy - too sweet or too salty an...\n",
              "4   1004293  ...  The food was lousy - too sweet or too salty an...\n",
              "\n",
              "[5 rows x 11 columns]"
            ]
          },
          "metadata": {
            "tags": []
          },
          "execution_count": 3
        }
      ]
    },
    {
      "cell_type": "code",
      "metadata": {
        "id": "1HnSWFVauAKI",
        "outputId": "8309f817-aeed-4f93-ffe4-607237295902",
        "colab": {
          "base_uri": "https://localhost:8080/",
          "height": 34
        }
      },
      "source": [
        "train.shape, test.shape"
      ],
      "execution_count": null,
      "outputs": [
        {
          "output_type": "execute_result",
          "data": {
            "text/plain": [
              "((2507, 11), (859, 11))"
            ]
          },
          "metadata": {
            "tags": []
          },
          "execution_count": 4
        }
      ]
    },
    {
      "cell_type": "markdown",
      "metadata": {
        "id": "rjD4e3GLt10Q"
      },
      "source": [
        "Train data consists of 11 variables. The four of them indicate the ID numbers of the sentences, the reviewer, the review and the combination of them. OutofScope variable loses its function when I eliminated the null OpinionCategory values. The Opinion Category shows the aspect which the review refers to. The Opinion Category consists of 12 classes and each class has an entity and a corresponding attribute, in other words, E#A pairs. \n",
        "\n",
        "\n",
        "In this notebook, I will deal only with the Opinion Category and the corresponding reviews under the Text column and leave the analysis for Polarity and AspectTerm (and related columns with AspectTerm) to other notebooks. "
      ]
    },
    {
      "cell_type": "markdown",
      "metadata": {
        "id": "WqIIySMTujpH"
      },
      "source": [
        "## Label Counts"
      ]
    },
    {
      "cell_type": "code",
      "metadata": {
        "id": "F04uJQJN82J5",
        "outputId": "1f2d4e36-19ee-47ed-9705-945fd311b4bc",
        "colab": {
          "base_uri": "https://localhost:8080/",
          "height": 238
        }
      },
      "source": [
        "train.OpinionCategory.value_counts()"
      ],
      "execution_count": null,
      "outputs": [
        {
          "output_type": "execute_result",
          "data": {
            "text/plain": [
              "FOOD#QUALITY                849\n",
              "SERVICE#GENERAL             449\n",
              "RESTAURANT#GENERAL          422\n",
              "AMBIENCE#GENERAL            255\n",
              "FOOD#STYLE_OPTIONS          137\n",
              "RESTAURANT#MISCELLANEOUS     98\n",
              "FOOD#PRICES                  90\n",
              "RESTAURANT#PRICES            80\n",
              "DRINKS#QUALITY               47\n",
              "DRINKS#STYLE_OPTIONS         32\n",
              "LOCATION#GENERAL             28\n",
              "DRINKS#PRICES                20\n",
              "Name: OpinionCategory, dtype: int64"
            ]
          },
          "metadata": {
            "tags": []
          },
          "execution_count": 5
        }
      ]
    },
    {
      "cell_type": "markdown",
      "metadata": {
        "id": "iYrxh7fhumxm"
      },
      "source": [
        "As it can be seen above, the aspects mentioned in the sentences fall into 12 different categories. The distribution of categories is quite imbalanced, as the four biggest categories correspond to 78% of the training data."
      ]
    },
    {
      "cell_type": "markdown",
      "metadata": {
        "id": "B2xi_zFhvbUZ"
      },
      "source": [
        "## Multilabeling"
      ]
    },
    {
      "cell_type": "code",
      "metadata": {
        "id": "c-Lo-YjuQAwM",
        "outputId": "3120bffe-a5ef-4fb2-a8ac-d1c8dc99d930",
        "colab": {
          "base_uri": "https://localhost:8080/",
          "height": 34
        }
      },
      "source": [
        "# First, one-hot encode each sentence (duplicate ones as well)\n",
        "train.OpinionCategory = train.OpinionCategory.astype('category')\n",
        "one_hot = to_categorical(train.OpinionCategory.cat.codes)\n",
        "one_hot = pd.DataFrame(one_hot)\n",
        "\n",
        "test.OpinionCategory = test.OpinionCategory.astype('category')\n",
        "one_hot_test = to_categorical(test.OpinionCategory.cat.codes)\n",
        "one_hot_test = pd.DataFrame(one_hot_test)\n",
        "\n",
        "one_hot.shape, one_hot_test.shape # There are 12 opinion category classes."
      ],
      "execution_count": null,
      "outputs": [
        {
          "output_type": "execute_result",
          "data": {
            "text/plain": [
              "((2507, 12), (859, 12))"
            ]
          },
          "metadata": {
            "tags": []
          },
          "execution_count": 6
        }
      ]
    },
    {
      "cell_type": "code",
      "metadata": {
        "id": "y6yHRl0W82KD",
        "outputId": "aae021c6-5ed4-41f2-9cc1-3c04e549dfb4",
        "colab": {
          "base_uri": "https://localhost:8080/",
          "height": 238
        }
      },
      "source": [
        "# Subtract the necessary columns for the analysis\n",
        "useful_train = train[['Sentence_ID','OpinionCategory','Text']]\n",
        "useful_test = test[['Sentence_ID','OpinionCategory','Text']]\n",
        "\n",
        "# Concatenate the train data and the one-hot-encoding of the opinion category classes.\n",
        "data_train = pd.concat([useful_train, one_hot], axis=1)\n",
        "data_test = pd.concat([useful_test, one_hot_test], axis=1)\n",
        "\n",
        "# Since the reviewer may have mentioned more than one opinion in a sentence, \n",
        "# Sum up the one-hot-encoded classes of each sentence.\n",
        "multi_label = data_train.groupby('Sentence_ID').sum().reset_index(drop=True)\n",
        "multi_label_test = data_test.groupby('Sentence_ID').sum().reset_index(drop=True)\n",
        "\n",
        "# In each sentence, an opinion category may be refered more than one.\n",
        "# Because of that, there were values besides 0 and 1, after the summation.\n",
        "# Since being refered is important rather than how many times, the values such as 2 or 3 are reverted to one.\n",
        "multi_label = np.array(multi_label.astype(bool).astype(int))\n",
        "multi_label_test = np.array(multi_label_test.astype(bool).astype(int))\n",
        "\n",
        "# After the multi-labeling of the sentences, remove the duplicates.\n",
        "train_Text = data_train.drop_duplicates(subset=['Sentence_ID'], keep='last').Text\n",
        "test_Text = data_test.drop_duplicates(subset=['Sentence_ID'], keep='last').Text\n",
        "\n",
        "multi_label, multi_label.shape, multi_label_test, multi_label_test.shape"
      ],
      "execution_count": null,
      "outputs": [
        {
          "output_type": "execute_result",
          "data": {
            "text/plain": [
              "(array([[0, 0, 0, ..., 0, 0, 0],\n",
              "        [0, 0, 0, ..., 0, 0, 1],\n",
              "        [0, 0, 0, ..., 0, 0, 1],\n",
              "        ...,\n",
              "        [0, 0, 0, ..., 0, 0, 1],\n",
              "        [0, 0, 0, ..., 0, 0, 1],\n",
              "        [0, 0, 0, ..., 0, 0, 1]]), (1708, 12), array([[0, 0, 0, ..., 0, 0, 0],\n",
              "        [0, 0, 0, ..., 0, 0, 0],\n",
              "        [0, 0, 0, ..., 0, 0, 0],\n",
              "        ...,\n",
              "        [0, 0, 0, ..., 0, 0, 0],\n",
              "        [0, 0, 0, ..., 1, 0, 1],\n",
              "        [0, 0, 0, ..., 0, 0, 0]]), (587, 12))"
            ]
          },
          "metadata": {
            "tags": []
          },
          "execution_count": 7
        }
      ]
    },
    {
      "cell_type": "markdown",
      "metadata": {
        "id": "c2l72LckAPAM"
      },
      "source": [
        "## Undersampling & Oversampling"
      ]
    },
    {
      "cell_type": "code",
      "metadata": {
        "id": "sYMpuvgK5HS1",
        "outputId": "a03fa1af-6a0e-44db-d05a-4af4e993c28c",
        "colab": {
          "base_uri": "https://localhost:8080/",
          "height": 34
        }
      },
      "source": [
        "df = pd.merge(pd.DataFrame(train_Text).reset_index(drop=True), pd.DataFrame(multi_label), left_index=True, right_index=True)\n",
        "imbalance_list =[]\n",
        "for i in range(12):\n",
        "  imbalance_list.append(len(df[df[i]== 1]))\n",
        "imbalance_list"
      ],
      "execution_count": null,
      "outputs": [
        {
          "output_type": "execute_result",
          "data": {
            "text/plain": [
              "[226, 20, 46, 30, 82, 681, 128, 28, 421, 97, 80, 419]"
            ]
          },
          "metadata": {
            "tags": []
          },
          "execution_count": 24
        }
      ]
    },
    {
      "cell_type": "code",
      "metadata": {
        "id": "U4L2GCmt7huB",
        "outputId": "33912fb7-a79a-44d8-8722-a29dce280cbe",
        "colab": {
          "base_uri": "https://localhost:8080/",
          "height": 419
        }
      },
      "source": [
        "df = pd.merge(pd.DataFrame(train_Text).reset_index(drop=True), pd.DataFrame(multi_label), left_index=True, right_index=True)\n",
        "\n",
        "x = df[df[1] == 1] # Drinks#Prices\n",
        "y = df[df[2] == 1] # Drinks#Quality\n",
        "z = df[df[3] == 1] # Drinks#Style_Options\n",
        "w = df[df[7] == 1] # Location#General\n",
        "a = df[df[4] == 1] # Food#Prices\n",
        "b = df[df[9] == 1] # Restaurant#Miscellaneous\n",
        "c = df[df[10] == 1] # Resturant#Prices\n",
        "\n",
        "x = x.append([x]*2,ignore_index=True)\n",
        "y = y.append([y]*2,ignore_index=True)\n",
        "z = z.append([z]*2,ignore_index=True)\n",
        "w = w.append([w]*2,ignore_index=True)\n",
        "a = a.append([a]*1,ignore_index=True)\n",
        "b = b.append([b]*1,ignore_index=True)\n",
        "c = c.append([c]*1,ignore_index=True)\n",
        "\n",
        "train_df = pd.concat([df, x, y, z, w, a, b, c]).reset_index(drop=True)\n",
        "train_df"
      ],
      "execution_count": null,
      "outputs": [
        {
          "output_type": "execute_result",
          "data": {
            "text/html": [
              "<div>\n",
              "<style scoped>\n",
              "    .dataframe tbody tr th:only-of-type {\n",
              "        vertical-align: middle;\n",
              "    }\n",
              "\n",
              "    .dataframe tbody tr th {\n",
              "        vertical-align: top;\n",
              "    }\n",
              "\n",
              "    .dataframe thead th {\n",
              "        text-align: right;\n",
              "    }\n",
              "</style>\n",
              "<table border=\"1\" class=\"dataframe\">\n",
              "  <thead>\n",
              "    <tr style=\"text-align: right;\">\n",
              "      <th></th>\n",
              "      <th>Text</th>\n",
              "      <th>0</th>\n",
              "      <th>1</th>\n",
              "      <th>2</th>\n",
              "      <th>3</th>\n",
              "      <th>4</th>\n",
              "      <th>5</th>\n",
              "      <th>6</th>\n",
              "      <th>7</th>\n",
              "      <th>8</th>\n",
              "      <th>9</th>\n",
              "      <th>10</th>\n",
              "      <th>11</th>\n",
              "    </tr>\n",
              "  </thead>\n",
              "  <tbody>\n",
              "    <tr>\n",
              "      <th>0</th>\n",
              "      <td>Judging from previous posts this used to be a ...</td>\n",
              "      <td>0</td>\n",
              "      <td>0</td>\n",
              "      <td>0</td>\n",
              "      <td>0</td>\n",
              "      <td>0</td>\n",
              "      <td>0</td>\n",
              "      <td>0</td>\n",
              "      <td>0</td>\n",
              "      <td>1</td>\n",
              "      <td>0</td>\n",
              "      <td>0</td>\n",
              "      <td>0</td>\n",
              "    </tr>\n",
              "    <tr>\n",
              "      <th>1</th>\n",
              "      <td>We, there were four of us, arrived at noon - t...</td>\n",
              "      <td>0</td>\n",
              "      <td>0</td>\n",
              "      <td>0</td>\n",
              "      <td>0</td>\n",
              "      <td>0</td>\n",
              "      <td>0</td>\n",
              "      <td>0</td>\n",
              "      <td>0</td>\n",
              "      <td>0</td>\n",
              "      <td>0</td>\n",
              "      <td>0</td>\n",
              "      <td>1</td>\n",
              "    </tr>\n",
              "    <tr>\n",
              "      <th>2</th>\n",
              "      <td>They never brought us complimentary noodles, i...</td>\n",
              "      <td>0</td>\n",
              "      <td>0</td>\n",
              "      <td>0</td>\n",
              "      <td>0</td>\n",
              "      <td>0</td>\n",
              "      <td>0</td>\n",
              "      <td>0</td>\n",
              "      <td>0</td>\n",
              "      <td>0</td>\n",
              "      <td>0</td>\n",
              "      <td>0</td>\n",
              "      <td>1</td>\n",
              "    </tr>\n",
              "    <tr>\n",
              "      <th>3</th>\n",
              "      <td>The food was lousy - too sweet or too salty an...</td>\n",
              "      <td>0</td>\n",
              "      <td>0</td>\n",
              "      <td>0</td>\n",
              "      <td>0</td>\n",
              "      <td>0</td>\n",
              "      <td>1</td>\n",
              "      <td>1</td>\n",
              "      <td>0</td>\n",
              "      <td>0</td>\n",
              "      <td>0</td>\n",
              "      <td>0</td>\n",
              "      <td>0</td>\n",
              "    </tr>\n",
              "    <tr>\n",
              "      <th>4</th>\n",
              "      <td>After all that, they complained to me about th...</td>\n",
              "      <td>0</td>\n",
              "      <td>0</td>\n",
              "      <td>0</td>\n",
              "      <td>0</td>\n",
              "      <td>0</td>\n",
              "      <td>0</td>\n",
              "      <td>0</td>\n",
              "      <td>0</td>\n",
              "      <td>0</td>\n",
              "      <td>0</td>\n",
              "      <td>0</td>\n",
              "      <td>1</td>\n",
              "    </tr>\n",
              "    <tr>\n",
              "      <th>...</th>\n",
              "      <td>...</td>\n",
              "      <td>...</td>\n",
              "      <td>...</td>\n",
              "      <td>...</td>\n",
              "      <td>...</td>\n",
              "      <td>...</td>\n",
              "      <td>...</td>\n",
              "      <td>...</td>\n",
              "      <td>...</td>\n",
              "      <td>...</td>\n",
              "      <td>...</td>\n",
              "      <td>...</td>\n",
              "      <td>...</td>\n",
              "    </tr>\n",
              "    <tr>\n",
              "      <th>2593</th>\n",
              "      <td>It's a little out of our price range for dinin...</td>\n",
              "      <td>0</td>\n",
              "      <td>0</td>\n",
              "      <td>0</td>\n",
              "      <td>0</td>\n",
              "      <td>0</td>\n",
              "      <td>0</td>\n",
              "      <td>0</td>\n",
              "      <td>0</td>\n",
              "      <td>0</td>\n",
              "      <td>0</td>\n",
              "      <td>1</td>\n",
              "      <td>0</td>\n",
              "    </tr>\n",
              "    <tr>\n",
              "      <th>2594</th>\n",
              "      <td>Considering you will spend at least $60 a head...</td>\n",
              "      <td>0</td>\n",
              "      <td>0</td>\n",
              "      <td>0</td>\n",
              "      <td>0</td>\n",
              "      <td>0</td>\n",
              "      <td>0</td>\n",
              "      <td>0</td>\n",
              "      <td>0</td>\n",
              "      <td>0</td>\n",
              "      <td>0</td>\n",
              "      <td>1</td>\n",
              "      <td>1</td>\n",
              "    </tr>\n",
              "    <tr>\n",
              "      <th>2595</th>\n",
              "      <td>At first glance this place seems a bit pricey ...</td>\n",
              "      <td>0</td>\n",
              "      <td>0</td>\n",
              "      <td>0</td>\n",
              "      <td>0</td>\n",
              "      <td>0</td>\n",
              "      <td>1</td>\n",
              "      <td>0</td>\n",
              "      <td>0</td>\n",
              "      <td>0</td>\n",
              "      <td>0</td>\n",
              "      <td>1</td>\n",
              "      <td>0</td>\n",
              "    </tr>\n",
              "    <tr>\n",
              "      <th>2596</th>\n",
              "      <td>Can’t believe how an expensive NYC restaurant ...</td>\n",
              "      <td>0</td>\n",
              "      <td>0</td>\n",
              "      <td>0</td>\n",
              "      <td>0</td>\n",
              "      <td>0</td>\n",
              "      <td>0</td>\n",
              "      <td>0</td>\n",
              "      <td>0</td>\n",
              "      <td>0</td>\n",
              "      <td>0</td>\n",
              "      <td>1</td>\n",
              "      <td>1</td>\n",
              "    </tr>\n",
              "    <tr>\n",
              "      <th>2597</th>\n",
              "      <td>Expensive</td>\n",
              "      <td>0</td>\n",
              "      <td>0</td>\n",
              "      <td>0</td>\n",
              "      <td>0</td>\n",
              "      <td>0</td>\n",
              "      <td>0</td>\n",
              "      <td>0</td>\n",
              "      <td>0</td>\n",
              "      <td>0</td>\n",
              "      <td>0</td>\n",
              "      <td>1</td>\n",
              "      <td>0</td>\n",
              "    </tr>\n",
              "  </tbody>\n",
              "</table>\n",
              "<p>2598 rows × 13 columns</p>\n",
              "</div>"
            ],
            "text/plain": [
              "                                                   Text  0  1  2  ...  8  9  10  11\n",
              "0     Judging from previous posts this used to be a ...  0  0  0  ...  1  0   0   0\n",
              "1     We, there were four of us, arrived at noon - t...  0  0  0  ...  0  0   0   1\n",
              "2     They never brought us complimentary noodles, i...  0  0  0  ...  0  0   0   1\n",
              "3     The food was lousy - too sweet or too salty an...  0  0  0  ...  0  0   0   0\n",
              "4     After all that, they complained to me about th...  0  0  0  ...  0  0   0   1\n",
              "...                                                 ... .. .. ..  ... .. ..  ..  ..\n",
              "2593  It's a little out of our price range for dinin...  0  0  0  ...  0  0   1   0\n",
              "2594  Considering you will spend at least $60 a head...  0  0  0  ...  0  0   1   1\n",
              "2595  At first glance this place seems a bit pricey ...  0  0  0  ...  0  0   1   0\n",
              "2596  Can’t believe how an expensive NYC restaurant ...  0  0  0  ...  0  0   1   1\n",
              "2597                                          Expensive  0  0  0  ...  0  0   1   0\n",
              "\n",
              "[2598 rows x 13 columns]"
            ]
          },
          "metadata": {
            "tags": []
          },
          "execution_count": 9
        }
      ]
    },
    {
      "cell_type": "code",
      "metadata": {
        "id": "bLtZR_pXYTT-",
        "outputId": "b21fb0e0-de8e-4625-8d04-72907bf5f822",
        "colab": {
          "base_uri": "https://localhost:8080/",
          "height": 34
        }
      },
      "source": [
        "imbalance_list =[]\n",
        "for i in range(12):\n",
        "  imbalance_list.append(len(train_df[train_df[i]== 1]))\n",
        "imbalance_list"
      ],
      "execution_count": null,
      "outputs": [
        {
          "output_type": "execute_result",
          "data": {
            "text/plain": [
              "[353, 134, 225, 154, 268, 943, 172, 123, 498, 299, 264, 554]"
            ]
          },
          "metadata": {
            "tags": []
          },
          "execution_count": 10
        }
      ]
    },
    {
      "cell_type": "code",
      "metadata": {
        "id": "uME7xA6__rMz",
        "outputId": "8e6d4754-9ba7-4835-a1dd-1099f8256f96",
        "colab": {
          "base_uri": "https://localhost:8080/",
          "height": 136
        }
      },
      "source": [
        "multi_label = np.array(train_df.iloc[:, 1:13])\n",
        "multi_label"
      ],
      "execution_count": null,
      "outputs": [
        {
          "output_type": "execute_result",
          "data": {
            "text/plain": [
              "array([[0, 0, 0, ..., 0, 0, 0],\n",
              "       [0, 0, 0, ..., 0, 0, 1],\n",
              "       [0, 0, 0, ..., 0, 0, 1],\n",
              "       ...,\n",
              "       [0, 0, 0, ..., 0, 1, 0],\n",
              "       [0, 0, 0, ..., 0, 1, 1],\n",
              "       [0, 0, 0, ..., 0, 1, 0]])"
            ]
          },
          "metadata": {
            "tags": []
          },
          "execution_count": 11
        }
      ]
    },
    {
      "cell_type": "markdown",
      "metadata": {
        "id": "J72AguYo69lB"
      },
      "source": [
        "## Data Manipulation"
      ]
    },
    {
      "cell_type": "code",
      "metadata": {
        "id": "txDhe55H687q"
      },
      "source": [
        "lowest4 = pd.read_excel('lowest4.xlsx')\n",
        "nextlowest3 = pd.read_excel('nextlowest3.xlsx')"
      ],
      "execution_count": null,
      "outputs": []
    },
    {
      "cell_type": "code",
      "metadata": {
        "id": "lCSrrmhg8RAk",
        "outputId": "12cfa79f-60f2-4b05-cfc2-dd4a8845dbfe",
        "colab": {
          "base_uri": "https://localhost:8080/",
          "height": 204
        }
      },
      "source": [
        "lowest4.head()"
      ],
      "execution_count": null,
      "outputs": [
        {
          "output_type": "execute_result",
          "data": {
            "text/html": [
              "<div>\n",
              "<style scoped>\n",
              "    .dataframe tbody tr th:only-of-type {\n",
              "        vertical-align: middle;\n",
              "    }\n",
              "\n",
              "    .dataframe tbody tr th {\n",
              "        vertical-align: top;\n",
              "    }\n",
              "\n",
              "    .dataframe thead th {\n",
              "        text-align: right;\n",
              "    }\n",
              "</style>\n",
              "<table border=\"1\" class=\"dataframe\">\n",
              "  <thead>\n",
              "    <tr style=\"text-align: right;\">\n",
              "      <th></th>\n",
              "      <th>Text</th>\n",
              "      <th>0</th>\n",
              "      <th>1</th>\n",
              "      <th>2</th>\n",
              "      <th>3</th>\n",
              "      <th>4</th>\n",
              "      <th>5</th>\n",
              "      <th>6</th>\n",
              "      <th>7</th>\n",
              "      <th>8</th>\n",
              "      <th>9</th>\n",
              "      <th>10</th>\n",
              "      <th>11</th>\n",
              "    </tr>\n",
              "  </thead>\n",
              "  <tbody>\n",
              "    <tr>\n",
              "      <th>0</th>\n",
              "      <td>The wine list has many good values.</td>\n",
              "      <td>0</td>\n",
              "      <td>1</td>\n",
              "      <td>0</td>\n",
              "      <td>0</td>\n",
              "      <td>0</td>\n",
              "      <td>0</td>\n",
              "      <td>0</td>\n",
              "      <td>0</td>\n",
              "      <td>0</td>\n",
              "      <td>0</td>\n",
              "      <td>0</td>\n",
              "      <td>0</td>\n",
              "    </tr>\n",
              "    <tr>\n",
              "      <th>1</th>\n",
              "      <td>wine at reasonable prices.</td>\n",
              "      <td>0</td>\n",
              "      <td>1</td>\n",
              "      <td>0</td>\n",
              "      <td>0</td>\n",
              "      <td>0</td>\n",
              "      <td>0</td>\n",
              "      <td>0</td>\n",
              "      <td>0</td>\n",
              "      <td>0</td>\n",
              "      <td>0</td>\n",
              "      <td>0</td>\n",
              "      <td>0</td>\n",
              "    </tr>\n",
              "    <tr>\n",
              "      <th>2</th>\n",
              "      <td>Gigondas is worth the price, and the house cha...</td>\n",
              "      <td>0</td>\n",
              "      <td>1</td>\n",
              "      <td>1</td>\n",
              "      <td>0</td>\n",
              "      <td>0</td>\n",
              "      <td>0</td>\n",
              "      <td>0</td>\n",
              "      <td>0</td>\n",
              "      <td>0</td>\n",
              "      <td>0</td>\n",
              "      <td>0</td>\n",
              "      <td>0</td>\n",
              "    </tr>\n",
              "    <tr>\n",
              "      <th>3</th>\n",
              "      <td>wine selection is fairly priced.</td>\n",
              "      <td>0</td>\n",
              "      <td>1</td>\n",
              "      <td>0</td>\n",
              "      <td>0</td>\n",
              "      <td>0</td>\n",
              "      <td>0</td>\n",
              "      <td>0</td>\n",
              "      <td>0</td>\n",
              "      <td>0</td>\n",
              "      <td>0</td>\n",
              "      <td>0</td>\n",
              "      <td>0</td>\n",
              "    </tr>\n",
              "    <tr>\n",
              "      <th>4</th>\n",
              "      <td>The bar is very well stocked with well priced ...</td>\n",
              "      <td>0</td>\n",
              "      <td>1</td>\n",
              "      <td>0</td>\n",
              "      <td>1</td>\n",
              "      <td>0</td>\n",
              "      <td>0</td>\n",
              "      <td>0</td>\n",
              "      <td>0</td>\n",
              "      <td>0</td>\n",
              "      <td>0</td>\n",
              "      <td>0</td>\n",
              "      <td>0</td>\n",
              "    </tr>\n",
              "  </tbody>\n",
              "</table>\n",
              "</div>"
            ],
            "text/plain": [
              "                                                Text  0  1  2  ...  8  9  10  11\n",
              "0                The wine list has many good values.  0  1  0  ...  0  0   0   0\n",
              "1                         wine at reasonable prices.  0  1  0  ...  0  0   0   0\n",
              "2  Gigondas is worth the price, and the house cha...  0  1  1  ...  0  0   0   0\n",
              "3                   wine selection is fairly priced.  0  1  0  ...  0  0   0   0\n",
              "4  The bar is very well stocked with well priced ...  0  1  0  ...  0  0   0   0\n",
              "\n",
              "[5 rows x 13 columns]"
            ]
          },
          "metadata": {
            "tags": []
          },
          "execution_count": 9
        }
      ]
    },
    {
      "cell_type": "code",
      "metadata": {
        "id": "7gha0Dq48UrN",
        "outputId": "ca9ee2e3-924b-4cbc-a48d-8ec84dc91887",
        "colab": {
          "base_uri": "https://localhost:8080/",
          "height": 204
        }
      },
      "source": [
        "df = pd.merge(pd.DataFrame(train_Text).reset_index(drop=True), pd.DataFrame(multi_label), left_index=True, right_index=True)\n",
        "df.head()"
      ],
      "execution_count": null,
      "outputs": [
        {
          "output_type": "execute_result",
          "data": {
            "text/html": [
              "<div>\n",
              "<style scoped>\n",
              "    .dataframe tbody tr th:only-of-type {\n",
              "        vertical-align: middle;\n",
              "    }\n",
              "\n",
              "    .dataframe tbody tr th {\n",
              "        vertical-align: top;\n",
              "    }\n",
              "\n",
              "    .dataframe thead th {\n",
              "        text-align: right;\n",
              "    }\n",
              "</style>\n",
              "<table border=\"1\" class=\"dataframe\">\n",
              "  <thead>\n",
              "    <tr style=\"text-align: right;\">\n",
              "      <th></th>\n",
              "      <th>Text</th>\n",
              "      <th>0</th>\n",
              "      <th>1</th>\n",
              "      <th>2</th>\n",
              "      <th>3</th>\n",
              "      <th>4</th>\n",
              "      <th>5</th>\n",
              "      <th>6</th>\n",
              "      <th>7</th>\n",
              "      <th>8</th>\n",
              "      <th>9</th>\n",
              "      <th>10</th>\n",
              "      <th>11</th>\n",
              "    </tr>\n",
              "  </thead>\n",
              "  <tbody>\n",
              "    <tr>\n",
              "      <th>0</th>\n",
              "      <td>Judging from previous posts this used to be a ...</td>\n",
              "      <td>0</td>\n",
              "      <td>0</td>\n",
              "      <td>0</td>\n",
              "      <td>0</td>\n",
              "      <td>0</td>\n",
              "      <td>0</td>\n",
              "      <td>0</td>\n",
              "      <td>0</td>\n",
              "      <td>1</td>\n",
              "      <td>0</td>\n",
              "      <td>0</td>\n",
              "      <td>0</td>\n",
              "    </tr>\n",
              "    <tr>\n",
              "      <th>1</th>\n",
              "      <td>We, there were four of us, arrived at noon - t...</td>\n",
              "      <td>0</td>\n",
              "      <td>0</td>\n",
              "      <td>0</td>\n",
              "      <td>0</td>\n",
              "      <td>0</td>\n",
              "      <td>0</td>\n",
              "      <td>0</td>\n",
              "      <td>0</td>\n",
              "      <td>0</td>\n",
              "      <td>0</td>\n",
              "      <td>0</td>\n",
              "      <td>1</td>\n",
              "    </tr>\n",
              "    <tr>\n",
              "      <th>2</th>\n",
              "      <td>They never brought us complimentary noodles, i...</td>\n",
              "      <td>0</td>\n",
              "      <td>0</td>\n",
              "      <td>0</td>\n",
              "      <td>0</td>\n",
              "      <td>0</td>\n",
              "      <td>0</td>\n",
              "      <td>0</td>\n",
              "      <td>0</td>\n",
              "      <td>0</td>\n",
              "      <td>0</td>\n",
              "      <td>0</td>\n",
              "      <td>1</td>\n",
              "    </tr>\n",
              "    <tr>\n",
              "      <th>3</th>\n",
              "      <td>The food was lousy - too sweet or too salty an...</td>\n",
              "      <td>0</td>\n",
              "      <td>0</td>\n",
              "      <td>0</td>\n",
              "      <td>0</td>\n",
              "      <td>0</td>\n",
              "      <td>1</td>\n",
              "      <td>1</td>\n",
              "      <td>0</td>\n",
              "      <td>0</td>\n",
              "      <td>0</td>\n",
              "      <td>0</td>\n",
              "      <td>0</td>\n",
              "    </tr>\n",
              "    <tr>\n",
              "      <th>4</th>\n",
              "      <td>After all that, they complained to me about th...</td>\n",
              "      <td>0</td>\n",
              "      <td>0</td>\n",
              "      <td>0</td>\n",
              "      <td>0</td>\n",
              "      <td>0</td>\n",
              "      <td>0</td>\n",
              "      <td>0</td>\n",
              "      <td>0</td>\n",
              "      <td>0</td>\n",
              "      <td>0</td>\n",
              "      <td>0</td>\n",
              "      <td>1</td>\n",
              "    </tr>\n",
              "  </tbody>\n",
              "</table>\n",
              "</div>"
            ],
            "text/plain": [
              "                                                Text  0  1  2  ...  8  9  10  11\n",
              "0  Judging from previous posts this used to be a ...  0  0  0  ...  1  0   0   0\n",
              "1  We, there were four of us, arrived at noon - t...  0  0  0  ...  0  0   0   1\n",
              "2  They never brought us complimentary noodles, i...  0  0  0  ...  0  0   0   1\n",
              "3  The food was lousy - too sweet or too salty an...  0  0  0  ...  0  0   0   0\n",
              "4  After all that, they complained to me about th...  0  0  0  ...  0  0   0   1\n",
              "\n",
              "[5 rows x 13 columns]"
            ]
          },
          "metadata": {
            "tags": []
          },
          "execution_count": 12
        }
      ]
    },
    {
      "cell_type": "code",
      "metadata": {
        "id": "6IPH59kR8fDf",
        "outputId": "46efdb90-12cb-4ddb-dc22-b557d2ab6fae",
        "colab": {
          "base_uri": "https://localhost:8080/",
          "height": 419
        }
      },
      "source": [
        "lowest4 = lowest4.append([lowest4]*2,ignore_index=True)\n",
        "nextlowest3 = nextlowest3.append([nextlowest3]*1,ignore_index=True)\n",
        "\n",
        "train_df = pd.concat([df, lowest4, nextlowest3]).reset_index(drop=True)\n",
        "train_df"
      ],
      "execution_count": null,
      "outputs": [
        {
          "output_type": "execute_result",
          "data": {
            "text/html": [
              "<div>\n",
              "<style scoped>\n",
              "    .dataframe tbody tr th:only-of-type {\n",
              "        vertical-align: middle;\n",
              "    }\n",
              "\n",
              "    .dataframe tbody tr th {\n",
              "        vertical-align: top;\n",
              "    }\n",
              "\n",
              "    .dataframe thead th {\n",
              "        text-align: right;\n",
              "    }\n",
              "</style>\n",
              "<table border=\"1\" class=\"dataframe\">\n",
              "  <thead>\n",
              "    <tr style=\"text-align: right;\">\n",
              "      <th></th>\n",
              "      <th>Text</th>\n",
              "      <th>0</th>\n",
              "      <th>1</th>\n",
              "      <th>2</th>\n",
              "      <th>3</th>\n",
              "      <th>4</th>\n",
              "      <th>5</th>\n",
              "      <th>6</th>\n",
              "      <th>7</th>\n",
              "      <th>8</th>\n",
              "      <th>9</th>\n",
              "      <th>10</th>\n",
              "      <th>11</th>\n",
              "    </tr>\n",
              "  </thead>\n",
              "  <tbody>\n",
              "    <tr>\n",
              "      <th>0</th>\n",
              "      <td>Judging from previous posts this used to be a ...</td>\n",
              "      <td>0</td>\n",
              "      <td>0</td>\n",
              "      <td>0</td>\n",
              "      <td>0</td>\n",
              "      <td>0</td>\n",
              "      <td>0</td>\n",
              "      <td>0</td>\n",
              "      <td>0</td>\n",
              "      <td>1</td>\n",
              "      <td>0</td>\n",
              "      <td>0</td>\n",
              "      <td>0</td>\n",
              "    </tr>\n",
              "    <tr>\n",
              "      <th>1</th>\n",
              "      <td>We, there were four of us, arrived at noon - t...</td>\n",
              "      <td>0</td>\n",
              "      <td>0</td>\n",
              "      <td>0</td>\n",
              "      <td>0</td>\n",
              "      <td>0</td>\n",
              "      <td>0</td>\n",
              "      <td>0</td>\n",
              "      <td>0</td>\n",
              "      <td>0</td>\n",
              "      <td>0</td>\n",
              "      <td>0</td>\n",
              "      <td>1</td>\n",
              "    </tr>\n",
              "    <tr>\n",
              "      <th>2</th>\n",
              "      <td>They never brought us complimentary noodles, i...</td>\n",
              "      <td>0</td>\n",
              "      <td>0</td>\n",
              "      <td>0</td>\n",
              "      <td>0</td>\n",
              "      <td>0</td>\n",
              "      <td>0</td>\n",
              "      <td>0</td>\n",
              "      <td>0</td>\n",
              "      <td>0</td>\n",
              "      <td>0</td>\n",
              "      <td>0</td>\n",
              "      <td>1</td>\n",
              "    </tr>\n",
              "    <tr>\n",
              "      <th>3</th>\n",
              "      <td>The food was lousy - too sweet or too salty an...</td>\n",
              "      <td>0</td>\n",
              "      <td>0</td>\n",
              "      <td>0</td>\n",
              "      <td>0</td>\n",
              "      <td>0</td>\n",
              "      <td>1</td>\n",
              "      <td>1</td>\n",
              "      <td>0</td>\n",
              "      <td>0</td>\n",
              "      <td>0</td>\n",
              "      <td>0</td>\n",
              "      <td>0</td>\n",
              "    </tr>\n",
              "    <tr>\n",
              "      <th>4</th>\n",
              "      <td>After all that, they complained to me about th...</td>\n",
              "      <td>0</td>\n",
              "      <td>0</td>\n",
              "      <td>0</td>\n",
              "      <td>0</td>\n",
              "      <td>0</td>\n",
              "      <td>0</td>\n",
              "      <td>0</td>\n",
              "      <td>0</td>\n",
              "      <td>0</td>\n",
              "      <td>0</td>\n",
              "      <td>0</td>\n",
              "      <td>1</td>\n",
              "    </tr>\n",
              "    <tr>\n",
              "      <th>...</th>\n",
              "      <td>...</td>\n",
              "      <td>...</td>\n",
              "      <td>...</td>\n",
              "      <td>...</td>\n",
              "      <td>...</td>\n",
              "      <td>...</td>\n",
              "      <td>...</td>\n",
              "      <td>...</td>\n",
              "      <td>...</td>\n",
              "      <td>...</td>\n",
              "      <td>...</td>\n",
              "      <td>...</td>\n",
              "      <td>...</td>\n",
              "    </tr>\n",
              "    <tr>\n",
              "      <th>2590</th>\n",
              "      <td>It's a little out of our price range for dinin...</td>\n",
              "      <td>0</td>\n",
              "      <td>0</td>\n",
              "      <td>0</td>\n",
              "      <td>0</td>\n",
              "      <td>0</td>\n",
              "      <td>0</td>\n",
              "      <td>0</td>\n",
              "      <td>0</td>\n",
              "      <td>0</td>\n",
              "      <td>0</td>\n",
              "      <td>1</td>\n",
              "      <td>0</td>\n",
              "    </tr>\n",
              "    <tr>\n",
              "      <th>2591</th>\n",
              "      <td>Considering you will spend at least $60 a head...</td>\n",
              "      <td>0</td>\n",
              "      <td>0</td>\n",
              "      <td>0</td>\n",
              "      <td>0</td>\n",
              "      <td>0</td>\n",
              "      <td>0</td>\n",
              "      <td>0</td>\n",
              "      <td>0</td>\n",
              "      <td>0</td>\n",
              "      <td>0</td>\n",
              "      <td>1</td>\n",
              "      <td>1</td>\n",
              "    </tr>\n",
              "    <tr>\n",
              "      <th>2592</th>\n",
              "      <td>At first glance this place seems a bit pricey ...</td>\n",
              "      <td>0</td>\n",
              "      <td>0</td>\n",
              "      <td>0</td>\n",
              "      <td>0</td>\n",
              "      <td>0</td>\n",
              "      <td>1</td>\n",
              "      <td>0</td>\n",
              "      <td>0</td>\n",
              "      <td>0</td>\n",
              "      <td>0</td>\n",
              "      <td>1</td>\n",
              "      <td>0</td>\n",
              "    </tr>\n",
              "    <tr>\n",
              "      <th>2593</th>\n",
              "      <td>an expensive NYC restaurant</td>\n",
              "      <td>0</td>\n",
              "      <td>0</td>\n",
              "      <td>0</td>\n",
              "      <td>0</td>\n",
              "      <td>0</td>\n",
              "      <td>0</td>\n",
              "      <td>0</td>\n",
              "      <td>0</td>\n",
              "      <td>0</td>\n",
              "      <td>0</td>\n",
              "      <td>1</td>\n",
              "      <td>0</td>\n",
              "    </tr>\n",
              "    <tr>\n",
              "      <th>2594</th>\n",
              "      <td>Expensive</td>\n",
              "      <td>0</td>\n",
              "      <td>0</td>\n",
              "      <td>0</td>\n",
              "      <td>0</td>\n",
              "      <td>0</td>\n",
              "      <td>0</td>\n",
              "      <td>0</td>\n",
              "      <td>0</td>\n",
              "      <td>0</td>\n",
              "      <td>0</td>\n",
              "      <td>1</td>\n",
              "      <td>0</td>\n",
              "    </tr>\n",
              "  </tbody>\n",
              "</table>\n",
              "<p>2595 rows × 13 columns</p>\n",
              "</div>"
            ],
            "text/plain": [
              "                                                   Text  0  1  2  ...  8  9  10  11\n",
              "0     Judging from previous posts this used to be a ...  0  0  0  ...  1  0   0   0\n",
              "1     We, there were four of us, arrived at noon - t...  0  0  0  ...  0  0   0   1\n",
              "2     They never brought us complimentary noodles, i...  0  0  0  ...  0  0   0   1\n",
              "3     The food was lousy - too sweet or too salty an...  0  0  0  ...  0  0   0   0\n",
              "4     After all that, they complained to me about th...  0  0  0  ...  0  0   0   1\n",
              "...                                                 ... .. .. ..  ... .. ..  ..  ..\n",
              "2590  It's a little out of our price range for dinin...  0  0  0  ...  0  0   1   0\n",
              "2591  Considering you will spend at least $60 a head...  0  0  0  ...  0  0   1   1\n",
              "2592  At first glance this place seems a bit pricey ...  0  0  0  ...  0  0   1   0\n",
              "2593                        an expensive NYC restaurant  0  0  0  ...  0  0   1   0\n",
              "2594                                          Expensive  0  0  0  ...  0  0   1   0\n",
              "\n",
              "[2595 rows x 13 columns]"
            ]
          },
          "metadata": {
            "tags": []
          },
          "execution_count": 14
        }
      ]
    },
    {
      "cell_type": "code",
      "metadata": {
        "id": "d3iZ7Vwn8s6f",
        "outputId": "8cbea9ad-18d8-4d0e-c444-ddba211cab4a",
        "colab": {
          "base_uri": "https://localhost:8080/",
          "height": 34
        }
      },
      "source": [
        "imbalance_list =[]\n",
        "for i in range(12):\n",
        "  imbalance_list.append(len(train_df[train_df[i]== 1]))\n",
        "imbalance_list"
      ],
      "execution_count": null,
      "outputs": [
        {
          "output_type": "execute_result",
          "data": {
            "text/plain": [
              "[316, 117, 211, 140, 262, 831, 158, 117, 490, 299, 261, 495]"
            ]
          },
          "metadata": {
            "tags": []
          },
          "execution_count": 15
        }
      ]
    },
    {
      "cell_type": "code",
      "metadata": {
        "id": "kd5Qg69p8yff",
        "outputId": "d08ad0b0-819d-4f6b-8be8-d6d4ab992d5a",
        "colab": {
          "base_uri": "https://localhost:8080/",
          "height": 136
        }
      },
      "source": [
        "multi_label = np.array(train_df.iloc[:, 1:13])\n",
        "multi_label"
      ],
      "execution_count": null,
      "outputs": [
        {
          "output_type": "execute_result",
          "data": {
            "text/plain": [
              "array([[0, 0, 0, ..., 0, 0, 0],\n",
              "       [0, 0, 0, ..., 0, 0, 1],\n",
              "       [0, 0, 0, ..., 0, 0, 1],\n",
              "       ...,\n",
              "       [0, 0, 0, ..., 0, 1, 0],\n",
              "       [0, 0, 0, ..., 0, 1, 0],\n",
              "       [0, 0, 0, ..., 0, 1, 0]])"
            ]
          },
          "metadata": {
            "tags": []
          },
          "execution_count": 16
        }
      ]
    },
    {
      "cell_type": "markdown",
      "metadata": {
        "id": "-e9PoSKjxQ2C"
      },
      "source": [
        "# Bert Tokenization"
      ]
    },
    {
      "cell_type": "code",
      "metadata": {
        "id": "GzluFLFkQAwu",
        "outputId": "2b5d645d-d3bc-42fd-f26d-d3493c15797f",
        "colab": {
          "base_uri": "https://localhost:8080/",
          "height": 51
        }
      },
      "source": [
        "# add special tokens for BERT to work properly\n",
        "sentences = [\"[CLS] \" + sent + \" [SEP]\" for sent in train_df.Text.astype(str)]\n",
        "sentences_test = [\"[CLS] \" + sent + \" [SEP]\" for sent in test_Text.astype(str)]\n",
        "\n",
        "sentences[0], sentences_test[0]"
      ],
      "execution_count": null,
      "outputs": [
        {
          "output_type": "execute_result",
          "data": {
            "text/plain": [
              "('[CLS] Judging from previous posts this used to be a good place, but not any longer. [SEP]',\n",
              " '[CLS] Yum! [SEP]')"
            ]
          },
          "metadata": {
            "tags": []
          },
          "execution_count": 17
        }
      ]
    },
    {
      "cell_type": "markdown",
      "metadata": {
        "id": "U2zHTKXm82KK"
      },
      "source": [
        "For the tokenization, pre-trained Bert-Base-Uncased dictionary is used. They constructed it with WordPiece embeddings with a 30,000 token vocabulary. "
      ]
    },
    {
      "cell_type": "code",
      "metadata": {
        "id": "B-3Al2iXQAww",
        "outputId": "22ba82ce-f321-491d-9a90-d1db0354ad68",
        "colab": {
          "base_uri": "https://localhost:8080/",
          "height": 357
        }
      },
      "source": [
        "# Tokenize with BERT tokenizer both train and test data\n",
        "tokenizer = BertTokenizer.from_pretrained('bert-base-uncased', do_lower_case=True)\n",
        "tokenized_texts = [tokenizer.tokenize(sent) for sent in sentences]\n",
        "tokenized_texts_test = [tokenizer.tokenize(sent) for sent in sentences_test]\n",
        "\n",
        "tokenized_texts[0], tokenized_texts_test[0]"
      ],
      "execution_count": null,
      "outputs": [
        {
          "output_type": "execute_result",
          "data": {
            "text/plain": [
              "(['[CLS]',\n",
              "  'judging',\n",
              "  'from',\n",
              "  'previous',\n",
              "  'posts',\n",
              "  'this',\n",
              "  'used',\n",
              "  'to',\n",
              "  'be',\n",
              "  'a',\n",
              "  'good',\n",
              "  'place',\n",
              "  ',',\n",
              "  'but',\n",
              "  'not',\n",
              "  'any',\n",
              "  'longer',\n",
              "  '.',\n",
              "  '[SEP]'],\n",
              " ['[CLS]', 'yu', '##m', '!', '[SEP]'])"
            ]
          },
          "metadata": {
            "tags": []
          },
          "execution_count": 18
        }
      ]
    },
    {
      "cell_type": "markdown",
      "metadata": {
        "id": "swreGSowUcH0"
      },
      "source": [
        "# Input Preparation"
      ]
    },
    {
      "cell_type": "markdown",
      "metadata": {
        "id": "j_nQt7PY82KM"
      },
      "source": [
        "For the BERT model to work, we need three inputs. \n",
        "- Input IDs: shows the ID number of each token with padding. The ID numbers are restored from the BERT vocabulary dictionary.\n",
        "- Mask IDs: indicates which elements in the sequence are tokens and which are padding elements.\n",
        "- Segment IDs: distinguishes different sentences, 0 for one-sentence sequence, 1 if there are two sentences. (For the model in this notebook, it will play no role, since the data is constructed with separate sentences for each observation.)\n"
      ]
    },
    {
      "cell_type": "code",
      "metadata": {
        "id": "RNCcS863QAwx"
      },
      "source": [
        "def get_ids(tokens, tokenizer, max_seq_length):\n",
        "    token_ids = tokenizer.convert_tokens_to_ids(tokens)\n",
        "    input_ids = token_ids + [0] * (max_seq_length-len(token_ids))\n",
        "    return input_ids\n",
        "\n",
        "def get_masks(tokens, max_seq_length):\n",
        "    if len(tokens) > max_seq_length:\n",
        "        raise IndexError(\"Token length more than max seq length!\")\n",
        "    return [1]*len(tokens) + [0] * (max_seq_length - len(tokens))\n",
        "\n",
        "def get_segments(tokens, max_seq_length):\n",
        "    if len(tokens)>max_seq_length:\n",
        "        raise IndexError(\"Token length more than max seq length!\")\n",
        "    segments = []\n",
        "    current_segment_id = 0\n",
        "    for token in tokens:\n",
        "        segments.append(current_segment_id)\n",
        "        if token == \"[SEP]\":\n",
        "            current_segment_id = 1\n",
        "    return segments + [0] * (max_seq_length - len(tokens))"
      ],
      "execution_count": null,
      "outputs": []
    },
    {
      "cell_type": "code",
      "metadata": {
        "id": "85JdLD8582KO",
        "outputId": "38fedec1-3c93-4ee3-c2b1-e5d1f0c4ef1d",
        "colab": {
          "base_uri": "https://localhost:8080/",
          "height": 34
        }
      },
      "source": [
        "# find the longest sequence for the padding\n",
        "def find_max_list(list):\n",
        "    list_len = [len(i) for i in list]\n",
        "    return max(list_len)\n",
        "    \n",
        "longestSeq_train = find_max_list(tokenized_texts)\n",
        "longestSeq_test = find_max_list(tokenized_texts_test)\n",
        "max_seq_length = max(longestSeq_train, longestSeq_test)\n",
        "print(max_seq_length)"
      ],
      "execution_count": null,
      "outputs": [
        {
          "output_type": "stream",
          "text": [
            "93\n"
          ],
          "name": "stdout"
        }
      ]
    },
    {
      "cell_type": "code",
      "metadata": {
        "id": "IkIZ39cpQAwy"
      },
      "source": [
        "# Find input_ids, mask_ids and segment_ids of the train and test data.\n",
        "max_seq_length = max_seq_length\n",
        "input_ids = []\n",
        "mask_ids = [] \n",
        "segments_ids = []\n",
        "for i in range(len(tokenized_texts)):\n",
        "    input_ids.append(get_ids(tokenized_texts[i], tokenizer, max_seq_length))\n",
        "    mask_ids.append(get_masks(tokenized_texts[i], max_seq_length))\n",
        "    segments_ids.append(get_segments(tokenized_texts[i], max_seq_length))\n",
        "    \n",
        "input_ids_test = []\n",
        "mask_ids_test = [] \n",
        "segments_ids_test = [] \n",
        "for i in range(len(tokenized_texts_test)):\n",
        "    input_ids_test.append(get_ids(tokenized_texts_test[i], tokenizer, max_seq_length))\n",
        "    mask_ids_test.append(get_masks(tokenized_texts_test[i], max_seq_length))\n",
        "    segments_ids_test.append(get_segments(tokenized_texts_test[i], max_seq_length))\n",
        "    \n",
        "# For the model, I converted the lists to tensors.\n",
        "input_ids = tf.convert_to_tensor(input_ids, dtype = tf.int32)\n",
        "mask_ids = tf.convert_to_tensor(mask_ids, dtype = tf.int32)\n",
        "segments_ids = tf.convert_to_tensor(segments_ids, dtype = tf.int32)\n",
        "\n",
        "input_ids_test = tf.convert_to_tensor(input_ids_test, dtype = tf.int32)\n",
        "mask_ids_test = tf.convert_to_tensor(mask_ids_test, dtype = tf.int32)\n",
        "segments_ids_test = tf.convert_to_tensor(segments_ids_test, dtype = tf.int32)"
      ],
      "execution_count": null,
      "outputs": []
    },
    {
      "cell_type": "markdown",
      "metadata": {
        "id": "MiuTf_Bo82KR"
      },
      "source": [
        "# Model"
      ]
    },
    {
      "cell_type": "markdown",
      "metadata": {
        "id": "kKCLX9e182KR"
      },
      "source": [
        "The uncased BERT model is used with 12 hidden layers and 110M parameters, trained on Wikipedia and Book-Corpus data and hosted by Google on TensorFlow Hub. "
      ]
    },
    {
      "cell_type": "code",
      "metadata": {
        "id": "V9bpAlyu82KR",
        "outputId": "34c91611-c462-4b7f-b7b6-d5cc02cb53a5",
        "colab": {
          "base_uri": "https://localhost:8080/",
          "height": 1000
        }
      },
      "source": [
        "random.seed(123)\n",
        "# Three Inputs of the Bert Model\n",
        "InputIDLayer = Input(shape = (max_seq_length,), dtype = tf.int32, name = \"InputIDs\")\n",
        "MaskIDLayer = Input(shape = (max_seq_length,), dtype = tf.int32, name = \"MaskIDs\")\n",
        "SegmentIDLayer = Input(shape = (max_seq_length,), dtype = tf.int32, name = \"SegmentIDs\")\n",
        "\n",
        "# Import the pre-trained uncased Bert model\n",
        "bertLayer = hub.KerasLayer(\"https://tfhub.dev/tensorflow/bert_en_uncased_L-12_H-768_A-12/1\", trainable=True)\n",
        "\n",
        "# Since it is a classisfication problem, the pooled output is needed.\n",
        "pooled_output, sequence_output = bertLayer([InputIDLayer, MaskIDLayer, SegmentIDLayer])\n",
        "pooled_output = Dropout(0.5)(pooled_output)\n",
        "output = Dense(units = 768, activation = \"tanh\")(pooled_output)\n",
        "output = Dropout(0.5)(output)\n",
        "output = Dense(units = 12, activation = \"softmax\")(output)\n",
        "\n",
        "model = Model(inputs=[InputIDLayer, MaskIDLayer, SegmentIDLayer], outputs = output)\n",
        "\n",
        "# Model Compilation\n",
        "learning_rate = 2e-5\n",
        "number_of_epochs = 10\n",
        "optimizer = Adam(learning_rate = learning_rate, epsilon = 1e-08)\n",
        "loss = CategoricalCrossentropy(from_logits = False)\n",
        "metrics = [Precision(), Recall()]\n",
        "\n",
        "model.compile(optimizer = optimizer, \n",
        "              loss = loss,\n",
        "              metrics = metrics)\n",
        "\n",
        "# Model Training & Fine-Tuning on train data\n",
        "earlyStopping = EarlyStopping(monitor = \"val_loss\", mode = \"min\", patience = 1)\n",
        "checkpoint_path = 'training/cp.ckpt'\n",
        "cp_callback = tf.keras.callbacks.ModelCheckpoint(filepath = checkpoint_path,\n",
        "                                                 save_best_only = False,\n",
        "                                                 save_weights_only = True,\n",
        "                                                 verbose = 1)\n",
        "\n",
        "bert_history = model.fit([input_ids, mask_ids, segments_ids], [multi_label],\n",
        "                         epochs = number_of_epochs, \n",
        "                         batch_size = 64,\n",
        "                         validation_split = 0.1,\n",
        "                         callbacks = [earlyStopping, cp_callback]\n",
        "                         )"
      ],
      "execution_count": null,
      "outputs": [
        {
          "output_type": "stream",
          "text": [
            "INFO:absl:Using /tmp/tfhub_modules to cache modules.\n"
          ],
          "name": "stderr"
        },
        {
          "output_type": "stream",
          "text": [
            "Epoch 1/10\n",
            "37/37 [==============================] - ETA: 0s - loss: 3.7169 - precision: 0.3788 - recall: 0.0306\n",
            "Epoch 00001: saving model to training/cp.ckpt\n",
            "37/37 [==============================] - 48s 1s/step - loss: 3.7169 - precision: 0.3788 - recall: 0.0306 - val_loss: 4.2253 - val_precision: 0.5357 - val_recall: 0.0706\n",
            "Epoch 2/10\n",
            "37/37 [==============================] - ETA: 0s - loss: 3.0556 - precision: 0.7164 - recall: 0.1776\n",
            "Epoch 00002: saving model to training/cp.ckpt\n",
            "37/37 [==============================] - 48s 1s/step - loss: 3.0556 - precision: 0.7164 - recall: 0.1776 - val_loss: 3.8952 - val_precision: 0.5377 - val_recall: 0.1341\n",
            "Epoch 3/10\n",
            "37/37 [==============================] - ETA: 0s - loss: 2.3979 - precision: 0.8006 - recall: 0.3313\n",
            "Epoch 00003: saving model to training/cp.ckpt\n",
            "37/37 [==============================] - 47s 1s/step - loss: 2.3979 - precision: 0.8006 - recall: 0.3313 - val_loss: 2.9974 - val_precision: 0.6667 - val_recall: 0.1882\n",
            "Epoch 4/10\n",
            "37/37 [==============================] - ETA: 0s - loss: 1.9452 - precision: 0.8731 - recall: 0.4645\n",
            "Epoch 00004: saving model to training/cp.ckpt\n",
            "37/37 [==============================] - 48s 1s/step - loss: 1.9452 - precision: 0.8731 - recall: 0.4645 - val_loss: 2.5523 - val_precision: 0.8612 - val_recall: 0.4235\n",
            "Epoch 5/10\n",
            "37/37 [==============================] - ETA: 0s - loss: 1.6757 - precision: 0.9265 - recall: 0.5590\n",
            "Epoch 00005: saving model to training/cp.ckpt\n",
            "37/37 [==============================] - 48s 1s/step - loss: 1.6757 - precision: 0.9265 - recall: 0.5590 - val_loss: 1.9597 - val_precision: 0.9776 - val_recall: 0.5129\n",
            "Epoch 6/10\n",
            "37/37 [==============================] - ETA: 0s - loss: 1.5016 - precision: 0.9488 - recall: 0.6167\n",
            "Epoch 00006: saving model to training/cp.ckpt\n",
            "37/37 [==============================] - 47s 1s/step - loss: 1.5016 - precision: 0.9488 - recall: 0.6167 - val_loss: 1.9394 - val_precision: 0.9791 - val_recall: 0.5506\n",
            "Epoch 7/10\n",
            "37/37 [==============================] - ETA: 0s - loss: 1.4109 - precision: 0.9618 - recall: 0.6461\n",
            "Epoch 00007: saving model to training/cp.ckpt\n",
            "37/37 [==============================] - 48s 1s/step - loss: 1.4109 - precision: 0.9618 - recall: 0.6461 - val_loss: 1.8597 - val_precision: 0.9796 - val_recall: 0.5647\n",
            "Epoch 8/10\n",
            "37/37 [==============================] - ETA: 0s - loss: 1.3709 - precision: 0.9744 - recall: 0.6632\n",
            "Epoch 00008: saving model to training/cp.ckpt\n",
            "37/37 [==============================] - 47s 1s/step - loss: 1.3709 - precision: 0.9744 - recall: 0.6632 - val_loss: 2.1599 - val_precision: 0.9878 - val_recall: 0.5718\n"
          ],
          "name": "stdout"
        }
      ]
    },
    {
      "cell_type": "markdown",
      "metadata": {
        "id": "dXMx7rTQUBDg"
      },
      "source": [
        "## Performance Graphs"
      ]
    },
    {
      "cell_type": "markdown",
      "metadata": {
        "id": "pS4N7rFfRkUq"
      },
      "source": [
        "### Loss Graph"
      ]
    },
    {
      "cell_type": "code",
      "metadata": {
        "id": "Hn_33gKARC9s",
        "outputId": "30561083-317b-4418-bf6a-aa9a74dbaaef",
        "colab": {
          "base_uri": "https://localhost:8080/",
          "height": 427
        }
      },
      "source": [
        "history_dict = bert_history.history\n",
        "\n",
        "precision = history_dict['precision']\n",
        "val_precision = history_dict['val_precision']\n",
        "recall = history_dict['recall']\n",
        "val_recall = history_dict['val_recall']\n",
        "loss = history_dict['loss']\n",
        "val_loss = history_dict['val_loss']\n",
        "\n",
        "epochs = range(1, len(precision) + 1)\n",
        "\n",
        "# Use plot styling from seaborn.\n",
        "sns.set_style('darkgrid')\n",
        "\n",
        "# Increase the plot size and font size.\n",
        "sns.set(font_scale=1.5)\n",
        "plt.rcParams[\"figure.figsize\"] = (12,6)\n",
        "\n",
        "# Plot the learning curve.\n",
        "plt.plot(loss, 'b-o', label=\"training loss\")\n",
        "plt.plot(val_loss, 'r-o', label=\"validation loss\")\n",
        "\n",
        "# Label the plot.\n",
        "plt.title(\"Learning curve\")\n",
        "plt.xlabel(\"Epoch\")\n",
        "plt.ylabel(\"Loss\")\n",
        "plt.legend()\n",
        "\n",
        "plt.show()"
      ],
      "execution_count": null,
      "outputs": [
        {
          "output_type": "display_data",
          "data": {
            "image/png": "[encoded data removed]",
            "text/plain": [
              "<Figure size 864x432 with 1 Axes>"
            ]
          },
          "metadata": {
            "tags": []
          }
        }
      ]
    },
    {
      "cell_type": "markdown",
      "metadata": {
        "id": "GuZ7zAKP8bXE"
      },
      "source": [
        "### Precision & Recall Graph"
      ]
    },
    {
      "cell_type": "code",
      "metadata": {
        "id": "y4OPEBbH1yCo",
        "outputId": "b8c859f9-8113-46b9-e942-10f4ae98fd78",
        "colab": {
          "base_uri": "https://localhost:8080/",
          "height": 427
        }
      },
      "source": [
        "plt.clf()   # clear figure\n",
        "\n",
        "# Use plot styling from seaborn.\n",
        "sns.set(style='darkgrid')\n",
        "\n",
        "# Increase the plot size and font size.\n",
        "sns.set(font_scale=1.5)\n",
        "plt.rcParams[\"figure.figsize\"] = (12,6)\n",
        "\n",
        "plt.plot(epochs, precision, 'bo', label='Training precision')\n",
        "plt.plot(epochs, val_precision, 'b', label='Validation precision')\n",
        "plt.plot(epochs, recall, 'ro', label='Training recall')\n",
        "plt.plot(epochs, val_recall, 'r', label='Validation recall')\n",
        "plt.title('Precision & Recall Curve')\n",
        "plt.xlabel('Epochs')\n",
        "plt.ylabel('Precision § Recall')\n",
        "plt.legend()\n",
        "\n",
        "plt.show()"
      ],
      "execution_count": null,
      "outputs": [
        {
          "output_type": "display_data",
          "data": {
            "image/png": "[encoded data removed]",
            "text/plain": [
              "<Figure size 864x432 with 1 Axes>"
            ]
          },
          "metadata": {
            "tags": []
          }
        }
      ]
    },
    {
      "cell_type": "markdown",
      "metadata": {
        "id": "TqWkInk3TPE_"
      },
      "source": [
        "## Model Evaluation"
      ]
    },
    {
      "cell_type": "markdown",
      "metadata": {
        "id": "CBA8kqKHUILL"
      },
      "source": [
        "### F1 Score & Precision & Recall & Subset Accuracy & Hamming Loss"
      ]
    },
    {
      "cell_type": "code",
      "metadata": {
        "id": "0Ag-7pkI82KT",
        "outputId": "d5536c52-bcf0-4ed1-ae11-b1b4d1e2e511",
        "colab": {
          "base_uri": "https://localhost:8080/",
          "height": 136
        }
      },
      "source": [
        "# Precision, Recall, F1 Score\n",
        "random.seed(123)\n",
        "results = model.evaluate([input_ids_test, mask_ids_test, segments_ids_test], multi_label_test)\n",
        "f1_score = 2 * (results[1] * results[2])/(results[1] + results[2])\n",
        "\n",
        "print(\"Test Precision: {}\".format(round(results[1], 3)))\n",
        "print(\"Test Recall: {}\".format(round(results[2], 3)))\n",
        "print(\"Test F1-Score: {}\".format(round(f1_score,3)))\n",
        "\n",
        "# Predictions\n",
        "pred_labels = model.predict([input_ids_test, mask_ids_test, segments_ids_test])\n",
        "\n",
        "multi_preds = pred_labels >= 0.10\n",
        "multi_preds = multi_preds.astype(int)\n",
        "\n",
        "# Average Precision Score\n",
        "avp = average_precision_score(multi_label_test, multi_preds)\n",
        "print(\"Test Average Precision Score: {}\".format(round(avp)))\n",
        "# Subset accuracy\n",
        "print('Subset accuracy: {0}'.format(round(accuracy_score(multi_label_test, multi_preds, normalize=True, sample_weight=None), 3)))\n",
        "# Hamming loss (smaller is better)\n",
        "print('Hamming loss: {0}'.format(round(hamming_loss(multi_label_test, multi_preds), 3)))"
      ],
      "execution_count": null,
      "outputs": [
        {
          "output_type": "stream",
          "text": [
            "19/19 [==============================] - 4s 202ms/step - loss: 1.9201 - precision: 0.8460 - recall: 0.6285\n",
            "Test Precision: 0.846\n",
            "Test Recall: 0.629\n",
            "Test F1-Score: 0.721\n",
            "Test Average Precision Score: 0.0\n",
            "Subset accuracy: 0.584\n",
            "Hamming loss: 0.056\n"
          ],
          "name": "stdout"
        }
      ]
    },
    {
      "cell_type": "markdown",
      "metadata": {
        "id": "57OimztUr2tz"
      },
      "source": [
        "## Label Based Evaluation"
      ]
    },
    {
      "cell_type": "markdown",
      "metadata": {
        "id": "HyMf6yXs87Bn"
      },
      "source": [
        "### Classification Report"
      ]
    },
    {
      "cell_type": "code",
      "metadata": {
        "id": "R56riD7iFQkm",
        "outputId": "7f2f2247-d3c4-4513-85d0-9e26adfe1b78",
        "colab": {
          "base_uri": "https://localhost:8080/",
          "height": 357
        }
      },
      "source": [
        "categories = sorted(train.OpinionCategory.unique())\n",
        "pred_bools = (multi_preds == 1)\n",
        "true_bools = (multi_label_test == 1)\n",
        "clf_report = classification_report(true_bools, pred_bools, target_names=categories\n",
        "                                   )\n",
        "print(clf_report)"
      ],
      "execution_count": null,
      "outputs": [
        {
          "output_type": "stream",
          "text": [
            "                          precision    recall  f1-score   support\n",
            "\n",
            "        AMBIENCE#GENERAL       0.47      0.82      0.60        57\n",
            "           DRINKS#PRICES       0.75      1.00      0.86         3\n",
            "          DRINKS#QUALITY       0.50      0.48      0.49        21\n",
            "    DRINKS#STYLE_OPTIONS       0.57      0.33      0.42        12\n",
            "             FOOD#PRICES       0.60      0.41      0.49        22\n",
            "            FOOD#QUALITY       0.75      0.97      0.85       226\n",
            "      FOOD#STYLE_OPTIONS       0.62      0.31      0.42        48\n",
            "        LOCATION#GENERAL       0.62      0.38      0.48        13\n",
            "      RESTAURANT#GENERAL       0.84      0.79      0.81       142\n",
            "RESTAURANT#MISCELLANEOUS       0.36      0.39      0.38        33\n",
            "       RESTAURANT#PRICES       0.64      0.43      0.51        21\n",
            "         SERVICE#GENERAL       0.84      0.94      0.89       145\n",
            "\n",
            "               micro avg       0.71      0.78      0.75       743\n",
            "               macro avg       0.63      0.61      0.60       743\n",
            "            weighted avg       0.72      0.78      0.74       743\n",
            "             samples avg       0.80      0.83      0.79       743\n",
            "\n"
          ],
          "name": "stdout"
        }
      ]
    },
    {
      "cell_type": "markdown",
      "metadata": {
        "id": "W15wFr5nUO7_"
      },
      "source": [
        "### Confusion Matrices"
      ]
    },
    {
      "cell_type": "code",
      "metadata": {
        "id": "yj_Ouzh2kKqE",
        "outputId": "2d5eab32-d133-4b10-b737-43b750e024ce",
        "colab": {
          "base_uri": "https://localhost:8080/",
          "height": 1000
        }
      },
      "source": [
        "# Confusion Matrices\n",
        "# Setting the threshold as 0.10\n",
        "df_pred = pd.DataFrame(pred_labels)\n",
        "df_pred_clean = df_pred.apply(lambda x: [0 if y <= 0.10 else 1 for y in x])\n",
        "pred_clean = np.array(df_pred_clean)\n",
        "\n",
        "y_true = multi_label_test\n",
        "y_pred = pred_clean\n",
        "\n",
        "labels = range(12)\n",
        "\n",
        "# Confusion Matrices\n",
        "conf_mat_dict={}\n",
        "\n",
        "for label_col in labels:\n",
        "    y_true_label = y_true[:, label_col]\n",
        "    y_pred_label = y_pred[:, label_col]\n",
        "    conf_mat_dict.setdefault(label_col,[]).append(confusion_matrix(y_pred=y_pred_label, y_true=y_true_label))\n",
        "    conf_mat_dict.setdefault(label_col,[]).append(y_true_label)\n",
        "    conf_mat_dict.setdefault(label_col,[]).append(y_pred_label)\n",
        "\n",
        "for label, values in conf_mat_dict.items():\n",
        "    print(\"Confusion matrix for label {}:\".format(label))\n",
        "    matrix = values[0]\n",
        "    print(matrix)\n",
        "    recall = matrix[0][0] / (matrix[0][0] + matrix[1][0])\n",
        "    print(\"Recall: {}\".format(round(recall, 2)))\n",
        "    precision = matrix[0][0] / (matrix[0][0] + matrix[0][1])\n",
        "    print(\"Precision: {}\".format(round(precision, 2)))\n",
        "    f1_score =  2 * (precision * recall)/(precision + recall)\n",
        "    print(\"F1 Score: {}\".format(round(f1_score, 2)))\n",
        "    true_label = values[1]\n",
        "    pred_label = values[2]\n",
        "    \n",
        "    print(\"ROC/AUC Score: {}\".format(round(roc_auc_score(y_true_label, y_pred_label),2)))\n",
        "    fp, tp, thresholds = roc_curve(true_label, pred_label)\n",
        "    def evaluate_threshold(tpr, fpr,clf_threshold, threshold):\n",
        "      print('Sensitivity:', round(tp[thresholds > threshold][-1],2))\n",
        "      print('Specificity:', 1 - round(fp[thresholds > threshold][-1],2))\n",
        "    evaluate_threshold(tp, fp, thresholds, 0.1)\n",
        "    print()\n",
        "    plt.plot(fp, tp, label=\"label {}\". format(label))\n",
        "    plt.xlim([0.0, 1.0])\n",
        "    plt.ylim([0.0, 1.0])\n",
        "    plt.rcParams['font.size'] = 12\n",
        "    plt.title('ROC curve')\n",
        "    plt.xlabel('False Positive Rate (1 - Specificity)')\n",
        "    plt.ylabel('True Positive Rate (Sensitivity)')\n",
        "    plt.legend(loc=\"lower right\", fontsize=10)\n",
        "    plt.grid(True)  "
      ],
      "execution_count": null,
      "outputs": [
        {
          "output_type": "stream",
          "text": [
            "Confusion matrix for label 0:\n",
            "[[504  26]\n",
            " [ 10  47]]\n",
            "Recall: 0.98\n",
            "Precision: 0.95\n",
            "F1 Score: 0.97\n",
            "ROC/AUC Score: 0.92\n",
            "Sensitivity: 0.82\n",
            "Specificity: 0.95\n",
            "\n",
            "Confusion matrix for label 1:\n",
            "[[582   2]\n",
            " [  1   2]]\n",
            "Recall: 1.0\n",
            "Precision: 1.0\n",
            "F1 Score: 1.0\n",
            "ROC/AUC Score: 0.92\n",
            "Sensitivity: 0.67\n",
            "Specificity: 1.0\n",
            "\n",
            "Confusion matrix for label 2:\n",
            "[[558   8]\n",
            " [ 12   9]]\n",
            "Recall: 0.98\n",
            "Precision: 0.99\n",
            "F1 Score: 0.98\n",
            "ROC/AUC Score: 0.92\n",
            "Sensitivity: 0.43\n",
            "Specificity: 0.99\n",
            "\n",
            "Confusion matrix for label 3:\n",
            "[[571   4]\n",
            " [  6   6]]\n",
            "Recall: 0.99\n",
            "Precision: 0.99\n",
            "F1 Score: 0.99\n",
            "ROC/AUC Score: 0.92\n",
            "Sensitivity: 0.5\n",
            "Specificity: 0.99\n",
            "\n",
            "Confusion matrix for label 4:\n",
            "[[551  14]\n",
            " [  7  15]]\n",
            "Recall: 0.99\n",
            "Precision: 0.98\n",
            "F1 Score: 0.98\n",
            "ROC/AUC Score: 0.92\n",
            "Sensitivity: 0.68\n",
            "Specificity: 0.98\n",
            "\n",
            "Confusion matrix for label 5:\n",
            "[[300  61]\n",
            " [  6 220]]\n",
            "Recall: 0.98\n",
            "Precision: 0.83\n",
            "F1 Score: 0.9\n",
            "ROC/AUC Score: 0.92\n",
            "Sensitivity: 0.97\n",
            "Specificity: 0.83\n",
            "\n",
            "Confusion matrix for label 6:\n",
            "[[532   7]\n",
            " [ 37  11]]\n",
            "Recall: 0.93\n",
            "Precision: 0.99\n",
            "F1 Score: 0.96\n",
            "ROC/AUC Score: 0.92\n",
            "Sensitivity: 0.23\n",
            "Specificity: 0.99\n",
            "\n",
            "Confusion matrix for label 7:\n",
            "[[571   3]\n",
            " [  7   6]]\n",
            "Recall: 0.99\n",
            "Precision: 0.99\n",
            "F1 Score: 0.99\n",
            "ROC/AUC Score: 0.92\n",
            "Sensitivity: 0.46\n",
            "Specificity: 0.99\n",
            "\n",
            "Confusion matrix for label 8:\n",
            "[[412  33]\n",
            " [ 23 119]]\n",
            "Recall: 0.95\n",
            "Precision: 0.93\n",
            "F1 Score: 0.94\n",
            "ROC/AUC Score: 0.92\n",
            "Sensitivity: 0.84\n",
            "Specificity: 0.9299999999999999\n",
            "\n",
            "Confusion matrix for label 9:\n",
            "[[543  11]\n",
            " [ 27   6]]\n",
            "Recall: 0.95\n",
            "Precision: 0.98\n",
            "F1 Score: 0.97\n",
            "ROC/AUC Score: 0.92\n",
            "Sensitivity: 0.18\n",
            "Specificity: 0.98\n",
            "\n",
            "Confusion matrix for label 10:\n",
            "[[565   1]\n",
            " [ 15   6]]\n",
            "Recall: 0.97\n",
            "Precision: 1.0\n",
            "F1 Score: 0.99\n",
            "ROC/AUC Score: 0.92\n",
            "Sensitivity: 0.29\n",
            "Specificity: 1.0\n",
            "\n",
            "Confusion matrix for label 11:\n",
            "[[425  17]\n",
            " [ 17 128]]\n",
            "Recall: 0.96\n",
            "Precision: 0.96\n",
            "F1 Score: 0.96\n",
            "ROC/AUC Score: 0.92\n",
            "Sensitivity: 0.88\n",
            "Specificity: 0.96\n",
            "\n"
          ],
          "name": "stdout"
        },
        {
          "output_type": "display_data",
          "data": {
            "image/png": "[encoded data removed]",
            "text/plain": [
              "<Figure size 864x432 with 1 Axes>"
            ]
          },
          "metadata": {
            "tags": []
          }
        }
      ]
    },
    {
      "cell_type": "markdown",
      "metadata": {
        "id": "uJNBGJ7HjDrF"
      },
      "source": [
        "The label names corresponding to the indexes:\n",
        "- 0: Ambience#General\n",
        "- 1: Drinks#Prices\n",
        "- 2: Drinks#Quality\n",
        "- 3: Drinks#Style_Options\n",
        "- 4: Food#Prices\n",
        "- 5: Food#Quality\n",
        "- 6: Food#Style_Options\n",
        "- 7: Location#General\n",
        "- 8: Restaurant#General\n",
        "- 9: Restaurant#Miscelleanous\n",
        "- 10: Restaurant#Prices\n",
        "- 11: Service#General"
      ]
    },
    {
      "cell_type": "markdown",
      "metadata": {
        "id": "MMiols5s69SE"
      },
      "source": [
        "## Output Frame"
      ]
    },
    {
      "cell_type": "code",
      "metadata": {
        "id": "K9O7KcG565im",
        "outputId": "7a9c361c-917d-456d-c12f-41f72db1d265",
        "colab": {
          "base_uri": "https://localhost:8080/",
          "height": 258
        }
      },
      "source": [
        "label_cols = list(pd.DataFrame(multi_label).columns)\n",
        "label_cols_test = list(pd.DataFrame(multi_label_test).columns)\n",
        "label_names = sorted(train.OpinionCategory.values.unique())\n",
        "\n",
        "idx2label = dict(zip(range(12),label_cols))\n",
        "label2name = dict(zip(range(12),label_names))\n",
        "print(idx2label), print(label2name)\n",
        "\n",
        "# Getting indices of where boolean one hot vector true_bools is True so we can use idx2label to gather label names\n",
        "true_label_idxs, pred_label_idxs =[],[]\n",
        "for vals in true_bools:\n",
        "  true_label_idxs.append(np.where(vals)[0].flatten().tolist())\n",
        "for vals in pred_bools:\n",
        "  pred_label_idxs.append(np.where(vals)[0].flatten().tolist())\n",
        "\n",
        "# Gathering vectors of label names using idx2label\n",
        "true_label_texts, pred_label_texts = [], []\n",
        "for vals in true_label_idxs:\n",
        "  if vals:\n",
        "    true_label_texts.append([idx2label[val] for val in vals])\n",
        "  else:\n",
        "    true_label_texts.append(vals)\n",
        "\n",
        "for vals in pred_label_idxs:\n",
        "  if vals:\n",
        "    pred_label_texts.append([idx2label[val] for val in vals])\n",
        "  else:\n",
        "    pred_label_texts.append(vals)\n",
        "\n",
        "pred_names = []\n",
        "for i in range(len(pred_label_texts)):\n",
        "  j_list = []\n",
        "  for j in pred_label_texts[i]:\n",
        "    j_list.append(label2name[j])\n",
        "  pred_names.append(j_list)\n",
        "\n",
        "    # Decoding input ids to comment text\n",
        "#comment_texts = [tokenizer.decode(text,skip_special_tokens=True,clean_up_tokenization_spaces=False) for text in tokenized_texts]\n",
        "\n",
        "# Converting lists to df\n",
        "comparisons_df = pd.DataFrame({'comment_text': test_Text, 'true_labels': true_label_texts, 'pred_labels':pred_label_texts, 'pred_names':pred_names})\n",
        "comparisons_df.to_csv('comparisons_tensorflow.csv')\n",
        "comparisons_df.to_excel('comparisons_df.xlsx')\n",
        "comparisons_df.head()"
      ],
      "execution_count": null,
      "outputs": [
        {
          "output_type": "stream",
          "text": [
            "{0: 0, 1: 1, 2: 2, 3: 3, 4: 4, 5: 5, 6: 6, 7: 7, 8: 8, 9: 9, 10: 10, 11: 11}\n",
            "{0: 'AMBIENCE#GENERAL', 1: 'DRINKS#PRICES', 2: 'DRINKS#QUALITY', 3: 'DRINKS#STYLE_OPTIONS', 4: 'FOOD#PRICES', 5: 'FOOD#QUALITY', 6: 'FOOD#STYLE_OPTIONS', 7: 'LOCATION#GENERAL', 8: 'RESTAURANT#GENERAL', 9: 'RESTAURANT#MISCELLANEOUS', 10: 'RESTAURANT#PRICES', 11: 'SERVICE#GENERAL'}\n"
          ],
          "name": "stdout"
        },
        {
          "output_type": "execute_result",
          "data": {
            "text/html": [
              "<div>\n",
              "<style scoped>\n",
              "    .dataframe tbody tr th:only-of-type {\n",
              "        vertical-align: middle;\n",
              "    }\n",
              "\n",
              "    .dataframe tbody tr th {\n",
              "        vertical-align: top;\n",
              "    }\n",
              "\n",
              "    .dataframe thead th {\n",
              "        text-align: right;\n",
              "    }\n",
              "</style>\n",
              "<table border=\"1\" class=\"dataframe\">\n",
              "  <thead>\n",
              "    <tr style=\"text-align: right;\">\n",
              "      <th></th>\n",
              "      <th>comment_text</th>\n",
              "      <th>true_labels</th>\n",
              "      <th>pred_labels</th>\n",
              "      <th>pred_names</th>\n",
              "    </tr>\n",
              "  </thead>\n",
              "  <tbody>\n",
              "    <tr>\n",
              "      <th>0</th>\n",
              "      <td>Yum!</td>\n",
              "      <td>[5]</td>\n",
              "      <td>[5, 8]</td>\n",
              "      <td>[FOOD#QUALITY, RESTAURANT#GENERAL]</td>\n",
              "    </tr>\n",
              "    <tr>\n",
              "      <th>1</th>\n",
              "      <td>Serves really good sushi.</td>\n",
              "      <td>[5]</td>\n",
              "      <td>[5]</td>\n",
              "      <td>[FOOD#QUALITY]</td>\n",
              "    </tr>\n",
              "    <tr>\n",
              "      <th>2</th>\n",
              "      <td>Not the biggest portions but adequate.</td>\n",
              "      <td>[6]</td>\n",
              "      <td>[5, 6]</td>\n",
              "      <td>[FOOD#QUALITY, FOOD#STYLE_OPTIONS]</td>\n",
              "    </tr>\n",
              "    <tr>\n",
              "      <th>3</th>\n",
              "      <td>Green Tea creme brulee is a must!</td>\n",
              "      <td>[5]</td>\n",
              "      <td>[5]</td>\n",
              "      <td>[FOOD#QUALITY]</td>\n",
              "    </tr>\n",
              "    <tr>\n",
              "      <th>4</th>\n",
              "      <td>Don't leave the restaurant without it.</td>\n",
              "      <td>[5]</td>\n",
              "      <td>[8]</td>\n",
              "      <td>[RESTAURANT#GENERAL]</td>\n",
              "    </tr>\n",
              "  </tbody>\n",
              "</table>\n",
              "</div>"
            ],
            "text/plain": [
              "                             comment_text  ...                          pred_names\n",
              "0                                    Yum!  ...  [FOOD#QUALITY, RESTAURANT#GENERAL]\n",
              "1               Serves really good sushi.  ...                      [FOOD#QUALITY]\n",
              "2  Not the biggest portions but adequate.  ...  [FOOD#QUALITY, FOOD#STYLE_OPTIONS]\n",
              "3       Green Tea creme brulee is a must!  ...                      [FOOD#QUALITY]\n",
              "4  Don't leave the restaurant without it.  ...                [RESTAURANT#GENERAL]\n",
              "\n",
              "[5 rows x 4 columns]"
            ]
          },
          "metadata": {
            "tags": []
          },
          "execution_count": 23
        }
      ]
    }
  ]
}