{
  "nbformat": 4,
  "nbformat_minor": 0,
  "metadata": {
    "accelerator": "TPU",
    "colab": {
      "name": "PyTorch_NER.ipynb",
      "provenance": [],
      "collapsed_sections": [],
      "toc_visible": true,
      "machine_shape": "hm"
    },
    "kernelspec": {
      "display_name": "Python 3",
      "language": "python",
      "name": "python3"
    },
    "language_info": {
      "codemirror_mode": {
        "name": "ipython",
        "version": 3
      },
      "file_extension": ".py",
      "mimetype": "text/x-python",
      "name": "python",
      "nbconvert_exporter": "python",
      "pygments_lexer": "ipython3",
      "version": "3.7.6"
    },
    "widgets": {
      "application/vnd.jupyter.widget-state+json": {
        "fafbfc1c4d6643d18bf915ce1ef87391": {
          "model_module": "@jupyter-widgets/controls",
          "model_name": "HBoxModel",
          "state": {
            "_view_name": "HBoxView",
            "_dom_classes": [],
            "_model_name": "HBoxModel",
            "_view_module": "@jupyter-widgets/controls",
            "_model_module_version": "1.5.0",
            "_view_count": null,
            "_view_module_version": "1.5.0",
            "box_style": "",
            "layout": "IPY_MODEL_bfc766a35a374add9d291bc0c5156f2b",
            "_model_module": "@jupyter-widgets/controls",
            "children": [
              "IPY_MODEL_684294448bb84725a35c75c941759007",
              "IPY_MODEL_9c977300b79e4a06a5e6cd2cec1407ed"
            ]
          }
        },
        "bfc766a35a374add9d291bc0c5156f2b": {
          "model_module": "@jupyter-widgets/base",
          "model_name": "LayoutModel",
          "state": {
            "_view_name": "LayoutView",
            "grid_template_rows": null,
            "right": null,
            "justify_content": null,
            "_view_module": "@jupyter-widgets/base",
            "overflow": null,
            "_model_module_version": "1.2.0",
            "_view_count": null,
            "flex_flow": null,
            "width": null,
            "min_width": null,
            "border": null,
            "align_items": null,
            "bottom": null,
            "_model_module": "@jupyter-widgets/base",
            "top": null,
            "grid_column": null,
            "overflow_y": null,
            "overflow_x": null,
            "grid_auto_flow": null,
            "grid_area": null,
            "grid_template_columns": null,
            "flex": null,
            "_model_name": "LayoutModel",
            "justify_items": null,
            "grid_row": null,
            "max_height": null,
            "align_content": null,
            "visibility": null,
            "align_self": null,
            "height": null,
            "min_height": null,
            "padding": null,
            "grid_auto_rows": null,
            "grid_gap": null,
            "max_width": null,
            "order": null,
            "_view_module_version": "1.2.0",
            "grid_template_areas": null,
            "object_position": null,
            "object_fit": null,
            "grid_auto_columns": null,
            "margin": null,
            "display": null,
            "left": null
          }
        },
        "684294448bb84725a35c75c941759007": {
          "model_module": "@jupyter-widgets/controls",
          "model_name": "FloatProgressModel",
          "state": {
            "_view_name": "ProgressView",
            "style": "IPY_MODEL_a335aa803e8c432d86a90d91980f6162",
            "_dom_classes": [],
            "description": "Downloading: 100%",
            "_model_name": "FloatProgressModel",
            "bar_style": "success",
            "max": 213450,
            "_view_module": "@jupyter-widgets/controls",
            "_model_module_version": "1.5.0",
            "value": 213450,
            "_view_count": null,
            "_view_module_version": "1.5.0",
            "orientation": "horizontal",
            "min": 0,
            "description_tooltip": null,
            "_model_module": "@jupyter-widgets/controls",
            "layout": "IPY_MODEL_3a345ea775844916b426bf8cc3b1f2ed"
          }
        },
        "9c977300b79e4a06a5e6cd2cec1407ed": {
          "model_module": "@jupyter-widgets/controls",
          "model_name": "HTMLModel",
          "state": {
            "_view_name": "HTMLView",
            "style": "IPY_MODEL_ecb4006602af4f38aad5ddcbca105b8f",
            "_dom_classes": [],
            "description": "",
            "_model_name": "HTMLModel",
            "placeholder": "​",
            "_view_module": "@jupyter-widgets/controls",
            "_model_module_version": "1.5.0",
            "value": " 213k/213k [00:00&lt;00:00, 1.60MB/s]",
            "_view_count": null,
            "_view_module_version": "1.5.0",
            "description_tooltip": null,
            "_model_module": "@jupyter-widgets/controls",
            "layout": "IPY_MODEL_569b53b744524152b3b1becec8228677"
          }
        },
        "a335aa803e8c432d86a90d91980f6162": {
          "model_module": "@jupyter-widgets/controls",
          "model_name": "ProgressStyleModel",
          "state": {
            "_view_name": "StyleView",
            "_model_name": "ProgressStyleModel",
            "description_width": "initial",
            "_view_module": "@jupyter-widgets/base",
            "_model_module_version": "1.5.0",
            "_view_count": null,
            "_view_module_version": "1.2.0",
            "bar_color": null,
            "_model_module": "@jupyter-widgets/controls"
          }
        },
        "3a345ea775844916b426bf8cc3b1f2ed": {
          "model_module": "@jupyter-widgets/base",
          "model_name": "LayoutModel",
          "state": {
            "_view_name": "LayoutView",
            "grid_template_rows": null,
            "right": null,
            "justify_content": null,
            "_view_module": "@jupyter-widgets/base",
            "overflow": null,
            "_model_module_version": "1.2.0",
            "_view_count": null,
            "flex_flow": null,
            "width": null,
            "min_width": null,
            "border": null,
            "align_items": null,
            "bottom": null,
            "_model_module": "@jupyter-widgets/base",
            "top": null,
            "grid_column": null,
            "overflow_y": null,
            "overflow_x": null,
            "grid_auto_flow": null,
            "grid_area": null,
            "grid_template_columns": null,
            "flex": null,
            "_model_name": "LayoutModel",
            "justify_items": null,
            "grid_row": null,
            "max_height": null,
            "align_content": null,
            "visibility": null,
            "align_self": null,
            "height": null,
            "min_height": null,
            "padding": null,
            "grid_auto_rows": null,
            "grid_gap": null,
            "max_width": null,
            "order": null,
            "_view_module_version": "1.2.0",
            "grid_template_areas": null,
            "object_position": null,
            "object_fit": null,
            "grid_auto_columns": null,
            "margin": null,
            "display": null,
            "left": null
          }
        },
        "ecb4006602af4f38aad5ddcbca105b8f": {
          "model_module": "@jupyter-widgets/controls",
          "model_name": "DescriptionStyleModel",
          "state": {
            "_view_name": "StyleView",
            "_model_name": "DescriptionStyleModel",
            "description_width": "",
            "_view_module": "@jupyter-widgets/base",
            "_model_module_version": "1.5.0",
            "_view_count": null,
            "_view_module_version": "1.2.0",
            "_model_module": "@jupyter-widgets/controls"
          }
        },
        "569b53b744524152b3b1becec8228677": {
          "model_module": "@jupyter-widgets/base",
          "model_name": "LayoutModel",
          "state": {
            "_view_name": "LayoutView",
            "grid_template_rows": null,
            "right": null,
            "justify_content": null,
            "_view_module": "@jupyter-widgets/base",
            "overflow": null,
            "_model_module_version": "1.2.0",
            "_view_count": null,
            "flex_flow": null,
            "width": null,
            "min_width": null,
            "border": null,
            "align_items": null,
            "bottom": null,
            "_model_module": "@jupyter-widgets/base",
            "top": null,
            "grid_column": null,
            "overflow_y": null,
            "overflow_x": null,
            "grid_auto_flow": null,
            "grid_area": null,
            "grid_template_columns": null,
            "flex": null,
            "_model_name": "LayoutModel",
            "justify_items": null,
            "grid_row": null,
            "max_height": null,
            "align_content": null,
            "visibility": null,
            "align_self": null,
            "height": null,
            "min_height": null,
            "padding": null,
            "grid_auto_rows": null,
            "grid_gap": null,
            "max_width": null,
            "order": null,
            "_view_module_version": "1.2.0",
            "grid_template_areas": null,
            "object_position": null,
            "object_fit": null,
            "grid_auto_columns": null,
            "margin": null,
            "display": null,
            "left": null
          }
        },
        "3ba270d0fb61481e8d5663d50da08e92": {
          "model_module": "@jupyter-widgets/controls",
          "model_name": "HBoxModel",
          "state": {
            "_view_name": "HBoxView",
            "_dom_classes": [],
            "_model_name": "HBoxModel",
            "_view_module": "@jupyter-widgets/controls",
            "_model_module_version": "1.5.0",
            "_view_count": null,
            "_view_module_version": "1.5.0",
            "box_style": "",
            "layout": "IPY_MODEL_b2baac607c4e4fbf85e8ce595a840ee0",
            "_model_module": "@jupyter-widgets/controls",
            "children": [
              "IPY_MODEL_6fac683fabfe49bba701d964e2b8ef74",
              "IPY_MODEL_b94852f3d898497da9aad8db8edf6ed6"
            ]
          }
        },
        "b2baac607c4e4fbf85e8ce595a840ee0": {
          "model_module": "@jupyter-widgets/base",
          "model_name": "LayoutModel",
          "state": {
            "_view_name": "LayoutView",
            "grid_template_rows": null,
            "right": null,
            "justify_content": null,
            "_view_module": "@jupyter-widgets/base",
            "overflow": null,
            "_model_module_version": "1.2.0",
            "_view_count": null,
            "flex_flow": null,
            "width": null,
            "min_width": null,
            "border": null,
            "align_items": null,
            "bottom": null,
            "_model_module": "@jupyter-widgets/base",
            "top": null,
            "grid_column": null,
            "overflow_y": null,
            "overflow_x": null,
            "grid_auto_flow": null,
            "grid_area": null,
            "grid_template_columns": null,
            "flex": null,
            "_model_name": "LayoutModel",
            "justify_items": null,
            "grid_row": null,
            "max_height": null,
            "align_content": null,
            "visibility": null,
            "align_self": null,
            "height": null,
            "min_height": null,
            "padding": null,
            "grid_auto_rows": null,
            "grid_gap": null,
            "max_width": null,
            "order": null,
            "_view_module_version": "1.2.0",
            "grid_template_areas": null,
            "object_position": null,
            "object_fit": null,
            "grid_auto_columns": null,
            "margin": null,
            "display": null,
            "left": null
          }
        },
        "6fac683fabfe49bba701d964e2b8ef74": {
          "model_module": "@jupyter-widgets/controls",
          "model_name": "FloatProgressModel",
          "state": {
            "_view_name": "ProgressView",
            "style": "IPY_MODEL_c58601aaf8d84ee09cc5331729a42e0c",
            "_dom_classes": [],
            "description": "Downloading: 100%",
            "_model_name": "FloatProgressModel",
            "bar_style": "success",
            "max": 433,
            "_view_module": "@jupyter-widgets/controls",
            "_model_module_version": "1.5.0",
            "value": 433,
            "_view_count": null,
            "_view_module_version": "1.5.0",
            "orientation": "horizontal",
            "min": 0,
            "description_tooltip": null,
            "_model_module": "@jupyter-widgets/controls",
            "layout": "IPY_MODEL_ec076bafa1e94346a17b3bdb5acdd795"
          }
        },
        "b94852f3d898497da9aad8db8edf6ed6": {
          "model_module": "@jupyter-widgets/controls",
          "model_name": "HTMLModel",
          "state": {
            "_view_name": "HTMLView",
            "style": "IPY_MODEL_0586fe7206cf447dbc5fd4d4589566fc",
            "_dom_classes": [],
            "description": "",
            "_model_name": "HTMLModel",
            "placeholder": "​",
            "_view_module": "@jupyter-widgets/controls",
            "_model_module_version": "1.5.0",
            "value": " 433/433 [00:00&lt;00:00, 2.00kB/s]",
            "_view_count": null,
            "_view_module_version": "1.5.0",
            "description_tooltip": null,
            "_model_module": "@jupyter-widgets/controls",
            "layout": "IPY_MODEL_f2d69fcb541e45a7a3532b8a91a901ec"
          }
        },
        "c58601aaf8d84ee09cc5331729a42e0c": {
          "model_module": "@jupyter-widgets/controls",
          "model_name": "ProgressStyleModel",
          "state": {
            "_view_name": "StyleView",
            "_model_name": "ProgressStyleModel",
            "description_width": "initial",
            "_view_module": "@jupyter-widgets/base",
            "_model_module_version": "1.5.0",
            "_view_count": null,
            "_view_module_version": "1.2.0",
            "bar_color": null,
            "_model_module": "@jupyter-widgets/controls"
          }
        },
        "ec076bafa1e94346a17b3bdb5acdd795": {
          "model_module": "@jupyter-widgets/base",
          "model_name": "LayoutModel",
          "state": {
            "_view_name": "LayoutView",
            "grid_template_rows": null,
            "right": null,
            "justify_content": null,
            "_view_module": "@jupyter-widgets/base",
            "overflow": null,
            "_model_module_version": "1.2.0",
            "_view_count": null,
            "flex_flow": null,
            "width": null,
            "min_width": null,
            "border": null,
            "align_items": null,
            "bottom": null,
            "_model_module": "@jupyter-widgets/base",
            "top": null,
            "grid_column": null,
            "overflow_y": null,
            "overflow_x": null,
            "grid_auto_flow": null,
            "grid_area": null,
            "grid_template_columns": null,
            "flex": null,
            "_model_name": "LayoutModel",
            "justify_items": null,
            "grid_row": null,
            "max_height": null,
            "align_content": null,
            "visibility": null,
            "align_self": null,
            "height": null,
            "min_height": null,
            "padding": null,
            "grid_auto_rows": null,
            "grid_gap": null,
            "max_width": null,
            "order": null,
            "_view_module_version": "1.2.0",
            "grid_template_areas": null,
            "object_position": null,
            "object_fit": null,
            "grid_auto_columns": null,
            "margin": null,
            "display": null,
            "left": null
          }
        },
        "0586fe7206cf447dbc5fd4d4589566fc": {
          "model_module": "@jupyter-widgets/controls",
          "model_name": "DescriptionStyleModel",
          "state": {
            "_view_name": "StyleView",
            "_model_name": "DescriptionStyleModel",
            "description_width": "",
            "_view_module": "@jupyter-widgets/base",
            "_model_module_version": "1.5.0",
            "_view_count": null,
            "_view_module_version": "1.2.0",
            "_model_module": "@jupyter-widgets/controls"
          }
        },
        "f2d69fcb541e45a7a3532b8a91a901ec": {
          "model_module": "@jupyter-widgets/base",
          "model_name": "LayoutModel",
          "state": {
            "_view_name": "LayoutView",
            "grid_template_rows": null,
            "right": null,
            "justify_content": null,
            "_view_module": "@jupyter-widgets/base",
            "overflow": null,
            "_model_module_version": "1.2.0",
            "_view_count": null,
            "flex_flow": null,
            "width": null,
            "min_width": null,
            "border": null,
            "align_items": null,
            "bottom": null,
            "_model_module": "@jupyter-widgets/base",
            "top": null,
            "grid_column": null,
            "overflow_y": null,
            "overflow_x": null,
            "grid_auto_flow": null,
            "grid_area": null,
            "grid_template_columns": null,
            "flex": null,
            "_model_name": "LayoutModel",
            "justify_items": null,
            "grid_row": null,
            "max_height": null,
            "align_content": null,
            "visibility": null,
            "align_self": null,
            "height": null,
            "min_height": null,
            "padding": null,
            "grid_auto_rows": null,
            "grid_gap": null,
            "max_width": null,
            "order": null,
            "_view_module_version": "1.2.0",
            "grid_template_areas": null,
            "object_position": null,
            "object_fit": null,
            "grid_auto_columns": null,
            "margin": null,
            "display": null,
            "left": null
          }
        },
        "2cfb7e49e2b94840a7981039e7abc520": {
          "model_module": "@jupyter-widgets/controls",
          "model_name": "HBoxModel",
          "state": {
            "_view_name": "HBoxView",
            "_dom_classes": [],
            "_model_name": "HBoxModel",
            "_view_module": "@jupyter-widgets/controls",
            "_model_module_version": "1.5.0",
            "_view_count": null,
            "_view_module_version": "1.5.0",
            "box_style": "",
            "layout": "IPY_MODEL_e7d9bac728494413b73f5bdc6d84b0d8",
            "_model_module": "@jupyter-widgets/controls",
            "children": [
              "IPY_MODEL_3edd8b0ca6214e01abe367b88d00c23b",
              "IPY_MODEL_7772fc96eb3a4ce7be5785d65b22d912"
            ]
          }
        },
        "e7d9bac728494413b73f5bdc6d84b0d8": {
          "model_module": "@jupyter-widgets/base",
          "model_name": "LayoutModel",
          "state": {
            "_view_name": "LayoutView",
            "grid_template_rows": null,
            "right": null,
            "justify_content": null,
            "_view_module": "@jupyter-widgets/base",
            "overflow": null,
            "_model_module_version": "1.2.0",
            "_view_count": null,
            "flex_flow": null,
            "width": null,
            "min_width": null,
            "border": null,
            "align_items": null,
            "bottom": null,
            "_model_module": "@jupyter-widgets/base",
            "top": null,
            "grid_column": null,
            "overflow_y": null,
            "overflow_x": null,
            "grid_auto_flow": null,
            "grid_area": null,
            "grid_template_columns": null,
            "flex": null,
            "_model_name": "LayoutModel",
            "justify_items": null,
            "grid_row": null,
            "max_height": null,
            "align_content": null,
            "visibility": null,
            "align_self": null,
            "height": null,
            "min_height": null,
            "padding": null,
            "grid_auto_rows": null,
            "grid_gap": null,
            "max_width": null,
            "order": null,
            "_view_module_version": "1.2.0",
            "grid_template_areas": null,
            "object_position": null,
            "object_fit": null,
            "grid_auto_columns": null,
            "margin": null,
            "display": null,
            "left": null
          }
        },
        "3edd8b0ca6214e01abe367b88d00c23b": {
          "model_module": "@jupyter-widgets/controls",
          "model_name": "FloatProgressModel",
          "state": {
            "_view_name": "ProgressView",
            "style": "IPY_MODEL_6871adeb6b1548179c10c373821a63ee",
            "_dom_classes": [],
            "description": "Downloading: 100%",
            "_model_name": "FloatProgressModel",
            "bar_style": "success",
            "max": 435779157,
            "_view_module": "@jupyter-widgets/controls",
            "_model_module_version": "1.5.0",
            "value": 435779157,
            "_view_count": null,
            "_view_module_version": "1.5.0",
            "orientation": "horizontal",
            "min": 0,
            "description_tooltip": null,
            "_model_module": "@jupyter-widgets/controls",
            "layout": "IPY_MODEL_7b7215b8061043538855ca813398bb6b"
          }
        },
        "7772fc96eb3a4ce7be5785d65b22d912": {
          "model_module": "@jupyter-widgets/controls",
          "model_name": "HTMLModel",
          "state": {
            "_view_name": "HTMLView",
            "style": "IPY_MODEL_d47f1b2c04a64a8490c8985831f96567",
            "_dom_classes": [],
            "description": "",
            "_model_name": "HTMLModel",
            "placeholder": "​",
            "_view_module": "@jupyter-widgets/controls",
            "_model_module_version": "1.5.0",
            "value": " 436M/436M [00:06&lt;00:00, 72.1MB/s]",
            "_view_count": null,
            "_view_module_version": "1.5.0",
            "description_tooltip": null,
            "_model_module": "@jupyter-widgets/controls",
            "layout": "IPY_MODEL_b95f0e6daf244819abcea02517c936b1"
          }
        },
        "6871adeb6b1548179c10c373821a63ee": {
          "model_module": "@jupyter-widgets/controls",
          "model_name": "ProgressStyleModel",
          "state": {
            "_view_name": "StyleView",
            "_model_name": "ProgressStyleModel",
            "description_width": "initial",
            "_view_module": "@jupyter-widgets/base",
            "_model_module_version": "1.5.0",
            "_view_count": null,
            "_view_module_version": "1.2.0",
            "bar_color": null,
            "_model_module": "@jupyter-widgets/controls"
          }
        },
        "7b7215b8061043538855ca813398bb6b": {
          "model_module": "@jupyter-widgets/base",
          "model_name": "LayoutModel",
          "state": {
            "_view_name": "LayoutView",
            "grid_template_rows": null,
            "right": null,
            "justify_content": null,
            "_view_module": "@jupyter-widgets/base",
            "overflow": null,
            "_model_module_version": "1.2.0",
            "_view_count": null,
            "flex_flow": null,
            "width": null,
            "min_width": null,
            "border": null,
            "align_items": null,
            "bottom": null,
            "_model_module": "@jupyter-widgets/base",
            "top": null,
            "grid_column": null,
            "overflow_y": null,
            "overflow_x": null,
            "grid_auto_flow": null,
            "grid_area": null,
            "grid_template_columns": null,
            "flex": null,
            "_model_name": "LayoutModel",
            "justify_items": null,
            "grid_row": null,
            "max_height": null,
            "align_content": null,
            "visibility": null,
            "align_self": null,
            "height": null,
            "min_height": null,
            "padding": null,
            "grid_auto_rows": null,
            "grid_gap": null,
            "max_width": null,
            "order": null,
            "_view_module_version": "1.2.0",
            "grid_template_areas": null,
            "object_position": null,
            "object_fit": null,
            "grid_auto_columns": null,
            "margin": null,
            "display": null,
            "left": null
          }
        },
        "d47f1b2c04a64a8490c8985831f96567": {
          "model_module": "@jupyter-widgets/controls",
          "model_name": "DescriptionStyleModel",
          "state": {
            "_view_name": "StyleView",
            "_model_name": "DescriptionStyleModel",
            "description_width": "",
            "_view_module": "@jupyter-widgets/base",
            "_model_module_version": "1.5.0",
            "_view_count": null,
            "_view_module_version": "1.2.0",
            "_model_module": "@jupyter-widgets/controls"
          }
        },
        "b95f0e6daf244819abcea02517c936b1": {
          "model_module": "@jupyter-widgets/base",
          "model_name": "LayoutModel",
          "state": {
            "_view_name": "LayoutView",
            "grid_template_rows": null,
            "right": null,
            "justify_content": null,
            "_view_module": "@jupyter-widgets/base",
            "overflow": null,
            "_model_module_version": "1.2.0",
            "_view_count": null,
            "flex_flow": null,
            "width": null,
            "min_width": null,
            "border": null,
            "align_items": null,
            "bottom": null,
            "_model_module": "@jupyter-widgets/base",
            "top": null,
            "grid_column": null,
            "overflow_y": null,
            "overflow_x": null,
            "grid_auto_flow": null,
            "grid_area": null,
            "grid_template_columns": null,
            "flex": null,
            "_model_name": "LayoutModel",
            "justify_items": null,
            "grid_row": null,
            "max_height": null,
            "align_content": null,
            "visibility": null,
            "align_self": null,
            "height": null,
            "min_height": null,
            "padding": null,
            "grid_auto_rows": null,
            "grid_gap": null,
            "max_width": null,
            "order": null,
            "_view_module_version": "1.2.0",
            "grid_template_areas": null,
            "object_position": null,
            "object_fit": null,
            "grid_auto_columns": null,
            "margin": null,
            "display": null,
            "left": null
          }
        }
      }
    }
  },
  "cells": [
    {
      "cell_type": "markdown",
      "metadata": {
        "id": "gEeKFdAO_WDv"
      },
      "source": [
        "# Task Description\n",
        "\n",
        "This notebook captures the task of aspect term extraction from the sentences meaning that the words which determine the category of the refering review are extracted. \n",
        "\n",
        "The task can be considered in two subtasks:\n",
        "- Without given aspect terms in the training data \n",
        "- With given aspect terms in the training data \n",
        "\n",
        "For the first, BERT model with IOB tagging is used. \n",
        "\n",
        "For the second, BERT model is used with binary tagging of the aspect terms and IOB tagging of the aspect terms. The advantage of the latter to the former is that for multiple word aspect terms the IOB tagging indicates that the words belong to a same chunk. However, with the binary tagging the difference between (for example) a three-word aspect term and three consecutive aspect terms is not clear.\n",
        "\n",
        "Every IOB tagging is made with nltk package and the BERT models are written with pyTorch using the pretrained BertForTokenClassification package."
      ]
    },
    {
      "cell_type": "markdown",
      "metadata": {
        "id": "qPS4bMx9g43p"
      },
      "source": [
        "## Packages"
      ]
    },
    {
      "cell_type": "code",
      "metadata": {
        "id": "Cs7Tnup4lpGI",
        "outputId": "91a8c902-b152-462b-9f38-9e215431bdc1",
        "colab": {
          "base_uri": "https://localhost:8080/",
          "height": 670
        }
      },
      "source": [
        "!pip install transformers"
      ],
      "execution_count": null,
      "outputs": [
        {
          "output_type": "stream",
          "text": [
            "Collecting transformers\n",
            "\u001b[?25l  Downloading https://files.pythonhosted.org/packages/19/22/aff234f4a841f8999e68a7a94bdd4b60b4cebcfeca5d67d61cd08c9179de/transformers-3.3.1-py3-none-any.whl (1.1MB)\n",
            "\u001b[K     |████████████████████████████████| 1.1MB 3.5MB/s \n",
            "\u001b[?25hCollecting sentencepiece!=0.1.92\n",
            "\u001b[?25l  Downloading https://files.pythonhosted.org/packages/d4/a4/d0a884c4300004a78cca907a6ff9a5e9fe4f090f5d95ab341c53d28cbc58/sentencepiece-0.1.91-cp36-cp36m-manylinux1_x86_64.whl (1.1MB)\n",
            "\u001b[K     |████████████████████████████████| 1.1MB 20.2MB/s \n",
            "\u001b[?25hRequirement already satisfied: dataclasses; python_version < \"3.7\" in /usr/local/lib/python3.6/dist-packages (from transformers) (0.7)\n",
            "Requirement already satisfied: filelock in /usr/local/lib/python3.6/dist-packages (from transformers) (3.0.12)\n",
            "Collecting sacremoses\n",
            "\u001b[?25l  Downloading https://files.pythonhosted.org/packages/7d/34/09d19aff26edcc8eb2a01bed8e98f13a1537005d31e95233fd48216eed10/sacremoses-0.0.43.tar.gz (883kB)\n",
            "\u001b[K     |████████████████████████████████| 890kB 32.0MB/s \n",
            "\u001b[?25hRequirement already satisfied: tqdm>=4.27 in /usr/local/lib/python3.6/dist-packages (from transformers) (4.41.1)\n",
            "Requirement already satisfied: requests in /usr/local/lib/python3.6/dist-packages (from transformers) (2.23.0)\n",
            "Requirement already satisfied: packaging in /usr/local/lib/python3.6/dist-packages (from transformers) (20.4)\n",
            "Requirement already satisfied: numpy in /usr/local/lib/python3.6/dist-packages (from transformers) (1.18.5)\n",
            "Collecting tokenizers==0.8.1.rc2\n",
            "\u001b[?25l  Downloading https://files.pythonhosted.org/packages/80/83/8b9fccb9e48eeb575ee19179e2bdde0ee9a1904f97de5f02d19016b8804f/tokenizers-0.8.1rc2-cp36-cp36m-manylinux1_x86_64.whl (3.0MB)\n",
            "\u001b[K     |████████████████████████████████| 3.0MB 51.5MB/s \n",
            "\u001b[?25hRequirement already satisfied: regex!=2019.12.17 in /usr/local/lib/python3.6/dist-packages (from transformers) (2019.12.20)\n",
            "Requirement already satisfied: six in /usr/local/lib/python3.6/dist-packages (from sacremoses->transformers) (1.15.0)\n",
            "Requirement already satisfied: click in /usr/local/lib/python3.6/dist-packages (from sacremoses->transformers) (7.1.2)\n",
            "Requirement already satisfied: joblib in /usr/local/lib/python3.6/dist-packages (from sacremoses->transformers) (0.16.0)\n",
            "Requirement already satisfied: idna<3,>=2.5 in /usr/local/lib/python3.6/dist-packages (from requests->transformers) (2.10)\n",
            "Requirement already satisfied: chardet<4,>=3.0.2 in /usr/local/lib/python3.6/dist-packages (from requests->transformers) (3.0.4)\n",
            "Requirement already satisfied: certifi>=2017.4.17 in /usr/local/lib/python3.6/dist-packages (from requests->transformers) (2020.6.20)\n",
            "Requirement already satisfied: urllib3!=1.25.0,!=1.25.1,<1.26,>=1.21.1 in /usr/local/lib/python3.6/dist-packages (from requests->transformers) (1.24.3)\n",
            "Requirement already satisfied: pyparsing>=2.0.2 in /usr/local/lib/python3.6/dist-packages (from packaging->transformers) (2.4.7)\n",
            "Building wheels for collected packages: sacremoses\n",
            "  Building wheel for sacremoses (setup.py) ... \u001b[?25l\u001b[?25hdone\n",
            "  Created wheel for sacremoses: filename=sacremoses-0.0.43-cp36-none-any.whl size=893257 sha256=6389e42f542b3c117da80f0312fb5df13582eae42b783da133f0b3544e046b31\n",
            "  Stored in directory: /root/.cache/pip/wheels/29/3c/fd/7ce5c3f0666dab31a50123635e6fb5e19ceb42ce38d4e58f45\n",
            "Successfully built sacremoses\n",
            "Installing collected packages: sentencepiece, sacremoses, tokenizers, transformers\n",
            "Successfully installed sacremoses-0.0.43 sentencepiece-0.1.91 tokenizers-0.8.1rc2 transformers-3.3.1\n"
          ],
          "name": "stdout"
        }
      ]
    },
    {
      "cell_type": "code",
      "metadata": {
        "id": "LwmELFaYLJuJ",
        "outputId": "d2625cd8-aed3-4c5a-f8df-26f96227ebf5",
        "colab": {
          "base_uri": "https://localhost:8080/",
          "height": 341
        }
      },
      "source": [
        "pip install seqeval"
      ],
      "execution_count": null,
      "outputs": [
        {
          "output_type": "stream",
          "text": [
            "Collecting seqeval\n",
            "  Downloading https://files.pythonhosted.org/packages/bb/e6/0ccf683d190049f2c0311281c303756d1e62d0676ac0a88b45ec86bf1ca9/seqeval-0.0.18.tar.gz\n",
            "Requirement already satisfied: numpy>=1.14.0 in /usr/local/lib/python3.6/dist-packages (from seqeval) (1.18.5)\n",
            "Requirement already satisfied: Keras>=2.2.4 in /usr/local/lib/python3.6/dist-packages (from seqeval) (2.4.3)\n",
            "Requirement already satisfied: scipy>=0.14 in /usr/local/lib/python3.6/dist-packages (from Keras>=2.2.4->seqeval) (1.4.1)\n",
            "Requirement already satisfied: h5py in /usr/local/lib/python3.6/dist-packages (from Keras>=2.2.4->seqeval) (2.10.0)\n",
            "Requirement already satisfied: pyyaml in /usr/local/lib/python3.6/dist-packages (from Keras>=2.2.4->seqeval) (3.13)\n",
            "Requirement already satisfied: six in /usr/local/lib/python3.6/dist-packages (from h5py->Keras>=2.2.4->seqeval) (1.15.0)\n",
            "Building wheels for collected packages: seqeval\n",
            "  Building wheel for seqeval (setup.py) ... \u001b[?25l\u001b[?25hdone\n",
            "  Created wheel for seqeval: filename=seqeval-0.0.18-cp36-none-any.whl size=7636 sha256=9beb3b661f33bd895fedd3b3206d62da8d1e3af444a268cf73c1f31a303d29c9\n",
            "  Stored in directory: /root/.cache/pip/wheels/8a/86/53/8ad5977e419e5c5113105d21f007a087b9d97bf962c3856fe5\n",
            "Successfully built seqeval\n",
            "Installing collected packages: seqeval\n",
            "Successfully installed seqeval-0.0.18\n"
          ],
          "name": "stdout"
        }
      ]
    },
    {
      "cell_type": "code",
      "metadata": {
        "id": "_VJs1F1ODcb8",
        "outputId": "6648ec8b-476f-4071-eb46-a58b95b4897b",
        "colab": {
          "base_uri": "https://localhost:8080/",
          "height": 361
        }
      },
      "source": [
        "!pip install contractions"
      ],
      "execution_count": null,
      "outputs": [
        {
          "output_type": "stream",
          "text": [
            "Collecting contractions\n",
            "  Downloading https://files.pythonhosted.org/packages/00/92/a05b76a692ac08d470ae5c23873cf1c9a041532f1ee065e74b374f218306/contractions-0.0.25-py2.py3-none-any.whl\n",
            "Collecting textsearch\n",
            "  Downloading https://files.pythonhosted.org/packages/42/a8/03407021f9555043de5492a2bd7a35c56cc03c2510092b5ec018cae1bbf1/textsearch-0.0.17-py2.py3-none-any.whl\n",
            "Collecting Unidecode\n",
            "\u001b[?25l  Downloading https://files.pythonhosted.org/packages/d0/42/d9edfed04228bacea2d824904cae367ee9efd05e6cce7ceaaedd0b0ad964/Unidecode-1.1.1-py2.py3-none-any.whl (238kB)\n",
            "\u001b[K     |████████████████████████████████| 245kB 4.6MB/s \n",
            "\u001b[?25hCollecting pyahocorasick\n",
            "\u001b[?25l  Downloading https://files.pythonhosted.org/packages/f4/9f/f0d8e8850e12829eea2e778f1c90e3c53a9a799b7f412082a5d21cd19ae1/pyahocorasick-1.4.0.tar.gz (312kB)\n",
            "\u001b[K     |████████████████████████████████| 317kB 19.6MB/s \n",
            "\u001b[?25hBuilding wheels for collected packages: pyahocorasick\n",
            "  Building wheel for pyahocorasick (setup.py) ... \u001b[?25l\u001b[?25hdone\n",
            "  Created wheel for pyahocorasick: filename=pyahocorasick-1.4.0-cp36-cp36m-linux_x86_64.whl size=81702 sha256=f6f108226ac6d255c1668a0364357835de0dc5fd25ab59708fc49b44e801fa0e\n",
            "  Stored in directory: /root/.cache/pip/wheels/0a/90/61/87a55f5b459792fbb2b7ba6b31721b06ff5cf6bde541b40994\n",
            "Successfully built pyahocorasick\n",
            "Installing collected packages: Unidecode, pyahocorasick, textsearch, contractions\n",
            "Successfully installed Unidecode-1.1.1 contractions-0.0.25 pyahocorasick-1.4.0 textsearch-0.0.17\n"
          ],
          "name": "stdout"
        }
      ]
    },
    {
      "cell_type": "code",
      "metadata": {
        "id": "CHIPWSrCQAvs",
        "outputId": "fd9fa1c2-c579-4150-8d01-e0c0256dc63d",
        "colab": {
          "base_uri": "https://localhost:8080/",
          "height": 238
        }
      },
      "source": [
        "import contractions\n",
        "import matplotlib.pyplot as plt\n",
        "%matplotlib inline\n",
        "import nltk \n",
        "nltk.download('punkt')\n",
        "nltk.download('averaged_perceptron_tagger')\n",
        "nltk.download('maxent_ne_chunker')\n",
        "nltk.download('words')\n",
        "nltk.download('english')\n",
        "import numpy as np\n",
        "import pandas as pd\n",
        "import re\n",
        "import seaborn as sns\n",
        "import seqeval\n",
        "import torch\n",
        "import transformers\n",
        "\n",
        "from keras.preprocessing.sequence import pad_sequences\n",
        "from keras.utils import to_categorical\n",
        "from nltk import word_tokenize, pos_tag, ne_chunk\n",
        "from nltk.chunk import conlltags2tree, tree2conlltags\n",
        "from seqeval.metrics import accuracy_score, classification_report, f1_score, precision_score, recall_score\n",
        "from sklearn.model_selection import train_test_split\n",
        "from torch.utils.data import TensorDataset, DataLoader, RandomSampler, SequentialSampler\n",
        "from tqdm import trange\n",
        "from transformers import AdamW, BertTokenizer, BertForTokenClassification, get_linear_schedule_with_warmup"
      ],
      "execution_count": null,
      "outputs": [
        {
          "output_type": "stream",
          "text": [
            "[nltk_data] Downloading package punkt to /root/nltk_data...\n",
            "[nltk_data]   Package punkt is already up-to-date!\n",
            "[nltk_data] Downloading package averaged_perceptron_tagger to\n",
            "[nltk_data]     /root/nltk_data...\n",
            "[nltk_data]   Package averaged_perceptron_tagger is already up-to-\n",
            "[nltk_data]       date!\n",
            "[nltk_data] Downloading package maxent_ne_chunker to\n",
            "[nltk_data]     /root/nltk_data...\n",
            "[nltk_data]   Package maxent_ne_chunker is already up-to-date!\n",
            "[nltk_data] Downloading package words to /root/nltk_data...\n",
            "[nltk_data]   Package words is already up-to-date!\n",
            "[nltk_data] Error loading english: Package 'english' not found in\n",
            "[nltk_data]     index\n"
          ],
          "name": "stdout"
        }
      ]
    },
    {
      "cell_type": "markdown",
      "metadata": {
        "id": "TyB-SRxL0ntX"
      },
      "source": [
        "## Data Processing"
      ]
    },
    {
      "cell_type": "code",
      "metadata": {
        "id": "g-xd_1KY0i6T",
        "outputId": "54816e74-8c48-42be-8922-23eff07877fc",
        "colab": {
          "base_uri": "https://localhost:8080/",
          "height": 419
        }
      },
      "source": [
        "# Import data\n",
        "train = pd.read_excel('Trainset.xlsx')\n",
        "test = pd.read_excel('Testset.xlsx')\n",
        "\n",
        "# Eliminate the NAs\n",
        "train = train.fillna('')\n",
        "test = test.fillna('')\n",
        "\n",
        "# Remove the rows without Opinion Category values\n",
        "train = train[train.OpinionCategory != ''] \n",
        "test = test[test.OpinionCategory != ''] \n",
        "\n",
        "# Sort the data\n",
        "train = train.sort_values('Sentence_ID').reset_index(drop=True)\n",
        "test = test.sort_values('Sentence_ID').reset_index(drop=True)\n",
        "\n",
        "train_Text = train.drop_duplicates(subset=['Sentence_ID'], keep='last').Text\n",
        "test_Text = test.drop_duplicates(subset=['Sentence_ID'], keep='last').Text\n",
        "\n",
        "train_df = pd.DataFrame(train_Text).reset_index(drop=True)\n",
        "test_df = pd.DataFrame(test_Text).reset_index(drop=True)\n",
        "\n",
        "aspect_list = []\n",
        "for i in range((max(train.Sentence_ID))):\n",
        "    if any(train.Sentence_ID == i+1) == True:\n",
        "      aspect_list.append(train.groupby(['Sentence_ID']).get_group(i+1).AspectTerm.values)\n",
        "\n",
        "aspect_list_test = []\n",
        "for i in range((max(test.Sentence_ID))):\n",
        "    if any(test.Sentence_ID == i+1) == True:\n",
        "      aspect_list_test.append(test.groupby(['Sentence_ID']).get_group(i+1).AspectTerm.values)\n",
        "\n",
        "train_df = pd.merge(train_df, pd.DataFrame({'aspectTerms': pd.Series(aspect_list)}), left_index = True, right_index=True).reset_index(drop=True)\n",
        "test_df = pd.merge(test_df, pd.DataFrame({'aspectTerms': pd.Series(aspect_list_test)}), left_index = True, right_index=True).reset_index(drop=True)\n",
        "\n",
        "train_df"
      ],
      "execution_count": null,
      "outputs": [
        {
          "output_type": "execute_result",
          "data": {
            "text/html": [
              "<div>\n",
              "<style scoped>\n",
              "    .dataframe tbody tr th:only-of-type {\n",
              "        vertical-align: middle;\n",
              "    }\n",
              "\n",
              "    .dataframe tbody tr th {\n",
              "        vertical-align: top;\n",
              "    }\n",
              "\n",
              "    .dataframe thead th {\n",
              "        text-align: right;\n",
              "    }\n",
              "</style>\n",
              "<table border=\"1\" class=\"dataframe\">\n",
              "  <thead>\n",
              "    <tr style=\"text-align: right;\">\n",
              "      <th></th>\n",
              "      <th>Text</th>\n",
              "      <th>aspectTerms</th>\n",
              "    </tr>\n",
              "  </thead>\n",
              "  <tbody>\n",
              "    <tr>\n",
              "      <th>0</th>\n",
              "      <td>Judging from previous posts this used to be a ...</td>\n",
              "      <td>[place]</td>\n",
              "    </tr>\n",
              "    <tr>\n",
              "      <th>1</th>\n",
              "      <td>We, there were four of us, arrived at noon - t...</td>\n",
              "      <td>[staff]</td>\n",
              "    </tr>\n",
              "    <tr>\n",
              "      <th>2</th>\n",
              "      <td>They never brought us complimentary noodles, i...</td>\n",
              "      <td>[]</td>\n",
              "    </tr>\n",
              "    <tr>\n",
              "      <th>3</th>\n",
              "      <td>The food was lousy - too sweet or too salty an...</td>\n",
              "      <td>[food, portions]</td>\n",
              "    </tr>\n",
              "    <tr>\n",
              "      <th>4</th>\n",
              "      <td>After all that, they complained to me about th...</td>\n",
              "      <td>[]</td>\n",
              "    </tr>\n",
              "    <tr>\n",
              "      <th>...</th>\n",
              "      <td>...</td>\n",
              "      <td>...</td>\n",
              "    </tr>\n",
              "    <tr>\n",
              "      <th>1703</th>\n",
              "      <td>I can't believe that it was, but please put th...</td>\n",
              "      <td>[]</td>\n",
              "    </tr>\n",
              "    <tr>\n",
              "      <th>1704</th>\n",
              "      <td>The waitress came to check in on us every few ...</td>\n",
              "      <td>[waitress]</td>\n",
              "    </tr>\n",
              "    <tr>\n",
              "      <th>1705</th>\n",
              "      <td>I couldn't ignore the fact that she reach over...</td>\n",
              "      <td>[]</td>\n",
              "    </tr>\n",
              "    <tr>\n",
              "      <th>1706</th>\n",
              "      <td>She then put the check down without asking if ...</td>\n",
              "      <td>[]</td>\n",
              "    </tr>\n",
              "    <tr>\n",
              "      <th>1707</th>\n",
              "      <td>I wish I could like this place more, and I wis...</td>\n",
              "      <td>[place, staff]</td>\n",
              "    </tr>\n",
              "  </tbody>\n",
              "</table>\n",
              "<p>1708 rows × 2 columns</p>\n",
              "</div>"
            ],
            "text/plain": [
              "                                                   Text       aspectTerms\n",
              "0     Judging from previous posts this used to be a ...           [place]\n",
              "1     We, there were four of us, arrived at noon - t...           [staff]\n",
              "2     They never brought us complimentary noodles, i...                []\n",
              "3     The food was lousy - too sweet or too salty an...  [food, portions]\n",
              "4     After all that, they complained to me about th...                []\n",
              "...                                                 ...               ...\n",
              "1703  I can't believe that it was, but please put th...                []\n",
              "1704  The waitress came to check in on us every few ...        [waitress]\n",
              "1705  I couldn't ignore the fact that she reach over...                []\n",
              "1706  She then put the check down without asking if ...                []\n",
              "1707  I wish I could like this place more, and I wis...    [place, staff]\n",
              "\n",
              "[1708 rows x 2 columns]"
            ]
          },
          "metadata": {
            "tags": []
          },
          "execution_count": 7
        }
      ]
    },
    {
      "cell_type": "markdown",
      "metadata": {
        "id": "q3_Kd048_Ptk"
      },
      "source": [
        "## Data Cleaning"
      ]
    },
    {
      "cell_type": "code",
      "metadata": {
        "id": "U4bBBv6ZDr8q"
      },
      "source": [
        "def cleanText(text):\n",
        "    text = contractions.fix(text) # fix the contractions (such as I've = I have)\n",
        "    text = re.sub(r'^https?:\\/\\/.*[\\r\\n]*', '', text, flags=re.MULTILINE) # remove urls\n",
        "    text = ''.join([i for i in text if not i.isdigit()]) # remove numbers\n",
        "    text = re.sub(r'[,!@#$%^&*)(|/><\";:.?\\'\\\\}{]',\"\",text) # remove punctuations\n",
        "    text = text.lower() # make lower case\n",
        "    return text"
      ],
      "execution_count": null,
      "outputs": []
    },
    {
      "cell_type": "code",
      "metadata": {
        "id": "5cYPoZTeDyjy"
      },
      "source": [
        "train_df.Text = train_df.Text.astype(str).map(lambda x: cleanText(x))\n",
        "test_df.Text = test_df.Text.astype(str).map(lambda x: cleanText(x))\n",
        "\n",
        "train_df = train_df.reset_index(drop=True)\n",
        "test_df = test_df.reset_index(drop=True)"
      ],
      "execution_count": null,
      "outputs": []
    },
    {
      "cell_type": "markdown",
      "metadata": {
        "id": "lu9x4uEJNK_3"
      },
      "source": [
        "## Tagging"
      ]
    },
    {
      "cell_type": "markdown",
      "metadata": {
        "id": "JNNNSGPZ1wtA"
      },
      "source": [
        "### nltk IOB Tagging"
      ]
    },
    {
      "cell_type": "markdown",
      "metadata": {
        "id": "S-JbwoRWEfa-"
      },
      "source": [
        "The IOB format (short for inside, outside, beginning) is a  tagging format for tagging tokens in a chunking task (in this case, aspect term chunks)\n",
        "- B: the beginning of a chunk\n",
        "- I: the words inside a chunk\n",
        "- O: for the tokens that belong to no chunk"
      ]
    },
    {
      "cell_type": "code",
      "metadata": {
        "id": "FxeW18f-Mehv"
      },
      "source": [
        "def preprocess(sent):\n",
        "    sent = nltk.word_tokenize(sent)\n",
        "    sent = nltk.pos_tag(sent)\n",
        "    return sent"
      ],
      "execution_count": null,
      "outputs": []
    },
    {
      "cell_type": "code",
      "metadata": {
        "id": "Idq1NeMVMhzh",
        "outputId": "62197a61-51ea-4823-ed1f-b5484078bffa",
        "colab": {
          "base_uri": "https://localhost:8080/",
          "height": 436
        }
      },
      "source": [
        "# Train\n",
        "train_df.Text = train_df.Text.astype('str')\n",
        "sample = train_df.Text[0]\n",
        "sent = preprocess(sample)\n",
        "\n",
        "pattern = 'NP: {<DT>?<JJ>*<NN>}'\n",
        "cp = nltk.RegexpParser(pattern)\n",
        "\n",
        "cs = cp.parse(sent)\n",
        "iob_tagged = tree2conlltags(cs)\n",
        "df_sample = pd.DataFrame(iob_tagged, columns = ['Word', 'POS', 'nltkTag'])\n",
        "df_sample.insert(0, 'Sentence #', 0+1)\n",
        "\n",
        "for i in range(len(train_df.Text)-1):\n",
        "  sample = train_df.Text[i+1]\n",
        "  sent = preprocess(sample)\n",
        "  cs = cp.parse(sent)\n",
        "  iob_tagged = tree2conlltags(cs)\n",
        "  other_samples = pd.DataFrame(iob_tagged, columns = ['Word', 'POS', 'nltkTag'])\n",
        "  other_samples.insert(0, 'Sentence #', i+2)\n",
        "  df_sample = pd.concat([df_sample, other_samples], axis=0)\n",
        "\n",
        "df_sample = df_sample.reset_index(drop = True)\n",
        "df_sample"
      ],
      "execution_count": null,
      "outputs": [
        {
          "output_type": "stream",
          "text": [
            "Warning: parsing empty text\n"
          ],
          "name": "stdout"
        },
        {
          "output_type": "execute_result",
          "data": {
            "text/html": [
              "<div>\n",
              "<style scoped>\n",
              "    .dataframe tbody tr th:only-of-type {\n",
              "        vertical-align: middle;\n",
              "    }\n",
              "\n",
              "    .dataframe tbody tr th {\n",
              "        vertical-align: top;\n",
              "    }\n",
              "\n",
              "    .dataframe thead th {\n",
              "        text-align: right;\n",
              "    }\n",
              "</style>\n",
              "<table border=\"1\" class=\"dataframe\">\n",
              "  <thead>\n",
              "    <tr style=\"text-align: right;\">\n",
              "      <th></th>\n",
              "      <th>Sentence #</th>\n",
              "      <th>Word</th>\n",
              "      <th>POS</th>\n",
              "      <th>nltkTag</th>\n",
              "    </tr>\n",
              "  </thead>\n",
              "  <tbody>\n",
              "    <tr>\n",
              "      <th>0</th>\n",
              "      <td>1</td>\n",
              "      <td>judging</td>\n",
              "      <td>VBG</td>\n",
              "      <td>O</td>\n",
              "    </tr>\n",
              "    <tr>\n",
              "      <th>1</th>\n",
              "      <td>1</td>\n",
              "      <td>from</td>\n",
              "      <td>IN</td>\n",
              "      <td>O</td>\n",
              "    </tr>\n",
              "    <tr>\n",
              "      <th>2</th>\n",
              "      <td>1</td>\n",
              "      <td>previous</td>\n",
              "      <td>JJ</td>\n",
              "      <td>O</td>\n",
              "    </tr>\n",
              "    <tr>\n",
              "      <th>3</th>\n",
              "      <td>1</td>\n",
              "      <td>posts</td>\n",
              "      <td>NNS</td>\n",
              "      <td>O</td>\n",
              "    </tr>\n",
              "    <tr>\n",
              "      <th>4</th>\n",
              "      <td>1</td>\n",
              "      <td>this</td>\n",
              "      <td>DT</td>\n",
              "      <td>O</td>\n",
              "    </tr>\n",
              "    <tr>\n",
              "      <th>...</th>\n",
              "      <td>...</td>\n",
              "      <td>...</td>\n",
              "      <td>...</td>\n",
              "      <td>...</td>\n",
              "    </tr>\n",
              "    <tr>\n",
              "      <th>21595</th>\n",
              "      <td>1708</td>\n",
              "      <td>someone</td>\n",
              "      <td>NN</td>\n",
              "      <td>I-NP</td>\n",
              "    </tr>\n",
              "    <tr>\n",
              "      <th>21596</th>\n",
              "      <td>1708</td>\n",
              "      <td>would</td>\n",
              "      <td>MD</td>\n",
              "      <td>O</td>\n",
              "    </tr>\n",
              "    <tr>\n",
              "      <th>21597</th>\n",
              "      <td>1708</td>\n",
              "      <td>retrain</td>\n",
              "      <td>VB</td>\n",
              "      <td>O</td>\n",
              "    </tr>\n",
              "    <tr>\n",
              "      <th>21598</th>\n",
              "      <td>1708</td>\n",
              "      <td>the</td>\n",
              "      <td>DT</td>\n",
              "      <td>B-NP</td>\n",
              "    </tr>\n",
              "    <tr>\n",
              "      <th>21599</th>\n",
              "      <td>1708</td>\n",
              "      <td>staff</td>\n",
              "      <td>NN</td>\n",
              "      <td>I-NP</td>\n",
              "    </tr>\n",
              "  </tbody>\n",
              "</table>\n",
              "<p>21600 rows × 4 columns</p>\n",
              "</div>"
            ],
            "text/plain": [
              "       Sentence #      Word  POS nltkTag\n",
              "0               1   judging  VBG       O\n",
              "1               1      from   IN       O\n",
              "2               1  previous   JJ       O\n",
              "3               1     posts  NNS       O\n",
              "4               1      this   DT       O\n",
              "...           ...       ...  ...     ...\n",
              "21595        1708   someone   NN    I-NP\n",
              "21596        1708     would   MD       O\n",
              "21597        1708   retrain   VB       O\n",
              "21598        1708       the   DT    B-NP\n",
              "21599        1708     staff   NN    I-NP\n",
              "\n",
              "[21600 rows x 4 columns]"
            ]
          },
          "metadata": {
            "tags": []
          },
          "execution_count": 13
        }
      ]
    },
    {
      "cell_type": "markdown",
      "metadata": {
        "id": "jJopQzdq1zgg"
      },
      "source": [
        "### Aspect Term Tagging - Binary"
      ]
    },
    {
      "cell_type": "code",
      "metadata": {
        "id": "Ua1MH5dF19G7",
        "outputId": "ad4be97b-f5b8-4aaf-9b96-9cb149bdfe64",
        "colab": {
          "base_uri": "https://localhost:8080/",
          "height": 185
        }
      },
      "source": [
        "tokenized_sentences = []\n",
        "for i in range(len(train_df.Text)):\n",
        "  sent = nltk.word_tokenize(train_df.Text[i])\n",
        "  tokenized_sentences.append(sent)\n",
        "  \n",
        "aspect_list = []\n",
        "for i in range((max(train.Sentence_ID))):\n",
        "    if any(train.Sentence_ID == i+1) == True:\n",
        "      aspect_list.append(train.groupby(['Sentence_ID']).get_group(i+1).AspectTerm.values)\n",
        "\n",
        "for i in range(len(aspect_list)):\n",
        "  if aspect_list[i] == []:\n",
        "    aspect_list[i] = aspect_list[i]\n",
        "  else:\n",
        "    aspect_list[i] = [nltk.word_tokenize(j) for j in aspect_list[i]]\n",
        "\n",
        "for i in range(len(aspect_list)):\n",
        "  aspect_list[i] = [item for sublist in aspect_list[i] for item in sublist]\n",
        "\n",
        "aspect_labels = []\n",
        "for token in tokenized_sentences[0]:\n",
        "  if np.isin(token, aspect_list[0]) == True:\n",
        "    aspect_labels.append(1)\n",
        "  else:\n",
        "    aspect_labels.append(0)\n",
        "\n",
        "other_aspects = []\n",
        "for i in range(len(tokenized_sentences)-1):\n",
        "  for token in tokenized_sentences[i+1]:\n",
        "    if np.isin(token, aspect_list[i+1]) == True:\n",
        "      other_aspects.append(1)\n",
        "    else:\n",
        "      other_aspects.append(0)\n",
        "aspect_labels = pd.concat([pd.Series(aspect_labels), pd.Series(other_aspects)], axis=0)\n",
        "aspect_labels = aspect_labels.reset_index(drop=True)\n",
        "df_sample['binary_AspectTags'] = aspect_labels"
      ],
      "execution_count": null,
      "outputs": [
        {
          "output_type": "stream",
          "text": [
            "/usr/local/lib/python3.6/dist-packages/ipykernel_launcher.py:12: DeprecationWarning: The truth value of an empty array is ambiguous. Returning False, but in future this will result in an error. Use `array.size > 0` to check that an array is not empty.\n",
            "  if sys.path[0] == '':\n",
            "/usr/local/lib/python3.6/dist-packages/ipykernel_launcher.py:12: DeprecationWarning: elementwise comparison failed; this will raise an error in the future.\n",
            "  if sys.path[0] == '':\n"
          ],
          "name": "stderr"
        }
      ]
    },
    {
      "cell_type": "markdown",
      "metadata": {
        "id": "yLoL8C07U3Up"
      },
      "source": [
        "### Aspect Term Tagging - IOB "
      ]
    },
    {
      "cell_type": "code",
      "metadata": {
        "id": "eJapMYpMqFTR"
      },
      "source": [
        "BIO_aspectTags = pd.Series(aspect_labels)\n",
        "BIO_aspectTags = BIO_aspectTags.replace(to_replace=0, value='O')\n",
        "BIO_aspectTags = BIO_aspectTags.replace(to_replace=1, value='B-NP')\n",
        "\n",
        "tags = BIO_aspectTags.values.tolist()\n",
        "BIOtags = []\n",
        "for n in range(len(tags)):\n",
        "  if (tags[n] != tags[-1] and tags[n] == 'O' and tags[n+1] =='B-NP'):\n",
        "    BIOtags.append('B-NP')\n",
        "  elif (tags[n-1] == 'O' and tags[n] == 'B-NP' and tags[n+1] =='B-NP'):\n",
        "    BIOtags.append('B-NP')\n",
        "  elif (tags[n-1] == 'B-NP' and tags[n] == 'B-NP' and tags[n+1] =='B-NP'):\n",
        "    BIOtags.append('I-NP')\n",
        "  elif (tags[n-1] == 'B-NP' and tags[n] == 'B-NP' and tags[n+1] =='O'):\n",
        "    BIOtags.append('I-NP')   \n",
        "  else:\n",
        "    BIOtags.append(tags[n])\n",
        "\n",
        "df_sample['BIO_aspectTags'] = pd.Series(BIOtags)"
      ],
      "execution_count": null,
      "outputs": []
    },
    {
      "cell_type": "markdown",
      "metadata": {
        "id": "i3UuxNfcqKqa"
      },
      "source": [
        "### Tagging Table"
      ]
    },
    {
      "cell_type": "code",
      "metadata": {
        "id": "1a6ZdeazTqag",
        "outputId": "771f6dc0-a0f4-4850-ef12-714e3f4ef9c6",
        "colab": {
          "base_uri": "https://localhost:8080/",
          "height": 917
        }
      },
      "source": [
        "df_sample.tail(15)"
      ],
      "execution_count": null,
      "outputs": [
        {
          "output_type": "execute_result",
          "data": {
            "text/html": [
              "<div>\n",
              "<style scoped>\n",
              "    .dataframe tbody tr th:only-of-type {\n",
              "        vertical-align: middle;\n",
              "    }\n",
              "\n",
              "    .dataframe tbody tr th {\n",
              "        vertical-align: top;\n",
              "    }\n",
              "\n",
              "    .dataframe thead th {\n",
              "        text-align: right;\n",
              "    }\n",
              "</style>\n",
              "<table border=\"1\" class=\"dataframe\">\n",
              "  <thead>\n",
              "    <tr style=\"text-align: right;\">\n",
              "      <th></th>\n",
              "      <th>Sentence #</th>\n",
              "      <th>Word</th>\n",
              "      <th>POS</th>\n",
              "      <th>nltkTag</th>\n",
              "      <th>binary_AspectTags</th>\n",
              "      <th>BIO_aspectTags</th>\n",
              "    </tr>\n",
              "  </thead>\n",
              "  <tbody>\n",
              "    <tr>\n",
              "      <th>24660</th>\n",
              "      <td>1707</td>\n",
              "      <td>even</td>\n",
              "      <td>RB</td>\n",
              "      <td>O</td>\n",
              "      <td>0</td>\n",
              "      <td>O</td>\n",
              "    </tr>\n",
              "    <tr>\n",
              "      <th>24661</th>\n",
              "      <td>1707</td>\n",
              "      <td>though</td>\n",
              "      <td>IN</td>\n",
              "      <td>O</td>\n",
              "      <td>0</td>\n",
              "      <td>O</td>\n",
              "    </tr>\n",
              "    <tr>\n",
              "      <th>24662</th>\n",
              "      <td>1707</td>\n",
              "      <td>we</td>\n",
              "      <td>PRP</td>\n",
              "      <td>O</td>\n",
              "      <td>0</td>\n",
              "      <td>O</td>\n",
              "    </tr>\n",
              "    <tr>\n",
              "      <th>24663</th>\n",
              "      <td>1707</td>\n",
              "      <td>were</td>\n",
              "      <td>VBD</td>\n",
              "      <td>O</td>\n",
              "      <td>0</td>\n",
              "      <td>O</td>\n",
              "    </tr>\n",
              "    <tr>\n",
              "      <th>24664</th>\n",
              "      <td>1707</td>\n",
              "      <td>one</td>\n",
              "      <td>CD</td>\n",
              "      <td>O</td>\n",
              "      <td>0</td>\n",
              "      <td>O</td>\n",
              "    </tr>\n",
              "    <tr>\n",
              "      <th>24665</th>\n",
              "      <td>1707</td>\n",
              "      <td>of</td>\n",
              "      <td>IN</td>\n",
              "      <td>O</td>\n",
              "      <td>0</td>\n",
              "      <td>O</td>\n",
              "    </tr>\n",
              "    <tr>\n",
              "      <th>24666</th>\n",
              "      <td>1707</td>\n",
              "      <td>three</td>\n",
              "      <td>CD</td>\n",
              "      <td>O</td>\n",
              "      <td>0</td>\n",
              "      <td>O</td>\n",
              "    </tr>\n",
              "    <tr>\n",
              "      <th>24667</th>\n",
              "      <td>1707</td>\n",
              "      <td>occupied</td>\n",
              "      <td>JJ</td>\n",
              "      <td>O</td>\n",
              "      <td>0</td>\n",
              "      <td>O</td>\n",
              "    </tr>\n",
              "    <tr>\n",
              "      <th>24668</th>\n",
              "      <td>1707</td>\n",
              "      <td>tables</td>\n",
              "      <td>NNS</td>\n",
              "      <td>O</td>\n",
              "      <td>0</td>\n",
              "      <td>O</td>\n",
              "    </tr>\n",
              "    <tr>\n",
              "      <th>24669</th>\n",
              "      <td>1707</td>\n",
              "      <td>.</td>\n",
              "      <td>.</td>\n",
              "      <td>O</td>\n",
              "      <td>0</td>\n",
              "      <td>O</td>\n",
              "    </tr>\n",
              "    <tr>\n",
              "      <th>24670</th>\n",
              "      <td>1708</td>\n",
              "      <td>I</td>\n",
              "      <td>PRP</td>\n",
              "      <td>O</td>\n",
              "      <td>0</td>\n",
              "      <td>O</td>\n",
              "    </tr>\n",
              "    <tr>\n",
              "      <th>24671</th>\n",
              "      <td>1708</td>\n",
              "      <td>wish</td>\n",
              "      <td>VBP</td>\n",
              "      <td>O</td>\n",
              "      <td>0</td>\n",
              "      <td>O</td>\n",
              "    </tr>\n",
              "    <tr>\n",
              "      <th>24672</th>\n",
              "      <td>1708</td>\n",
              "      <td>I</td>\n",
              "      <td>PRP</td>\n",
              "      <td>O</td>\n",
              "      <td>0</td>\n",
              "      <td>O</td>\n",
              "    </tr>\n",
              "    <tr>\n",
              "      <th>24673</th>\n",
              "      <td>1708</td>\n",
              "      <td>could</td>\n",
              "      <td>MD</td>\n",
              "      <td>O</td>\n",
              "      <td>0</td>\n",
              "      <td>O</td>\n",
              "    </tr>\n",
              "    <tr>\n",
              "      <th>24674</th>\n",
              "      <td>1708</td>\n",
              "      <td>like</td>\n",
              "      <td>VB</td>\n",
              "      <td>O</td>\n",
              "      <td>0</td>\n",
              "      <td>O</td>\n",
              "    </tr>\n",
              "    <tr>\n",
              "      <th>24675</th>\n",
              "      <td>1708</td>\n",
              "      <td>this</td>\n",
              "      <td>DT</td>\n",
              "      <td>B-NP</td>\n",
              "      <td>0</td>\n",
              "      <td>O</td>\n",
              "    </tr>\n",
              "    <tr>\n",
              "      <th>24676</th>\n",
              "      <td>1708</td>\n",
              "      <td>place</td>\n",
              "      <td>NN</td>\n",
              "      <td>I-NP</td>\n",
              "      <td>1</td>\n",
              "      <td>B-NP</td>\n",
              "    </tr>\n",
              "    <tr>\n",
              "      <th>24677</th>\n",
              "      <td>1708</td>\n",
              "      <td>more</td>\n",
              "      <td>JJR</td>\n",
              "      <td>O</td>\n",
              "      <td>0</td>\n",
              "      <td>O</td>\n",
              "    </tr>\n",
              "    <tr>\n",
              "      <th>24678</th>\n",
              "      <td>1708</td>\n",
              "      <td>,</td>\n",
              "      <td>,</td>\n",
              "      <td>O</td>\n",
              "      <td>0</td>\n",
              "      <td>O</td>\n",
              "    </tr>\n",
              "    <tr>\n",
              "      <th>24679</th>\n",
              "      <td>1708</td>\n",
              "      <td>and</td>\n",
              "      <td>CC</td>\n",
              "      <td>O</td>\n",
              "      <td>0</td>\n",
              "      <td>O</td>\n",
              "    </tr>\n",
              "    <tr>\n",
              "      <th>24680</th>\n",
              "      <td>1708</td>\n",
              "      <td>I</td>\n",
              "      <td>PRP</td>\n",
              "      <td>O</td>\n",
              "      <td>0</td>\n",
              "      <td>O</td>\n",
              "    </tr>\n",
              "    <tr>\n",
              "      <th>24681</th>\n",
              "      <td>1708</td>\n",
              "      <td>wish</td>\n",
              "      <td>VBP</td>\n",
              "      <td>O</td>\n",
              "      <td>0</td>\n",
              "      <td>O</td>\n",
              "    </tr>\n",
              "    <tr>\n",
              "      <th>24682</th>\n",
              "      <td>1708</td>\n",
              "      <td>someone</td>\n",
              "      <td>NN</td>\n",
              "      <td>B-NP</td>\n",
              "      <td>0</td>\n",
              "      <td>O</td>\n",
              "    </tr>\n",
              "    <tr>\n",
              "      <th>24683</th>\n",
              "      <td>1708</td>\n",
              "      <td>would</td>\n",
              "      <td>MD</td>\n",
              "      <td>O</td>\n",
              "      <td>0</td>\n",
              "      <td>O</td>\n",
              "    </tr>\n",
              "    <tr>\n",
              "      <th>24684</th>\n",
              "      <td>1708</td>\n",
              "      <td>retrain</td>\n",
              "      <td>VB</td>\n",
              "      <td>O</td>\n",
              "      <td>0</td>\n",
              "      <td>O</td>\n",
              "    </tr>\n",
              "    <tr>\n",
              "      <th>24685</th>\n",
              "      <td>1708</td>\n",
              "      <td>the</td>\n",
              "      <td>DT</td>\n",
              "      <td>B-NP</td>\n",
              "      <td>0</td>\n",
              "      <td>O</td>\n",
              "    </tr>\n",
              "    <tr>\n",
              "      <th>24686</th>\n",
              "      <td>1708</td>\n",
              "      <td>staff</td>\n",
              "      <td>NN</td>\n",
              "      <td>I-NP</td>\n",
              "      <td>1</td>\n",
              "      <td>B-NP</td>\n",
              "    </tr>\n",
              "    <tr>\n",
              "      <th>24687</th>\n",
              "      <td>1708</td>\n",
              "      <td>.</td>\n",
              "      <td>.</td>\n",
              "      <td>O</td>\n",
              "      <td>0</td>\n",
              "      <td>O</td>\n",
              "    </tr>\n",
              "  </tbody>\n",
              "</table>\n",
              "</div>"
            ],
            "text/plain": [
              "       Sentence #      Word  POS nltkTag  binary_AspectTags BIO_aspectTags\n",
              "24660        1707      even   RB       O                  0              O\n",
              "24661        1707    though   IN       O                  0              O\n",
              "24662        1707        we  PRP       O                  0              O\n",
              "24663        1707      were  VBD       O                  0              O\n",
              "24664        1707       one   CD       O                  0              O\n",
              "24665        1707        of   IN       O                  0              O\n",
              "24666        1707     three   CD       O                  0              O\n",
              "24667        1707  occupied   JJ       O                  0              O\n",
              "24668        1707    tables  NNS       O                  0              O\n",
              "24669        1707         .    .       O                  0              O\n",
              "24670        1708         I  PRP       O                  0              O\n",
              "24671        1708      wish  VBP       O                  0              O\n",
              "24672        1708         I  PRP       O                  0              O\n",
              "24673        1708     could   MD       O                  0              O\n",
              "24674        1708      like   VB       O                  0              O\n",
              "24675        1708      this   DT    B-NP                  0              O\n",
              "24676        1708     place   NN    I-NP                  1           B-NP\n",
              "24677        1708      more  JJR       O                  0              O\n",
              "24678        1708         ,    ,       O                  0              O\n",
              "24679        1708       and   CC       O                  0              O\n",
              "24680        1708         I  PRP       O                  0              O\n",
              "24681        1708      wish  VBP       O                  0              O\n",
              "24682        1708   someone   NN    B-NP                  0              O\n",
              "24683        1708     would   MD       O                  0              O\n",
              "24684        1708   retrain   VB       O                  0              O\n",
              "24685        1708       the   DT    B-NP                  0              O\n",
              "24686        1708     staff   NN    I-NP                  1           B-NP\n",
              "24687        1708         .    .       O                  0              O"
            ]
          },
          "metadata": {
            "tags": []
          },
          "execution_count": 21
        }
      ]
    },
    {
      "cell_type": "markdown",
      "metadata": {
        "id": "RtdlixX-D5Jk"
      },
      "source": [
        "Through the tagging process each token is tagged based on if they are an aspect term or not.\n",
        "-  First, with the nltk package for IOB tagging(without any given aspect term)\n",
        "- Second, with binary tagging based on a given aspect term set in the training data\n",
        "- Lastly, with manual IOB tagging based on a given aspect term set"
      ]
    },
    {
      "cell_type": "code",
      "metadata": {
        "id": "3-BEcXIeZGIj"
      },
      "source": [
        "df_sample.to_excel('traintags.xlsx')"
      ],
      "execution_count": null,
      "outputs": []
    },
    {
      "cell_type": "markdown",
      "metadata": {
        "id": "QOe2G44CckM4"
      },
      "source": [
        "## BERT Tokenization"
      ]
    },
    {
      "cell_type": "markdown",
      "metadata": {
        "id": "TsEnLu-1FaSZ"
      },
      "source": [
        "The tokens are needed to join in a sentence format again, since the tokenization of nltk package and the BERT Tokenizer is different. While BERT Tokenizer uses a pre-trained Bert-Base-Uncased dictionary which is constructed with WordPiece embeddings with a 30,000 token vocabulary, nltk's word_tokenize() splits the sentence into words based on the spae inbetween them. "
      ]
    },
    {
      "cell_type": "code",
      "metadata": {
        "id": "mik9Pbxuc1J1"
      },
      "source": [
        "# Aggregate Function\n",
        "# is used to group the tokens in the sentences\n",
        "agg_func = lambda s: [(a, b, c, d) for a, b, c, d in zip(s[\"Word\"].values.tolist(),\n",
        "                                             s[\"nltkTag\"].values.tolist(),\n",
        "                                             s[\"binary_AspectTags\"].values.tolist(),\n",
        "                                             s[\"BIO_aspectTags\"].values.tolist())]\n",
        "\n",
        "grouped_df = df_sample.groupby(\"Sentence #\").apply(agg_func)\n",
        "sentences = [[word[0] for word in sentence] for sentence in grouped_df]\n",
        "ntlkTags = [[tag[1] for tag in sentence] for sentence in grouped_df]\n",
        "binary_AspectTags = [[tag[2] for tag in sentence] for sentence in grouped_df]\n",
        "BIO_aspectTags = [[tag[3] for tag in sentence] for sentence in grouped_df]\n",
        "\n",
        "# create dictionaries to tag the 'tags' to numerical indexes, as the BERT model \n",
        "# accepts numerical values \n",
        "# nltk\n",
        "tag_values_nltk = list(set(df_sample[\"nltkTag\"].values))\n",
        "tag_values_nltk.append(\"PAD\")\n",
        "tag2idx_nltk = {t: i for i, t in enumerate(tag_values_nltk)}\n",
        "\n",
        "# binary Aspect\n",
        "tag_values_binary = list(set(df_sample[\"binary_AspectTags\"].values))\n",
        "tag_values_binary.append(\"PAD\")\n",
        "tag2idx_binary = {t: i for i, t in enumerate(tag_values_binary)}\n",
        "\n",
        "# IOB Aspect\n",
        "tag_values_IOB = list(set(df_sample[\"BIO_aspectTags\"].values))\n",
        "tag_values_IOB.append(\"PAD\")\n",
        "tag2idx_IOB = {t: i for i, t in enumerate(tag_values_IOB)}"
      ],
      "execution_count": null,
      "outputs": []
    },
    {
      "cell_type": "code",
      "metadata": {
        "id": "-6SQgwR9efZA",
        "outputId": "026c9379-f074-4733-c89c-b9558463f7d8",
        "colab": {
          "base_uri": "https://localhost:8080/",
          "height": 68
        }
      },
      "source": [
        "tag2idx_nltk, tag2idx_binary, tag2idx_IOB"
      ],
      "execution_count": null,
      "outputs": [
        {
          "output_type": "execute_result",
          "data": {
            "text/plain": [
              "({'B-NP': 1, 'I-NP': 0, 'O': 2, 'PAD': 3},\n",
              " {0: 0, 1: 1, 'PAD': 2},\n",
              " {'B-NP': 1, 'I-NP': 0, 'O': 2, 'PAD': 3})"
            ]
          },
          "metadata": {
            "tags": []
          },
          "execution_count": 25
        }
      ]
    },
    {
      "cell_type": "code",
      "metadata": {
        "id": "73l7SbZnxuhd",
        "outputId": "2860ad49-8378-4f4a-c3ee-d5291bae3d23",
        "colab": {
          "base_uri": "https://localhost:8080/",
          "height": 68,
          "referenced_widgets": [
            "fafbfc1c4d6643d18bf915ce1ef87391",
            "bfc766a35a374add9d291bc0c5156f2b",
            "684294448bb84725a35c75c941759007",
            "9c977300b79e4a06a5e6cd2cec1407ed",
            "a335aa803e8c432d86a90d91980f6162",
            "3a345ea775844916b426bf8cc3b1f2ed",
            "ecb4006602af4f38aad5ddcbca105b8f",
            "569b53b744524152b3b1becec8228677"
          ]
        }
      },
      "source": [
        "tokenizer = BertTokenizer.from_pretrained('bert-base-cased', do_lower_case=False)"
      ],
      "execution_count": null,
      "outputs": [
        {
          "output_type": "display_data",
          "data": {
            "application/vnd.jupyter.widget-view+json": {
              "model_id": "fafbfc1c4d6643d18bf915ce1ef87391",
              "version_minor": 0,
              "version_major": 2
            },
            "text/plain": [
              "HBox(children=(FloatProgress(value=0.0, description='Downloading', max=213450.0, style=ProgressStyle(descripti…"
            ]
          },
          "metadata": {
            "tags": []
          }
        },
        {
          "output_type": "stream",
          "text": [
            "\n"
          ],
          "name": "stdout"
        }
      ]
    },
    {
      "cell_type": "markdown",
      "metadata": {
        "id": "bxqO2HI9GmKR"
      },
      "source": [
        "## Input Preparation"
      ]
    },
    {
      "cell_type": "markdown",
      "metadata": {
        "id": "w6rpM8sNGyAo"
      },
      "source": [
        "For the BERT model to work, we need three inputs. \n",
        "- Input IDs: shows the ID number of each token with padding. The ID numbers are restored from the BERT vocabulary dictionary.\n",
        "- Mask IDs: indicates which elements in the sequence are tokens and which are padding elements.\n",
        "- Segment IDs: distinguishes different sentences, 0 for one-sentence sequence, 1 if there are two sentences. For the model in this notebook, it will play no role, since the data is constructed with separate sentences for each observation.(sentence-level analysis). Therefore it is not calculated."
      ]
    },
    {
      "cell_type": "markdown",
      "metadata": {
        "id": "IM9BAAgHepdw"
      },
      "source": [
        "### For nltk"
      ]
    },
    {
      "cell_type": "code",
      "metadata": {
        "id": "Fty54uOnf1iP",
        "outputId": "87bc58bc-3adb-4c1f-f9b5-4233807b76cc",
        "colab": {
          "base_uri": "https://localhost:8080/",
          "height": 289
        }
      },
      "source": [
        "all_sentence_list_nltk = []\n",
        "all_label_list_nltk = []\n",
        "for i in range(len(sentences)):\n",
        "  tokenized_sentence_list = []\n",
        "  label_list = []\n",
        "  for word, label in zip(sentences[i], ntlkTags[i]):\n",
        "    tokenized_word = tokenizer.tokenize(word)\n",
        "    n_subwords = len(tokenized_word)\n",
        "    tokenized_sentence_list.extend(tokenized_word)\n",
        "    label_list.extend([label] * n_subwords)\n",
        "  all_sentence_list_nltk.append(tokenized_sentence_list)\n",
        "  all_label_list_nltk.append(label_list)\n",
        "\n",
        "# Raw Inputs\n",
        "tokenized_texts = all_sentence_list_nltk\n",
        "labels = all_label_list_nltk\n",
        "\n",
        "# Max length\n",
        "max_length = max([len(sen) for sen in tokenized_texts])\n",
        "\n",
        "input_ids_nltk = pad_sequences([tokenizer.convert_tokens_to_ids(txt) for txt in tokenized_texts],\n",
        "                          maxlen=max_length, dtype=\"long\", value=0.0,\n",
        "                          truncating=\"post\", padding=\"post\")\n",
        "\n",
        "tags_nltk = pad_sequences([[tag2idx_nltk.get(l) for l in lab] for lab in labels],\n",
        "                     maxlen=max_length, value=tag2idx_nltk[\"PAD\"], padding=\"post\",\n",
        "                     dtype=\"long\", truncating=\"post\")\n",
        "\n",
        "attention_masks_nltk = [[float(i != 0.0) for i in ii] for ii in input_ids_nltk]\n",
        "input_ids_nltk[0], tags_nltk[0]"
      ],
      "execution_count": null,
      "outputs": [
        {
          "output_type": "execute_result",
          "data": {
            "text/plain": [
              "(array([23915, 13556,  1121,  2166,  8345,  1142,  1215,  1106,  1129,\n",
              "          170,  1363,  1282,   117,  1133,  1136,  1251,  2039,   119,\n",
              "            0,     0,     0,     0,     0,     0,     0,     0,     0,\n",
              "            0,     0,     0,     0,     0,     0,     0,     0,     0,\n",
              "            0,     0,     0,     0,     0,     0,     0,     0,     0,\n",
              "            0,     0,     0,     0,     0,     0,     0,     0,     0,\n",
              "            0,     0,     0,     0,     0,     0,     0,     0,     0,\n",
              "            0,     0,     0,     0,     0,     0,     0,     0,     0,\n",
              "            0,     0,     0,     0,     0,     0,     0,     0,     0,\n",
              "            0,     0,     0,     0,     0,     0,     0,     0,     0,\n",
              "            0,     0,     0,     0]),\n",
              " array([2, 2, 2, 2, 2, 2, 2, 2, 2, 1, 0, 0, 2, 2, 2, 2, 2, 2, 3, 3, 3, 3,\n",
              "        3, 3, 3, 3, 3, 3, 3, 3, 3, 3, 3, 3, 3, 3, 3, 3, 3, 3, 3, 3, 3, 3,\n",
              "        3, 3, 3, 3, 3, 3, 3, 3, 3, 3, 3, 3, 3, 3, 3, 3, 3, 3, 3, 3, 3, 3,\n",
              "        3, 3, 3, 3, 3, 3, 3, 3, 3, 3, 3, 3, 3, 3, 3, 3, 3, 3, 3, 3, 3, 3,\n",
              "        3, 3, 3, 3, 3, 3]))"
            ]
          },
          "metadata": {
            "tags": []
          },
          "execution_count": 27
        }
      ]
    },
    {
      "cell_type": "markdown",
      "metadata": {
        "id": "DkUVMfcmcqmz"
      },
      "source": [
        "### For Binary Aspect"
      ]
    },
    {
      "cell_type": "code",
      "metadata": {
        "id": "dDfZHw5Toh3O",
        "outputId": "865c3d60-884c-4950-9f23-6175cda0d2cb",
        "colab": {
          "base_uri": "https://localhost:8080/",
          "height": 289
        }
      },
      "source": [
        "all_sentence_list_binary = []\n",
        "all_label_list_binary = []\n",
        "for i in range(len(sentences)):\n",
        "  tokenized_sentence_list = []\n",
        "  label_list = []\n",
        "  for word, label in zip(sentences[i], binary_AspectTags[i]):\n",
        "    tokenized_word = tokenizer.tokenize(word)\n",
        "    n_subwords = len(tokenized_word)\n",
        "    tokenized_sentence_list.extend(tokenized_word)\n",
        "    label_list.extend([label] * n_subwords)\n",
        "  all_sentence_list_binary.append(tokenized_sentence_list)\n",
        "  all_label_list_binary.append(label_list)\n",
        "\n",
        "# Raw Inputs\n",
        "tokenized_texts_binary = all_sentence_list_binary\n",
        "labels_binary = all_label_list_binary\n",
        "\n",
        "# Max length\n",
        "max_length_binary = max([len(sen) for sen in tokenized_texts_binary])\n",
        "\n",
        "input_ids_binary = pad_sequences([tokenizer.convert_tokens_to_ids(txt) for txt in tokenized_texts_binary],\n",
        "                          maxlen=max_length_binary, dtype=\"long\", value=0.0,\n",
        "                          truncating=\"post\", padding=\"post\")\n",
        "\n",
        "tags_binary = pad_sequences([[tag2idx_binary.get(l) for l in lab] for lab in labels_binary],\n",
        "                     maxlen=max_length, value=tag2idx_binary[\"PAD\"], padding=\"post\",\n",
        "                     dtype=\"long\", truncating=\"post\")\n",
        "\n",
        "attention_masks_binary = [[float(i != 0.0) for i in ii] for ii in input_ids_binary]\n",
        "input_ids_binary[0], tags_binary[0]"
      ],
      "execution_count": null,
      "outputs": [
        {
          "output_type": "execute_result",
          "data": {
            "text/plain": [
              "(array([23915, 13556,  1121,  2166,  8345,  1142,  1215,  1106,  1129,\n",
              "          170,  1363,  1282,   117,  1133,  1136,  1251,  2039,   119,\n",
              "            0,     0,     0,     0,     0,     0,     0,     0,     0,\n",
              "            0,     0,     0,     0,     0,     0,     0,     0,     0,\n",
              "            0,     0,     0,     0,     0,     0,     0,     0,     0,\n",
              "            0,     0,     0,     0,     0,     0,     0,     0,     0,\n",
              "            0,     0,     0,     0,     0,     0,     0,     0,     0,\n",
              "            0,     0,     0,     0,     0,     0,     0,     0,     0,\n",
              "            0,     0,     0,     0,     0,     0,     0,     0,     0,\n",
              "            0,     0,     0,     0,     0,     0,     0,     0,     0,\n",
              "            0,     0,     0,     0]),\n",
              " array([0, 0, 0, 0, 0, 0, 0, 0, 0, 0, 0, 1, 0, 0, 0, 0, 0, 0, 2, 2, 2, 2,\n",
              "        2, 2, 2, 2, 2, 2, 2, 2, 2, 2, 2, 2, 2, 2, 2, 2, 2, 2, 2, 2, 2, 2,\n",
              "        2, 2, 2, 2, 2, 2, 2, 2, 2, 2, 2, 2, 2, 2, 2, 2, 2, 2, 2, 2, 2, 2,\n",
              "        2, 2, 2, 2, 2, 2, 2, 2, 2, 2, 2, 2, 2, 2, 2, 2, 2, 2, 2, 2, 2, 2,\n",
              "        2, 2, 2, 2, 2, 2]))"
            ]
          },
          "metadata": {
            "tags": []
          },
          "execution_count": 28
        }
      ]
    },
    {
      "cell_type": "markdown",
      "metadata": {
        "id": "BWlNT8hBcubP"
      },
      "source": [
        "### For IOB Aspect"
      ]
    },
    {
      "cell_type": "code",
      "metadata": {
        "id": "R0NKng26oDu2",
        "outputId": "3ce60ab9-e6a3-4ef6-f25c-9ea45a174a30",
        "colab": {
          "base_uri": "https://localhost:8080/",
          "height": 289
        }
      },
      "source": [
        "all_sentence_list_IOB = []\n",
        "all_label_list_IOB = []\n",
        "for i in range(len(sentences)):\n",
        "  tokenized_sentence_list = []\n",
        "  label_list = []\n",
        "  for word, label in zip(sentences[i], BIO_aspectTags[i]):\n",
        "    tokenized_word = tokenizer.tokenize(word)\n",
        "    n_subwords = len(tokenized_word)\n",
        "    tokenized_sentence_list.extend(tokenized_word)\n",
        "    label_list.extend([label] * n_subwords)\n",
        "  all_sentence_list_IOB.append(tokenized_sentence_list)\n",
        "  all_label_list_IOB.append(label_list)\n",
        "\n",
        "# Raw Inputs\n",
        "tokenized_texts_IOB = all_sentence_list_IOB\n",
        "labels_IOB = all_label_list_IOB\n",
        "\n",
        "# Max length\n",
        "max_length_IOB = max([len(sen) for sen in tokenized_texts_IOB])\n",
        "\n",
        "input_ids_IOB= pad_sequences([tokenizer.convert_tokens_to_ids(txt) for txt in tokenized_texts_IOB],\n",
        "                          maxlen=max_length_IOB, dtype=\"long\", value=0.0,\n",
        "                          truncating=\"post\", padding=\"post\")\n",
        "\n",
        "tags_IOB = pad_sequences([[tag2idx_IOB.get(l) for l in lab] for lab in labels_IOB],\n",
        "                     maxlen=max_length, value=tag2idx_IOB[\"PAD\"], padding=\"post\",\n",
        "                     dtype=\"long\", truncating=\"post\")\n",
        "\n",
        "attention_masks_IOB = [[float(i != 0.0) for i in ii] for ii in input_ids_IOB]\n",
        "input_ids_IOB[0], tags_IOB[0]"
      ],
      "execution_count": null,
      "outputs": [
        {
          "output_type": "execute_result",
          "data": {
            "text/plain": [
              "(array([23915, 13556,  1121,  2166,  8345,  1142,  1215,  1106,  1129,\n",
              "          170,  1363,  1282,   117,  1133,  1136,  1251,  2039,   119,\n",
              "            0,     0,     0,     0,     0,     0,     0,     0,     0,\n",
              "            0,     0,     0,     0,     0,     0,     0,     0,     0,\n",
              "            0,     0,     0,     0,     0,     0,     0,     0,     0,\n",
              "            0,     0,     0,     0,     0,     0,     0,     0,     0,\n",
              "            0,     0,     0,     0,     0,     0,     0,     0,     0,\n",
              "            0,     0,     0,     0,     0,     0,     0,     0,     0,\n",
              "            0,     0,     0,     0,     0,     0,     0,     0,     0,\n",
              "            0,     0,     0,     0,     0,     0,     0,     0,     0,\n",
              "            0,     0,     0,     0]),\n",
              " array([2, 2, 2, 2, 2, 2, 2, 2, 2, 2, 2, 1, 2, 2, 2, 2, 2, 2, 3, 3, 3, 3,\n",
              "        3, 3, 3, 3, 3, 3, 3, 3, 3, 3, 3, 3, 3, 3, 3, 3, 3, 3, 3, 3, 3, 3,\n",
              "        3, 3, 3, 3, 3, 3, 3, 3, 3, 3, 3, 3, 3, 3, 3, 3, 3, 3, 3, 3, 3, 3,\n",
              "        3, 3, 3, 3, 3, 3, 3, 3, 3, 3, 3, 3, 3, 3, 3, 3, 3, 3, 3, 3, 3, 3,\n",
              "        3, 3, 3, 3, 3, 3]))"
            ]
          },
          "metadata": {
            "tags": []
          },
          "execution_count": 29
        }
      ]
    },
    {
      "cell_type": "markdown",
      "metadata": {
        "id": "5gcMmt-JpHmp"
      },
      "source": [
        "## Train & Validation Sets"
      ]
    },
    {
      "cell_type": "markdown",
      "metadata": {
        "id": "XHy6lf4wpMrl"
      },
      "source": [
        "### For nltk"
      ]
    },
    {
      "cell_type": "code",
      "metadata": {
        "id": "5iDh0DjcpIbY"
      },
      "source": [
        "# Split train / validation data\n",
        "nltk_inputs, nltk_val_inputs, nltk_tags, nltk_val_tags = train_test_split(input_ids_nltk, tags_nltk,\n",
        "                                                            random_state=2018, test_size=0.1)\n",
        "nltk_masks, nltk_val_masks, _, _ = train_test_split(attention_masks_nltk, input_ids_nltk,\n",
        "                                             random_state=2018, test_size=0.1)\n",
        "\n",
        "# Convert the inputs into tensors\n",
        "nltk_inputs = torch.tensor(nltk_inputs)\n",
        "nltk_val_inputs = torch.tensor(nltk_val_inputs)\n",
        "nltk_tags = torch.tensor(nltk_tags)\n",
        "nltk_val_tags = torch.tensor(nltk_val_tags)\n",
        "nltk_masks = torch.tensor(nltk_masks)\n",
        "nltk_val_masks = torch.tensor(nltk_val_masks)\n",
        "\n",
        "bs = 32 #batch size\n",
        "nltk_data = TensorDataset(nltk_inputs, nltk_masks, nltk_tags) # Upload the inputs of the model\n",
        "nltk_sampler = RandomSampler(nltk_data) \n",
        "## DataLoader will load the data into the model as random batches with 32 observation in each.\n",
        "nltk_dataloader = DataLoader(nltk_data, sampler=nltk_sampler, batch_size=bs)\n",
        "\n",
        "nltk_val_data = TensorDataset(nltk_val_inputs, nltk_val_masks, nltk_val_tags)\n",
        "nltk_val_sampler = SequentialSampler(nltk_val_data)\n",
        "nltk_val_dataloader = DataLoader(nltk_val_data, sampler=nltk_val_sampler, batch_size=bs)"
      ],
      "execution_count": null,
      "outputs": []
    },
    {
      "cell_type": "markdown",
      "metadata": {
        "id": "u-5aCocHp_jQ"
      },
      "source": [
        "### For Binary Aspect"
      ]
    },
    {
      "cell_type": "code",
      "metadata": {
        "id": "7yE1QWL6p_jQ"
      },
      "source": [
        "# Split train / validation data\n",
        "binary_inputs, binary_val_inputs, binary_tags, binary_val_tags = train_test_split(input_ids_binary, tags_binary,\n",
        "                                                            random_state=2018, test_size=0.1)\n",
        "binary_masks, binary_val_masks, _, _ = train_test_split(attention_masks_binary, input_ids_binary,\n",
        "                                             random_state=2018, test_size=0.1)\n",
        "\n",
        "# Convert the inputs into tensors\n",
        "binary_inputs = torch.tensor(binary_inputs)\n",
        "binary_val_inputs = torch.tensor(binary_val_inputs)\n",
        "binary_tags = torch.tensor(binary_tags)\n",
        "binary_val_tags = torch.tensor(binary_val_tags)\n",
        "binary_masks = torch.tensor(binary_masks)\n",
        "binary_val_masks = torch.tensor(binary_val_masks)\n",
        "\n",
        "bs = 32 #batch size\n",
        "binary_data = TensorDataset(binary_inputs, binary_masks, binary_tags) # Upload the inputs of the model\n",
        "binary_sampler = RandomSampler(binary_data)\n",
        "## DataLoader will load the data into the model as random batches with 32 observation in each.\n",
        "binary_dataloader = DataLoader(binary_data, sampler=binary_sampler, batch_size=bs)\n",
        "\n",
        "binary_val_data = TensorDataset(binary_val_inputs, binary_val_masks, binary_val_tags)\n",
        "binary_val_sampler = SequentialSampler(binary_val_data)\n",
        "binary_val_dataloader = DataLoader(binary_val_data, sampler=binary_val_sampler, batch_size=bs)"
      ],
      "execution_count": null,
      "outputs": []
    },
    {
      "cell_type": "markdown",
      "metadata": {
        "id": "Ds7tJXnQqo7G"
      },
      "source": [
        "### For IOB Aspect"
      ]
    },
    {
      "cell_type": "code",
      "metadata": {
        "id": "AN4BCI5Fqo7I"
      },
      "source": [
        "# Split train / validation data\n",
        "IOB_inputs, IOB_val_inputs, IOB_tags, IOB_val_tags = train_test_split(input_ids_IOB, tags_IOB,\n",
        "                                                            random_state=2018, test_size=0.1)\n",
        "IOB_masks, IOB_val_masks, _, _ = train_test_split(attention_masks_IOB, input_ids_IOB,\n",
        "                                             random_state=2018, test_size=0.1)\n",
        "\n",
        "# Convert the inputs into tensors\n",
        "IOB_inputs = torch.tensor(IOB_inputs)\n",
        "IOB_val_inputs = torch.tensor(IOB_val_inputs)\n",
        "IOB_tags = torch.tensor(IOB_tags)\n",
        "IOB_val_tags = torch.tensor(IOB_val_tags)\n",
        "IOB_masks = torch.tensor(IOB_masks)\n",
        "IOB_val_masks = torch.tensor(IOB_val_masks)\n",
        "\n",
        "bs = 32 #batch size\n",
        "IOB_data = TensorDataset(IOB_inputs, IOB_masks, IOB_tags) # Upload the inputs of the model\n",
        "IOB_sampler = RandomSampler(IOB_data)\n",
        "## DataLoader will load the data into the model as random batches with 32 observation in each.\n",
        "IOB_dataloader = DataLoader(IOB_data, sampler=IOB_sampler, batch_size=bs)\n",
        "\n",
        "IOB_val_data = TensorDataset(IOB_val_inputs, IOB_val_masks, IOB_val_tags)\n",
        "IOB_val_sampler = SequentialSampler(IOB_val_data)\n",
        "IOB_val_dataloader = DataLoader(IOB_val_data, sampler=IOB_val_sampler, batch_size=bs)"
      ],
      "execution_count": null,
      "outputs": []
    },
    {
      "cell_type": "markdown",
      "metadata": {
        "id": "3HVmLCiDrKvy"
      },
      "source": [
        "## Model nltk"
      ]
    },
    {
      "cell_type": "code",
      "metadata": {
        "id": "B0qtXxD5rKGX",
        "outputId": "503c4032-159e-4bfa-bd06-bcc6f8b23b01",
        "colab": {
          "base_uri": "https://localhost:8080/",
          "height": 434
        }
      },
      "source": [
        "# Model Structure\n",
        "model_nltk = BertForTokenClassification.from_pretrained(\n",
        "    \"bert-base-cased\",\n",
        "    num_labels=len(tag2idx_nltk),\n",
        "    output_attentions = False,\n",
        "    output_hidden_states = False\n",
        ")\n",
        "\n",
        "# Hyperparameters for Fine Tuning\n",
        "FULL_FINETUNING = True\n",
        "if FULL_FINETUNING:\n",
        "    param_optimizer = list(model_nltk.named_parameters())\n",
        "    no_decay = ['bias', 'gamma', 'beta']\n",
        "    optimizer_grouped_parameters = [\n",
        "        {'params': [p for n, p in param_optimizer if not any(nd in n for nd in no_decay)],\n",
        "         'weight_decay_rate': 0.01},\n",
        "        {'params': [p for n, p in param_optimizer if any(nd in n for nd in no_decay)],\n",
        "         'weight_decay_rate': 0.0}\n",
        "    ]\n",
        "else:\n",
        "    param_optimizer = list(model_nltk.classifier.named_parameters())\n",
        "    optimizer_grouped_parameters = [{\"params\": [p for n, p in param_optimizer]}]\n",
        "\n",
        "optimizer = AdamW(\n",
        "    optimizer_grouped_parameters,\n",
        "    lr=3e-5,\n",
        "    eps=1e-8\n",
        ")\n",
        "\n",
        "epochs = 3\n",
        "max_grad_norm = 1.0\n",
        "\n",
        "# Total number of training steps is number of batches * number of epochs.\n",
        "total_steps = len(nltk_dataloader) * epochs\n",
        "\n",
        "# Create the learning rate scheduler.\n",
        "scheduler = get_linear_schedule_with_warmup(\n",
        "    optimizer,\n",
        "    num_warmup_steps=0,\n",
        "    num_training_steps=total_steps\n",
        ")\n",
        "\n",
        "## Store the average loss after each epoch\n",
        "loss_values_nltk, validation_loss_values_nltk = [], []\n",
        "\n",
        "for _ in trange(epochs, desc=\"Epoch\"):\n",
        "    # ========================================\n",
        "    #               Training\n",
        "    # ========================================\n",
        "    # Put the model into training mode.\n",
        "    model_nltk.train()\n",
        "    # Reset the total loss for each epoch.\n",
        "    total_loss_nltk = 0\n",
        "\n",
        "    # Training loop\n",
        "    for step, batch in enumerate(nltk_dataloader):\n",
        "        # Extrach inputs from the batch\n",
        "        batch = tuple(t for t in batch)\n",
        "        b_input_ids, b_input_mask, b_labels = batch\n",
        "        # Clear any previously calculated gradients before performing a backward pass.\n",
        "        model_nltk.zero_grad()\n",
        "        # Model\n",
        "        outputs = model_nltk(b_input_ids, token_type_ids=None,\n",
        "                        attention_mask=b_input_mask, labels=b_labels)\n",
        "        # Loss\n",
        "        loss = outputs[0]\n",
        "        # Perform a backward pass to calculate the gradients.\n",
        "        loss.backward()\n",
        "        # Extract the train loss\n",
        "        total_loss_nltk += loss.item()\n",
        "        # Clip the norm of the gradient\n",
        "        # to help prevent the \"exploding gradients\" problem.\n",
        "        torch.nn.utils.clip_grad_norm_(parameters=model_nltk.parameters(), max_norm=max_grad_norm)\n",
        "        # Update parameters\n",
        "        optimizer.step()\n",
        "        # Update the learning rate.\n",
        "        scheduler.step()\n",
        "\n",
        "    # Calculate the average loss over the training data.\n",
        "    avg_train_loss_nltk = total_loss_nltk / len(nltk_dataloader)\n",
        "    print(\"nltk Average train loss: {}\".format(round(avg_train_loss_nltk),5))\n",
        "\n",
        "    # Store the loss value.\n",
        "    loss_values_nltk.append(avg_train_loss_nltk)\n",
        "\n",
        "\n",
        "    # ========================================\n",
        "    #               Validation\n",
        "    # ========================================\n",
        "    # Put the model into evaluation mode\n",
        "    model_nltk.eval()\n",
        "    # Reset the validation loss for each epoch\n",
        "    eval_loss_nltk, eval_accuracy_nltk = 0, 0\n",
        "    nb_eval_steps, nb_eval_examples = 0, 0\n",
        "    predictions_nltk , true_labels_nltk = [], []\n",
        "    # Upload inputs from the batch\n",
        "    for batch in nltk_val_dataloader:\n",
        "        batch = tuple(t for t in batch)\n",
        "        b_input_ids, b_input_mask, b_labels = batch\n",
        "\n",
        "        with torch.no_grad():  #not compute or store gradients to speed up validation\n",
        "            # Forward pass, calculate logit predictions.\n",
        "            outputs_nltk = model_nltk(b_input_ids, token_type_ids=None,\n",
        "                            attention_mask=b_input_mask, labels=b_labels)\n",
        "        # Logits (for predictions)\n",
        "        logits_nltk = outputs_nltk[1].numpy()\n",
        "        label_ids_nltk = b_labels.numpy()\n",
        "\n",
        "        # Calculate the accuracy for this batch of test sentences.\n",
        "        eval_loss_nltk += outputs_nltk[0].mean().item()\n",
        "        predictions_nltk.extend([list(p) for p in np.argmax(logits_nltk, axis=2)])\n",
        "        true_labels_nltk.extend(label_ids_nltk)\n",
        "\n",
        "    eval_loss_nltk = eval_loss_nltk / len(nltk_val_dataloader)\n",
        "    validation_loss_values_nltk.append(eval_loss_nltk)\n",
        "    print(\"nltk Validation loss: {}\".format(round(eval_loss_nltk,5)))\n",
        "    pred_tags_nltk = [tag_values_nltk[p_i] for p, l in zip(predictions_nltk, true_labels_nltk)\n",
        "                                 for p_i, l_i in zip(p, l) if tag_values_nltk[l_i] != \"PAD\"]\n",
        "    valid_tags_nltk  = [tag_values_nltk[l_i] for l in true_labels_nltk\n",
        "                                  for l_i in l if tag_values_nltk[l_i] != \"PAD\"]\n",
        "    print(\"nltk Validation Accuracy: {}\".format(round(accuracy_score(pred_tags_nltk, valid_tags_nltk),5)))\n",
        "    print(\"nltk Validation F1-Score: {}\".format(round(f1_score(pred_tags_nltk, valid_tags_nltk)),5))\n",
        "    print()"
      ],
      "execution_count": null,
      "outputs": [
        {
          "output_type": "stream",
          "text": [
            "Some weights of the model checkpoint at bert-base-cased were not used when initializing BertForTokenClassification: ['cls.predictions.bias', 'cls.predictions.transform.dense.weight', 'cls.predictions.transform.dense.bias', 'cls.predictions.decoder.weight', 'cls.seq_relationship.weight', 'cls.seq_relationship.bias', 'cls.predictions.transform.LayerNorm.weight', 'cls.predictions.transform.LayerNorm.bias']\n",
            "- This IS expected if you are initializing BertForTokenClassification from the checkpoint of a model trained on another task or with another architecture (e.g. initializing a BertForSequenceClassification model from a BertForPretraining model).\n",
            "- This IS NOT expected if you are initializing BertForTokenClassification from the checkpoint of a model that you expect to be exactly identical (initializing a BertForSequenceClassification model from a BertForSequenceClassification model).\n",
            "Some weights of BertForTokenClassification were not initialized from the model checkpoint at bert-base-cased and are newly initialized: ['classifier.weight', 'classifier.bias']\n",
            "You should probably TRAIN this model on a down-stream task to be able to use it for predictions and inference.\n",
            "Epoch:   0%|          | 0/3 [00:00<?, ?it/s]"
          ],
          "name": "stderr"
        },
        {
          "output_type": "stream",
          "text": [
            "nltk Average train loss: 1\n"
          ],
          "name": "stdout"
        },
        {
          "output_type": "stream",
          "text": [
            "\rEpoch:  33%|███▎      | 1/3 [02:24<04:48, 144.14s/it]"
          ],
          "name": "stderr"
        },
        {
          "output_type": "stream",
          "text": [
            "nltk Validation loss: 0.41201\n",
            "nltk Validation Accuracy: 0.84352\n",
            "nltk Validation F1-Score: 0\n",
            "\n",
            "nltk Average train loss: 0\n"
          ],
          "name": "stdout"
        },
        {
          "output_type": "stream",
          "text": [
            "\rEpoch:  67%|██████▋   | 2/3 [04:48<02:24, 144.16s/it]"
          ],
          "name": "stderr"
        },
        {
          "output_type": "stream",
          "text": [
            "nltk Validation loss: 0.26724\n",
            "nltk Validation Accuracy: 0.90357\n",
            "nltk Validation F1-Score: 1\n",
            "\n",
            "nltk Average train loss: 0\n"
          ],
          "name": "stdout"
        },
        {
          "output_type": "stream",
          "text": [
            "Epoch: 100%|██████████| 3/3 [07:11<00:00, 143.93s/it]"
          ],
          "name": "stderr"
        },
        {
          "output_type": "stream",
          "text": [
            "nltk Validation loss: 0.24534\n",
            "nltk Validation Accuracy: 0.90922\n",
            "nltk Validation F1-Score: 1\n",
            "\n"
          ],
          "name": "stdout"
        },
        {
          "output_type": "stream",
          "text": [
            "\n"
          ],
          "name": "stderr"
        }
      ]
    },
    {
      "cell_type": "markdown",
      "metadata": {
        "id": "I2LmmlySKJNW"
      },
      "source": [
        "### Performance Graph"
      ]
    },
    {
      "cell_type": "code",
      "metadata": {
        "id": "Wu9VGu1RrgJ0",
        "outputId": "3961c38d-aef2-48a4-828d-ce23ce8b0811",
        "colab": {
          "base_uri": "https://localhost:8080/",
          "height": 427
        }
      },
      "source": [
        "# Use plot styling from seaborn.\n",
        "sns.set(style='darkgrid')\n",
        "\n",
        "# Increase the plot size and font size.\n",
        "sns.set(font_scale=1.5)\n",
        "plt.rcParams[\"figure.figsize\"] = (6,6)\n",
        "\n",
        "# Plot the learning curve.\n",
        "plt.plot(loss_values_nltk, 'b-o', label=\"training loss\")\n",
        "plt.plot(validation_loss_values_nltk, 'r-o', label=\"validation loss\")\n",
        "\n",
        "# Label the plot.\n",
        "plt.title(\"Learning curve\")\n",
        "plt.xlabel(\"Epoch\")\n",
        "plt.ylabel(\"Loss\")\n",
        "plt.legend()\n",
        "\n",
        "plt.show()"
      ],
      "execution_count": null,
      "outputs": [
        {
          "output_type": "display_data",
          "data": {
            "image/png": "[encoded data removed]",
            "text/plain": [
              "<Figure size 432x432 with 1 Axes>"
            ]
          },
          "metadata": {
            "tags": []
          }
        }
      ]
    },
    {
      "cell_type": "markdown",
      "metadata": {
        "id": "wHTTcejMuGkg"
      },
      "source": [
        "## Model Binary Aspect"
      ]
    },
    {
      "cell_type": "code",
      "metadata": {
        "id": "jwImhZpTuecW",
        "outputId": "e98a8109-7dac-4cda-d024-4a7303075154",
        "colab": {
          "base_uri": "https://localhost:8080/",
          "height": 434
        }
      },
      "source": [
        "# Model Structure\n",
        "model_binary = BertForTokenClassification.from_pretrained(\n",
        "    \"bert-base-cased\",\n",
        "    num_labels=len(tag2idx_binary),\n",
        "    output_attentions = False,\n",
        "    output_hidden_states = False\n",
        ")\n",
        "\n",
        "# Hyperparameters for Fine Tuning\n",
        "FULL_FINETUNING = True\n",
        "if FULL_FINETUNING:\n",
        "    param_optimizer = list(model_binary.named_parameters())\n",
        "    no_decay = ['bias', 'gamma', 'beta']\n",
        "    optimizer_grouped_parameters = [\n",
        "        {'params': [p for n, p in param_optimizer if not any(nd in n for nd in no_decay)],\n",
        "         'weight_decay_rate': 0.01},\n",
        "        {'params': [p for n, p in param_optimizer if any(nd in n for nd in no_decay)],\n",
        "         'weight_decay_rate': 0.0}\n",
        "    ]\n",
        "else:\n",
        "    param_optimizer = list(model_binary.classifier.named_parameters())\n",
        "    optimizer_grouped_parameters = [{\"params\": [p for n, p in param_optimizer]}]\n",
        "\n",
        "optimizer = AdamW(\n",
        "    optimizer_grouped_parameters,\n",
        "    lr=3e-5,\n",
        "    eps=1e-8\n",
        ")\n",
        "\n",
        "epochs = 3\n",
        "max_grad_norm = 1.0\n",
        "\n",
        "# Total number of training steps is number of batches * number of epochs.\n",
        "total_steps = len(binary_dataloader) * epochs\n",
        "\n",
        "# Create the learning rate scheduler.\n",
        "scheduler = get_linear_schedule_with_warmup(\n",
        "    optimizer,\n",
        "    num_warmup_steps=0,\n",
        "    num_training_steps=total_steps\n",
        ")\n",
        "\n",
        "## Store the average loss after each epoch\n",
        "loss_values_binary, validation_loss_values_binary = [], []\n",
        "\n",
        "for _ in trange(epochs, desc=\"Epoch\"):\n",
        "    # ========================================\n",
        "    #               Training\n",
        "    # ========================================\n",
        "    # Put the model into training mode.\n",
        "    model_binary.train()\n",
        "    # Reset the total loss for each epoch.\n",
        "    total_loss_binary = 0\n",
        "\n",
        "    # Training loop\n",
        "    for step, batch in enumerate(binary_dataloader):\n",
        "        # Extrach inputs from the batch\n",
        "        batch = tuple(t for t in batch)\n",
        "        b_input_ids, b_input_mask, b_labels = batch\n",
        "        # Clear any previously calculated gradients before performing a backward pass.\n",
        "        model_binary.zero_grad()\n",
        "        # Model\n",
        "        outputs = model_binary(b_input_ids, token_type_ids=None,\n",
        "                        attention_mask=b_input_mask, labels=b_labels)\n",
        "        # Loss\n",
        "        loss = outputs[0]\n",
        "        # Perform a backward pass to calculate the gradients.\n",
        "        loss.backward()\n",
        "        # Extract the train loss\n",
        "        total_loss_binary += loss.item()\n",
        "        # Clip the norm of the gradient\n",
        "        # to help prevent the \"exploding gradients\" problem.\n",
        "        torch.nn.utils.clip_grad_norm_(parameters=model_binary.parameters(), max_norm=max_grad_norm)\n",
        "        # Update parameters\n",
        "        optimizer.step()\n",
        "        # Update the learning rate.\n",
        "        scheduler.step()\n",
        "\n",
        "    # Calculate the average loss over the training data.\n",
        "    avg_train_loss_binary = total_loss_binary / len(binary_dataloader)\n",
        "    print(\"binary Average train loss: {}\".format(round(avg_train_loss_binary),5))\n",
        "\n",
        "    # Store the loss value.\n",
        "    loss_values_binary.append(avg_train_loss_binary)\n",
        "\n",
        "    # ========================================\n",
        "    #               Validation\n",
        "    # ========================================\n",
        "    # Put the model into evaluation mode\n",
        "    model_binary.eval()\n",
        "    # Reset the validation loss for each epoch\n",
        "    eval_loss_binary, eval_accuracy_binary = 0, 0\n",
        "    nb_eval_steps, nb_eval_examples = 0, 0\n",
        "    predictions_binary , true_labels_binary = [], []\n",
        "    # Upload inputs from the batch\n",
        "    for batch in binary_val_dataloader:\n",
        "        batch = tuple(t for t in batch)\n",
        "        b_input_ids, b_input_mask, b_labels = batch\n",
        "\n",
        "        with torch.no_grad():  #not compute or store gradients to speed up validation\n",
        "            # Forward pass, calculate logit predictions.\n",
        "            outputs_binary = model_binary(b_input_ids, token_type_ids=None,\n",
        "                            attention_mask=b_input_mask, labels=b_labels)\n",
        "        # Logits (for predictions)\n",
        "        logits_binary = outputs_binary[1].numpy()\n",
        "        label_ids_binary = b_labels.numpy()\n",
        "\n",
        "        # Calculate the accuracy for this batch of test sentences.\n",
        "        eval_loss_binary += outputs_binary[0].mean().item()\n",
        "        predictions_binary.extend([list(p) for p in np.argmax(logits_binary, axis=2)])\n",
        "        true_labels_binary.extend(label_ids_binary)\n",
        "\n",
        "    eval_loss_binary = eval_loss_binary / len(binary_val_dataloader)\n",
        "    validation_loss_values_binary.append(eval_loss_binary)\n",
        "    print(\"binary Validation loss: {}\".format(round(eval_loss_binary,5)))\n",
        "    pred_tags_binary = [tag_values_binary[p_i] for p, l in zip(predictions_binary, true_labels_binary)\n",
        "                                 for p_i, l_i in zip(p, l) if tag_values_binary[l_i] != \"PAD\"]\n",
        "    valid_tags_binary  = [tag_values_binary[l_i] for l in true_labels_binary\n",
        "                                  for l_i in l if tag_values_binary[l_i] != \"PAD\"]\n",
        "    print(\"binary Validation Accuracy: {}\".format(round(accuracy_score(pred_tags_binary, valid_tags_binary),5)))\n",
        "    print(\"binary Validation F1-Score: {}\".format(round(f1_score(pred_tags_binary, valid_tags_binary)),5))\n",
        "    print()"
      ],
      "execution_count": null,
      "outputs": [
        {
          "output_type": "stream",
          "text": [
            "Some weights of the model checkpoint at bert-base-cased were not used when initializing BertForTokenClassification: ['cls.predictions.bias', 'cls.predictions.transform.dense.weight', 'cls.predictions.transform.dense.bias', 'cls.predictions.decoder.weight', 'cls.seq_relationship.weight', 'cls.seq_relationship.bias', 'cls.predictions.transform.LayerNorm.weight', 'cls.predictions.transform.LayerNorm.bias']\n",
            "- This IS expected if you are initializing BertForTokenClassification from the checkpoint of a model trained on another task or with another architecture (e.g. initializing a BertForSequenceClassification model from a BertForPretraining model).\n",
            "- This IS NOT expected if you are initializing BertForTokenClassification from the checkpoint of a model that you expect to be exactly identical (initializing a BertForSequenceClassification model from a BertForSequenceClassification model).\n",
            "Some weights of BertForTokenClassification were not initialized from the model checkpoint at bert-base-cased and are newly initialized: ['classifier.weight', 'classifier.bias']\n",
            "You should probably TRAIN this model on a down-stream task to be able to use it for predictions and inference.\n",
            "Epoch:   0%|          | 0/3 [00:00<?, ?it/s]"
          ],
          "name": "stderr"
        },
        {
          "output_type": "stream",
          "text": [
            "binary Average train loss: 0\n"
          ],
          "name": "stdout"
        },
        {
          "output_type": "stream",
          "text": [
            "\rEpoch:  33%|███▎      | 1/3 [02:23<04:46, 143.06s/it]"
          ],
          "name": "stderr"
        },
        {
          "output_type": "stream",
          "text": [
            "binary Validation loss: 0\n",
            "binary Validation Accuracy: 0.94348\n",
            "binary Validation F1-Score: 0.53109\n",
            "\n",
            "binary Average train loss: 0\n"
          ],
          "name": "stdout"
        },
        {
          "output_type": "stream",
          "text": [
            "\rEpoch:  67%|██████▋   | 2/3 [04:47<02:23, 143.39s/it]"
          ],
          "name": "stderr"
        },
        {
          "output_type": "stream",
          "text": [
            "binary Validation loss: 0\n",
            "binary Validation Accuracy: 0.95373\n",
            "binary Validation F1-Score: 0.58995\n",
            "\n",
            "binary Average train loss: 0\n"
          ],
          "name": "stdout"
        },
        {
          "output_type": "stream",
          "text": [
            "Epoch: 100%|██████████| 3/3 [07:11<00:00, 143.81s/it]"
          ],
          "name": "stderr"
        },
        {
          "output_type": "stream",
          "text": [
            "binary Validation loss: 0\n",
            "binary Validation Accuracy: 0.95761\n",
            "binary Validation F1-Score: 0.63421\n",
            "\n"
          ],
          "name": "stdout"
        },
        {
          "output_type": "stream",
          "text": [
            "\n"
          ],
          "name": "stderr"
        }
      ]
    },
    {
      "cell_type": "markdown",
      "metadata": {
        "id": "d2pCTDlFKM7o"
      },
      "source": [
        "### Performance Graph"
      ]
    },
    {
      "cell_type": "code",
      "metadata": {
        "id": "Bp6vFtN0vH7B",
        "outputId": "569a1723-ce96-4cf2-e5cf-ac36f893f16d",
        "colab": {
          "base_uri": "https://localhost:8080/",
          "height": 427
        }
      },
      "source": [
        "# Use plot styling from seaborn.\n",
        "sns.set(style='darkgrid')\n",
        "\n",
        "# Increase the plot size and font size.\n",
        "sns.set(font_scale=1.5)\n",
        "plt.rcParams[\"figure.figsize\"] = (12,6)\n",
        "\n",
        "# Plot the learning curve.\n",
        "plt.plot(loss_values_binary, 'b-o', label=\"training loss\")\n",
        "plt.plot(validation_loss_values_binary, 'r-o', label=\"validation loss\")\n",
        "\n",
        "# Label the plot.\n",
        "plt.title(\"Learning curve\")\n",
        "plt.xlabel(\"Epoch\")\n",
        "plt.ylabel(\"Loss\")\n",
        "plt.legend()\n",
        "\n",
        "plt.show()"
      ],
      "execution_count": null,
      "outputs": [
        {
          "output_type": "display_data",
          "data": {
            "image/png": "[encoded data removed]",
            "text/plain": [
              "<Figure size 864x432 with 1 Axes>"
            ]
          },
          "metadata": {
            "tags": []
          }
        }
      ]
    },
    {
      "cell_type": "markdown",
      "metadata": {
        "id": "IU_fe-K1ueCd"
      },
      "source": [
        "## Model IOB Aspect"
      ]
    },
    {
      "cell_type": "code",
      "metadata": {
        "id": "ZZfEZ0DVun4r",
        "outputId": "3573dd6f-47a6-405e-afda-140e52d19a63",
        "colab": {
          "base_uri": "https://localhost:8080/",
          "height": 617,
          "referenced_widgets": [
            "3ba270d0fb61481e8d5663d50da08e92",
            "b2baac607c4e4fbf85e8ce595a840ee0",
            "6fac683fabfe49bba701d964e2b8ef74",
            "b94852f3d898497da9aad8db8edf6ed6",
            "c58601aaf8d84ee09cc5331729a42e0c",
            "ec076bafa1e94346a17b3bdb5acdd795",
            "0586fe7206cf447dbc5fd4d4589566fc",
            "f2d69fcb541e45a7a3532b8a91a901ec",
            "2cfb7e49e2b94840a7981039e7abc520",
            "e7d9bac728494413b73f5bdc6d84b0d8",
            "3edd8b0ca6214e01abe367b88d00c23b",
            "7772fc96eb3a4ce7be5785d65b22d912",
            "6871adeb6b1548179c10c373821a63ee",
            "7b7215b8061043538855ca813398bb6b",
            "d47f1b2c04a64a8490c8985831f96567",
            "b95f0e6daf244819abcea02517c936b1"
          ]
        }
      },
      "source": [
        "# Model Structure\n",
        "model_IOB = BertForTokenClassification.from_pretrained(\n",
        "    \"bert-base-cased\",\n",
        "    num_labels=len(tag2idx_IOB),\n",
        "    output_attentions = False,\n",
        "    output_hidden_states = False\n",
        ")\n",
        "\n",
        "# Hyperparameters for Fine Tuning\n",
        "FULL_FINETUNING = True\n",
        "if FULL_FINETUNING:\n",
        "    param_optimizer = list(model_IOB.named_parameters())\n",
        "    no_decay = ['bias', 'gamma', 'beta']\n",
        "    optimizer_grouped_parameters = [\n",
        "        {'params': [p for n, p in param_optimizer if not any(nd in n for nd in no_decay)],\n",
        "         'weight_decay_rate': 0.01},\n",
        "        {'params': [p for n, p in param_optimizer if any(nd in n for nd in no_decay)],\n",
        "         'weight_decay_rate': 0.0}\n",
        "    ]\n",
        "else:\n",
        "    param_optimizer = list(model_IOB.classifier.named_parameters())\n",
        "    optimizer_grouped_parameters = [{\"params\": [p for n, p in param_optimizer]}]\n",
        "\n",
        "optimizer = AdamW(\n",
        "    optimizer_grouped_parameters,\n",
        "    lr=3e-5,\n",
        "    eps=1e-8\n",
        ")\n",
        "\n",
        "epochs = 3\n",
        "max_grad_norm = 1.0\n",
        "\n",
        "# Total number of training steps is number of batches * number of epochs.\n",
        "total_steps = len(IOB_dataloader) * epochs\n",
        "\n",
        "# Create the learning rate scheduler.\n",
        "scheduler = get_linear_schedule_with_warmup(\n",
        "    optimizer,\n",
        "    num_warmup_steps=0,\n",
        "    num_training_steps=total_steps\n",
        ")\n",
        "\n",
        "## Store the average loss after each epoch\n",
        "loss_values_IOB, validation_loss_values_IOB = [], []\n",
        "\n",
        "for _ in trange(epochs, desc=\"Epoch\"):\n",
        "    # ========================================\n",
        "    #               Training\n",
        "    # ========================================\n",
        "    # Put the model into training mode.\n",
        "    model_IOB.train()\n",
        "    # Reset the total loss for each epoch.\n",
        "    total_loss_IOB = 0\n",
        "\n",
        "    # Training loop\n",
        "    for step, batch in enumerate(IOB_dataloader):\n",
        "        # Extrach inputs from the batch\n",
        "        batch = tuple(t for t in batch)\n",
        "        b_input_ids, b_input_mask, b_labels = batch\n",
        "        # Clear any previously calculated gradients before performing a backward pass.\n",
        "        model_IOB.zero_grad()\n",
        "        # Model\n",
        "        outputs = model_IOB(b_input_ids, token_type_ids=None,\n",
        "                        attention_mask=b_input_mask, labels=b_labels)\n",
        "        # Loss\n",
        "        loss = outputs[0]\n",
        "        # Perform a backward pass to calculate the gradients.\n",
        "        loss.backward()\n",
        "        # Extract the train loss\n",
        "        total_loss_IOB += loss.item()\n",
        "        # Clip the norm of the gradient\n",
        "        # to help prevent the \"exploding gradients\" problem.\n",
        "        torch.nn.utils.clip_grad_norm_(parameters=model_IOB.parameters(), max_norm=max_grad_norm)\n",
        "        # Update parameters\n",
        "        optimizer.step()\n",
        "        # Update the learning rate.\n",
        "        scheduler.step()\n",
        "\n",
        "    # Calculate the average loss over the training data.\n",
        "    avg_train_loss_IOB = total_loss_IOB / len(IOB_dataloader)\n",
        "    print(\"IOB Average train loss: {}\".format(round(avg_train_loss_IOB),5))\n",
        "\n",
        "    # Store the loss value.\n",
        "    loss_values_IOB.append(avg_train_loss_IOB)\n",
        "\n",
        "    # ========================================\n",
        "    #               Validation\n",
        "    # ========================================\n",
        "    # Put the model into evaluation mode\n",
        "    model_IOB.eval()\n",
        "    # Reset the validation loss for each epoch\n",
        "    eval_loss_IOB, eval_accuracy_IOB = 0, 0\n",
        "    nb_eval_steps, nb_eval_examples = 0, 0\n",
        "    predictions_IOB , true_labels_IOB = [], []\n",
        "    # Upload inputs from the batch\n",
        "    for batch in IOB_val_dataloader:\n",
        "        batch = tuple(t for t in batch)\n",
        "        b_input_ids, b_input_mask, b_labels = batch\n",
        "\n",
        "        with torch.no_grad():  #not compute or store gradients to speed up validation\n",
        "            # Forward pass, calculate logit predictions.\n",
        "            outputs_IOB = model_IOB(b_input_ids, token_type_ids=None,\n",
        "                            attention_mask=b_input_mask, labels=b_labels)\n",
        "        # Logits (for predictions)\n",
        "        logits_IOB = outputs_IOB[1].numpy()\n",
        "        label_ids_IOB = b_labels.numpy()\n",
        "\n",
        "        # Calculate the accuracy for this batch of test sentences.\n",
        "        eval_loss_IOB += outputs_IOB[0].mean().item()\n",
        "        predictions_IOB.extend([list(p) for p in np.argmax(logits_IOB, axis=2)])\n",
        "        true_labels_IOB.extend(label_ids_IOB)\n",
        "\n",
        "    eval_loss_IOB = eval_loss_IOB / len(IOB_val_dataloader)\n",
        "    validation_loss_values_IOB.append(eval_loss_IOB)\n",
        "    print(\"IOB Validation loss: {}\".format(round(eval_loss_IOB,5)))\n",
        "    pred_tags_IOB = [tag_values_IOB[p_i] for p, l in zip(predictions_IOB, true_labels_IOB)\n",
        "                                 for p_i, l_i in zip(p, l) if tag_values_IOB[l_i] != \"PAD\"]\n",
        "    valid_tags_IOB  = [tag_values_IOB[l_i] for l in true_labels_IOB\n",
        "                                  for l_i in l if tag_values_IOB[l_i] != \"PAD\"]\n",
        "    print(\"IOB Validation Accuracy: {}\".format(round(accuracy_score(pred_tags_IOB, valid_tags_IOB),5)))\n",
        "    print(\"IOB Validation F1-Score: {}\".format(round(f1_score(pred_tags_IOB, valid_tags_IOB)),5))\n",
        "    print()"
      ],
      "execution_count": null,
      "outputs": [
        {
          "output_type": "display_data",
          "data": {
            "application/vnd.jupyter.widget-view+json": {
              "model_id": "3ba270d0fb61481e8d5663d50da08e92",
              "version_minor": 0,
              "version_major": 2
            },
            "text/plain": [
              "HBox(children=(FloatProgress(value=0.0, description='Downloading', max=433.0, style=ProgressStyle(description_…"
            ]
          },
          "metadata": {
            "tags": []
          }
        },
        {
          "output_type": "stream",
          "text": [
            "\n"
          ],
          "name": "stdout"
        },
        {
          "output_type": "display_data",
          "data": {
            "application/vnd.jupyter.widget-view+json": {
              "model_id": "2cfb7e49e2b94840a7981039e7abc520",
              "version_minor": 0,
              "version_major": 2
            },
            "text/plain": [
              "HBox(children=(FloatProgress(value=0.0, description='Downloading', max=435779157.0, style=ProgressStyle(descri…"
            ]
          },
          "metadata": {
            "tags": []
          }
        },
        {
          "output_type": "stream",
          "text": [
            "\n"
          ],
          "name": "stdout"
        },
        {
          "output_type": "stream",
          "text": [
            "Some weights of the model checkpoint at bert-base-cased were not used when initializing BertForTokenClassification: ['cls.predictions.bias', 'cls.predictions.transform.dense.weight', 'cls.predictions.transform.dense.bias', 'cls.predictions.decoder.weight', 'cls.seq_relationship.weight', 'cls.seq_relationship.bias', 'cls.predictions.transform.LayerNorm.weight', 'cls.predictions.transform.LayerNorm.bias']\n",
            "- This IS expected if you are initializing BertForTokenClassification from the checkpoint of a model trained on another task or with another architecture (e.g. initializing a BertForSequenceClassification model from a BertForPretraining model).\n",
            "- This IS NOT expected if you are initializing BertForTokenClassification from the checkpoint of a model that you expect to be exactly identical (initializing a BertForSequenceClassification model from a BertForSequenceClassification model).\n",
            "Some weights of BertForTokenClassification were not initialized from the model checkpoint at bert-base-cased and are newly initialized: ['classifier.weight', 'classifier.bias']\n",
            "You should probably TRAIN this model on a down-stream task to be able to use it for predictions and inference.\n",
            "Epoch:   0%|          | 0/4 [00:00<?, ?it/s]"
          ],
          "name": "stderr"
        },
        {
          "output_type": "stream",
          "text": [
            "IOB Average train loss: 0\n"
          ],
          "name": "stdout"
        },
        {
          "output_type": "stream",
          "text": [
            "\rEpoch:  25%|██▌       | 1/4 [02:21<07:05, 141.83s/it]"
          ],
          "name": "stderr"
        },
        {
          "output_type": "stream",
          "text": [
            "IOB Validation loss: 0\n",
            "IOB Validation Accuracy: 0.91911\n",
            "IOB Validation F1-Score: 0.56827\n",
            "\n",
            "IOB Average train loss: 0\n"
          ],
          "name": "stdout"
        },
        {
          "output_type": "stream",
          "text": [
            "\rEpoch:  50%|█████     | 2/4 [04:41<04:42, 141.13s/it]"
          ],
          "name": "stderr"
        },
        {
          "output_type": "stream",
          "text": [
            "IOB Validation loss: 0\n",
            "IOB Validation Accuracy: 0.9403\n",
            "IOB Validation F1-Score: 0.68954\n",
            "\n",
            "IOB Average train loss: 0\n"
          ],
          "name": "stdout"
        },
        {
          "output_type": "stream",
          "text": [
            "\rEpoch:  75%|███████▌  | 3/4 [07:00<02:20, 140.50s/it]"
          ],
          "name": "stderr"
        },
        {
          "output_type": "stream",
          "text": [
            "IOB Validation loss: 0\n",
            "IOB Validation Accuracy: 0.94419\n",
            "IOB Validation F1-Score: 0.71453\n",
            "\n",
            "IOB Average train loss: 0\n"
          ],
          "name": "stdout"
        },
        {
          "output_type": "stream",
          "text": [
            "Epoch: 100%|██████████| 4/4 [09:20<00:00, 140.15s/it]"
          ],
          "name": "stderr"
        },
        {
          "output_type": "stream",
          "text": [
            "IOB Validation loss: 0\n",
            "IOB Validation Accuracy: 0.94631\n",
            "IOB Validation F1-Score: 0.725\n",
            "\n"
          ],
          "name": "stdout"
        },
        {
          "output_type": "stream",
          "text": [
            "\n"
          ],
          "name": "stderr"
        }
      ]
    },
    {
      "cell_type": "markdown",
      "metadata": {
        "id": "ozssS_1XKPrH"
      },
      "source": [
        "Performance Graph"
      ]
    },
    {
      "cell_type": "code",
      "metadata": {
        "id": "HUIhMJ0RvMUm",
        "outputId": "59dbf626-6e5f-4187-aa53-693f2cbcd0e4",
        "colab": {
          "base_uri": "https://localhost:8080/",
          "height": 427
        }
      },
      "source": [
        "# Use plot styling from seaborn.\n",
        "sns.set(style='darkgrid')\n",
        "\n",
        "# Increase the plot size and font size.\n",
        "sns.set(font_scale=1.5)\n",
        "plt.rcParams[\"figure.figsize\"] = (12,6)\n",
        "\n",
        "# Plot the learning curve.\n",
        "plt.plot(loss_values_IOB, 'b-o', label=\"training loss\")\n",
        "plt.plot(validation_loss_values_IOB, 'r-o', label=\"validation loss\")\n",
        "\n",
        "# Label the plot.\n",
        "plt.title(\"Learning curve\")\n",
        "plt.xlabel(\"Epoch\")\n",
        "plt.ylabel(\"Loss\")\n",
        "plt.legend()\n",
        "\n",
        "plt.show()"
      ],
      "execution_count": null,
      "outputs": [
        {
          "output_type": "display_data",
          "data": {
            "image/png": "[encoded data removed]",
            "text/plain": [
              "<Figure size 864x432 with 1 Axes>"
            ]
          },
          "metadata": {
            "tags": []
          }
        }
      ]
    },
    {
      "cell_type": "markdown",
      "metadata": {
        "id": "Ib_JqFYCva-a"
      },
      "source": [
        "## Evaluation"
      ]
    },
    {
      "cell_type": "markdown",
      "metadata": {
        "id": "lS7ArDdv06dW"
      },
      "source": [
        "### Data Processing"
      ]
    },
    {
      "cell_type": "markdown",
      "metadata": {
        "id": "f_WF5IL0xXWg"
      },
      "source": [
        "#### Tagging for Test"
      ]
    },
    {
      "cell_type": "code",
      "metadata": {
        "id": "OLwz5YDsw5ZD",
        "outputId": "352eb83c-3cab-4324-92e0-f23527f78257",
        "colab": {
          "base_uri": "https://localhost:8080/",
          "height": 419
        }
      },
      "source": [
        "# nltk\n",
        "test_df.Text = test_df.Text.astype('str')\n",
        "sample_test = test_df.Text[0]\n",
        "sent_test = preprocess(sample_test)\n",
        "\n",
        "cs_test = cp.parse(sent_test)\n",
        "iob_tagged_test = tree2conlltags(cs_test)\n",
        "df_sample_test = pd.DataFrame(iob_tagged_test, columns = ['Word', 'POS', 'nltkTag'])\n",
        "df_sample_test.insert(0, 'Sentence #', 0+1)\n",
        "\n",
        "for i in range(len(test_df.Text)-1):\n",
        "  sample = test_df.Text[i+1]\n",
        "  sent = preprocess(sample)\n",
        "  cs = cp.parse(sent)\n",
        "  iob_tagged = tree2conlltags(cs)\n",
        "  other_samples = pd.DataFrame(iob_tagged, columns = ['Word', 'POS', 'nltkTag'])\n",
        "  other_samples.insert(0, 'Sentence #', i+2)\n",
        "  df_sample_test = pd.concat([df_sample_test, other_samples], axis=0)\n",
        "\n",
        "df_sample_test = df_sample_test.reset_index(drop = True)\n",
        "df_sample_test"
      ],
      "execution_count": null,
      "outputs": [
        {
          "output_type": "execute_result",
          "data": {
            "text/html": [
              "<div>\n",
              "<style scoped>\n",
              "    .dataframe tbody tr th:only-of-type {\n",
              "        vertical-align: middle;\n",
              "    }\n",
              "\n",
              "    .dataframe tbody tr th {\n",
              "        vertical-align: top;\n",
              "    }\n",
              "\n",
              "    .dataframe thead th {\n",
              "        text-align: right;\n",
              "    }\n",
              "</style>\n",
              "<table border=\"1\" class=\"dataframe\">\n",
              "  <thead>\n",
              "    <tr style=\"text-align: right;\">\n",
              "      <th></th>\n",
              "      <th>Sentence #</th>\n",
              "      <th>Word</th>\n",
              "      <th>POS</th>\n",
              "      <th>nltkTag</th>\n",
              "    </tr>\n",
              "  </thead>\n",
              "  <tbody>\n",
              "    <tr>\n",
              "      <th>0</th>\n",
              "      <td>1</td>\n",
              "      <td>Yum</td>\n",
              "      <td>NN</td>\n",
              "      <td>B-NP</td>\n",
              "    </tr>\n",
              "    <tr>\n",
              "      <th>1</th>\n",
              "      <td>1</td>\n",
              "      <td>!</td>\n",
              "      <td>.</td>\n",
              "      <td>O</td>\n",
              "    </tr>\n",
              "    <tr>\n",
              "      <th>2</th>\n",
              "      <td>2</td>\n",
              "      <td>Serves</td>\n",
              "      <td>NNS</td>\n",
              "      <td>O</td>\n",
              "    </tr>\n",
              "    <tr>\n",
              "      <th>3</th>\n",
              "      <td>2</td>\n",
              "      <td>really</td>\n",
              "      <td>RB</td>\n",
              "      <td>O</td>\n",
              "    </tr>\n",
              "    <tr>\n",
              "      <th>4</th>\n",
              "      <td>2</td>\n",
              "      <td>good</td>\n",
              "      <td>JJ</td>\n",
              "      <td>B-NP</td>\n",
              "    </tr>\n",
              "    <tr>\n",
              "      <th>...</th>\n",
              "      <td>...</td>\n",
              "      <td>...</td>\n",
              "      <td>...</td>\n",
              "      <td>...</td>\n",
              "    </tr>\n",
              "    <tr>\n",
              "      <th>8516</th>\n",
              "      <td>587</td>\n",
              "      <td>was</td>\n",
              "      <td>VBD</td>\n",
              "      <td>O</td>\n",
              "    </tr>\n",
              "    <tr>\n",
              "      <th>8517</th>\n",
              "      <td>587</td>\n",
              "      <td>good</td>\n",
              "      <td>JJ</td>\n",
              "      <td>O</td>\n",
              "    </tr>\n",
              "    <tr>\n",
              "      <th>8518</th>\n",
              "      <td>587</td>\n",
              "      <td>,</td>\n",
              "      <td>,</td>\n",
              "      <td>O</td>\n",
              "    </tr>\n",
              "    <tr>\n",
              "      <th>8519</th>\n",
              "      <td>587</td>\n",
              "      <td>too</td>\n",
              "      <td>RB</td>\n",
              "      <td>O</td>\n",
              "    </tr>\n",
              "    <tr>\n",
              "      <th>8520</th>\n",
              "      <td>587</td>\n",
              "      <td>.</td>\n",
              "      <td>.</td>\n",
              "      <td>O</td>\n",
              "    </tr>\n",
              "  </tbody>\n",
              "</table>\n",
              "<p>8521 rows × 4 columns</p>\n",
              "</div>"
            ],
            "text/plain": [
              "      Sentence #    Word  POS nltkTag\n",
              "0              1     Yum   NN    B-NP\n",
              "1              1       !    .       O\n",
              "2              2  Serves  NNS       O\n",
              "3              2  really   RB       O\n",
              "4              2    good   JJ    B-NP\n",
              "...          ...     ...  ...     ...\n",
              "8516         587     was  VBD       O\n",
              "8517         587    good   JJ       O\n",
              "8518         587       ,    ,       O\n",
              "8519         587     too   RB       O\n",
              "8520         587       .    .       O\n",
              "\n",
              "[8521 rows x 4 columns]"
            ]
          },
          "metadata": {
            "tags": []
          },
          "execution_count": 39
        }
      ]
    },
    {
      "cell_type": "code",
      "metadata": {
        "id": "3sZa7uyVwZnb",
        "outputId": "fcd0dc87-45b3-4341-b14c-bec0fb5108dd",
        "colab": {
          "base_uri": "https://localhost:8080/",
          "height": 185
        }
      },
      "source": [
        "# binary \n",
        "tokenized_sentences_test = []\n",
        "for i in range(len(test_df.Text)):\n",
        "  sent_test = nltk.word_tokenize(test_df.Text[i])\n",
        "  tokenized_sentences_test.append(sent_test)\n",
        "  \n",
        "aspect_list_test = []\n",
        "for i in range((max(test.Sentence_ID))):\n",
        "    if any(test.Sentence_ID == i+1) == True:\n",
        "      aspect_list_test.append(test.groupby(['Sentence_ID']).get_group(i+1).AspectTerm.values)\n",
        "\n",
        "for i in range(len(aspect_list_test)):\n",
        "  if aspect_list_test[i] == []:\n",
        "    aspect_list_test[i] = aspect_list_test[i]\n",
        "  else:\n",
        "    aspect_list_test[i] = [nltk.word_tokenize(j) for j in aspect_list_test[i]]\n",
        "\n",
        "for i in range(len(aspect_list_test)):\n",
        "  aspect_list_test[i] = [item for sublist in aspect_list_test[i] for item in sublist]\n",
        "  aspect_list_test\n",
        "\n",
        "aspect_labels_test = []\n",
        "for token in tokenized_sentences_test[0]:\n",
        "  if np.isin(token, aspect_list_test[0]) == True:\n",
        "    aspect_labels_test.append(1)\n",
        "  else:\n",
        "    aspect_labels_test.append(0)\n",
        "\n",
        "other_aspects_test = []\n",
        "for i in range(len(tokenized_sentences_test)-1):\n",
        "  for token in tokenized_sentences_test[i+1]:\n",
        "    if np.isin(token, aspect_list_test[i+1]) == True:\n",
        "      other_aspects_test.append(1)\n",
        "    else:\n",
        "      other_aspects_test.append(0)\n",
        "aspect_labels_test = pd.concat([pd.Series(aspect_labels_test), pd.Series(other_aspects_test)], axis=0)\n",
        "aspect_labels_test = aspect_labels_test.reset_index(drop=True)\n",
        "df_sample_test['binary_AspectTags'] = aspect_labels_test"
      ],
      "execution_count": null,
      "outputs": [
        {
          "output_type": "stream",
          "text": [
            "/usr/local/lib/python3.6/dist-packages/ipykernel_launcher.py:13: DeprecationWarning: The truth value of an empty array is ambiguous. Returning False, but in future this will result in an error. Use `array.size > 0` to check that an array is not empty.\n",
            "  del sys.path[0]\n",
            "/usr/local/lib/python3.6/dist-packages/ipykernel_launcher.py:13: DeprecationWarning: elementwise comparison failed; this will raise an error in the future.\n",
            "  del sys.path[0]\n"
          ],
          "name": "stderr"
        }
      ]
    },
    {
      "cell_type": "code",
      "metadata": {
        "id": "YLWB5PjE75jx",
        "outputId": "b73c50d4-4210-4fca-87d0-e0064774afe6",
        "colab": {
          "base_uri": "https://localhost:8080/",
          "height": 1000
        }
      },
      "source": [
        "# IOB\n",
        "BIO_aspectTags_test = pd.Series(aspect_labels_test)\n",
        "BIO_aspectTags_test = BIO_aspectTags_test.replace(to_replace=0, value='O')\n",
        "BIO_aspectTags_test = BIO_aspectTags_test.replace(to_replace=1, value='B-NP')\n",
        "\n",
        "deneme_list_test = BIO_aspectTags_test.values.tolist()\n",
        "gizem_test =[]\n",
        "for n in range(len(deneme_list_test)):\n",
        "  if (deneme_list_test[n] != deneme_list_test[-1] and deneme_list_test[n] == 'O' and deneme_list_test[n+1] =='B-NP'):\n",
        "    gizem_test.append('B-NP')\n",
        "  elif (deneme_list_test[n-1] == 'O' and deneme_list_test[n] == 'B-NP' and deneme_list_test[n+1] =='B-NP'):\n",
        "    gizem_test.append('B-NP')\n",
        "  elif (deneme_list_test[n-1] == 'B-NP' and deneme_list_test[n] == 'B-NP' and deneme_list_test[n+1] =='B-NP'):\n",
        "    gizem_test.append('I-NP')\n",
        "  elif (deneme_list_test[n-1] == 'B-NP' and deneme_list_test[n] == 'B-NP' and deneme_list_test[n+1] =='O'):\n",
        "    gizem_test.append('I-NP')   \n",
        "  else:\n",
        "    gizem_test.append(deneme_list_test[n])\n",
        "\n",
        "df_sample_test['BIO_aspectTags'] = pd.Series(gizem_test)\n",
        "df_sample_test[7350:7382]"
      ],
      "execution_count": null,
      "outputs": [
        {
          "output_type": "execute_result",
          "data": {
            "text/html": [
              "<div>\n",
              "<style scoped>\n",
              "    .dataframe tbody tr th:only-of-type {\n",
              "        vertical-align: middle;\n",
              "    }\n",
              "\n",
              "    .dataframe tbody tr th {\n",
              "        vertical-align: top;\n",
              "    }\n",
              "\n",
              "    .dataframe thead th {\n",
              "        text-align: right;\n",
              "    }\n",
              "</style>\n",
              "<table border=\"1\" class=\"dataframe\">\n",
              "  <thead>\n",
              "    <tr style=\"text-align: right;\">\n",
              "      <th></th>\n",
              "      <th>Sentence #</th>\n",
              "      <th>Word</th>\n",
              "      <th>POS</th>\n",
              "      <th>nltkTag</th>\n",
              "      <th>binary_AspectTags</th>\n",
              "      <th>BIO_aspectTags</th>\n",
              "    </tr>\n",
              "  </thead>\n",
              "  <tbody>\n",
              "    <tr>\n",
              "      <th>7350</th>\n",
              "      <td>525</td>\n",
              "      <td>are</td>\n",
              "      <td>VBP</td>\n",
              "      <td>O</td>\n",
              "      <td>0</td>\n",
              "      <td>O</td>\n",
              "    </tr>\n",
              "    <tr>\n",
              "      <th>7351</th>\n",
              "      <td>525</td>\n",
              "      <td>very</td>\n",
              "      <td>RB</td>\n",
              "      <td>O</td>\n",
              "      <td>0</td>\n",
              "      <td>O</td>\n",
              "    </tr>\n",
              "    <tr>\n",
              "      <th>7352</th>\n",
              "      <td>525</td>\n",
              "      <td>experienced</td>\n",
              "      <td>JJ</td>\n",
              "      <td>O</td>\n",
              "      <td>0</td>\n",
              "      <td>O</td>\n",
              "    </tr>\n",
              "    <tr>\n",
              "      <th>7353</th>\n",
              "      <td>525</td>\n",
              "      <td>and</td>\n",
              "      <td>CC</td>\n",
              "      <td>O</td>\n",
              "      <td>0</td>\n",
              "      <td>O</td>\n",
              "    </tr>\n",
              "    <tr>\n",
              "      <th>7354</th>\n",
              "      <td>525</td>\n",
              "      <td>helpful</td>\n",
              "      <td>JJ</td>\n",
              "      <td>O</td>\n",
              "      <td>0</td>\n",
              "      <td>O</td>\n",
              "    </tr>\n",
              "    <tr>\n",
              "      <th>7355</th>\n",
              "      <td>525</td>\n",
              "      <td>with</td>\n",
              "      <td>IN</td>\n",
              "      <td>O</td>\n",
              "      <td>0</td>\n",
              "      <td>O</td>\n",
              "    </tr>\n",
              "    <tr>\n",
              "      <th>7356</th>\n",
              "      <td>525</td>\n",
              "      <td>pairing</td>\n",
              "      <td>VBG</td>\n",
              "      <td>O</td>\n",
              "      <td>0</td>\n",
              "      <td>O</td>\n",
              "    </tr>\n",
              "    <tr>\n",
              "      <th>7357</th>\n",
              "      <td>525</td>\n",
              "      <td>your</td>\n",
              "      <td>PRP$</td>\n",
              "      <td>O</td>\n",
              "      <td>0</td>\n",
              "      <td>O</td>\n",
              "    </tr>\n",
              "    <tr>\n",
              "      <th>7358</th>\n",
              "      <td>525</td>\n",
              "      <td>drink</td>\n",
              "      <td>NN</td>\n",
              "      <td>B-NP</td>\n",
              "      <td>0</td>\n",
              "      <td>O</td>\n",
              "    </tr>\n",
              "    <tr>\n",
              "      <th>7359</th>\n",
              "      <td>525</td>\n",
              "      <td>choice</td>\n",
              "      <td>NN</td>\n",
              "      <td>B-NP</td>\n",
              "      <td>0</td>\n",
              "      <td>O</td>\n",
              "    </tr>\n",
              "    <tr>\n",
              "      <th>7360</th>\n",
              "      <td>525</td>\n",
              "      <td>to</td>\n",
              "      <td>TO</td>\n",
              "      <td>O</td>\n",
              "      <td>0</td>\n",
              "      <td>O</td>\n",
              "    </tr>\n",
              "    <tr>\n",
              "      <th>7361</th>\n",
              "      <td>525</td>\n",
              "      <td>your</td>\n",
              "      <td>PRP$</td>\n",
              "      <td>O</td>\n",
              "      <td>0</td>\n",
              "      <td>O</td>\n",
              "    </tr>\n",
              "    <tr>\n",
              "      <th>7362</th>\n",
              "      <td>525</td>\n",
              "      <td>food</td>\n",
              "      <td>NN</td>\n",
              "      <td>B-NP</td>\n",
              "      <td>0</td>\n",
              "      <td>O</td>\n",
              "    </tr>\n",
              "    <tr>\n",
              "      <th>7363</th>\n",
              "      <td>525</td>\n",
              "      <td>tastes</td>\n",
              "      <td>NNS</td>\n",
              "      <td>O</td>\n",
              "      <td>0</td>\n",
              "      <td>O</td>\n",
              "    </tr>\n",
              "    <tr>\n",
              "      <th>7364</th>\n",
              "      <td>525</td>\n",
              "      <td>or</td>\n",
              "      <td>CC</td>\n",
              "      <td>O</td>\n",
              "      <td>0</td>\n",
              "      <td>O</td>\n",
              "    </tr>\n",
              "    <tr>\n",
              "      <th>7365</th>\n",
              "      <td>525</td>\n",
              "      <td>vice</td>\n",
              "      <td>NN</td>\n",
              "      <td>B-NP</td>\n",
              "      <td>0</td>\n",
              "      <td>O</td>\n",
              "    </tr>\n",
              "    <tr>\n",
              "      <th>7366</th>\n",
              "      <td>525</td>\n",
              "      <td>versa</td>\n",
              "      <td>NN</td>\n",
              "      <td>B-NP</td>\n",
              "      <td>0</td>\n",
              "      <td>O</td>\n",
              "    </tr>\n",
              "    <tr>\n",
              "      <th>7367</th>\n",
              "      <td>525</td>\n",
              "      <td>.</td>\n",
              "      <td>.</td>\n",
              "      <td>O</td>\n",
              "      <td>0</td>\n",
              "      <td>O</td>\n",
              "    </tr>\n",
              "    <tr>\n",
              "      <th>7368</th>\n",
              "      <td>526</td>\n",
              "      <td>The</td>\n",
              "      <td>DT</td>\n",
              "      <td>B-NP</td>\n",
              "      <td>0</td>\n",
              "      <td>O</td>\n",
              "    </tr>\n",
              "    <tr>\n",
              "      <th>7369</th>\n",
              "      <td>526</td>\n",
              "      <td>sushi</td>\n",
              "      <td>NN</td>\n",
              "      <td>I-NP</td>\n",
              "      <td>1</td>\n",
              "      <td>B-NP</td>\n",
              "    </tr>\n",
              "    <tr>\n",
              "      <th>7370</th>\n",
              "      <td>526</td>\n",
              "      <td>is</td>\n",
              "      <td>VBZ</td>\n",
              "      <td>O</td>\n",
              "      <td>0</td>\n",
              "      <td>O</td>\n",
              "    </tr>\n",
              "    <tr>\n",
              "      <th>7371</th>\n",
              "      <td>526</td>\n",
              "      <td>as</td>\n",
              "      <td>RB</td>\n",
              "      <td>O</td>\n",
              "      <td>0</td>\n",
              "      <td>O</td>\n",
              "    </tr>\n",
              "    <tr>\n",
              "      <th>7372</th>\n",
              "      <td>526</td>\n",
              "      <td>fresh</td>\n",
              "      <td>JJ</td>\n",
              "      <td>O</td>\n",
              "      <td>0</td>\n",
              "      <td>O</td>\n",
              "    </tr>\n",
              "    <tr>\n",
              "      <th>7373</th>\n",
              "      <td>526</td>\n",
              "      <td>as</td>\n",
              "      <td>IN</td>\n",
              "      <td>O</td>\n",
              "      <td>0</td>\n",
              "      <td>O</td>\n",
              "    </tr>\n",
              "    <tr>\n",
              "      <th>7374</th>\n",
              "      <td>526</td>\n",
              "      <td>it</td>\n",
              "      <td>PRP</td>\n",
              "      <td>O</td>\n",
              "      <td>0</td>\n",
              "      <td>O</td>\n",
              "    </tr>\n",
              "    <tr>\n",
              "      <th>7375</th>\n",
              "      <td>526</td>\n",
              "      <td>comes</td>\n",
              "      <td>VBZ</td>\n",
              "      <td>O</td>\n",
              "      <td>0</td>\n",
              "      <td>O</td>\n",
              "    </tr>\n",
              "    <tr>\n",
              "      <th>7376</th>\n",
              "      <td>526</td>\n",
              "      <td>?</td>\n",
              "      <td>.</td>\n",
              "      <td>O</td>\n",
              "      <td>0</td>\n",
              "      <td>O</td>\n",
              "    </tr>\n",
              "    <tr>\n",
              "      <th>7377</th>\n",
              "      <td>526</td>\n",
              "      <td>you</td>\n",
              "      <td>PRP</td>\n",
              "      <td>O</td>\n",
              "      <td>0</td>\n",
              "      <td>O</td>\n",
              "    </tr>\n",
              "    <tr>\n",
              "      <th>7378</th>\n",
              "      <td>526</td>\n",
              "      <td>'d</td>\n",
              "      <td>MD</td>\n",
              "      <td>O</td>\n",
              "      <td>0</td>\n",
              "      <td>O</td>\n",
              "    </tr>\n",
              "    <tr>\n",
              "      <th>7379</th>\n",
              "      <td>526</td>\n",
              "      <td>think</td>\n",
              "      <td>VB</td>\n",
              "      <td>O</td>\n",
              "      <td>0</td>\n",
              "      <td>O</td>\n",
              "    </tr>\n",
              "    <tr>\n",
              "      <th>7380</th>\n",
              "      <td>526</td>\n",
              "      <td>ocean</td>\n",
              "      <td>NN</td>\n",
              "      <td>B-NP</td>\n",
              "      <td>0</td>\n",
              "      <td>O</td>\n",
              "    </tr>\n",
              "    <tr>\n",
              "      <th>7381</th>\n",
              "      <td>526</td>\n",
              "      <td>was</td>\n",
              "      <td>VBD</td>\n",
              "      <td>O</td>\n",
              "      <td>0</td>\n",
              "      <td>O</td>\n",
              "    </tr>\n",
              "  </tbody>\n",
              "</table>\n",
              "</div>"
            ],
            "text/plain": [
              "      Sentence #         Word   POS nltkTag  binary_AspectTags BIO_aspectTags\n",
              "7350         525          are   VBP       O                  0              O\n",
              "7351         525         very    RB       O                  0              O\n",
              "7352         525  experienced    JJ       O                  0              O\n",
              "7353         525          and    CC       O                  0              O\n",
              "7354         525      helpful    JJ       O                  0              O\n",
              "7355         525         with    IN       O                  0              O\n",
              "7356         525      pairing   VBG       O                  0              O\n",
              "7357         525         your  PRP$       O                  0              O\n",
              "7358         525        drink    NN    B-NP                  0              O\n",
              "7359         525       choice    NN    B-NP                  0              O\n",
              "7360         525           to    TO       O                  0              O\n",
              "7361         525         your  PRP$       O                  0              O\n",
              "7362         525         food    NN    B-NP                  0              O\n",
              "7363         525       tastes   NNS       O                  0              O\n",
              "7364         525           or    CC       O                  0              O\n",
              "7365         525         vice    NN    B-NP                  0              O\n",
              "7366         525        versa    NN    B-NP                  0              O\n",
              "7367         525            .     .       O                  0              O\n",
              "7368         526          The    DT    B-NP                  0              O\n",
              "7369         526        sushi    NN    I-NP                  1           B-NP\n",
              "7370         526           is   VBZ       O                  0              O\n",
              "7371         526           as    RB       O                  0              O\n",
              "7372         526        fresh    JJ       O                  0              O\n",
              "7373         526           as    IN       O                  0              O\n",
              "7374         526           it   PRP       O                  0              O\n",
              "7375         526        comes   VBZ       O                  0              O\n",
              "7376         526            ?     .       O                  0              O\n",
              "7377         526          you   PRP       O                  0              O\n",
              "7378         526           'd    MD       O                  0              O\n",
              "7379         526        think    VB       O                  0              O\n",
              "7380         526        ocean    NN    B-NP                  0              O\n",
              "7381         526          was   VBD       O                  0              O"
            ]
          },
          "metadata": {
            "tags": []
          },
          "execution_count": 41
        }
      ]
    },
    {
      "cell_type": "markdown",
      "metadata": {
        "id": "SaynqPyDy0H1"
      },
      "source": [
        "#### Bert Tokenization for Test"
      ]
    },
    {
      "cell_type": "code",
      "metadata": {
        "id": "GJ-yz_7Sx1Sb"
      },
      "source": [
        "grouped_df_test = df_sample_test.groupby(\"Sentence #\").apply(agg_func)\n",
        "sentences_test = [[word[0] for word in sentence] for sentence in grouped_df_test]\n",
        "ntlkTags_test = [[tag[1] for tag in sentence] for sentence in grouped_df_test]\n",
        "binary_AspectTags_test = [[tag[2] for tag in sentence] for sentence in grouped_df_test]\n",
        "BIO_aspectTags_test = [[tag[3] for tag in sentence] for sentence in grouped_df_test]"
      ],
      "execution_count": null,
      "outputs": []
    },
    {
      "cell_type": "code",
      "metadata": {
        "id": "thk1nWq7yGWz",
        "outputId": "ead33d96-ef31-47ed-cfdc-9fc0eaa46ba8",
        "colab": {
          "base_uri": "https://localhost:8080/",
          "height": 136
        }
      },
      "source": [
        "# nltk\n",
        "all_sentence_list_nltk_test = []\n",
        "all_label_list_nltk_test = []\n",
        "for i in range(len(sentences_test)):\n",
        "  tokenized_sentence_list = []\n",
        "  label_list = []\n",
        "  for word, label in zip(sentences_test[i], ntlkTags[i]):\n",
        "    tokenized_word = tokenizer.tokenize(word)\n",
        "    n_subwords = len(tokenized_word)\n",
        "    tokenized_sentence_list.extend(tokenized_word)\n",
        "    label_list.extend([label] * n_subwords)\n",
        "  all_sentence_list_nltk_test.append(tokenized_sentence_list)\n",
        "  all_label_list_nltk_test.append(label_list)\n",
        "\n",
        "# Raw Inputs\n",
        "tokenized_texts = all_sentence_list_nltk_test\n",
        "labels = all_label_list_nltk_test\n",
        "\n",
        "# Max length\n",
        "max_length = max([len(sen) for sen in tokenized_texts])\n",
        "\n",
        "input_ids_nltk_test = pad_sequences([tokenizer.convert_tokens_to_ids(txt) for txt in tokenized_texts],\n",
        "                          maxlen=max_length, dtype=\"long\", value=0.0,\n",
        "                          truncating=\"post\", padding=\"post\")\n",
        "\n",
        "tags_nltk_test = pad_sequences([[tag2idx_nltk.get(l) for l in lab] for lab in labels],\n",
        "                     maxlen=max_length, value=tag2idx_nltk[\"PAD\"], padding=\"post\",\n",
        "                     dtype=\"long\", truncating=\"post\")\n",
        "\n",
        "attention_masks_nltk_test = [[float(i != 0.0) for i in ii] for ii in input_ids_nltk_test]\n",
        "input_ids_nltk_test[0], tags_nltk_test[0]"
      ],
      "execution_count": null,
      "outputs": [
        {
          "output_type": "execute_result",
          "data": {
            "text/plain": [
              "(array([10684,  1306,   106,     0,     0,     0,     0,     0,     0,\n",
              "            0,     0,     0,     0,     0,     0,     0,     0,     0,\n",
              "            0,     0,     0,     0,     0,     0,     0,     0,     0,\n",
              "            0,     0,     0,     0,     0,     0,     0,     0,     0,\n",
              "            0,     0,     0,     0,     0,     0,     0]),\n",
              " array([2, 2, 2, 3, 3, 3, 3, 3, 3, 3, 3, 3, 3, 3, 3, 3, 3, 3, 3, 3, 3, 3,\n",
              "        3, 3, 3, 3, 3, 3, 3, 3, 3, 3, 3, 3, 3, 3, 3, 3, 3, 3, 3, 3, 3]))"
            ]
          },
          "metadata": {
            "tags": []
          },
          "execution_count": 44
        }
      ]
    },
    {
      "cell_type": "code",
      "metadata": {
        "id": "R-U9PCK4zGvz",
        "outputId": "f7106f79-794b-455e-e1a6-89aac979cf38",
        "colab": {
          "base_uri": "https://localhost:8080/",
          "height": 255
        }
      },
      "source": [
        "# binary\n",
        "all_sentence_list_binary_test = []\n",
        "all_label_list_binary_test = []\n",
        "for i in range(len(sentences_test)):\n",
        "  tokenized_sentence_list = []\n",
        "  label_list = []\n",
        "  for word, label in zip(sentences_test[i], binary_AspectTags_test[i]):\n",
        "    tokenized_word = tokenizer.tokenize(word)\n",
        "    n_subwords = len(tokenized_word)\n",
        "    tokenized_sentence_list.extend(tokenized_word)\n",
        "    label_list.extend([label] * n_subwords)\n",
        "  all_sentence_list_binary_test.append(tokenized_sentence_list)\n",
        "  all_label_list_binary_test.append(label_list)\n",
        "\n",
        "# Raw Inputs\n",
        "tokenized_texts_binary_test = all_sentence_list_binary_test\n",
        "labels_binary_test = all_label_list_binary_test\n",
        "\n",
        "# Max length\n",
        "max_length_binary_test = max([len(sen) for sen in tokenized_texts_binary_test])\n",
        "\n",
        "input_ids_binary_test = pad_sequences([tokenizer.convert_tokens_to_ids(txt) for txt in tokenized_texts_binary_test],\n",
        "                          maxlen=max_length_binary_test, dtype=\"long\", value=0.0,\n",
        "                          truncating=\"post\", padding=\"post\")\n",
        "\n",
        "tags_binary_test = pad_sequences([[tag2idx_binary.get(l) for l in lab] for lab in labels_binary_test],\n",
        "                     maxlen=max_length, value=tag2idx_binary[\"PAD\"], padding=\"post\",\n",
        "                     dtype=\"long\", truncating=\"post\")\n",
        "\n",
        "attention_masks_binary_test = [[float(i != 0.0) for i in ii] for ii in input_ids_binary_test]\n",
        "input_ids_binary_test[0], tags_binary_test[0]"
      ],
      "execution_count": null,
      "outputs": [
        {
          "output_type": "execute_result",
          "data": {
            "text/plain": [
              "(array([10684,  1306,   106,     0,     0,     0,     0,     0,     0,\n",
              "            0,     0,     0,     0,     0,     0,     0,     0,     0,\n",
              "            0,     0,     0,     0,     0,     0,     0,     0,     0,\n",
              "            0,     0,     0,     0,     0,     0,     0,     0,     0,\n",
              "            0,     0,     0,     0,     0,     0,     0,     0,     0,\n",
              "            0,     0,     0,     0,     0,     0,     0,     0,     0,\n",
              "            0,     0,     0,     0,     0,     0,     0,     0,     0,\n",
              "            0,     0,     0,     0,     0,     0,     0,     0,     0,\n",
              "            0,     0,     0,     0,     0,     0,     0,     0,     0,\n",
              "            0,     0,     0,     0,     0,     0,     0,     0,     0,\n",
              "            0,     0,     0,     0,     0,     0,     0,     0,     0,\n",
              "            0,     0,     0,     0,     0,     0,     0,     0,     0]),\n",
              " array([0, 0, 0, 2, 2, 2, 2, 2, 2, 2, 2, 2, 2, 2, 2, 2, 2, 2, 2, 2, 2, 2,\n",
              "        2, 2, 2, 2, 2, 2, 2, 2, 2, 2, 2, 2, 2, 2, 2, 2, 2, 2, 2, 2, 2]))"
            ]
          },
          "metadata": {
            "tags": []
          },
          "execution_count": 45
        }
      ]
    },
    {
      "cell_type": "code",
      "metadata": {
        "id": "IC6LmeHfzh_C",
        "outputId": "38ba5a3b-5222-4672-9a21-4e2e75645571",
        "colab": {
          "base_uri": "https://localhost:8080/",
          "height": 255
        }
      },
      "source": [
        "# IOB\n",
        "all_sentence_list_IOB_test = []\n",
        "all_label_list_IOB_test = []\n",
        "for i in range(len(sentences_test)):\n",
        "  tokenized_sentence_list = []\n",
        "  label_list = []\n",
        "  for word, label in zip(sentences_test[i], BIO_aspectTags_test[i]):\n",
        "    tokenized_word = tokenizer.tokenize(word)\n",
        "    n_subwords = len(tokenized_word)\n",
        "    tokenized_sentence_list.extend(tokenized_word)\n",
        "    label_list.extend([label] * n_subwords)\n",
        "  all_sentence_list_IOB_test.append(tokenized_sentence_list)\n",
        "  all_label_list_IOB_test.append(label_list)\n",
        "\n",
        "# Raw Inputs\n",
        "tokenized_texts_IOB_test = all_sentence_list_IOB_test\n",
        "labels_IOB_test = all_label_list_IOB_test\n",
        "\n",
        "# Max length\n",
        "max_length_IOB_test = max([len(sen) for sen in tokenized_texts_IOB_test])\n",
        "\n",
        "input_ids_IOB_test= pad_sequences([tokenizer.convert_tokens_to_ids(txt) for txt in tokenized_texts_IOB_test],\n",
        "                          maxlen=max_length_IOB_test, dtype=\"long\", value=0.0,\n",
        "                          truncating=\"post\", padding=\"post\")\n",
        "\n",
        "tags_IOB_test = pad_sequences([[tag2idx_IOB.get(l) for l in lab] for lab in labels_IOB_test],\n",
        "                     maxlen=max_length, value=tag2idx_IOB[\"PAD\"], padding=\"post\",\n",
        "                     dtype=\"long\", truncating=\"post\")\n",
        "\n",
        "attention_masks_IOB_test = [[float(i != 0.0) for i in ii] for ii in input_ids_IOB_test]\n",
        "input_ids_IOB_test[0], tags_IOB_test[0]"
      ],
      "execution_count": null,
      "outputs": [
        {
          "output_type": "execute_result",
          "data": {
            "text/plain": [
              "(array([10684,  1306,   106,     0,     0,     0,     0,     0,     0,\n",
              "            0,     0,     0,     0,     0,     0,     0,     0,     0,\n",
              "            0,     0,     0,     0,     0,     0,     0,     0,     0,\n",
              "            0,     0,     0,     0,     0,     0,     0,     0,     0,\n",
              "            0,     0,     0,     0,     0,     0,     0,     0,     0,\n",
              "            0,     0,     0,     0,     0,     0,     0,     0,     0,\n",
              "            0,     0,     0,     0,     0,     0,     0,     0,     0,\n",
              "            0,     0,     0,     0,     0,     0,     0,     0,     0,\n",
              "            0,     0,     0,     0,     0,     0,     0,     0,     0,\n",
              "            0,     0,     0,     0,     0,     0,     0,     0,     0,\n",
              "            0,     0,     0,     0,     0,     0,     0,     0,     0,\n",
              "            0,     0,     0,     0,     0,     0,     0,     0,     0]),\n",
              " array([2, 2, 2, 3, 3, 3, 3, 3, 3, 3, 3, 3, 3, 3, 3, 3, 3, 3, 3, 3, 3, 3,\n",
              "        3, 3, 3, 3, 3, 3, 3, 3, 3, 3, 3, 3, 3, 3, 3, 3, 3, 3, 3, 3, 3]))"
            ]
          },
          "metadata": {
            "tags": []
          },
          "execution_count": 46
        }
      ]
    },
    {
      "cell_type": "markdown",
      "metadata": {
        "id": "DSrijwVH2MhQ"
      },
      "source": [
        "### Predictions"
      ]
    },
    {
      "cell_type": "code",
      "metadata": {
        "id": "svSPZaUE2VdG"
      },
      "source": [
        "# nltk\n",
        "test_Text = test_Text.reset_index(drop = True)\n",
        "data_list_nltk, all_predictions_nltk = [], []\n",
        "for i in range(len(test_Text)):\n",
        "  tkns = tokenizer.tokenize(test_Text[i])\n",
        "  indexed_tokens = tokenizer.convert_tokens_to_ids(tkns)\n",
        "  segments_ids = [0] * len(tkns)\n",
        "  tokens_tensor = torch.tensor([indexed_tokens])\n",
        "  segments_tensors = torch.tensor([segments_ids])\n",
        "\n",
        "  model_nltk.eval()\n",
        "  with torch.no_grad():\n",
        "    prediction_nltk = []\n",
        "    output_test = model_nltk(tokens_tensor, token_type_ids=None,\n",
        "                      attention_mask=segments_tensors)\n",
        "    logit = output_test[0].numpy()\n",
        "  prediction_nltk.extend(p for p in np.argmax(logit, axis=2))\n",
        "  prediction_nltk = list(prediction_nltk[0])\n",
        "\n",
        "  new_tokens_nltk, new_labels_nltk = [], []\n",
        "  for token, label in zip(tkns, prediction_nltk):\n",
        "    if token.startswith(\"##\"):\n",
        "      new_tokens_nltk[-1] = new_tokens_nltk[-1] + token[2:]\n",
        "    else:\n",
        "      new_tokens_nltk.append(token)\n",
        "      new_labels_nltk.append(label)\n",
        "    df_sentence_nltk = pd.DataFrame({'tokens':pd.Series(new_tokens_nltk), 'tags':pd.Series(new_labels_nltk)})\n",
        "  all_predictions_nltk.append(new_labels_nltk)\n",
        "  data_list_nltk.append(df_sentence_nltk) "
      ],
      "execution_count": null,
      "outputs": []
    },
    {
      "cell_type": "code",
      "metadata": {
        "id": "LyZr9ozD3739"
      },
      "source": [
        "# binary\n",
        "test_Text = test_Text.reset_index(drop = True)\n",
        "data_list_binary, all_predictions_binary = [], []\n",
        "for i in range(len(test_Text)):\n",
        "  tkns = tokenizer.tokenize(test_Text[i])\n",
        "  indexed_tokens = tokenizer.convert_tokens_to_ids(tkns)\n",
        "  segments_ids = [0] * len(tkns)\n",
        "  tokens_tensor = torch.tensor([indexed_tokens])\n",
        "  segments_tensors = torch.tensor([segments_ids])\n",
        "\n",
        "  model_binary.eval()\n",
        "  with torch.no_grad():\n",
        "    prediction_binary = []\n",
        "    output_test = model_binary(tokens_tensor, token_type_ids=None,\n",
        "                      attention_mask=segments_tensors)\n",
        "    logit = output_test[0].numpy()\n",
        "  prediction_binary.extend(p for p in np.argmax(logit, axis=2))\n",
        "  prediction_binary = list(prediction_binary[0])\n",
        "\n",
        "  new_tokens_binary, new_labels_binary = [], []\n",
        "  for token, label in zip(tkns, prediction_binary):\n",
        "    if token.startswith(\"##\"):\n",
        "      new_tokens_binary[-1] = new_tokens_binary[-1] + token[2:]\n",
        "    else:\n",
        "      new_tokens_binary.append(token)\n",
        "      new_labels_binary.append(label)\n",
        "    df_sentence_binary = pd.DataFrame({'tokens':pd.Series(new_tokens_binary), 'tags':pd.Series(new_labels_binary)})\n",
        "  all_predictions_binary.append(new_labels_binary)\n",
        "  data_list_binary.append(df_sentence_binary) "
      ],
      "execution_count": null,
      "outputs": []
    },
    {
      "cell_type": "code",
      "metadata": {
        "id": "yx9ZPCJv3ANr"
      },
      "source": [
        "# IOB\n",
        "test_Text = test_Text.reset_index(drop = True)\n",
        "data_list_IOB, all_predictions_IOB = [], []\n",
        "for i in range(len(test_Text)):\n",
        "  tkns = tokenizer.tokenize(test_Text[i])\n",
        "  indexed_tokens = tokenizer.convert_tokens_to_ids(tkns)\n",
        "  segments_ids = [0] * len(tkns)\n",
        "  tokens_tensor = torch.tensor([indexed_tokens])\n",
        "  segments_tensors = torch.tensor([segments_ids])\n",
        "\n",
        "  model_IOB.eval()\n",
        "  with torch.no_grad():\n",
        "    prediction_IOB = []\n",
        "    output_test = model_IOB(tokens_tensor, token_type_ids=None,\n",
        "                      attention_mask=segments_tensors)\n",
        "    logit = output_test[0].numpy()\n",
        "  prediction_IOB.extend(p for p in np.argmax(logit, axis=2))\n",
        "  prediction_IOB = list(prediction_IOB[0])\n",
        "\n",
        "  new_tokens_IOB, new_labels_IOB = [], []\n",
        "  for token, label in zip(tkns, prediction_IOB):\n",
        "    if token.startswith(\"##\"):\n",
        "      new_tokens_IOB[-1] = new_tokens_IOB[-1] + token[2:]\n",
        "    elif token.startswith(\"'\"):   \n",
        "      new_tokens_IOB[-1] = new_tokens_IOB[-1] + token\n",
        "    else:\n",
        "      new_tokens_IOB.append(token)\n",
        "      new_labels_IOB.append(label)\n",
        "    df_sentence_IOB = pd.DataFrame({'tokens':pd.Series(new_tokens_IOB), 'tags':pd.Series(new_labels_IOB)})\n",
        "  all_predictions_IOB.append(new_labels_IOB)\n",
        "  data_list_IOB.append(df_sentence_IOB) "
      ],
      "execution_count": null,
      "outputs": []
    },
    {
      "cell_type": "code",
      "metadata": {
        "id": "Ml47G8l1aJfm",
        "outputId": "264b3795-4cbd-4e04-d0b6-c1cafca6e1ef",
        "colab": {
          "base_uri": "https://localhost:8080/",
          "height": 68
        }
      },
      "source": [
        "tag2idx_nltk, tag2idx_binary, tag2idx_IOB"
      ],
      "execution_count": null,
      "outputs": [
        {
          "output_type": "execute_result",
          "data": {
            "text/plain": [
              "({'B-NP': 1, 'I-NP': 0, 'O': 2, 'PAD': 3},\n",
              " {0: 0, 1: 1, 'PAD': 2},\n",
              " {'B-NP': 1, 'I-NP': 0, 'O': 2, 'PAD': 3})"
            ]
          },
          "metadata": {
            "tags": []
          },
          "execution_count": 68
        }
      ]
    },
    {
      "cell_type": "code",
      "metadata": {
        "id": "OZeTC9W45RUJ"
      },
      "source": [
        "# nltk\n",
        "for j in range(len(all_predictions_nltk)):\n",
        "  for n, i in enumerate(all_predictions_nltk[j]):\n",
        "    if i == 0:\n",
        "      all_predictions_nltk[j][n] = 'I-NP'\n",
        "    elif i == 1:\n",
        "      all_predictions_nltk[j][n] = 'B-NP'\n",
        "    else:\n",
        "      all_predictions_nltk[j][n] = 'O'\n",
        "true_labels_nltk = ntlkTags_test[:]\n",
        "\n",
        "# binary\n",
        "true_labels_binary = binary_AspectTags_test[:]\n",
        "\n",
        "# IOB\n",
        "for j in range(len(all_predictions_IOB)):\n",
        "  for n, i in enumerate(all_predictions_IOB[j]):\n",
        "    if i == 0:\n",
        "      all_predictions_IOB[j][n] = 'I-NP'\n",
        "    elif i == 1:\n",
        "      all_predictions_IOB[j][n] = 'B-NP'\n",
        "    else:\n",
        "      all_predictions_IOB[j][n] = 'O'\n",
        "true_labels_IOB = BIO_aspectTags_test[:]"
      ],
      "execution_count": null,
      "outputs": []
    },
    {
      "cell_type": "markdown",
      "metadata": {
        "id": "qJLW8YZZbdmG"
      },
      "source": [
        "### Output Frame"
      ]
    },
    {
      "cell_type": "code",
      "metadata": {
        "id": "ltb9wofT6ts_",
        "outputId": "7e0ebef5-97ec-43aa-ac24-501fa2c7f8ef",
        "colab": {
          "base_uri": "https://localhost:8080/",
          "height": 983
        }
      },
      "source": [
        "aspectTerm_nltk, aspectTerm_binary, aspectTerm_IOB = [], [], []\n",
        "for i in range(len(test_Text)):\n",
        "  aspectTerm_nltk.append(data_list_nltk[i].loc[data_list_nltk[i]['tags'].isin([1,0])].tokens.values)\n",
        "  aspectTerm_binary.append(data_list_binary[i].loc[data_list_binary[i]['tags'].isin([1])].tokens.values)\n",
        "  aspectTerm_IOB.append(data_list_IOB[i].loc[data_list_IOB[i]['tags'].isin([1,0])].tokens.values)\n",
        "  \n",
        "output_frame = pd.merge(test_df, pd.DataFrame({'aspectTerm_nltk': pd.Series(aspectTerm_nltk)}), \n",
        "                        left_index = True, right_index=True)\n",
        "output_frame = pd.merge(output_frame, pd.DataFrame({'aspectTerm_binary': pd.Series(aspectTerm_binary)}), \n",
        "                        left_index = True, right_index=True)\n",
        "output_frame = pd.merge(output_frame, pd.DataFrame({'aspectTerm_IOB': pd.Series(aspectTerm_IOB)}), \n",
        "                        left_index = True, right_index=True)\n",
        "output_frame"
      ],
      "execution_count": null,
      "outputs": [
        {
          "output_type": "execute_result",
          "data": {
            "text/html": [
              "<div>\n",
              "<style scoped>\n",
              "    .dataframe tbody tr th:only-of-type {\n",
              "        vertical-align: middle;\n",
              "    }\n",
              "\n",
              "    .dataframe tbody tr th {\n",
              "        vertical-align: top;\n",
              "    }\n",
              "\n",
              "    .dataframe thead th {\n",
              "        text-align: right;\n",
              "    }\n",
              "</style>\n",
              "<table border=\"1\" class=\"dataframe\">\n",
              "  <thead>\n",
              "    <tr style=\"text-align: right;\">\n",
              "      <th></th>\n",
              "      <th>Text</th>\n",
              "      <th>aspectTerms</th>\n",
              "      <th>aspectTerm_nltk</th>\n",
              "      <th>aspectTerm_binary</th>\n",
              "      <th>aspectTerm_IOB</th>\n",
              "    </tr>\n",
              "  </thead>\n",
              "  <tbody>\n",
              "    <tr>\n",
              "      <th>0</th>\n",
              "      <td>Yum!</td>\n",
              "      <td>[]</td>\n",
              "      <td>[]</td>\n",
              "      <td>[]</td>\n",
              "      <td>[]</td>\n",
              "    </tr>\n",
              "    <tr>\n",
              "      <th>1</th>\n",
              "      <td>Serves really good sushi.</td>\n",
              "      <td>[sushi]</td>\n",
              "      <td>[good, sushi]</td>\n",
              "      <td>[sushi]</td>\n",
              "      <td>[sushi]</td>\n",
              "    </tr>\n",
              "    <tr>\n",
              "      <th>2</th>\n",
              "      <td>Not the biggest portions but adequate.</td>\n",
              "      <td>[portions]</td>\n",
              "      <td>[]</td>\n",
              "      <td>[]</td>\n",
              "      <td>[portions]</td>\n",
              "    </tr>\n",
              "    <tr>\n",
              "      <th>3</th>\n",
              "      <td>Green Tea creme brulee is a must!</td>\n",
              "      <td>[Green Tea creme brulee]</td>\n",
              "      <td>[Tea, creme, brulee, a, must]</td>\n",
              "      <td>[Green, Tea, creme, brulee]</td>\n",
              "      <td>[Green, Tea, creme, brulee]</td>\n",
              "    </tr>\n",
              "    <tr>\n",
              "      <th>4</th>\n",
              "      <td>Don't leave the restaurant without it.</td>\n",
              "      <td>[]</td>\n",
              "      <td>[the, restaurant]</td>\n",
              "      <td>[restaurant]</td>\n",
              "      <td>[restaurant]</td>\n",
              "    </tr>\n",
              "    <tr>\n",
              "      <th>...</th>\n",
              "      <td>...</td>\n",
              "      <td>...</td>\n",
              "      <td>...</td>\n",
              "      <td>...</td>\n",
              "      <td>...</td>\n",
              "    </tr>\n",
              "    <tr>\n",
              "      <th>582</th>\n",
              "      <td>Our server continued to be attentive throughou...</td>\n",
              "      <td>[server, Ray's]</td>\n",
              "      <td>[Our, server, the, night, one, issue, an, appr...</td>\n",
              "      <td>[server, Ray, ', s]</td>\n",
              "      <td>[server, Ray', s]</td>\n",
              "    </tr>\n",
              "    <tr>\n",
              "      <th>583</th>\n",
              "      <td>Two rascally kids were seated near us for the ...</td>\n",
              "      <td>[]</td>\n",
              "      <td>[rascally, the, first, part, dinner, a, deligh...</td>\n",
              "      <td>[kids]</td>\n",
              "      <td>[]</td>\n",
              "    </tr>\n",
              "    <tr>\n",
              "      <th>584</th>\n",
              "      <td>All considered, I have to say that Ray's Boath...</td>\n",
              "      <td>[Ray's Boathouse]</td>\n",
              "      <td>[title, a, institution]</td>\n",
              "      <td>[Ray, ', s, Boathouse]</td>\n",
              "      <td>[Ray', s, Boathouse]</td>\n",
              "    </tr>\n",
              "    <tr>\n",
              "      <th>585</th>\n",
              "      <td>While I could have done without the youth who ...</td>\n",
              "      <td>[food, , server]</td>\n",
              "      <td>[the, youth, the, evening, wonderful, server, ...</td>\n",
              "      <td>[server, food]</td>\n",
              "      <td>[server, food]</td>\n",
              "    </tr>\n",
              "    <tr>\n",
              "      <th>586</th>\n",
              "      <td>Oh yeah...the view was good, too.</td>\n",
              "      <td>[view]</td>\n",
              "      <td>[the, view]</td>\n",
              "      <td>[view]</td>\n",
              "      <td>[view]</td>\n",
              "    </tr>\n",
              "  </tbody>\n",
              "</table>\n",
              "<p>587 rows × 5 columns</p>\n",
              "</div>"
            ],
            "text/plain": [
              "                                                  Text  ...               aspectTerm_IOB\n",
              "0                                                 Yum!  ...                           []\n",
              "1                            Serves really good sushi.  ...                      [sushi]\n",
              "2               Not the biggest portions but adequate.  ...                   [portions]\n",
              "3                    Green Tea creme brulee is a must!  ...  [Green, Tea, creme, brulee]\n",
              "4               Don't leave the restaurant without it.  ...                 [restaurant]\n",
              "..                                                 ...  ...                          ...\n",
              "582  Our server continued to be attentive throughou...  ...            [server, Ray', s]\n",
              "583  Two rascally kids were seated near us for the ...  ...                           []\n",
              "584  All considered, I have to say that Ray's Boath...  ...         [Ray', s, Boathouse]\n",
              "585  While I could have done without the youth who ...  ...               [server, food]\n",
              "586                  Oh yeah...the view was good, too.  ...                       [view]\n",
              "\n",
              "[587 rows x 5 columns]"
            ]
          },
          "metadata": {
            "tags": []
          },
          "execution_count": 104
        }
      ]
    },
    {
      "cell_type": "code",
      "metadata": {
        "id": "DomzLN37ea7Y"
      },
      "source": [
        "output_frame.to_excel('OutputFrame_NER.xlsx')\n",
        "output_frame.to_csv('OutputFrame_NER.csv')"
      ],
      "execution_count": null,
      "outputs": []
    }
  ]
}