{
 "cells": [
  {
   "cell_type": "markdown",
   "metadata": {
    "id": "gEeKFdAO_WDv"
   },
   "source": [
    "# Task Description\n",
    "\n",
    "This notebook captures the task of aspect term extraction from the sentences meaning that the words which determine the category of the refering review are extracted. \n",
    "\n",
    "The basic IOB tagging, BERT model with IOB tagging and BERT model with binary tagging of the aspect terms were used as benchmarks for the BERT model with IOB tagging of the aspect terms. The advantage of the latter to the BERT model with binary tagging is that for multiple word aspect terms the IOB tagging indicates that the words belong to a same chunk. However, with the binary tagging the difference between (for example) a three-word aspect term and three consecutive aspect terms is not clear.\n",
    "\n",
    "Every IOB tagging is made with nltk package and the BERT models are written with pyTorch using the pretrained BertForTokenClassification package."
   ]
  },
  {
   "cell_type": "markdown",
   "metadata": {
    "id": "qPS4bMx9g43p"
   },
   "source": [
    "## Packages"
   ]
  },
  {
   "cell_type": "code",
   "execution_count": null,
   "metadata": {
    "colab": {
     "base_uri": "https://localhost:8080/"
    },
    "id": "Cs7Tnup4lpGI",
    "outputId": "9cb16b25-7afc-4d74-9e7f-f4acb5c66501"
   },
   "outputs": [
    {
     "name": "stdout",
     "output_type": "stream",
     "text": [
      "Collecting transformers\n",
      "\u001b[?25l  Downloading https://files.pythonhosted.org/packages/99/84/7bc03215279f603125d844bf81c3fb3f2d50fe8e511546eb4897e4be2067/transformers-4.0.0-py3-none-any.whl (1.4MB)\n",
      "\u001b[K     |████████████████████████████████| 1.4MB 7.4MB/s \n",
      "\u001b[?25hRequirement already satisfied: regex!=2019.12.17 in /usr/local/lib/python3.6/dist-packages (from transformers) (2019.12.20)\n",
      "Requirement already satisfied: dataclasses; python_version < \"3.7\" in /usr/local/lib/python3.6/dist-packages (from transformers) (0.8)\n",
      "Requirement already satisfied: filelock in /usr/local/lib/python3.6/dist-packages (from transformers) (3.0.12)\n",
      "Requirement already satisfied: requests in /usr/local/lib/python3.6/dist-packages (from transformers) (2.23.0)\n",
      "Requirement already satisfied: numpy in /usr/local/lib/python3.6/dist-packages (from transformers) (1.18.5)\n",
      "Collecting sacremoses\n",
      "\u001b[?25l  Downloading https://files.pythonhosted.org/packages/7d/34/09d19aff26edcc8eb2a01bed8e98f13a1537005d31e95233fd48216eed10/sacremoses-0.0.43.tar.gz (883kB)\n",
      "\u001b[K     |████████████████████████████████| 890kB 20.8MB/s \n",
      "\u001b[?25hRequirement already satisfied: tqdm>=4.27 in /usr/local/lib/python3.6/dist-packages (from transformers) (4.41.1)\n",
      "Collecting tokenizers==0.9.4\n",
      "\u001b[?25l  Downloading https://files.pythonhosted.org/packages/0f/1c/e789a8b12e28be5bc1ce2156cf87cb522b379be9cadc7ad8091a4cc107c4/tokenizers-0.9.4-cp36-cp36m-manylinux2010_x86_64.whl (2.9MB)\n",
      "\u001b[K     |████████████████████████████████| 2.9MB 60.0MB/s \n",
      "\u001b[?25hRequirement already satisfied: packaging in /usr/local/lib/python3.6/dist-packages (from transformers) (20.4)\n",
      "Requirement already satisfied: chardet<4,>=3.0.2 in /usr/local/lib/python3.6/dist-packages (from requests->transformers) (3.0.4)\n",
      "Requirement already satisfied: urllib3!=1.25.0,!=1.25.1,<1.26,>=1.21.1 in /usr/local/lib/python3.6/dist-packages (from requests->transformers) (1.24.3)\n",
      "Requirement already satisfied: idna<3,>=2.5 in /usr/local/lib/python3.6/dist-packages (from requests->transformers) (2.10)\n",
      "Requirement already satisfied: certifi>=2017.4.17 in /usr/local/lib/python3.6/dist-packages (from requests->transformers) (2020.11.8)\n",
      "Requirement already satisfied: six in /usr/local/lib/python3.6/dist-packages (from sacremoses->transformers) (1.15.0)\n",
      "Requirement already satisfied: click in /usr/local/lib/python3.6/dist-packages (from sacremoses->transformers) (7.1.2)\n",
      "Requirement already satisfied: joblib in /usr/local/lib/python3.6/dist-packages (from sacremoses->transformers) (0.17.0)\n",
      "Requirement already satisfied: pyparsing>=2.0.2 in /usr/local/lib/python3.6/dist-packages (from packaging->transformers) (2.4.7)\n",
      "Building wheels for collected packages: sacremoses\n",
      "  Building wheel for sacremoses (setup.py) ... \u001b[?25l\u001b[?25hdone\n",
      "  Created wheel for sacremoses: filename=sacremoses-0.0.43-cp36-none-any.whl size=893257 sha256=27a7a68ab783464128fe486d81ba6ce2ab27953bf469ff5c3db9b3ca542a8eaf\n",
      "  Stored in directory: /root/.cache/pip/wheels/29/3c/fd/7ce5c3f0666dab31a50123635e6fb5e19ceb42ce38d4e58f45\n",
      "Successfully built sacremoses\n",
      "Installing collected packages: sacremoses, tokenizers, transformers\n",
      "Successfully installed sacremoses-0.0.43 tokenizers-0.9.4 transformers-4.0.0\n"
     ]
    }
   ],
   "source": [
    "!pip install transformers"
   ]
  },
  {
   "cell_type": "code",
   "execution_count": null,
   "metadata": {
    "colab": {
     "base_uri": "https://localhost:8080/"
    },
    "id": "LwmELFaYLJuJ",
    "outputId": "99abb7e2-ffb2-4f3b-f1e9-e6fbc2b9afc5"
   },
   "outputs": [
    {
     "name": "stdout",
     "output_type": "stream",
     "text": [
      "Collecting seqeval\n",
      "\u001b[?25l  Downloading https://files.pythonhosted.org/packages/9d/2d/233c79d5b4e5ab1dbf111242299153f3caddddbb691219f363ad55ce783d/seqeval-1.2.2.tar.gz (43kB)\n",
      "\u001b[K     |████████████████████████████████| 51kB 3.0MB/s eta 0:00:011\n",
      "\u001b[?25hRequirement already satisfied: numpy>=1.14.0 in /usr/local/lib/python3.6/dist-packages (from seqeval) (1.18.5)\n",
      "Requirement already satisfied: scikit-learn>=0.21.3 in /usr/local/lib/python3.6/dist-packages (from seqeval) (0.22.2.post1)\n",
      "Requirement already satisfied: joblib>=0.11 in /usr/local/lib/python3.6/dist-packages (from scikit-learn>=0.21.3->seqeval) (0.17.0)\n",
      "Requirement already satisfied: scipy>=0.17.0 in /usr/local/lib/python3.6/dist-packages (from scikit-learn>=0.21.3->seqeval) (1.4.1)\n",
      "Building wheels for collected packages: seqeval\n",
      "  Building wheel for seqeval (setup.py) ... \u001b[?25l\u001b[?25hdone\n",
      "  Created wheel for seqeval: filename=seqeval-1.2.2-cp36-none-any.whl size=16171 sha256=f4ac780a91bfd1f0ac48ab7a502b1b507d9f6bff75aadd52b155b6ef151104b1\n",
      "  Stored in directory: /root/.cache/pip/wheels/52/df/1b/45d75646c37428f7e626214704a0e35bd3cfc32eda37e59e5f\n",
      "Successfully built seqeval\n",
      "Installing collected packages: seqeval\n",
      "Successfully installed seqeval-1.2.2\n"
     ]
    }
   ],
   "source": [
    "pip install seqeval"
   ]
  },
  {
   "cell_type": "code",
   "execution_count": null,
   "metadata": {
    "colab": {
     "base_uri": "https://localhost:8080/"
    },
    "id": "_VJs1F1ODcb8",
    "outputId": "eaa2b005-1f68-45a4-b215-16d54729c848"
   },
   "outputs": [
    {
     "name": "stdout",
     "output_type": "stream",
     "text": [
      "Collecting contractions\n",
      "  Downloading https://files.pythonhosted.org/packages/ce/ad/d1c685967945a04f8596128b15a1ab56c51488f53312e953341af6ff22d1/contractions-0.0.43-py2.py3-none-any.whl\n",
      "Collecting textsearch\n",
      "  Downloading https://files.pythonhosted.org/packages/42/a8/03407021f9555043de5492a2bd7a35c56cc03c2510092b5ec018cae1bbf1/textsearch-0.0.17-py2.py3-none-any.whl\n",
      "Collecting Unidecode\n",
      "\u001b[?25l  Downloading https://files.pythonhosted.org/packages/d0/42/d9edfed04228bacea2d824904cae367ee9efd05e6cce7ceaaedd0b0ad964/Unidecode-1.1.1-py2.py3-none-any.whl (238kB)\n",
      "\u001b[K     |████████████████████████████████| 245kB 7.2MB/s \n",
      "\u001b[?25hCollecting pyahocorasick\n",
      "\u001b[?25l  Downloading https://files.pythonhosted.org/packages/f4/9f/f0d8e8850e12829eea2e778f1c90e3c53a9a799b7f412082a5d21cd19ae1/pyahocorasick-1.4.0.tar.gz (312kB)\n",
      "\u001b[K     |████████████████████████████████| 317kB 33.4MB/s \n",
      "\u001b[?25hBuilding wheels for collected packages: pyahocorasick\n",
      "  Building wheel for pyahocorasick (setup.py) ... \u001b[?25l\u001b[?25hdone\n",
      "  Created wheel for pyahocorasick: filename=pyahocorasick-1.4.0-cp36-cp36m-linux_x86_64.whl size=81693 sha256=023e9d0c4effb9c638ecf479d3ea755300f874fd01bb51f04af09b29da1c9fce\n",
      "  Stored in directory: /root/.cache/pip/wheels/0a/90/61/87a55f5b459792fbb2b7ba6b31721b06ff5cf6bde541b40994\n",
      "Successfully built pyahocorasick\n",
      "Installing collected packages: Unidecode, pyahocorasick, textsearch, contractions\n",
      "Successfully installed Unidecode-1.1.1 contractions-0.0.43 pyahocorasick-1.4.0 textsearch-0.0.17\n"
     ]
    }
   ],
   "source": [
    "!pip install contractions"
   ]
  },
  {
   "cell_type": "code",
   "execution_count": null,
   "metadata": {
    "colab": {
     "base_uri": "https://localhost:8080/"
    },
    "id": "CHIPWSrCQAvs",
    "outputId": "2e5fc787-7922-43b0-ff6d-87a596d3e7aa"
   },
   "outputs": [
    {
     "name": "stdout",
     "output_type": "stream",
     "text": [
      "[nltk_data] Downloading package punkt to /root/nltk_data...\n",
      "[nltk_data]   Unzipping tokenizers/punkt.zip.\n",
      "[nltk_data] Downloading package averaged_perceptron_tagger to\n",
      "[nltk_data]     /root/nltk_data...\n",
      "[nltk_data]   Unzipping taggers/averaged_perceptron_tagger.zip.\n",
      "[nltk_data] Downloading package maxent_ne_chunker to\n",
      "[nltk_data]     /root/nltk_data...\n",
      "[nltk_data]   Unzipping chunkers/maxent_ne_chunker.zip.\n",
      "[nltk_data] Downloading package words to /root/nltk_data...\n",
      "[nltk_data]   Unzipping corpora/words.zip.\n",
      "[nltk_data] Error loading english: Package 'english' not found in\n",
      "[nltk_data]     index\n"
     ]
    }
   ],
   "source": [
    "import contractions\n",
    "import matplotlib.pyplot as plt\n",
    "%matplotlib inline\n",
    "import nltk \n",
    "nltk.download('punkt')\n",
    "nltk.download('averaged_perceptron_tagger')\n",
    "nltk.download('maxent_ne_chunker')\n",
    "nltk.download('words')\n",
    "nltk.download('english')\n",
    "import numpy as np\n",
    "import pandas as pd\n",
    "import re\n",
    "import seaborn as sns\n",
    "import seqeval\n",
    "import torch\n",
    "import transformers\n",
    "\n",
    "from keras.preprocessing.sequence import pad_sequences\n",
    "from keras.utils import to_categorical\n",
    "from nltk import word_tokenize, pos_tag, ne_chunk\n",
    "from nltk.chunk import conlltags2tree, tree2conlltags\n",
    "from seqeval.metrics import accuracy_score, classification_report, f1_score, precision_score, recall_score\n",
    "from sklearn.model_selection import train_test_split\n",
    "from torch.utils.data import TensorDataset, DataLoader, RandomSampler, SequentialSampler\n",
    "from tqdm import trange\n",
    "from transformers import AdamW, BertTokenizer, BertForTokenClassification, get_linear_schedule_with_warmup"
   ]
  },
  {
   "cell_type": "markdown",
   "metadata": {
    "id": "TyB-SRxL0ntX"
   },
   "source": [
    "## Data Processing"
   ]
  },
  {
   "cell_type": "code",
   "execution_count": null,
   "metadata": {
    "colab": {
     "base_uri": "https://localhost:8080/",
     "height": 419
    },
    "id": "g-xd_1KY0i6T",
    "outputId": "a218ed91-00f3-49ad-81a9-0622c1afae96"
   },
   "outputs": [
    {
     "data": {
      "text/html": [
       "<div>\n",
       "<style scoped>\n",
       "    .dataframe tbody tr th:only-of-type {\n",
       "        vertical-align: middle;\n",
       "    }\n",
       "\n",
       "    .dataframe tbody tr th {\n",
       "        vertical-align: top;\n",
       "    }\n",
       "\n",
       "    .dataframe thead th {\n",
       "        text-align: right;\n",
       "    }\n",
       "</style>\n",
       "<table border=\"1\" class=\"dataframe\">\n",
       "  <thead>\n",
       "    <tr style=\"text-align: right;\">\n",
       "      <th></th>\n",
       "      <th>Text</th>\n",
       "      <th>aspectTerms</th>\n",
       "    </tr>\n",
       "  </thead>\n",
       "  <tbody>\n",
       "    <tr>\n",
       "      <th>0</th>\n",
       "      <td>Judging from previous posts this used to be a ...</td>\n",
       "      <td>[place]</td>\n",
       "    </tr>\n",
       "    <tr>\n",
       "      <th>1</th>\n",
       "      <td>We, there were four of us, arrived at noon - t...</td>\n",
       "      <td>[staff]</td>\n",
       "    </tr>\n",
       "    <tr>\n",
       "      <th>2</th>\n",
       "      <td>They never brought us complimentary noodles, i...</td>\n",
       "      <td>[]</td>\n",
       "    </tr>\n",
       "    <tr>\n",
       "      <th>3</th>\n",
       "      <td>The food was lousy - too sweet or too salty an...</td>\n",
       "      <td>[food, portions]</td>\n",
       "    </tr>\n",
       "    <tr>\n",
       "      <th>4</th>\n",
       "      <td>After all that, they complained to me about th...</td>\n",
       "      <td>[]</td>\n",
       "    </tr>\n",
       "    <tr>\n",
       "      <th>...</th>\n",
       "      <td>...</td>\n",
       "      <td>...</td>\n",
       "    </tr>\n",
       "    <tr>\n",
       "      <th>1703</th>\n",
       "      <td>I can't believe that it was, but please put th...</td>\n",
       "      <td>[]</td>\n",
       "    </tr>\n",
       "    <tr>\n",
       "      <th>1704</th>\n",
       "      <td>The waitress came to check in on us every few ...</td>\n",
       "      <td>[waitress]</td>\n",
       "    </tr>\n",
       "    <tr>\n",
       "      <th>1705</th>\n",
       "      <td>I couldn't ignore the fact that she reach over...</td>\n",
       "      <td>[]</td>\n",
       "    </tr>\n",
       "    <tr>\n",
       "      <th>1706</th>\n",
       "      <td>She then put the check down without asking if ...</td>\n",
       "      <td>[]</td>\n",
       "    </tr>\n",
       "    <tr>\n",
       "      <th>1707</th>\n",
       "      <td>I wish I could like this place more, and I wis...</td>\n",
       "      <td>[place, staff]</td>\n",
       "    </tr>\n",
       "  </tbody>\n",
       "</table>\n",
       "<p>1708 rows × 2 columns</p>\n",
       "</div>"
      ],
      "text/plain": [
       "                                                   Text       aspectTerms\n",
       "0     Judging from previous posts this used to be a ...           [place]\n",
       "1     We, there were four of us, arrived at noon - t...           [staff]\n",
       "2     They never brought us complimentary noodles, i...                []\n",
       "3     The food was lousy - too sweet or too salty an...  [food, portions]\n",
       "4     After all that, they complained to me about th...                []\n",
       "...                                                 ...               ...\n",
       "1703  I can't believe that it was, but please put th...                []\n",
       "1704  The waitress came to check in on us every few ...        [waitress]\n",
       "1705  I couldn't ignore the fact that she reach over...                []\n",
       "1706  She then put the check down without asking if ...                []\n",
       "1707  I wish I could like this place more, and I wis...    [place, staff]\n",
       "\n",
       "[1708 rows x 2 columns]"
      ]
     },
     "execution_count": 5,
     "metadata": {
      "tags": []
     },
     "output_type": "execute_result"
    }
   ],
   "source": [
    "# Import data\n",
    "train = pd.read_excel('Trainset.xlsx')\n",
    "test = pd.read_excel('Testset.xlsx')\n",
    "\n",
    "# Eliminate the NAs\n",
    "train = train.fillna('')\n",
    "test = test.fillna('')\n",
    "\n",
    "# Remove the rows without Opinion Category values\n",
    "train = train[train.OpinionCategory != ''] \n",
    "test = test[test.OpinionCategory != ''] \n",
    "\n",
    "# Sort the data\n",
    "train = train.sort_values('Sentence_ID').reset_index(drop=True)\n",
    "test = test.sort_values('Sentence_ID').reset_index(drop=True)\n",
    "\n",
    "train_Text = train.drop_duplicates(subset=['Sentence_ID'], keep='last').Text\n",
    "test_Text = test.drop_duplicates(subset=['Sentence_ID'], keep='last').Text\n",
    "\n",
    "train_df = pd.DataFrame(train_Text).reset_index(drop=True)\n",
    "test_df = pd.DataFrame(test_Text).reset_index(drop=True)\n",
    "\n",
    "aspect_list = []\n",
    "for i in range((max(train.Sentence_ID))):\n",
    "    if any(train.Sentence_ID == i+1) == True:\n",
    "      aspect_list.append(train.groupby(['Sentence_ID']).get_group(i+1).AspectTerm.values)\n",
    "\n",
    "aspect_list_test = []\n",
    "for i in range((max(test.Sentence_ID))):\n",
    "    if any(test.Sentence_ID == i+1) == True:\n",
    "      aspect_list_test.append(test.groupby(['Sentence_ID']).get_group(i+1).AspectTerm.values)\n",
    "\n",
    "train_df = pd.merge(train_df, pd.DataFrame({'aspectTerms': pd.Series(aspect_list)}), left_index = True, right_index=True).reset_index(drop=True)\n",
    "test_df = pd.merge(test_df, pd.DataFrame({'aspectTerms': pd.Series(aspect_list_test)}), left_index = True, right_index=True).reset_index(drop=True)\n",
    "\n",
    "train_df"
   ]
  },
  {
   "cell_type": "markdown",
   "metadata": {
    "id": "q3_Kd048_Ptk"
   },
   "source": [
    "## Data Cleaning"
   ]
  },
  {
   "cell_type": "code",
   "execution_count": null,
   "metadata": {
    "id": "U4bBBv6ZDr8q"
   },
   "outputs": [],
   "source": [
    "def cleanText(text):\n",
    "    text = contractions.fix(text) # fix the contractions (such as I've = I have)\n",
    "    text = re.sub(r'^https?:\\/\\/.*[\\r\\n]*', '', text, flags=re.MULTILINE) # remove urls\n",
    "    text = ''.join([i for i in text if not i.isdigit()]) # remove numbers\n",
    "    text = re.sub(r'[,!@#$%^&*)(|/><\";:.?\\'\\\\}{]',\"\",text) # remove punctuations\n",
    "    text = text.lower() # make lower case\n",
    "    return text"
   ]
  },
  {
   "cell_type": "code",
   "execution_count": null,
   "metadata": {
    "id": "5cYPoZTeDyjy"
   },
   "outputs": [],
   "source": [
    "train_df.Text = train_df.Text.astype(str).map(lambda x: cleanText(x))\n",
    "test_df.Text = test_df.Text.astype(str).map(lambda x: cleanText(x))\n",
    "\n",
    "train_df = train_df.reset_index(drop=True)\n",
    "test_df = test_df.reset_index(drop=True)"
   ]
  },
  {
   "cell_type": "markdown",
   "metadata": {
    "id": "lu9x4uEJNK_3"
   },
   "source": [
    "## Tagging"
   ]
  },
  {
   "cell_type": "markdown",
   "metadata": {
    "id": "JNNNSGPZ1wtA"
   },
   "source": [
    "### nltk IOB Tagging"
   ]
  },
  {
   "cell_type": "markdown",
   "metadata": {
    "id": "S-JbwoRWEfa-"
   },
   "source": [
    "The IOB format (short for inside, outside, beginning) is a  tagging format for tagging tokens in a chunking task (in this case, aspect term chunks)\n",
    "- B: the beginning of a chunk\n",
    "- I: the words inside a chunk\n",
    "- O: for the tokens that belong to no chunk"
   ]
  },
  {
   "cell_type": "code",
   "execution_count": null,
   "metadata": {
    "id": "FxeW18f-Mehv"
   },
   "outputs": [],
   "source": [
    "def preprocess(sent):\n",
    "    sent = nltk.word_tokenize(sent)\n",
    "    sent = nltk.pos_tag(sent)\n",
    "    return sent"
   ]
  },
  {
   "cell_type": "code",
   "execution_count": null,
   "metadata": {
    "colab": {
     "base_uri": "https://localhost:8080/",
     "height": 436
    },
    "id": "Idq1NeMVMhzh",
    "outputId": "6c50c213-4006-4740-8920-d1269711a66f"
   },
   "outputs": [
    {
     "name": "stdout",
     "output_type": "stream",
     "text": [
      "Warning: parsing empty text\n"
     ]
    },
    {
     "data": {
      "text/html": [
       "<div>\n",
       "<style scoped>\n",
       "    .dataframe tbody tr th:only-of-type {\n",
       "        vertical-align: middle;\n",
       "    }\n",
       "\n",
       "    .dataframe tbody tr th {\n",
       "        vertical-align: top;\n",
       "    }\n",
       "\n",
       "    .dataframe thead th {\n",
       "        text-align: right;\n",
       "    }\n",
       "</style>\n",
       "<table border=\"1\" class=\"dataframe\">\n",
       "  <thead>\n",
       "    <tr style=\"text-align: right;\">\n",
       "      <th></th>\n",
       "      <th>Sentence #</th>\n",
       "      <th>Word</th>\n",
       "      <th>POS</th>\n",
       "      <th>nltkTag</th>\n",
       "    </tr>\n",
       "  </thead>\n",
       "  <tbody>\n",
       "    <tr>\n",
       "      <th>0</th>\n",
       "      <td>1</td>\n",
       "      <td>judging</td>\n",
       "      <td>VBG</td>\n",
       "      <td>O</td>\n",
       "    </tr>\n",
       "    <tr>\n",
       "      <th>1</th>\n",
       "      <td>1</td>\n",
       "      <td>from</td>\n",
       "      <td>IN</td>\n",
       "      <td>O</td>\n",
       "    </tr>\n",
       "    <tr>\n",
       "      <th>2</th>\n",
       "      <td>1</td>\n",
       "      <td>previous</td>\n",
       "      <td>JJ</td>\n",
       "      <td>O</td>\n",
       "    </tr>\n",
       "    <tr>\n",
       "      <th>3</th>\n",
       "      <td>1</td>\n",
       "      <td>posts</td>\n",
       "      <td>NNS</td>\n",
       "      <td>O</td>\n",
       "    </tr>\n",
       "    <tr>\n",
       "      <th>4</th>\n",
       "      <td>1</td>\n",
       "      <td>this</td>\n",
       "      <td>DT</td>\n",
       "      <td>O</td>\n",
       "    </tr>\n",
       "    <tr>\n",
       "      <th>...</th>\n",
       "      <td>...</td>\n",
       "      <td>...</td>\n",
       "      <td>...</td>\n",
       "      <td>...</td>\n",
       "    </tr>\n",
       "    <tr>\n",
       "      <th>21595</th>\n",
       "      <td>1708</td>\n",
       "      <td>someone</td>\n",
       "      <td>NN</td>\n",
       "      <td>I-NP</td>\n",
       "    </tr>\n",
       "    <tr>\n",
       "      <th>21596</th>\n",
       "      <td>1708</td>\n",
       "      <td>would</td>\n",
       "      <td>MD</td>\n",
       "      <td>O</td>\n",
       "    </tr>\n",
       "    <tr>\n",
       "      <th>21597</th>\n",
       "      <td>1708</td>\n",
       "      <td>retrain</td>\n",
       "      <td>VB</td>\n",
       "      <td>O</td>\n",
       "    </tr>\n",
       "    <tr>\n",
       "      <th>21598</th>\n",
       "      <td>1708</td>\n",
       "      <td>the</td>\n",
       "      <td>DT</td>\n",
       "      <td>B-NP</td>\n",
       "    </tr>\n",
       "    <tr>\n",
       "      <th>21599</th>\n",
       "      <td>1708</td>\n",
       "      <td>staff</td>\n",
       "      <td>NN</td>\n",
       "      <td>I-NP</td>\n",
       "    </tr>\n",
       "  </tbody>\n",
       "</table>\n",
       "<p>21600 rows × 4 columns</p>\n",
       "</div>"
      ],
      "text/plain": [
       "       Sentence #      Word  POS nltkTag\n",
       "0               1   judging  VBG       O\n",
       "1               1      from   IN       O\n",
       "2               1  previous   JJ       O\n",
       "3               1     posts  NNS       O\n",
       "4               1      this   DT       O\n",
       "...           ...       ...  ...     ...\n",
       "21595        1708   someone   NN    I-NP\n",
       "21596        1708     would   MD       O\n",
       "21597        1708   retrain   VB       O\n",
       "21598        1708       the   DT    B-NP\n",
       "21599        1708     staff   NN    I-NP\n",
       "\n",
       "[21600 rows x 4 columns]"
      ]
     },
     "execution_count": 9,
     "metadata": {
      "tags": []
     },
     "output_type": "execute_result"
    }
   ],
   "source": [
    "# Train\n",
    "train_df.Text = train_df.Text.astype('str')\n",
    "sample = train_df.Text[0]\n",
    "sent = preprocess(sample)\n",
    "\n",
    "pattern = 'NP: {<DT>?<JJ>*<NN>}'\n",
    "cp = nltk.RegexpParser(pattern)\n",
    "\n",
    "cs = cp.parse(sent)\n",
    "iob_tagged = tree2conlltags(cs)\n",
    "df_sample = pd.DataFrame(iob_tagged, columns = ['Word', 'POS', 'nltkTag'])\n",
    "df_sample.insert(0, 'Sentence #', 0+1)\n",
    "\n",
    "for i in range(len(train_df.Text)-1):\n",
    "  sample = train_df.Text[i+1]\n",
    "  sent = preprocess(sample)\n",
    "  cs = cp.parse(sent)\n",
    "  iob_tagged = tree2conlltags(cs)\n",
    "  other_samples = pd.DataFrame(iob_tagged, columns = ['Word', 'POS', 'nltkTag'])\n",
    "  other_samples.insert(0, 'Sentence #', i+2)\n",
    "  df_sample = pd.concat([df_sample, other_samples], axis=0)\n",
    "\n",
    "df_sample = df_sample.reset_index(drop = True)\n",
    "df_sample"
   ]
  },
  {
   "cell_type": "markdown",
   "metadata": {
    "id": "jJopQzdq1zgg"
   },
   "source": [
    "### Aspect Term Tagging - Binary"
   ]
  },
  {
   "cell_type": "code",
   "execution_count": null,
   "metadata": {
    "colab": {
     "base_uri": "https://localhost:8080/"
    },
    "id": "Ua1MH5dF19G7",
    "outputId": "10bb86ba-cede-4ef7-c456-c8a1edd3da11"
   },
   "outputs": [
    {
     "name": "stderr",
     "output_type": "stream",
     "text": [
      "/usr/local/lib/python3.6/dist-packages/ipykernel_launcher.py:12: DeprecationWarning: The truth value of an empty array is ambiguous. Returning False, but in future this will result in an error. Use `array.size > 0` to check that an array is not empty.\n",
      "  if sys.path[0] == '':\n",
      "/usr/local/lib/python3.6/dist-packages/ipykernel_launcher.py:12: DeprecationWarning: elementwise comparison failed; this will raise an error in the future.\n",
      "  if sys.path[0] == '':\n"
     ]
    }
   ],
   "source": [
    "tokenized_sentences = []\n",
    "for i in range(len(train_df.Text)):\n",
    "  sent = nltk.word_tokenize(train_df.Text[i])\n",
    "  tokenized_sentences.append(sent)\n",
    "  \n",
    "aspect_list = []\n",
    "for i in range((max(train.Sentence_ID))):\n",
    "    if any(train.Sentence_ID == i+1) == True:\n",
    "      aspect_list.append(train.groupby(['Sentence_ID']).get_group(i+1).AspectTerm.values)\n",
    "\n",
    "for i in range(len(aspect_list)):\n",
    "  if aspect_list[i] == []:\n",
    "    aspect_list[i] = aspect_list[i]\n",
    "  else:\n",
    "    aspect_list[i] = [nltk.word_tokenize(j) for j in aspect_list[i]]\n",
    "\n",
    "for i in range(len(aspect_list)):\n",
    "  aspect_list[i] = [item for sublist in aspect_list[i] for item in sublist]\n",
    "\n",
    "aspect_labels = []\n",
    "for token in tokenized_sentences[0]:\n",
    "  if np.isin(token, aspect_list[0]) == True:\n",
    "    aspect_labels.append(1)\n",
    "  else:\n",
    "    aspect_labels.append(0)\n",
    "\n",
    "other_aspects = []\n",
    "for i in range(len(tokenized_sentences)-1):\n",
    "  for token in tokenized_sentences[i+1]:\n",
    "    if np.isin(token, aspect_list[i+1]) == True:\n",
    "      other_aspects.append(1)\n",
    "    else:\n",
    "      other_aspects.append(0)\n",
    "aspect_labels = pd.concat([pd.Series(aspect_labels), pd.Series(other_aspects)], axis=0)\n",
    "aspect_labels = aspect_labels.reset_index(drop=True)\n",
    "df_sample['binary_AspectTags'] = aspect_labels"
   ]
  },
  {
   "cell_type": "markdown",
   "metadata": {
    "id": "yLoL8C07U3Up"
   },
   "source": [
    "### Aspect Term Tagging - IOB "
   ]
  },
  {
   "cell_type": "code",
   "execution_count": null,
   "metadata": {
    "colab": {
     "base_uri": "https://localhost:8080/",
     "height": 514
    },
    "id": "1a6ZdeazTqag",
    "outputId": "13884421-e8fa-479a-8b60-cb6be15dc088"
   },
   "outputs": [
    {
     "data": {
      "text/html": [
       "<div>\n",
       "<style scoped>\n",
       "    .dataframe tbody tr th:only-of-type {\n",
       "        vertical-align: middle;\n",
       "    }\n",
       "\n",
       "    .dataframe tbody tr th {\n",
       "        vertical-align: top;\n",
       "    }\n",
       "\n",
       "    .dataframe thead th {\n",
       "        text-align: right;\n",
       "    }\n",
       "</style>\n",
       "<table border=\"1\" class=\"dataframe\">\n",
       "  <thead>\n",
       "    <tr style=\"text-align: right;\">\n",
       "      <th></th>\n",
       "      <th>Sentence #</th>\n",
       "      <th>Word</th>\n",
       "      <th>POS</th>\n",
       "      <th>nltkTag</th>\n",
       "      <th>binary_AspectTags</th>\n",
       "      <th>BIO_aspectTags</th>\n",
       "    </tr>\n",
       "  </thead>\n",
       "  <tbody>\n",
       "    <tr>\n",
       "      <th>21585</th>\n",
       "      <td>1708</td>\n",
       "      <td>wish</td>\n",
       "      <td>VBP</td>\n",
       "      <td>O</td>\n",
       "      <td>0</td>\n",
       "      <td>O</td>\n",
       "    </tr>\n",
       "    <tr>\n",
       "      <th>21586</th>\n",
       "      <td>1708</td>\n",
       "      <td>i</td>\n",
       "      <td>NN</td>\n",
       "      <td>B-NP</td>\n",
       "      <td>0</td>\n",
       "      <td>O</td>\n",
       "    </tr>\n",
       "    <tr>\n",
       "      <th>21587</th>\n",
       "      <td>1708</td>\n",
       "      <td>could</td>\n",
       "      <td>MD</td>\n",
       "      <td>O</td>\n",
       "      <td>0</td>\n",
       "      <td>O</td>\n",
       "    </tr>\n",
       "    <tr>\n",
       "      <th>21588</th>\n",
       "      <td>1708</td>\n",
       "      <td>like</td>\n",
       "      <td>VB</td>\n",
       "      <td>O</td>\n",
       "      <td>0</td>\n",
       "      <td>O</td>\n",
       "    </tr>\n",
       "    <tr>\n",
       "      <th>21589</th>\n",
       "      <td>1708</td>\n",
       "      <td>this</td>\n",
       "      <td>DT</td>\n",
       "      <td>B-NP</td>\n",
       "      <td>0</td>\n",
       "      <td>O</td>\n",
       "    </tr>\n",
       "    <tr>\n",
       "      <th>21590</th>\n",
       "      <td>1708</td>\n",
       "      <td>place</td>\n",
       "      <td>NN</td>\n",
       "      <td>I-NP</td>\n",
       "      <td>1</td>\n",
       "      <td>B-NP</td>\n",
       "    </tr>\n",
       "    <tr>\n",
       "      <th>21591</th>\n",
       "      <td>1708</td>\n",
       "      <td>more</td>\n",
       "      <td>JJR</td>\n",
       "      <td>O</td>\n",
       "      <td>0</td>\n",
       "      <td>O</td>\n",
       "    </tr>\n",
       "    <tr>\n",
       "      <th>21592</th>\n",
       "      <td>1708</td>\n",
       "      <td>and</td>\n",
       "      <td>CC</td>\n",
       "      <td>O</td>\n",
       "      <td>0</td>\n",
       "      <td>O</td>\n",
       "    </tr>\n",
       "    <tr>\n",
       "      <th>21593</th>\n",
       "      <td>1708</td>\n",
       "      <td>i</td>\n",
       "      <td>VB</td>\n",
       "      <td>O</td>\n",
       "      <td>0</td>\n",
       "      <td>O</td>\n",
       "    </tr>\n",
       "    <tr>\n",
       "      <th>21594</th>\n",
       "      <td>1708</td>\n",
       "      <td>wish</td>\n",
       "      <td>JJ</td>\n",
       "      <td>B-NP</td>\n",
       "      <td>0</td>\n",
       "      <td>O</td>\n",
       "    </tr>\n",
       "    <tr>\n",
       "      <th>21595</th>\n",
       "      <td>1708</td>\n",
       "      <td>someone</td>\n",
       "      <td>NN</td>\n",
       "      <td>I-NP</td>\n",
       "      <td>0</td>\n",
       "      <td>O</td>\n",
       "    </tr>\n",
       "    <tr>\n",
       "      <th>21596</th>\n",
       "      <td>1708</td>\n",
       "      <td>would</td>\n",
       "      <td>MD</td>\n",
       "      <td>O</td>\n",
       "      <td>0</td>\n",
       "      <td>O</td>\n",
       "    </tr>\n",
       "    <tr>\n",
       "      <th>21597</th>\n",
       "      <td>1708</td>\n",
       "      <td>retrain</td>\n",
       "      <td>VB</td>\n",
       "      <td>O</td>\n",
       "      <td>0</td>\n",
       "      <td>O</td>\n",
       "    </tr>\n",
       "    <tr>\n",
       "      <th>21598</th>\n",
       "      <td>1708</td>\n",
       "      <td>the</td>\n",
       "      <td>DT</td>\n",
       "      <td>B-NP</td>\n",
       "      <td>0</td>\n",
       "      <td>O</td>\n",
       "    </tr>\n",
       "    <tr>\n",
       "      <th>21599</th>\n",
       "      <td>1708</td>\n",
       "      <td>staff</td>\n",
       "      <td>NN</td>\n",
       "      <td>I-NP</td>\n",
       "      <td>1</td>\n",
       "      <td>B-NP</td>\n",
       "    </tr>\n",
       "  </tbody>\n",
       "</table>\n",
       "</div>"
      ],
      "text/plain": [
       "       Sentence #     Word  POS nltkTag  binary_AspectTags BIO_aspectTags\n",
       "21585        1708     wish  VBP       O                  0              O\n",
       "21586        1708        i   NN    B-NP                  0              O\n",
       "21587        1708    could   MD       O                  0              O\n",
       "21588        1708     like   VB       O                  0              O\n",
       "21589        1708     this   DT    B-NP                  0              O\n",
       "21590        1708    place   NN    I-NP                  1           B-NP\n",
       "21591        1708     more  JJR       O                  0              O\n",
       "21592        1708      and   CC       O                  0              O\n",
       "21593        1708        i   VB       O                  0              O\n",
       "21594        1708     wish   JJ    B-NP                  0              O\n",
       "21595        1708  someone   NN    I-NP                  0              O\n",
       "21596        1708    would   MD       O                  0              O\n",
       "21597        1708  retrain   VB       O                  0              O\n",
       "21598        1708      the   DT    B-NP                  0              O\n",
       "21599        1708    staff   NN    I-NP                  1           B-NP"
      ]
     },
     "execution_count": 20,
     "metadata": {
      "tags": []
     },
     "output_type": "execute_result"
    }
   ],
   "source": [
    "BIO_aspectTags = pd.Series(aspect_labels)\n",
    "BIO_aspectTags = BIO_aspectTags.replace(to_replace=0, value='O')\n",
    "BIO_aspectTags = BIO_aspectTags.replace(to_replace=1, value='B-NP')\n",
    "\n",
    "tags = BIO_aspectTags.values.tolist()\n",
    "BIOtags = []\n",
    "for n in range(len(tags)):\n",
    "  if (tags[n] != tags[-1] and tags[n] == 'O' and tags[n+1] =='B-NP'):\n",
    "    BIOtags.append('O')\n",
    "  elif (tags[n-1] == 'B-NP' and tags[n] == 'B-NP' and tags[n+1] =='B-NP'):\n",
    "    BIOtags.append('I-NP')\n",
    "  elif (tags[n-1] == 'B-NP' and tags[n] == 'B-NP' and tags[n+1] =='O'):\n",
    "    BIOtags.append('I-NP')   \n",
    "  else:\n",
    "    BIOtags.append(tags[n])\n",
    "\n",
    "df_sample['BIO_aspectTags'] = pd.Series(BIOtags)\n",
    "df_sample.tail(15)"
   ]
  },
  {
   "cell_type": "markdown",
   "metadata": {
    "id": "RtdlixX-D5Jk"
   },
   "source": [
    "Through the tagging process each token is tagged based on if they are an aspect term or not.\n",
    "-  First, with the nltk package for IOB tagging(without any given aspect term)\n",
    "- Second, with binary tagging based on a given aspect term set in the training data\n",
    "- Lastly, with manual IOB tagging based on a given aspect term set"
   ]
  },
  {
   "cell_type": "code",
   "execution_count": null,
   "metadata": {
    "id": "3-BEcXIeZGIj"
   },
   "outputs": [],
   "source": [
    "df_sample.to_excel('traintags.xlsx')"
   ]
  },
  {
   "cell_type": "markdown",
   "metadata": {
    "id": "QOe2G44CckM4"
   },
   "source": [
    "## BERT Tokenization"
   ]
  },
  {
   "cell_type": "markdown",
   "metadata": {
    "id": "TsEnLu-1FaSZ"
   },
   "source": [
    "The tokens are needed to join in a sentence format again, since the tokenization of nltk package and the BERT Tokenizer is different. While BERT Tokenizer uses a pre-trained Bert-Base-Uncased dictionary which is constructed with WordPiece embeddings with a 30,000 token vocabulary, nltk's word_tokenize() splits the sentence into words based on the spae inbetween them. "
   ]
  },
  {
   "cell_type": "code",
   "execution_count": null,
   "metadata": {
    "id": "mik9Pbxuc1J1"
   },
   "outputs": [],
   "source": [
    "# Aggregate Function\n",
    "# is used to group the tokens in the sentences\n",
    "agg_func = lambda s: [(a, b, c, d) for a, b, c, d in zip(s[\"Word\"].values.tolist(),\n",
    "                                             s[\"nltkTag\"].values.tolist(),\n",
    "                                             s[\"binary_AspectTags\"].values.tolist(),\n",
    "                                             s[\"BIO_aspectTags\"].values.tolist())]\n",
    "\n",
    "grouped_df = df_sample.groupby(\"Sentence #\").apply(agg_func)\n",
    "sentences = [[word[0] for word in sentence] for sentence in grouped_df]\n",
    "ntlkTags = [[tag[1] for tag in sentence] for sentence in grouped_df]\n",
    "binary_AspectTags = [[tag[2] for tag in sentence] for sentence in grouped_df]\n",
    "BIO_aspectTags = [[tag[3] for tag in sentence] for sentence in grouped_df]\n",
    "\n",
    "# create dictionaries to tag the 'tags' to numerical indexes, as the BERT model \n",
    "# accepts numerical values \n",
    "# nltk\n",
    "tag_values_nltk = list(set(df_sample[\"nltkTag\"].values))\n",
    "tag_values_nltk.append(\"PAD\")\n",
    "tag2idx_nltk = {t: i for i, t in enumerate(tag_values_nltk)}\n",
    "\n",
    "# binary Aspect\n",
    "tag_values_binary = list(set(df_sample[\"binary_AspectTags\"].values))\n",
    "tag_values_binary.append(\"PAD\")\n",
    "tag2idx_binary = {t: i for i, t in enumerate(tag_values_binary)}\n",
    "\n",
    "# IOB Aspect\n",
    "tag_values_IOB = list(set(df_sample[\"BIO_aspectTags\"].values))\n",
    "tag_values_IOB.append(\"PAD\")\n",
    "tag2idx_IOB = {t: i for i, t in enumerate(tag_values_IOB)}"
   ]
  },
  {
   "cell_type": "code",
   "execution_count": null,
   "metadata": {
    "colab": {
     "base_uri": "https://localhost:8080/"
    },
    "id": "-6SQgwR9efZA",
    "outputId": "acaa8b3d-fcde-4c25-a3fb-cb70b59b15ee"
   },
   "outputs": [
    {
     "data": {
      "text/plain": [
       "({'B-NP': 1, 'I-NP': 0, 'O': 2, 'PAD': 3},\n",
       " {0: 0, 1: 1, 'PAD': 2},\n",
       " {'B-NP': 1, 'I-NP': 0, 'O': 2, 'PAD': 3})"
      ]
     },
     "execution_count": 23,
     "metadata": {
      "tags": []
     },
     "output_type": "execute_result"
    }
   ],
   "source": [
    "tag2idx_nltk, tag2idx_binary, tag2idx_IOB"
   ]
  },
  {
   "cell_type": "code",
   "execution_count": null,
   "metadata": {
    "colab": {
     "base_uri": "https://localhost:8080/",
     "height": 66,
     "referenced_widgets": [
      "c7cfd7586e9a4fcba99fa03f62ab5a82",
      "d879c2d319734878be9f86b7ea06931a",
      "935a44999ee24bf692d15b77c9d09dbc",
      "b3193611ab244fa9a47f8b9b3ee79bd0",
      "29eda6b5991c492ebae8ecae233ae43c",
      "e75d9d06d3c74594a07331844df0dca9",
      "1c93bd125103426a817048b79763646e",
      "c7f3d46c9a774a4abd7db95a803800bc"
     ]
    },
    "id": "73l7SbZnxuhd",
    "outputId": "2a9f7dc5-f419-4b28-ddbf-86095a377ee6"
   },
   "outputs": [
    {
     "data": {
      "application/vnd.jupyter.widget-view+json": {
       "model_id": "c7cfd7586e9a4fcba99fa03f62ab5a82",
       "version_major": 2,
       "version_minor": 0
      },
      "text/plain": [
       "HBox(children=(FloatProgress(value=0.0, description='Downloading', max=213450.0, style=ProgressStyle(descripti…"
      ]
     },
     "metadata": {
      "tags": []
     },
     "output_type": "display_data"
    },
    {
     "name": "stdout",
     "output_type": "stream",
     "text": [
      "\n"
     ]
    }
   ],
   "source": [
    "tokenizer = BertTokenizer.from_pretrained('bert-base-cased', do_lower_case=False)"
   ]
  },
  {
   "cell_type": "markdown",
   "metadata": {
    "id": "bxqO2HI9GmKR"
   },
   "source": [
    "## Input Preparation"
   ]
  },
  {
   "cell_type": "markdown",
   "metadata": {
    "id": "w6rpM8sNGyAo"
   },
   "source": [
    "For the BERT model to work, we need three inputs. \n",
    "- Input IDs: shows the ID number of each token with padding. The ID numbers are restored from the BERT vocabulary dictionary.\n",
    "- Mask IDs: indicates which elements in the sequence are tokens and which are padding elements.\n",
    "- Segment IDs: distinguishes different sentences, 0 for one-sentence sequence, 1 if there are two sentences. For the model in this notebook, it will play no role, since the data is constructed with separate sentences for each observation.(sentence-level analysis). Therefore it is not calculated."
   ]
  },
  {
   "cell_type": "markdown",
   "metadata": {
    "id": "IM9BAAgHepdw"
   },
   "source": [
    "### For nltk"
   ]
  },
  {
   "cell_type": "code",
   "execution_count": null,
   "metadata": {
    "colab": {
     "base_uri": "https://localhost:8080/"
    },
    "id": "Fty54uOnf1iP",
    "outputId": "2a30d231-66c2-467e-8dcf-b207e67aa423"
   },
   "outputs": [
    {
     "data": {
      "text/plain": [
       "(array([16839,  1121,  2166,  8345,  1142,  1215,  1106,  1129,   170,\n",
       "         1363,  1282,  1133,  1136,  1251,  2039,     0,     0,     0,\n",
       "            0,     0,     0,     0,     0,     0,     0,     0,     0,\n",
       "            0,     0,     0,     0,     0,     0,     0,     0,     0,\n",
       "            0,     0,     0,     0,     0,     0,     0,     0,     0,\n",
       "            0,     0,     0,     0,     0,     0,     0,     0,     0,\n",
       "            0,     0,     0,     0,     0,     0,     0,     0,     0,\n",
       "            0,     0,     0,     0,     0,     0,     0,     0,     0,\n",
       "            0,     0,     0,     0,     0,     0,     0,     0,     0,\n",
       "            0,     0,     0,     0]),\n",
       " array([2, 2, 2, 2, 2, 2, 2, 2, 1, 0, 0, 2, 2, 2, 2, 3, 3, 3, 3, 3, 3, 3,\n",
       "        3, 3, 3, 3, 3, 3, 3, 3, 3, 3, 3, 3, 3, 3, 3, 3, 3, 3, 3, 3, 3, 3,\n",
       "        3, 3, 3, 3, 3, 3, 3, 3, 3, 3, 3, 3, 3, 3, 3, 3, 3, 3, 3, 3, 3, 3,\n",
       "        3, 3, 3, 3, 3, 3, 3, 3, 3, 3, 3, 3, 3, 3, 3, 3, 3, 3, 3]))"
      ]
     },
     "execution_count": 25,
     "metadata": {
      "tags": []
     },
     "output_type": "execute_result"
    }
   ],
   "source": [
    "all_sentence_list_nltk = []\n",
    "all_label_list_nltk = []\n",
    "for i in range(len(sentences)):\n",
    "  tokenized_sentence_list = []\n",
    "  label_list = []\n",
    "  for word, label in zip(sentences[i], ntlkTags[i]):\n",
    "    tokenized_word = tokenizer.tokenize(word)\n",
    "    n_subwords = len(tokenized_word)\n",
    "    tokenized_sentence_list.extend(tokenized_word)\n",
    "    label_list.extend([label] * n_subwords)\n",
    "  all_sentence_list_nltk.append(tokenized_sentence_list)\n",
    "  all_label_list_nltk.append(label_list)\n",
    "\n",
    "# Raw Inputs\n",
    "tokenized_texts = all_sentence_list_nltk\n",
    "labels = all_label_list_nltk\n",
    "\n",
    "# Max length\n",
    "max_length = max([len(sen) for sen in tokenized_texts])\n",
    "\n",
    "input_ids_nltk = pad_sequences([tokenizer.convert_tokens_to_ids(txt) for txt in tokenized_texts],\n",
    "                          maxlen=max_length, dtype=\"long\", value=0.0,\n",
    "                          truncating=\"post\", padding=\"post\")\n",
    "\n",
    "tags_nltk = pad_sequences([[tag2idx_nltk.get(l) for l in lab] for lab in labels],\n",
    "                     maxlen=max_length, value=tag2idx_nltk[\"PAD\"], padding=\"post\",\n",
    "                     dtype=\"long\", truncating=\"post\")\n",
    "\n",
    "attention_masks_nltk = [[float(i != 0.0) for i in ii] for ii in input_ids_nltk]\n",
    "input_ids_nltk[0], tags_nltk[0]"
   ]
  },
  {
   "cell_type": "markdown",
   "metadata": {
    "id": "DkUVMfcmcqmz"
   },
   "source": [
    "### For Binary Aspect"
   ]
  },
  {
   "cell_type": "code",
   "execution_count": null,
   "metadata": {
    "colab": {
     "base_uri": "https://localhost:8080/"
    },
    "id": "dDfZHw5Toh3O",
    "outputId": "01385a42-390e-4cab-b1be-11eb36ef22ed"
   },
   "outputs": [
    {
     "data": {
      "text/plain": [
       "(array([16839,  1121,  2166,  8345,  1142,  1215,  1106,  1129,   170,\n",
       "         1363,  1282,  1133,  1136,  1251,  2039,     0,     0,     0,\n",
       "            0,     0,     0,     0,     0,     0,     0,     0,     0,\n",
       "            0,     0,     0,     0,     0,     0,     0,     0,     0,\n",
       "            0,     0,     0,     0,     0,     0,     0,     0,     0,\n",
       "            0,     0,     0,     0,     0,     0,     0,     0,     0,\n",
       "            0,     0,     0,     0,     0,     0,     0,     0,     0,\n",
       "            0,     0,     0,     0,     0,     0,     0,     0,     0,\n",
       "            0,     0,     0,     0,     0,     0,     0,     0,     0,\n",
       "            0,     0,     0,     0]),\n",
       " array([0, 0, 0, 0, 0, 0, 0, 0, 0, 0, 1, 0, 0, 0, 0, 2, 2, 2, 2, 2, 2, 2,\n",
       "        2, 2, 2, 2, 2, 2, 2, 2, 2, 2, 2, 2, 2, 2, 2, 2, 2, 2, 2, 2, 2, 2,\n",
       "        2, 2, 2, 2, 2, 2, 2, 2, 2, 2, 2, 2, 2, 2, 2, 2, 2, 2, 2, 2, 2, 2,\n",
       "        2, 2, 2, 2, 2, 2, 2, 2, 2, 2, 2, 2, 2, 2, 2, 2, 2, 2, 2]))"
      ]
     },
     "execution_count": 26,
     "metadata": {
      "tags": []
     },
     "output_type": "execute_result"
    }
   ],
   "source": [
    "all_sentence_list_binary = []\n",
    "all_label_list_binary = []\n",
    "for i in range(len(sentences)):\n",
    "  tokenized_sentence_list = []\n",
    "  label_list = []\n",
    "  for word, label in zip(sentences[i], binary_AspectTags[i]):\n",
    "    tokenized_word = tokenizer.tokenize(word)\n",
    "    n_subwords = len(tokenized_word)\n",
    "    tokenized_sentence_list.extend(tokenized_word)\n",
    "    label_list.extend([label] * n_subwords)\n",
    "  all_sentence_list_binary.append(tokenized_sentence_list)\n",
    "  all_label_list_binary.append(label_list)\n",
    "\n",
    "# Raw Inputs\n",
    "tokenized_texts_binary = all_sentence_list_binary\n",
    "labels_binary = all_label_list_binary\n",
    "\n",
    "# Max length\n",
    "max_length_binary = max([len(sen) for sen in tokenized_texts_binary])\n",
    "\n",
    "input_ids_binary = pad_sequences([tokenizer.convert_tokens_to_ids(txt) for txt in tokenized_texts_binary],\n",
    "                          maxlen=max_length_binary, dtype=\"long\", value=0.0,\n",
    "                          truncating=\"post\", padding=\"post\")\n",
    "\n",
    "tags_binary = pad_sequences([[tag2idx_binary.get(l) for l in lab] for lab in labels_binary],\n",
    "                     maxlen=max_length, value=tag2idx_binary[\"PAD\"], padding=\"post\",\n",
    "                     dtype=\"long\", truncating=\"post\")\n",
    "\n",
    "attention_masks_binary = [[float(i != 0.0) for i in ii] for ii in input_ids_binary]\n",
    "input_ids_binary[0], tags_binary[0]"
   ]
  },
  {
   "cell_type": "markdown",
   "metadata": {
    "id": "BWlNT8hBcubP"
   },
   "source": [
    "### For IOB Aspect"
   ]
  },
  {
   "cell_type": "code",
   "execution_count": null,
   "metadata": {
    "colab": {
     "base_uri": "https://localhost:8080/"
    },
    "id": "R0NKng26oDu2",
    "outputId": "66c61c77-a43c-4077-8355-3d5aa413b291"
   },
   "outputs": [
    {
     "data": {
      "text/plain": [
       "(array([16839,  1121,  2166,  8345,  1142,  1215,  1106,  1129,   170,\n",
       "         1363,  1282,  1133,  1136,  1251,  2039,     0,     0,     0,\n",
       "            0,     0,     0,     0,     0,     0,     0,     0,     0,\n",
       "            0,     0,     0,     0,     0,     0,     0,     0,     0,\n",
       "            0,     0,     0,     0,     0,     0,     0,     0,     0,\n",
       "            0,     0,     0,     0,     0,     0,     0,     0,     0,\n",
       "            0,     0,     0,     0,     0,     0,     0,     0,     0,\n",
       "            0,     0,     0,     0,     0,     0,     0,     0,     0,\n",
       "            0,     0,     0,     0,     0,     0,     0,     0,     0,\n",
       "            0,     0,     0,     0]),\n",
       " array([2, 2, 2, 2, 2, 2, 2, 2, 2, 2, 1, 2, 2, 2, 2, 3, 3, 3, 3, 3, 3, 3,\n",
       "        3, 3, 3, 3, 3, 3, 3, 3, 3, 3, 3, 3, 3, 3, 3, 3, 3, 3, 3, 3, 3, 3,\n",
       "        3, 3, 3, 3, 3, 3, 3, 3, 3, 3, 3, 3, 3, 3, 3, 3, 3, 3, 3, 3, 3, 3,\n",
       "        3, 3, 3, 3, 3, 3, 3, 3, 3, 3, 3, 3, 3, 3, 3, 3, 3, 3, 3]))"
      ]
     },
     "execution_count": 27,
     "metadata": {
      "tags": []
     },
     "output_type": "execute_result"
    }
   ],
   "source": [
    "all_sentence_list_IOB = []\n",
    "all_label_list_IOB = []\n",
    "for i in range(len(sentences)):\n",
    "  tokenized_sentence_list = []\n",
    "  label_list = []\n",
    "  for word, label in zip(sentences[i], BIO_aspectTags[i]):\n",
    "    tokenized_word = tokenizer.tokenize(word)\n",
    "    n_subwords = len(tokenized_word)\n",
    "    tokenized_sentence_list.extend(tokenized_word)\n",
    "    label_list.extend([label] * n_subwords)\n",
    "  all_sentence_list_IOB.append(tokenized_sentence_list)\n",
    "  all_label_list_IOB.append(label_list)\n",
    "\n",
    "# Raw Inputs\n",
    "tokenized_texts_IOB = all_sentence_list_IOB\n",
    "labels_IOB = all_label_list_IOB\n",
    "\n",
    "# Max length\n",
    "max_length_IOB = max([len(sen) for sen in tokenized_texts_IOB])\n",
    "\n",
    "input_ids_IOB= pad_sequences([tokenizer.convert_tokens_to_ids(txt) for txt in tokenized_texts_IOB],\n",
    "                          maxlen=max_length_IOB, dtype=\"long\", value=0.0,\n",
    "                          truncating=\"post\", padding=\"post\")\n",
    "\n",
    "tags_IOB = pad_sequences([[tag2idx_IOB.get(l) for l in lab] for lab in labels_IOB],\n",
    "                     maxlen=max_length, value=tag2idx_IOB[\"PAD\"], padding=\"post\",\n",
    "                     dtype=\"long\", truncating=\"post\")\n",
    "\n",
    "attention_masks_IOB = [[float(i != 0.0) for i in ii] for ii in input_ids_IOB]\n",
    "input_ids_IOB[0], tags_IOB[0]"
   ]
  },
  {
   "cell_type": "markdown",
   "metadata": {
    "id": "5gcMmt-JpHmp"
   },
   "source": [
    "## Train & Validation Sets"
   ]
  },
  {
   "cell_type": "markdown",
   "metadata": {
    "id": "XHy6lf4wpMrl"
   },
   "source": [
    "### For nltk"
   ]
  },
  {
   "cell_type": "code",
   "execution_count": null,
   "metadata": {
    "id": "5iDh0DjcpIbY"
   },
   "outputs": [],
   "source": [
    "# Split train / validation data\n",
    "nltk_inputs, nltk_val_inputs, nltk_tags, nltk_val_tags = train_test_split(input_ids_nltk, tags_nltk,\n",
    "                                                            random_state=2018, test_size=0.1)\n",
    "nltk_masks, nltk_val_masks, _, _ = train_test_split(attention_masks_nltk, input_ids_nltk,\n",
    "                                             random_state=2018, test_size=0.1)\n",
    "\n",
    "# Convert the inputs into tensors\n",
    "nltk_inputs = torch.tensor(nltk_inputs)\n",
    "nltk_val_inputs = torch.tensor(nltk_val_inputs)\n",
    "nltk_tags = torch.tensor(nltk_tags)\n",
    "nltk_val_tags = torch.tensor(nltk_val_tags)\n",
    "nltk_masks = torch.tensor(nltk_masks)\n",
    "nltk_val_masks = torch.tensor(nltk_val_masks)\n",
    "\n",
    "bs = 32 #batch size\n",
    "nltk_data = TensorDataset(nltk_inputs, nltk_masks, nltk_tags) # Upload the inputs of the model\n",
    "nltk_sampler = RandomSampler(nltk_data) \n",
    "## DataLoader will load the data into the model as random batches with 32 observation in each.\n",
    "nltk_dataloader = DataLoader(nltk_data, sampler=nltk_sampler, batch_size=bs)\n",
    "\n",
    "nltk_val_data = TensorDataset(nltk_val_inputs, nltk_val_masks, nltk_val_tags)\n",
    "nltk_val_sampler = SequentialSampler(nltk_val_data)\n",
    "nltk_val_dataloader = DataLoader(nltk_val_data, sampler=nltk_val_sampler, batch_size=bs)"
   ]
  },
  {
   "cell_type": "markdown",
   "metadata": {
    "id": "u-5aCocHp_jQ"
   },
   "source": [
    "### For Binary Aspect"
   ]
  },
  {
   "cell_type": "code",
   "execution_count": null,
   "metadata": {
    "id": "7yE1QWL6p_jQ"
   },
   "outputs": [],
   "source": [
    "# Split train / validation data\n",
    "binary_inputs, binary_val_inputs, binary_tags, binary_val_tags = train_test_split(input_ids_binary, tags_binary,\n",
    "                                                            random_state=2018, test_size=0.1)\n",
    "binary_masks, binary_val_masks, _, _ = train_test_split(attention_masks_binary, input_ids_binary,\n",
    "                                             random_state=2018, test_size=0.1)\n",
    "\n",
    "# Convert the inputs into tensors\n",
    "binary_inputs = torch.tensor(binary_inputs)\n",
    "binary_val_inputs = torch.tensor(binary_val_inputs)\n",
    "binary_tags = torch.tensor(binary_tags)\n",
    "binary_val_tags = torch.tensor(binary_val_tags)\n",
    "binary_masks = torch.tensor(binary_masks)\n",
    "binary_val_masks = torch.tensor(binary_val_masks)\n",
    "\n",
    "bs = 32 #batch size\n",
    "binary_data = TensorDataset(binary_inputs, binary_masks, binary_tags) # Upload the inputs of the model\n",
    "binary_sampler = RandomSampler(binary_data)\n",
    "## DataLoader will load the data into the model as random batches with 32 observation in each.\n",
    "binary_dataloader = DataLoader(binary_data, sampler=binary_sampler, batch_size=bs)\n",
    "\n",
    "binary_val_data = TensorDataset(binary_val_inputs, binary_val_masks, binary_val_tags)\n",
    "binary_val_sampler = SequentialSampler(binary_val_data)\n",
    "binary_val_dataloader = DataLoader(binary_val_data, sampler=binary_val_sampler, batch_size=bs)"
   ]
  },
  {
   "cell_type": "markdown",
   "metadata": {
    "id": "Ds7tJXnQqo7G"
   },
   "source": [
    "### For IOB Aspect"
   ]
  },
  {
   "cell_type": "code",
   "execution_count": null,
   "metadata": {
    "id": "AN4BCI5Fqo7I"
   },
   "outputs": [],
   "source": [
    "# Split train / validation data\n",
    "IOB_inputs, IOB_val_inputs, IOB_tags, IOB_val_tags = train_test_split(input_ids_IOB, tags_IOB,\n",
    "                                                            random_state=2018, test_size=0.1)\n",
    "IOB_masks, IOB_val_masks, _, _ = train_test_split(attention_masks_IOB, input_ids_IOB,\n",
    "                                             random_state=2018, test_size=0.1)\n",
    "\n",
    "# Convert the inputs into tensors\n",
    "IOB_inputs = torch.tensor(IOB_inputs)\n",
    "IOB_val_inputs = torch.tensor(IOB_val_inputs)\n",
    "IOB_tags = torch.tensor(IOB_tags)\n",
    "IOB_val_tags = torch.tensor(IOB_val_tags)\n",
    "IOB_masks = torch.tensor(IOB_masks)\n",
    "IOB_val_masks = torch.tensor(IOB_val_masks)\n",
    "\n",
    "bs = 32 #batch size\n",
    "IOB_data = TensorDataset(IOB_inputs, IOB_masks, IOB_tags) # Upload the inputs of the model\n",
    "IOB_sampler = RandomSampler(IOB_data)\n",
    "## DataLoader will load the data into the model as random batches with 32 observation in each.\n",
    "IOB_dataloader = DataLoader(IOB_data, sampler=IOB_sampler, batch_size=bs)\n",
    "\n",
    "IOB_val_data = TensorDataset(IOB_val_inputs, IOB_val_masks, IOB_val_tags)\n",
    "IOB_val_sampler = SequentialSampler(IOB_val_data)\n",
    "IOB_val_dataloader = DataLoader(IOB_val_data, sampler=IOB_val_sampler, batch_size=bs)"
   ]
  },
  {
   "cell_type": "markdown",
   "metadata": {
    "id": "3HVmLCiDrKvy"
   },
   "source": [
    "## Model nltk"
   ]
  },
  {
   "cell_type": "code",
   "execution_count": null,
   "metadata": {
    "colab": {
     "background_save": true,
     "base_uri": "https://localhost:8080/"
    },
    "id": "B0qtXxD5rKGX",
    "outputId": "b97651e0-623a-4ced-e921-f45522afb8b1"
   },
   "outputs": [
    {
     "name": "stderr",
     "output_type": "stream",
     "text": [
      "Some weights of the model checkpoint at bert-base-cased were not used when initializing BertForTokenClassification: ['cls.predictions.bias', 'cls.predictions.transform.dense.weight', 'cls.predictions.transform.dense.bias', 'cls.predictions.decoder.weight', 'cls.seq_relationship.weight', 'cls.seq_relationship.bias', 'cls.predictions.transform.LayerNorm.weight', 'cls.predictions.transform.LayerNorm.bias']\n",
      "- This IS expected if you are initializing BertForTokenClassification from the checkpoint of a model trained on another task or with another architecture (e.g. initializing a BertForSequenceClassification model from a BertForPreTraining model).\n",
      "- This IS NOT expected if you are initializing BertForTokenClassification from the checkpoint of a model that you expect to be exactly identical (initializing a BertForSequenceClassification model from a BertForSequenceClassification model).\n",
      "Some weights of BertForTokenClassification were not initialized from the model checkpoint at bert-base-cased and are newly initialized: ['classifier.weight', 'classifier.bias']\n",
      "You should probably TRAIN this model on a down-stream task to be able to use it for predictions and inference.\n",
      "\n",
      "\n",
      "Epoch:   0%|          | 0/3 [00:00<?, ?it/s]\u001b[A\u001b[A"
     ]
    },
    {
     "name": "stdout",
     "output_type": "stream",
     "text": [
      "nltk Average train loss: 1\n"
     ]
    },
    {
     "name": "stderr",
     "output_type": "stream",
     "text": [
      "\n",
      "\n",
      "Epoch:  33%|███▎      | 1/3 [02:31<05:02, 151.01s/it]\u001b[A\u001b[A"
     ]
    },
    {
     "name": "stdout",
     "output_type": "stream",
     "text": [
      "nltk Validation loss: 0.42444\n",
      "nltk Validation Accuracy: 0.83847\n",
      "\n",
      "nltk Average train loss: 0\n"
     ]
    },
    {
     "name": "stderr",
     "output_type": "stream",
     "text": [
      "\n",
      "\n",
      "Epoch:  67%|██████▋   | 2/3 [05:00<02:30, 150.62s/it]\u001b[A\u001b[A"
     ]
    },
    {
     "name": "stdout",
     "output_type": "stream",
     "text": [
      "nltk Validation loss: 0.35453\n",
      "nltk Validation Accuracy: 0.8681\n",
      "\n",
      "nltk Average train loss: 0\n"
     ]
    },
    {
     "name": "stderr",
     "output_type": "stream",
     "text": [
      "\n",
      "\n",
      "Epoch: 100%|██████████| 3/3 [07:29<00:00, 149.97s/it]"
     ]
    },
    {
     "name": "stdout",
     "output_type": "stream",
     "text": [
      "nltk Validation loss: 0.34663\n",
      "nltk Validation Accuracy: 0.87622\n",
      "\n"
     ]
    },
    {
     "name": "stderr",
     "output_type": "stream",
     "text": [
      "\n"
     ]
    }
   ],
   "source": [
    "# Model Structure\n",
    "model_nltk = BertForTokenClassification.from_pretrained(\n",
    "    \"bert-base-cased\",\n",
    "    num_labels=len(tag2idx_nltk),\n",
    "    output_attentions = False,\n",
    "    output_hidden_states = False\n",
    ")\n",
    "\n",
    "# Hyperparameters for Fine Tuning\n",
    "FULL_FINETUNING = True\n",
    "if FULL_FINETUNING:\n",
    "    param_optimizer = list(model_nltk.named_parameters())\n",
    "    no_decay = ['bias', 'gamma', 'beta']\n",
    "    optimizer_grouped_parameters = [\n",
    "        {'params': [p for n, p in param_optimizer if not any(nd in n for nd in no_decay)],\n",
    "         'weight_decay_rate': 0.01},\n",
    "        {'params': [p for n, p in param_optimizer if any(nd in n for nd in no_decay)],\n",
    "         'weight_decay_rate': 0.0}\n",
    "    ]\n",
    "else:\n",
    "    param_optimizer = list(model_nltk.classifier.named_parameters())\n",
    "    optimizer_grouped_parameters = [{\"params\": [p for n, p in param_optimizer]}]\n",
    "\n",
    "optimizer = AdamW(\n",
    "    optimizer_grouped_parameters,\n",
    "    lr=3e-5,\n",
    "    eps=1e-8\n",
    ")\n",
    "\n",
    "epochs = 3\n",
    "max_grad_norm = 1.0\n",
    "\n",
    "# Total number of training steps is number of batches * number of epochs.\n",
    "total_steps = len(nltk_dataloader) * epochs\n",
    "\n",
    "# Create the learning rate scheduler.\n",
    "scheduler = get_linear_schedule_with_warmup(\n",
    "    optimizer,\n",
    "    num_warmup_steps=0,\n",
    "    num_training_steps=total_steps\n",
    ")\n",
    "\n",
    "## Store the average loss after each epoch\n",
    "loss_values_nltk, validation_loss_values_nltk = [], []\n",
    "\n",
    "for _ in trange(epochs, desc=\"Epoch\"):\n",
    "    # ========================================\n",
    "    #               Training\n",
    "    # ========================================\n",
    "    # Put the model into training mode.\n",
    "    model_nltk.train()\n",
    "    # Reset the total loss for each epoch.\n",
    "    total_loss_nltk = 0\n",
    "\n",
    "    # Training loop\n",
    "    for step, batch in enumerate(nltk_dataloader):\n",
    "        # Extrach inputs from the batch\n",
    "        batch = tuple(t for t in batch)\n",
    "        b_input_ids, b_input_mask, b_labels = batch\n",
    "        # Clear any previously calculated gradients before performing a backward pass.\n",
    "        model_nltk.zero_grad()\n",
    "        # Model\n",
    "        outputs = model_nltk(b_input_ids, token_type_ids=None,\n",
    "                        attention_mask=b_input_mask, labels=b_labels)\n",
    "        # Loss\n",
    "        loss = outputs[0]\n",
    "        # Perform a backward pass to calculate the gradients.\n",
    "        loss.backward()\n",
    "        # Extract the train loss\n",
    "        total_loss_nltk += loss.item()\n",
    "        # Clip the norm of the gradient\n",
    "        # to help prevent the \"exploding gradients\" problem.\n",
    "        torch.nn.utils.clip_grad_norm_(parameters=model_nltk.parameters(), max_norm=max_grad_norm)\n",
    "        # Update parameters\n",
    "        optimizer.step()\n",
    "        # Update the learning rate.\n",
    "        scheduler.step()\n",
    "\n",
    "    # Calculate the average loss over the training data.\n",
    "    avg_train_loss_nltk = total_loss_nltk / len(nltk_dataloader)\n",
    "    print(\"nltk Average train loss: {}\".format(round(avg_train_loss_nltk),5))\n",
    "\n",
    "    # Store the loss value.\n",
    "    loss_values_nltk.append(avg_train_loss_nltk)\n",
    "\n",
    "\n",
    "    # ========================================\n",
    "    #               Validation\n",
    "    # ========================================\n",
    "    # Put the model into evaluation mode\n",
    "    model_nltk.eval()\n",
    "    # Reset the validation loss for each epoch\n",
    "    eval_loss_nltk, eval_accuracy_nltk = 0, 0\n",
    "    nb_eval_steps, nb_eval_examples = 0, 0\n",
    "    predictions_nltk , true_labels_nltk = [], []\n",
    "    # Upload inputs from the batch\n",
    "    for batch in nltk_val_dataloader:\n",
    "        batch = tuple(t for t in batch)\n",
    "        b_input_ids, b_input_mask, b_labels = batch\n",
    "\n",
    "        with torch.no_grad():  #not compute or store gradients to speed up validation\n",
    "            # Forward pass, calculate logit predictions.\n",
    "            outputs_nltk = model_nltk(b_input_ids, token_type_ids=None,\n",
    "                            attention_mask=b_input_mask, labels=b_labels)\n",
    "        # Logits (for predictions)\n",
    "        logits_nltk = outputs_nltk[1].numpy()\n",
    "        label_ids_nltk = b_labels.numpy()\n",
    "\n",
    "        # Calculate the accuracy for this batch of test sentences.\n",
    "        eval_loss_nltk += outputs_nltk[0].mean().item()\n",
    "        predictions_nltk.extend([list(p) for p in np.argmax(logits_nltk, axis=2)])\n",
    "        true_labels_nltk.extend(label_ids_nltk)\n",
    "\n",
    "    eval_loss_nltk = eval_loss_nltk / len(nltk_val_dataloader)\n",
    "    validation_loss_values_nltk.append(eval_loss_nltk)\n",
    "    print(\"nltk Validation loss: {}\".format(round(eval_loss_nltk,5)))\n",
    "    pred_tags_nltk = [tag_values_nltk[p_i] for p, l in zip(predictions_nltk, true_labels_nltk)\n",
    "                                 for p_i, l_i in zip(p, l) if tag_values_nltk[l_i] != \"PAD\"]\n",
    "    valid_tags_nltk  = [tag_values_nltk[l_i] for l in true_labels_nltk\n",
    "                                  for l_i in l if tag_values_nltk[l_i] != \"PAD\"]\n",
    "    print(\"nltk Validation Accuracy: {}\".format(round(accuracy_score(pred_tags_nltk, valid_tags_nltk),5)))\n",
    "    #print(\"nltk Validation F1-Score: {}\".format(round(f1_score(pred_tags_nltk, valid_tags_nltk, average='weighted')),5))\n",
    "    print()"
   ]
  },
  {
   "cell_type": "markdown",
   "metadata": {
    "id": "I2LmmlySKJNW"
   },
   "source": [
    "### Performance Graph"
   ]
  },
  {
   "cell_type": "code",
   "execution_count": null,
   "metadata": {
    "colab": {
     "background_save": true
    },
    "id": "Wu9VGu1RrgJ0",
    "outputId": "5395404e-ebbe-4eb7-d0fe-fdb27a8ac9ab"
   },
   "outputs": [
    {
     "data": {
      "image/png": "[encoded data removed]",
      "text/plain": [
       "<Figure size 432x432 with 1 Axes>"
      ]
     },
     "metadata": {
      "tags": []
     },
     "output_type": "display_data"
    }
   ],
   "source": [
    "# Use plot styling from seaborn.\n",
    "sns.set(style='darkgrid')\n",
    "\n",
    "# Increase the plot size and font size.\n",
    "sns.set(font_scale=1.5)\n",
    "plt.rcParams[\"figure.figsize\"] = (6,6)\n",
    "\n",
    "# Plot the learning curve.\n",
    "plt.plot(loss_values_nltk, 'b-o', label=\"training loss\")\n",
    "plt.plot(validation_loss_values_nltk, 'r-o', label=\"validation loss\")\n",
    "\n",
    "# Label the plot.\n",
    "plt.title(\"Learning curve\")\n",
    "plt.xlabel(\"Epoch\")\n",
    "plt.ylabel(\"Loss\")\n",
    "plt.legend()\n",
    "\n",
    "plt.show()"
   ]
  },
  {
   "cell_type": "markdown",
   "metadata": {
    "id": "wHTTcejMuGkg"
   },
   "source": [
    "## Model Binary Aspect"
   ]
  },
  {
   "cell_type": "code",
   "execution_count": 36,
   "metadata": {
    "colab": {
     "base_uri": "https://localhost:8080/"
    },
    "id": "jwImhZpTuecW",
    "outputId": "ffede3d4-051f-4ad7-a637-86922443a79d"
   },
   "outputs": [
    {
     "name": "stderr",
     "output_type": "stream",
     "text": [
      "Some weights of the model checkpoint at bert-base-cased were not used when initializing BertForTokenClassification: ['cls.predictions.bias', 'cls.predictions.transform.dense.weight', 'cls.predictions.transform.dense.bias', 'cls.predictions.decoder.weight', 'cls.seq_relationship.weight', 'cls.seq_relationship.bias', 'cls.predictions.transform.LayerNorm.weight', 'cls.predictions.transform.LayerNorm.bias']\n",
      "- This IS expected if you are initializing BertForTokenClassification from the checkpoint of a model trained on another task or with another architecture (e.g. initializing a BertForSequenceClassification model from a BertForPreTraining model).\n",
      "- This IS NOT expected if you are initializing BertForTokenClassification from the checkpoint of a model that you expect to be exactly identical (initializing a BertForSequenceClassification model from a BertForSequenceClassification model).\n",
      "Some weights of BertForTokenClassification were not initialized from the model checkpoint at bert-base-cased and are newly initialized: ['classifier.weight', 'classifier.bias']\n",
      "You should probably TRAIN this model on a down-stream task to be able to use it for predictions and inference.\n",
      "\n",
      "\n",
      "\n",
      "Epoch:   0%|          | 0/3 [00:00<?, ?it/s]\u001b[A\u001b[A\u001b[A"
     ]
    },
    {
     "name": "stdout",
     "output_type": "stream",
     "text": [
      "binary Average train loss: 0\n"
     ]
    },
    {
     "name": "stderr",
     "output_type": "stream",
     "text": [
      "\n",
      "\n",
      "\n",
      "Epoch:  33%|███▎      | 1/3 [02:22<04:44, 142.13s/it]\u001b[A\u001b[A\u001b[A"
     ]
    },
    {
     "name": "stdout",
     "output_type": "stream",
     "text": [
      "binary Validation loss: 0.13329\n",
      "\n",
      "binary Average train loss: 0\n"
     ]
    },
    {
     "name": "stderr",
     "output_type": "stream",
     "text": [
      "\n",
      "\n",
      "\n",
      "Epoch:  67%|██████▋   | 2/3 [04:45<02:22, 142.59s/it]\u001b[A\u001b[A\u001b[A"
     ]
    },
    {
     "name": "stdout",
     "output_type": "stream",
     "text": [
      "binary Validation loss: 0.10522\n",
      "\n",
      "binary Average train loss: 0\n"
     ]
    },
    {
     "name": "stderr",
     "output_type": "stream",
     "text": [
      "\n",
      "\n",
      "\n",
      "Epoch: 100%|██████████| 3/3 [07:11<00:00, 143.91s/it]"
     ]
    },
    {
     "name": "stdout",
     "output_type": "stream",
     "text": [
      "binary Validation loss: 0.10596\n",
      "\n"
     ]
    },
    {
     "name": "stderr",
     "output_type": "stream",
     "text": [
      "\n"
     ]
    }
   ],
   "source": [
    "# Model Structure\n",
    "model_binary = BertForTokenClassification.from_pretrained(\n",
    "    \"bert-base-cased\",\n",
    "    num_labels=len(tag2idx_binary),\n",
    "    output_attentions = False,\n",
    "    output_hidden_states = False\n",
    ")\n",
    "\n",
    "# Hyperparameters for Fine Tuning\n",
    "FULL_FINETUNING = True\n",
    "if FULL_FINETUNING:\n",
    "    param_optimizer = list(model_binary.named_parameters())\n",
    "    no_decay = ['bias', 'gamma', 'beta']\n",
    "    optimizer_grouped_parameters = [\n",
    "        {'params': [p for n, p in param_optimizer if not any(nd in n for nd in no_decay)],\n",
    "         'weight_decay_rate': 0.01},\n",
    "        {'params': [p for n, p in param_optimizer if any(nd in n for nd in no_decay)],\n",
    "         'weight_decay_rate': 0.0}\n",
    "    ]\n",
    "else:\n",
    "    param_optimizer = list(model_binary.classifier.named_parameters())\n",
    "    optimizer_grouped_parameters = [{\"params\": [p for n, p in param_optimizer]}]\n",
    "\n",
    "optimizer = AdamW(\n",
    "    optimizer_grouped_parameters,\n",
    "    lr=3e-5,\n",
    "    eps=1e-8\n",
    ")\n",
    "\n",
    "epochs = 3\n",
    "max_grad_norm = 1.0\n",
    "\n",
    "# Total number of training steps is number of batches * number of epochs.\n",
    "total_steps = len(binary_dataloader) * epochs\n",
    "\n",
    "# Create the learning rate scheduler.\n",
    "scheduler = get_linear_schedule_with_warmup(\n",
    "    optimizer,\n",
    "    num_warmup_steps=0,\n",
    "    num_training_steps=total_steps\n",
    ")\n",
    "\n",
    "## Store the average loss after each epoch\n",
    "loss_values_binary, validation_loss_values_binary = [], []\n",
    "\n",
    "for _ in trange(epochs, desc=\"Epoch\"):\n",
    "    # ========================================\n",
    "    #               Training\n",
    "    # ========================================\n",
    "    # Put the model into training mode.\n",
    "    model_binary.train()\n",
    "    # Reset the total loss for each epoch.\n",
    "    total_loss_binary = 0\n",
    "\n",
    "    # Training loop\n",
    "    for step, batch in enumerate(binary_dataloader):\n",
    "        # Extrach inputs from the batch\n",
    "        batch = tuple(t for t in batch)\n",
    "        b_input_ids, b_input_mask, b_labels = batch\n",
    "        # Clear any previously calculated gradients before performing a backward pass.\n",
    "        model_binary.zero_grad()\n",
    "        # Model\n",
    "        outputs = model_binary(b_input_ids, token_type_ids=None,\n",
    "                        attention_mask=b_input_mask, labels=b_labels)\n",
    "        # Loss\n",
    "        loss = outputs[0]\n",
    "        # Perform a backward pass to calculate the gradients.\n",
    "        loss.backward()\n",
    "        # Extract the train loss\n",
    "        total_loss_binary += loss.item()\n",
    "        # Clip the norm of the gradient\n",
    "        # to help prevent the \"exploding gradients\" problem.\n",
    "        torch.nn.utils.clip_grad_norm_(parameters=model_binary.parameters(), max_norm=max_grad_norm)\n",
    "        # Update parameters\n",
    "        optimizer.step()\n",
    "        # Update the learning rate.\n",
    "        scheduler.step()\n",
    "\n",
    "    # Calculate the average loss over the training data.\n",
    "    avg_train_loss_binary = total_loss_binary / len(binary_dataloader)\n",
    "    print(\"binary Average train loss: {}\".format(round(avg_train_loss_binary),5))\n",
    "\n",
    "    # Store the loss value.\n",
    "    loss_values_binary.append(avg_train_loss_binary)\n",
    "\n",
    "    # ========================================\n",
    "    #               Validation\n",
    "    # ========================================\n",
    "    # Put the model into evaluation mode\n",
    "    model_binary.eval()\n",
    "    # Reset the validation loss for each epoch\n",
    "    eval_loss_binary, eval_accuracy_binary = 0, 0\n",
    "    nb_eval_steps, nb_eval_examples = 0, 0\n",
    "    predictions_binary , true_labels_binary = [], []\n",
    "    # Upload inputs from the batch\n",
    "    for batch in binary_val_dataloader:\n",
    "        batch = tuple(t for t in batch)\n",
    "        b_input_ids, b_input_mask, b_labels = batch\n",
    "\n",
    "        with torch.no_grad():  #not compute or store gradients to speed up validation\n",
    "            # Forward pass, calculate logit predictions.\n",
    "            outputs_binary = model_binary(b_input_ids, token_type_ids=None,\n",
    "                            attention_mask=b_input_mask, labels=b_labels)\n",
    "        # Logits (for predictions)\n",
    "        logits_binary = outputs_binary[1].numpy()\n",
    "        label_ids_binary = b_labels.numpy()\n",
    "\n",
    "        # Calculate the accuracy for this batch of test sentences.\n",
    "        eval_loss_binary += outputs_binary[0].mean().item()\n",
    "        predictions_binary.extend([list(p) for p in np.argmax(logits_binary, axis=2)])\n",
    "        true_labels_binary.extend(label_ids_binary)\n",
    "\n",
    "    eval_loss_binary = eval_loss_binary / len(binary_val_dataloader)\n",
    "    validation_loss_values_binary.append(eval_loss_binary)\n",
    "    print(\"binary Validation loss: {}\".format(round(eval_loss_binary,5)))\n",
    "    pred_tags_binary = [tag_values_binary[p_i] for p, l in zip(predictions_binary, true_labels_binary)\n",
    "                                 for p_i, l_i in zip(p, l) if tag_values_binary[l_i] != \"PAD\"]\n",
    "    valid_tags_binary  = [tag_values_binary[l_i] for l in true_labels_binary\n",
    "                                  for l_i in l if tag_values_binary[l_i] != \"PAD\"]\n",
    "    print()"
   ]
  },
  {
   "cell_type": "markdown",
   "metadata": {
    "id": "d2pCTDlFKM7o"
   },
   "source": [
    "### Performance Graph"
   ]
  },
  {
   "cell_type": "code",
   "execution_count": 37,
   "metadata": {
    "colab": {
     "base_uri": "https://localhost:8080/",
     "height": 427
    },
    "id": "Bp6vFtN0vH7B",
    "outputId": "cf877923-ea4d-484c-f731-edc5a4551b11"
   },
   "outputs": [
    {
     "data": {
      "image/png": "[encoded data removed]",
      "text/plain": [
       "<Figure size 864x432 with 1 Axes>"
      ]
     },
     "metadata": {
      "tags": []
     },
     "output_type": "display_data"
    }
   ],
   "source": [
    "# Use plot styling from seaborn.\n",
    "sns.set(style='darkgrid')\n",
    "\n",
    "# Increase the plot size and font size.\n",
    "sns.set(font_scale=1.5)\n",
    "plt.rcParams[\"figure.figsize\"] = (12,6)\n",
    "\n",
    "# Plot the learning curve.\n",
    "plt.plot(loss_values_binary, 'b-o', label=\"training loss\")\n",
    "plt.plot(validation_loss_values_binary, 'r-o', label=\"validation loss\")\n",
    "\n",
    "# Label the plot.\n",
    "plt.title(\"Learning curve\")\n",
    "plt.xlabel(\"Epoch\")\n",
    "plt.ylabel(\"Loss\")\n",
    "plt.legend()\n",
    "\n",
    "plt.show()"
   ]
  },
  {
   "cell_type": "markdown",
   "metadata": {
    "id": "IU_fe-K1ueCd"
   },
   "source": [
    "## Model IOB Aspect"
   ]
  },
  {
   "cell_type": "code",
   "execution_count": 39,
   "metadata": {
    "colab": {
     "base_uri": "https://localhost:8080/"
    },
    "id": "ZZfEZ0DVun4r",
    "outputId": "bb2dc6d0-6348-4154-da79-184e8774e8bb"
   },
   "outputs": [
    {
     "name": "stderr",
     "output_type": "stream",
     "text": [
      "Some weights of the model checkpoint at bert-base-cased were not used when initializing BertForTokenClassification: ['cls.predictions.bias', 'cls.predictions.transform.dense.weight', 'cls.predictions.transform.dense.bias', 'cls.predictions.decoder.weight', 'cls.seq_relationship.weight', 'cls.seq_relationship.bias', 'cls.predictions.transform.LayerNorm.weight', 'cls.predictions.transform.LayerNorm.bias']\n",
      "- This IS expected if you are initializing BertForTokenClassification from the checkpoint of a model trained on another task or with another architecture (e.g. initializing a BertForSequenceClassification model from a BertForPreTraining model).\n",
      "- This IS NOT expected if you are initializing BertForTokenClassification from the checkpoint of a model that you expect to be exactly identical (initializing a BertForSequenceClassification model from a BertForSequenceClassification model).\n",
      "Some weights of BertForTokenClassification were not initialized from the model checkpoint at bert-base-cased and are newly initialized: ['classifier.weight', 'classifier.bias']\n",
      "You should probably TRAIN this model on a down-stream task to be able to use it for predictions and inference.\n",
      "\n",
      "\n",
      "\n",
      "\n",
      "Epoch:   0%|          | 0/3 [00:00<?, ?it/s]\u001b[A\u001b[A\u001b[A\u001b[A"
     ]
    },
    {
     "name": "stdout",
     "output_type": "stream",
     "text": [
      "IOB Average train loss: 0\n"
     ]
    },
    {
     "name": "stderr",
     "output_type": "stream",
     "text": [
      "\n",
      "\n",
      "\n",
      "\n",
      "Epoch:  33%|███▎      | 1/3 [02:10<04:21, 130.83s/it]\u001b[A\u001b[A\u001b[A\u001b[A"
     ]
    },
    {
     "name": "stdout",
     "output_type": "stream",
     "text": [
      "IOB Validation loss: 0.19775\n",
      "\n",
      "IOB Average train loss: 0\n"
     ]
    },
    {
     "name": "stderr",
     "output_type": "stream",
     "text": [
      "\n",
      "\n",
      "\n",
      "\n",
      "Epoch:  67%|██████▋   | 2/3 [04:26<02:12, 132.42s/it]\u001b[A\u001b[A\u001b[A\u001b[A"
     ]
    },
    {
     "name": "stdout",
     "output_type": "stream",
     "text": [
      "IOB Validation loss: 0.17083\n",
      "\n",
      "IOB Average train loss: 0\n"
     ]
    },
    {
     "name": "stderr",
     "output_type": "stream",
     "text": [
      "\n",
      "\n",
      "\n",
      "\n",
      "Epoch: 100%|██████████| 3/3 [06:45<00:00, 135.02s/it]"
     ]
    },
    {
     "name": "stdout",
     "output_type": "stream",
     "text": [
      "IOB Validation loss: 0.1611\n",
      "\n"
     ]
    },
    {
     "name": "stderr",
     "output_type": "stream",
     "text": [
      "\n"
     ]
    }
   ],
   "source": [
    "# Model Structure\n",
    "model_IOB = BertForTokenClassification.from_pretrained(\n",
    "    \"bert-base-cased\",\n",
    "    num_labels=len(tag2idx_IOB),\n",
    "    output_attentions = False,\n",
    "    output_hidden_states = False\n",
    ")\n",
    "\n",
    "# Hyperparameters for Fine Tuning\n",
    "FULL_FINETUNING = True\n",
    "if FULL_FINETUNING:\n",
    "    param_optimizer = list(model_IOB.named_parameters())\n",
    "    no_decay = ['bias', 'gamma', 'beta']\n",
    "    optimizer_grouped_parameters = [\n",
    "        {'params': [p for n, p in param_optimizer if not any(nd in n for nd in no_decay)],\n",
    "         'weight_decay_rate': 0.01},\n",
    "        {'params': [p for n, p in param_optimizer if any(nd in n for nd in no_decay)],\n",
    "         'weight_decay_rate': 0.0}\n",
    "    ]\n",
    "else:\n",
    "    param_optimizer = list(model_IOB.classifier.named_parameters())\n",
    "    optimizer_grouped_parameters = [{\"params\": [p for n, p in param_optimizer]}]\n",
    "\n",
    "optimizer = AdamW(\n",
    "    optimizer_grouped_parameters,\n",
    "    lr=3e-5,\n",
    "    eps=1e-8\n",
    ")\n",
    "\n",
    "epochs = 3\n",
    "max_grad_norm = 1.0\n",
    "\n",
    "# Total number of training steps is number of batches * number of epochs.\n",
    "total_steps = len(IOB_dataloader) * epochs\n",
    "\n",
    "# Create the learning rate scheduler.\n",
    "scheduler = get_linear_schedule_with_warmup(\n",
    "    optimizer,\n",
    "    num_warmup_steps=0,\n",
    "    num_training_steps=total_steps\n",
    ")\n",
    "\n",
    "## Store the average loss after each epoch\n",
    "loss_values_IOB, validation_loss_values_IOB = [], []\n",
    "\n",
    "for _ in trange(epochs, desc=\"Epoch\"):\n",
    "    # ========================================\n",
    "    #               Training\n",
    "    # ========================================\n",
    "    # Put the model into training mode.\n",
    "    model_IOB.train()\n",
    "    # Reset the total loss for each epoch.\n",
    "    total_loss_IOB = 0\n",
    "\n",
    "    # Training loop\n",
    "    for step, batch in enumerate(IOB_dataloader):\n",
    "        # Extrach inputs from the batch\n",
    "        batch = tuple(t for t in batch)\n",
    "        b_input_ids, b_input_mask, b_labels = batch\n",
    "        # Clear any previously calculated gradients before performing a backward pass.\n",
    "        model_IOB.zero_grad()\n",
    "        # Model\n",
    "        outputs = model_IOB(b_input_ids, token_type_ids=None,\n",
    "                        attention_mask=b_input_mask, labels=b_labels)\n",
    "        # Loss\n",
    "        loss = outputs[0]\n",
    "        # Perform a backward pass to calculate the gradients.\n",
    "        loss.backward()\n",
    "        # Extract the train loss\n",
    "        total_loss_IOB += loss.item()\n",
    "        # Clip the norm of the gradient\n",
    "        # to help prevent the \"exploding gradients\" problem.\n",
    "        torch.nn.utils.clip_grad_norm_(parameters=model_IOB.parameters(), max_norm=max_grad_norm)\n",
    "        # Update parameters\n",
    "        optimizer.step()\n",
    "        # Update the learning rate.\n",
    "        scheduler.step()\n",
    "\n",
    "    # Calculate the average loss over the training data.\n",
    "    avg_train_loss_IOB = total_loss_IOB / len(IOB_dataloader)\n",
    "    print(\"IOB Average train loss: {}\".format(round(avg_train_loss_IOB),5))\n",
    "\n",
    "    # Store the loss value.\n",
    "    loss_values_IOB.append(avg_train_loss_IOB)\n",
    "\n",
    "    # ========================================\n",
    "    #               Validation\n",
    "    # ========================================\n",
    "    # Put the model into evaluation mode\n",
    "    model_IOB.eval()\n",
    "    # Reset the validation loss for each epoch\n",
    "    eval_loss_IOB, eval_accuracy_IOB = 0, 0\n",
    "    nb_eval_steps, nb_eval_examples = 0, 0\n",
    "    predictions_IOB , true_labels_IOB = [], []\n",
    "    # Upload inputs from the batch\n",
    "    for batch in IOB_val_dataloader:\n",
    "        batch = tuple(t for t in batch)\n",
    "        b_input_ids, b_input_mask, b_labels = batch\n",
    "\n",
    "        with torch.no_grad():  #not compute or store gradients to speed up validation\n",
    "            # Forward pass, calculate logit predictions.\n",
    "            outputs_IOB = model_IOB(b_input_ids, token_type_ids=None,\n",
    "                            attention_mask=b_input_mask, labels=b_labels)\n",
    "        # Logits (for predictions)\n",
    "        logits_IOB = outputs_IOB[1].numpy()\n",
    "        label_ids_IOB = b_labels.numpy()\n",
    "\n",
    "        # Calculate the accuracy for this batch of test sentences.\n",
    "        eval_loss_IOB += outputs_IOB[0].mean().item()\n",
    "        predictions_IOB.extend([list(p) for p in np.argmax(logits_IOB, axis=2)])\n",
    "        true_labels_IOB.extend(label_ids_IOB)\n",
    "\n",
    "    eval_loss_IOB = eval_loss_IOB / len(IOB_val_dataloader)\n",
    "    validation_loss_values_IOB.append(eval_loss_IOB)\n",
    "    print(\"IOB Validation loss: {}\".format(round(eval_loss_IOB,5)))\n",
    "    pred_tags_IOB = [tag_values_IOB[p_i] for p, l in zip(predictions_IOB, true_labels_IOB)\n",
    "                                 for p_i, l_i in zip(p, l) if tag_values_IOB[l_i] != \"PAD\"]\n",
    "    valid_tags_IOB  = [tag_values_IOB[l_i] for l in true_labels_IOB\n",
    "                                  for l_i in l if tag_values_IOB[l_i] != \"PAD\"]\n",
    "    print()"
   ]
  },
  {
   "cell_type": "markdown",
   "metadata": {
    "id": "ozssS_1XKPrH"
   },
   "source": [
    "Performance Graph"
   ]
  },
  {
   "cell_type": "code",
   "execution_count": 40,
   "metadata": {
    "colab": {
     "base_uri": "https://localhost:8080/",
     "height": 427
    },
    "id": "HUIhMJ0RvMUm",
    "outputId": "8c3abd81-a07e-4786-965a-0ee25e748538"
   },
   "outputs": [
    {
     "data": {
      "image/png": "[encoded data removed]",
      "text/plain": [
       "<Figure size 864x432 with 1 Axes>"
      ]
     },
     "metadata": {
      "tags": []
     },
     "output_type": "display_data"
    }
   ],
   "source": [
    "# Use plot styling from seaborn.\n",
    "sns.set(style='darkgrid')\n",
    "\n",
    "# Increase the plot size and font size.\n",
    "sns.set(font_scale=1.5)\n",
    "plt.rcParams[\"figure.figsize\"] = (12,6)\n",
    "\n",
    "# Plot the learning curve.\n",
    "plt.plot(loss_values_IOB, 'b-o', label=\"training loss\")\n",
    "plt.plot(validation_loss_values_IOB, 'r-o', label=\"validation loss\")\n",
    "\n",
    "# Label the plot.\n",
    "plt.title(\"Learning curve\")\n",
    "plt.xlabel(\"Epoch\")\n",
    "plt.ylabel(\"Loss\")\n",
    "plt.legend()\n",
    "\n",
    "plt.show()"
   ]
  },
  {
   "cell_type": "markdown",
   "metadata": {
    "id": "Ib_JqFYCva-a"
   },
   "source": [
    "## Evaluation"
   ]
  },
  {
   "cell_type": "markdown",
   "metadata": {
    "id": "lS7ArDdv06dW"
   },
   "source": [
    "### Data Processing"
   ]
  },
  {
   "cell_type": "markdown",
   "metadata": {
    "id": "f_WF5IL0xXWg"
   },
   "source": [
    "#### Tagging for Test"
   ]
  },
  {
   "cell_type": "code",
   "execution_count": 41,
   "metadata": {
    "colab": {
     "base_uri": "https://localhost:8080/",
     "height": 436
    },
    "id": "OLwz5YDsw5ZD",
    "outputId": "107950a3-77ef-4046-af3a-f3847a5ea612"
   },
   "outputs": [
    {
     "name": "stdout",
     "output_type": "stream",
     "text": [
      "Warning: parsing empty text\n"
     ]
    },
    {
     "data": {
      "text/html": [
       "<div>\n",
       "<style scoped>\n",
       "    .dataframe tbody tr th:only-of-type {\n",
       "        vertical-align: middle;\n",
       "    }\n",
       "\n",
       "    .dataframe tbody tr th {\n",
       "        vertical-align: top;\n",
       "    }\n",
       "\n",
       "    .dataframe thead th {\n",
       "        text-align: right;\n",
       "    }\n",
       "</style>\n",
       "<table border=\"1\" class=\"dataframe\">\n",
       "  <thead>\n",
       "    <tr style=\"text-align: right;\">\n",
       "      <th></th>\n",
       "      <th>Sentence #</th>\n",
       "      <th>Word</th>\n",
       "      <th>POS</th>\n",
       "      <th>nltkTag</th>\n",
       "    </tr>\n",
       "  </thead>\n",
       "  <tbody>\n",
       "    <tr>\n",
       "      <th>0</th>\n",
       "      <td>1</td>\n",
       "      <td>yum</td>\n",
       "      <td>NN</td>\n",
       "      <td>B-NP</td>\n",
       "    </tr>\n",
       "    <tr>\n",
       "      <th>1</th>\n",
       "      <td>2</td>\n",
       "      <td>serves</td>\n",
       "      <td>NNS</td>\n",
       "      <td>O</td>\n",
       "    </tr>\n",
       "    <tr>\n",
       "      <th>2</th>\n",
       "      <td>2</td>\n",
       "      <td>really</td>\n",
       "      <td>RB</td>\n",
       "      <td>O</td>\n",
       "    </tr>\n",
       "    <tr>\n",
       "      <th>3</th>\n",
       "      <td>2</td>\n",
       "      <td>good</td>\n",
       "      <td>JJ</td>\n",
       "      <td>B-NP</td>\n",
       "    </tr>\n",
       "    <tr>\n",
       "      <th>4</th>\n",
       "      <td>2</td>\n",
       "      <td>sushi</td>\n",
       "      <td>NN</td>\n",
       "      <td>I-NP</td>\n",
       "    </tr>\n",
       "    <tr>\n",
       "      <th>...</th>\n",
       "      <td>...</td>\n",
       "      <td>...</td>\n",
       "      <td>...</td>\n",
       "      <td>...</td>\n",
       "    </tr>\n",
       "    <tr>\n",
       "      <th>7377</th>\n",
       "      <td>587</td>\n",
       "      <td>yeahthe</td>\n",
       "      <td>NN</td>\n",
       "      <td>B-NP</td>\n",
       "    </tr>\n",
       "    <tr>\n",
       "      <th>7378</th>\n",
       "      <td>587</td>\n",
       "      <td>view</td>\n",
       "      <td>NN</td>\n",
       "      <td>B-NP</td>\n",
       "    </tr>\n",
       "    <tr>\n",
       "      <th>7379</th>\n",
       "      <td>587</td>\n",
       "      <td>was</td>\n",
       "      <td>VBD</td>\n",
       "      <td>O</td>\n",
       "    </tr>\n",
       "    <tr>\n",
       "      <th>7380</th>\n",
       "      <td>587</td>\n",
       "      <td>good</td>\n",
       "      <td>JJ</td>\n",
       "      <td>O</td>\n",
       "    </tr>\n",
       "    <tr>\n",
       "      <th>7381</th>\n",
       "      <td>587</td>\n",
       "      <td>too</td>\n",
       "      <td>RB</td>\n",
       "      <td>O</td>\n",
       "    </tr>\n",
       "  </tbody>\n",
       "</table>\n",
       "<p>7382 rows × 4 columns</p>\n",
       "</div>"
      ],
      "text/plain": [
       "      Sentence #     Word  POS nltkTag\n",
       "0              1      yum   NN    B-NP\n",
       "1              2   serves  NNS       O\n",
       "2              2   really   RB       O\n",
       "3              2     good   JJ    B-NP\n",
       "4              2    sushi   NN    I-NP\n",
       "...          ...      ...  ...     ...\n",
       "7377         587  yeahthe   NN    B-NP\n",
       "7378         587     view   NN    B-NP\n",
       "7379         587      was  VBD       O\n",
       "7380         587     good   JJ       O\n",
       "7381         587      too   RB       O\n",
       "\n",
       "[7382 rows x 4 columns]"
      ]
     },
     "execution_count": 41,
     "metadata": {
      "tags": []
     },
     "output_type": "execute_result"
    }
   ],
   "source": [
    "# nltk\n",
    "test_df.Text = test_df.Text.astype('str')\n",
    "sample_test = test_df.Text[0]\n",
    "sent_test = preprocess(sample_test)\n",
    "\n",
    "cs_test = cp.parse(sent_test)\n",
    "iob_tagged_test = tree2conlltags(cs_test)\n",
    "df_sample_test = pd.DataFrame(iob_tagged_test, columns = ['Word', 'POS', 'nltkTag'])\n",
    "df_sample_test.insert(0, 'Sentence #', 0+1)\n",
    "\n",
    "for i in range(len(test_df.Text)-1):\n",
    "  sample = test_df.Text[i+1]\n",
    "  sent = preprocess(sample)\n",
    "  cs = cp.parse(sent)\n",
    "  iob_tagged = tree2conlltags(cs)\n",
    "  other_samples = pd.DataFrame(iob_tagged, columns = ['Word', 'POS', 'nltkTag'])\n",
    "  other_samples.insert(0, 'Sentence #', i+2)\n",
    "  df_sample_test = pd.concat([df_sample_test, other_samples], axis=0)\n",
    "\n",
    "df_sample_test = df_sample_test.reset_index(drop = True)\n",
    "df_sample_test"
   ]
  },
  {
   "cell_type": "code",
   "execution_count": 42,
   "metadata": {
    "colab": {
     "base_uri": "https://localhost:8080/"
    },
    "id": "3sZa7uyVwZnb",
    "outputId": "1b4f5ad8-7ea8-4a41-ffde-c75b3eea08a4"
   },
   "outputs": [
    {
     "name": "stderr",
     "output_type": "stream",
     "text": [
      "/usr/local/lib/python3.6/dist-packages/ipykernel_launcher.py:13: DeprecationWarning: The truth value of an empty array is ambiguous. Returning False, but in future this will result in an error. Use `array.size > 0` to check that an array is not empty.\n",
      "  del sys.path[0]\n",
      "/usr/local/lib/python3.6/dist-packages/ipykernel_launcher.py:13: DeprecationWarning: elementwise comparison failed; this will raise an error in the future.\n",
      "  del sys.path[0]\n"
     ]
    }
   ],
   "source": [
    "# binary \n",
    "tokenized_sentences_test = []\n",
    "for i in range(len(test_df.Text)):\n",
    "  sent_test = nltk.word_tokenize(test_df.Text[i])\n",
    "  tokenized_sentences_test.append(sent_test)\n",
    "  \n",
    "aspect_list_test = []\n",
    "for i in range((max(test.Sentence_ID))):\n",
    "    if any(test.Sentence_ID == i+1) == True:\n",
    "      aspect_list_test.append(test.groupby(['Sentence_ID']).get_group(i+1).AspectTerm.values)\n",
    "\n",
    "for i in range(len(aspect_list_test)):\n",
    "  if aspect_list_test[i] == []:\n",
    "    aspect_list_test[i] = aspect_list_test[i]\n",
    "  else:\n",
    "    aspect_list_test[i] = [nltk.word_tokenize(j) for j in aspect_list_test[i]]\n",
    "\n",
    "for i in range(len(aspect_list_test)):\n",
    "  aspect_list_test[i] = [item for sublist in aspect_list_test[i] for item in sublist]\n",
    "  aspect_list_test\n",
    "\n",
    "aspect_labels_test = []\n",
    "for token in tokenized_sentences_test[0]:\n",
    "  if np.isin(token, aspect_list_test[0]) == True:\n",
    "    aspect_labels_test.append(1)\n",
    "  else:\n",
    "    aspect_labels_test.append(0)\n",
    "\n",
    "other_aspects_test = []\n",
    "for i in range(len(tokenized_sentences_test)-1):\n",
    "  for token in tokenized_sentences_test[i+1]:\n",
    "    if np.isin(token, aspect_list_test[i+1]) == True:\n",
    "      other_aspects_test.append(1)\n",
    "    else:\n",
    "      other_aspects_test.append(0)\n",
    "aspect_labels_test = pd.concat([pd.Series(aspect_labels_test), pd.Series(other_aspects_test)], axis=0)\n",
    "aspect_labels_test = aspect_labels_test.reset_index(drop=True)\n",
    "df_sample_test['binary_AspectTags'] = aspect_labels_test"
   ]
  },
  {
   "cell_type": "code",
   "execution_count": 43,
   "metadata": {
    "colab": {
     "base_uri": "https://localhost:8080/",
     "height": 1000
    },
    "id": "YLWB5PjE75jx",
    "outputId": "67dbc708-a0b4-4a43-806f-6da9df7abbd2"
   },
   "outputs": [
    {
     "data": {
      "text/html": [
       "<div>\n",
       "<style scoped>\n",
       "    .dataframe tbody tr th:only-of-type {\n",
       "        vertical-align: middle;\n",
       "    }\n",
       "\n",
       "    .dataframe tbody tr th {\n",
       "        vertical-align: top;\n",
       "    }\n",
       "\n",
       "    .dataframe thead th {\n",
       "        text-align: right;\n",
       "    }\n",
       "</style>\n",
       "<table border=\"1\" class=\"dataframe\">\n",
       "  <thead>\n",
       "    <tr style=\"text-align: right;\">\n",
       "      <th></th>\n",
       "      <th>Sentence #</th>\n",
       "      <th>Word</th>\n",
       "      <th>POS</th>\n",
       "      <th>nltkTag</th>\n",
       "      <th>binary_AspectTags</th>\n",
       "      <th>BIO_aspectTags</th>\n",
       "    </tr>\n",
       "  </thead>\n",
       "  <tbody>\n",
       "    <tr>\n",
       "      <th>7350</th>\n",
       "      <td>586</td>\n",
       "      <td>while</td>\n",
       "      <td>IN</td>\n",
       "      <td>O</td>\n",
       "      <td>0</td>\n",
       "      <td>O</td>\n",
       "    </tr>\n",
       "    <tr>\n",
       "      <th>7351</th>\n",
       "      <td>586</td>\n",
       "      <td>i</td>\n",
       "      <td>NN</td>\n",
       "      <td>B-NP</td>\n",
       "      <td>0</td>\n",
       "      <td>O</td>\n",
       "    </tr>\n",
       "    <tr>\n",
       "      <th>7352</th>\n",
       "      <td>586</td>\n",
       "      <td>could</td>\n",
       "      <td>MD</td>\n",
       "      <td>O</td>\n",
       "      <td>0</td>\n",
       "      <td>O</td>\n",
       "    </tr>\n",
       "    <tr>\n",
       "      <th>7353</th>\n",
       "      <td>586</td>\n",
       "      <td>have</td>\n",
       "      <td>VB</td>\n",
       "      <td>O</td>\n",
       "      <td>0</td>\n",
       "      <td>O</td>\n",
       "    </tr>\n",
       "    <tr>\n",
       "      <th>7354</th>\n",
       "      <td>586</td>\n",
       "      <td>done</td>\n",
       "      <td>VBN</td>\n",
       "      <td>O</td>\n",
       "      <td>0</td>\n",
       "      <td>O</td>\n",
       "    </tr>\n",
       "    <tr>\n",
       "      <th>7355</th>\n",
       "      <td>586</td>\n",
       "      <td>without</td>\n",
       "      <td>IN</td>\n",
       "      <td>O</td>\n",
       "      <td>0</td>\n",
       "      <td>O</td>\n",
       "    </tr>\n",
       "    <tr>\n",
       "      <th>7356</th>\n",
       "      <td>586</td>\n",
       "      <td>the</td>\n",
       "      <td>DT</td>\n",
       "      <td>B-NP</td>\n",
       "      <td>0</td>\n",
       "      <td>O</td>\n",
       "    </tr>\n",
       "    <tr>\n",
       "      <th>7357</th>\n",
       "      <td>586</td>\n",
       "      <td>youth</td>\n",
       "      <td>NN</td>\n",
       "      <td>I-NP</td>\n",
       "      <td>0</td>\n",
       "      <td>O</td>\n",
       "    </tr>\n",
       "    <tr>\n",
       "      <th>7358</th>\n",
       "      <td>586</td>\n",
       "      <td>who</td>\n",
       "      <td>WP</td>\n",
       "      <td>O</td>\n",
       "      <td>0</td>\n",
       "      <td>O</td>\n",
       "    </tr>\n",
       "    <tr>\n",
       "      <th>7359</th>\n",
       "      <td>586</td>\n",
       "      <td>shared</td>\n",
       "      <td>VBD</td>\n",
       "      <td>O</td>\n",
       "      <td>0</td>\n",
       "      <td>O</td>\n",
       "    </tr>\n",
       "    <tr>\n",
       "      <th>7360</th>\n",
       "      <td>586</td>\n",
       "      <td>the</td>\n",
       "      <td>DT</td>\n",
       "      <td>B-NP</td>\n",
       "      <td>0</td>\n",
       "      <td>O</td>\n",
       "    </tr>\n",
       "    <tr>\n",
       "      <th>7361</th>\n",
       "      <td>586</td>\n",
       "      <td>evening</td>\n",
       "      <td>NN</td>\n",
       "      <td>I-NP</td>\n",
       "      <td>0</td>\n",
       "      <td>O</td>\n",
       "    </tr>\n",
       "    <tr>\n",
       "      <th>7362</th>\n",
       "      <td>586</td>\n",
       "      <td>with</td>\n",
       "      <td>IN</td>\n",
       "      <td>O</td>\n",
       "      <td>0</td>\n",
       "      <td>O</td>\n",
       "    </tr>\n",
       "    <tr>\n",
       "      <th>7363</th>\n",
       "      <td>586</td>\n",
       "      <td>us</td>\n",
       "      <td>PRP</td>\n",
       "      <td>O</td>\n",
       "      <td>0</td>\n",
       "      <td>O</td>\n",
       "    </tr>\n",
       "    <tr>\n",
       "      <th>7364</th>\n",
       "      <td>586</td>\n",
       "      <td>our</td>\n",
       "      <td>PRP$</td>\n",
       "      <td>O</td>\n",
       "      <td>0</td>\n",
       "      <td>O</td>\n",
       "    </tr>\n",
       "    <tr>\n",
       "      <th>7365</th>\n",
       "      <td>586</td>\n",
       "      <td>wonderful</td>\n",
       "      <td>JJ</td>\n",
       "      <td>B-NP</td>\n",
       "      <td>0</td>\n",
       "      <td>O</td>\n",
       "    </tr>\n",
       "    <tr>\n",
       "      <th>7366</th>\n",
       "      <td>586</td>\n",
       "      <td>server</td>\n",
       "      <td>NN</td>\n",
       "      <td>I-NP</td>\n",
       "      <td>1</td>\n",
       "      <td>B-NP</td>\n",
       "    </tr>\n",
       "    <tr>\n",
       "      <th>7367</th>\n",
       "      <td>586</td>\n",
       "      <td>and</td>\n",
       "      <td>CC</td>\n",
       "      <td>O</td>\n",
       "      <td>0</td>\n",
       "      <td>O</td>\n",
       "    </tr>\n",
       "    <tr>\n",
       "      <th>7368</th>\n",
       "      <td>586</td>\n",
       "      <td>food</td>\n",
       "      <td>NN</td>\n",
       "      <td>B-NP</td>\n",
       "      <td>1</td>\n",
       "      <td>B-NP</td>\n",
       "    </tr>\n",
       "    <tr>\n",
       "      <th>7369</th>\n",
       "      <td>586</td>\n",
       "      <td>made</td>\n",
       "      <td>VBD</td>\n",
       "      <td>O</td>\n",
       "      <td>0</td>\n",
       "      <td>O</td>\n",
       "    </tr>\n",
       "    <tr>\n",
       "      <th>7370</th>\n",
       "      <td>586</td>\n",
       "      <td>the</td>\n",
       "      <td>DT</td>\n",
       "      <td>B-NP</td>\n",
       "      <td>0</td>\n",
       "      <td>O</td>\n",
       "    </tr>\n",
       "    <tr>\n",
       "      <th>7371</th>\n",
       "      <td>586</td>\n",
       "      <td>experience</td>\n",
       "      <td>NN</td>\n",
       "      <td>I-NP</td>\n",
       "      <td>0</td>\n",
       "      <td>O</td>\n",
       "    </tr>\n",
       "    <tr>\n",
       "      <th>7372</th>\n",
       "      <td>586</td>\n",
       "      <td>a</td>\n",
       "      <td>DT</td>\n",
       "      <td>O</td>\n",
       "      <td>0</td>\n",
       "      <td>O</td>\n",
       "    </tr>\n",
       "    <tr>\n",
       "      <th>7373</th>\n",
       "      <td>586</td>\n",
       "      <td>very</td>\n",
       "      <td>RB</td>\n",
       "      <td>O</td>\n",
       "      <td>0</td>\n",
       "      <td>O</td>\n",
       "    </tr>\n",
       "    <tr>\n",
       "      <th>7374</th>\n",
       "      <td>586</td>\n",
       "      <td>positive</td>\n",
       "      <td>JJ</td>\n",
       "      <td>B-NP</td>\n",
       "      <td>0</td>\n",
       "      <td>O</td>\n",
       "    </tr>\n",
       "    <tr>\n",
       "      <th>7375</th>\n",
       "      <td>586</td>\n",
       "      <td>one</td>\n",
       "      <td>NN</td>\n",
       "      <td>I-NP</td>\n",
       "      <td>0</td>\n",
       "      <td>O</td>\n",
       "    </tr>\n",
       "    <tr>\n",
       "      <th>7376</th>\n",
       "      <td>587</td>\n",
       "      <td>oh</td>\n",
       "      <td>UH</td>\n",
       "      <td>O</td>\n",
       "      <td>0</td>\n",
       "      <td>O</td>\n",
       "    </tr>\n",
       "    <tr>\n",
       "      <th>7377</th>\n",
       "      <td>587</td>\n",
       "      <td>yeahthe</td>\n",
       "      <td>NN</td>\n",
       "      <td>B-NP</td>\n",
       "      <td>0</td>\n",
       "      <td>O</td>\n",
       "    </tr>\n",
       "    <tr>\n",
       "      <th>7378</th>\n",
       "      <td>587</td>\n",
       "      <td>view</td>\n",
       "      <td>NN</td>\n",
       "      <td>B-NP</td>\n",
       "      <td>1</td>\n",
       "      <td>B-NP</td>\n",
       "    </tr>\n",
       "    <tr>\n",
       "      <th>7379</th>\n",
       "      <td>587</td>\n",
       "      <td>was</td>\n",
       "      <td>VBD</td>\n",
       "      <td>O</td>\n",
       "      <td>0</td>\n",
       "      <td>O</td>\n",
       "    </tr>\n",
       "    <tr>\n",
       "      <th>7380</th>\n",
       "      <td>587</td>\n",
       "      <td>good</td>\n",
       "      <td>JJ</td>\n",
       "      <td>O</td>\n",
       "      <td>0</td>\n",
       "      <td>O</td>\n",
       "    </tr>\n",
       "    <tr>\n",
       "      <th>7381</th>\n",
       "      <td>587</td>\n",
       "      <td>too</td>\n",
       "      <td>RB</td>\n",
       "      <td>O</td>\n",
       "      <td>0</td>\n",
       "      <td>O</td>\n",
       "    </tr>\n",
       "  </tbody>\n",
       "</table>\n",
       "</div>"
      ],
      "text/plain": [
       "      Sentence #        Word   POS nltkTag  binary_AspectTags BIO_aspectTags\n",
       "7350         586       while    IN       O                  0              O\n",
       "7351         586           i    NN    B-NP                  0              O\n",
       "7352         586       could    MD       O                  0              O\n",
       "7353         586        have    VB       O                  0              O\n",
       "7354         586        done   VBN       O                  0              O\n",
       "7355         586     without    IN       O                  0              O\n",
       "7356         586         the    DT    B-NP                  0              O\n",
       "7357         586       youth    NN    I-NP                  0              O\n",
       "7358         586         who    WP       O                  0              O\n",
       "7359         586      shared   VBD       O                  0              O\n",
       "7360         586         the    DT    B-NP                  0              O\n",
       "7361         586     evening    NN    I-NP                  0              O\n",
       "7362         586        with    IN       O                  0              O\n",
       "7363         586          us   PRP       O                  0              O\n",
       "7364         586         our  PRP$       O                  0              O\n",
       "7365         586   wonderful    JJ    B-NP                  0              O\n",
       "7366         586      server    NN    I-NP                  1           B-NP\n",
       "7367         586         and    CC       O                  0              O\n",
       "7368         586        food    NN    B-NP                  1           B-NP\n",
       "7369         586        made   VBD       O                  0              O\n",
       "7370         586         the    DT    B-NP                  0              O\n",
       "7371         586  experience    NN    I-NP                  0              O\n",
       "7372         586           a    DT       O                  0              O\n",
       "7373         586        very    RB       O                  0              O\n",
       "7374         586    positive    JJ    B-NP                  0              O\n",
       "7375         586         one    NN    I-NP                  0              O\n",
       "7376         587          oh    UH       O                  0              O\n",
       "7377         587     yeahthe    NN    B-NP                  0              O\n",
       "7378         587        view    NN    B-NP                  1           B-NP\n",
       "7379         587         was   VBD       O                  0              O\n",
       "7380         587        good    JJ       O                  0              O\n",
       "7381         587         too    RB       O                  0              O"
      ]
     },
     "execution_count": 43,
     "metadata": {
      "tags": []
     },
     "output_type": "execute_result"
    }
   ],
   "source": [
    "# IOB\n",
    "BIO_aspectTags_test = pd.Series(aspect_labels_test)\n",
    "BIO_aspectTags_test = BIO_aspectTags_test.replace(to_replace=0, value='O')\n",
    "BIO_aspectTags_test = BIO_aspectTags_test.replace(to_replace=1, value='B-NP')\n",
    "\n",
    "deneme_list_test = BIO_aspectTags_test.values.tolist()\n",
    "gizem_test =[]\n",
    "for n in range(len(deneme_list_test)):\n",
    "  if (deneme_list_test[n] != deneme_list_test[-1] and deneme_list_test[n] == 'O' and deneme_list_test[n+1] =='B-NP'):\n",
    "    gizem_test.append('B-NP')\n",
    "  elif (deneme_list_test[n-1] == 'O' and deneme_list_test[n] == 'B-NP' and deneme_list_test[n+1] =='B-NP'):\n",
    "    gizem_test.append('B-NP')\n",
    "  elif (deneme_list_test[n-1] == 'B-NP' and deneme_list_test[n] == 'B-NP' and deneme_list_test[n+1] =='B-NP'):\n",
    "    gizem_test.append('I-NP')\n",
    "  elif (deneme_list_test[n-1] == 'B-NP' and deneme_list_test[n] == 'B-NP' and deneme_list_test[n+1] =='O'):\n",
    "    gizem_test.append('I-NP')   \n",
    "  else:\n",
    "    gizem_test.append(deneme_list_test[n])\n",
    "\n",
    "df_sample_test['BIO_aspectTags'] = pd.Series(gizem_test)\n",
    "df_sample_test[7350:7382]"
   ]
  },
  {
   "cell_type": "markdown",
   "metadata": {
    "id": "SaynqPyDy0H1"
   },
   "source": [
    "#### Bert Tokenization for Test"
   ]
  },
  {
   "cell_type": "code",
   "execution_count": 44,
   "metadata": {
    "id": "GJ-yz_7Sx1Sb"
   },
   "outputs": [],
   "source": [
    "grouped_df_test = df_sample_test.groupby(\"Sentence #\").apply(agg_func)\n",
    "sentences_test = [[word[0] for word in sentence] for sentence in grouped_df_test]\n",
    "ntlkTags_test = [[tag[1] for tag in sentence] for sentence in grouped_df_test]\n",
    "binary_AspectTags_test = [[tag[2] for tag in sentence] for sentence in grouped_df_test]\n",
    "BIO_aspectTags_test = [[tag[3] for tag in sentence] for sentence in grouped_df_test]"
   ]
  },
  {
   "cell_type": "code",
   "execution_count": 45,
   "metadata": {
    "colab": {
     "base_uri": "https://localhost:8080/"
    },
    "id": "thk1nWq7yGWz",
    "outputId": "596d2bf5-ab56-4491-9660-f4cc0d847d48"
   },
   "outputs": [
    {
     "data": {
      "text/plain": [
       "(array([ 194, 1818,    0,    0,    0,    0,    0,    0,    0,    0,    0,\n",
       "           0,    0,    0,    0,    0,    0,    0,    0,    0,    0,    0,\n",
       "           0,    0,    0,    0,    0,    0,    0,    0,    0,    0,    0,\n",
       "           0,    0,    0,    0,    0,    0,    0,    0]),\n",
       " array([2, 2, 3, 3, 3, 3, 3, 3, 3, 3, 3, 3, 3, 3, 3, 3, 3, 3, 3, 3, 3, 3,\n",
       "        3, 3, 3, 3, 3, 3, 3, 3, 3, 3, 3, 3, 3, 3, 3, 3, 3, 3, 3]))"
      ]
     },
     "execution_count": 45,
     "metadata": {
      "tags": []
     },
     "output_type": "execute_result"
    }
   ],
   "source": [
    "# nltk\n",
    "all_sentence_list_nltk_test = []\n",
    "all_label_list_nltk_test = []\n",
    "for i in range(len(sentences_test)):\n",
    "  tokenized_sentence_list = []\n",
    "  label_list = []\n",
    "  for word, label in zip(sentences_test[i], ntlkTags[i]):\n",
    "    tokenized_word = tokenizer.tokenize(word)\n",
    "    n_subwords = len(tokenized_word)\n",
    "    tokenized_sentence_list.extend(tokenized_word)\n",
    "    label_list.extend([label] * n_subwords)\n",
    "  all_sentence_list_nltk_test.append(tokenized_sentence_list)\n",
    "  all_label_list_nltk_test.append(label_list)\n",
    "\n",
    "# Raw Inputs\n",
    "tokenized_texts = all_sentence_list_nltk_test\n",
    "labels = all_label_list_nltk_test\n",
    "\n",
    "# Max length\n",
    "max_length = max([len(sen) for sen in tokenized_texts])\n",
    "\n",
    "input_ids_nltk_test = pad_sequences([tokenizer.convert_tokens_to_ids(txt) for txt in tokenized_texts],\n",
    "                          maxlen=max_length, dtype=\"long\", value=0.0,\n",
    "                          truncating=\"post\", padding=\"post\")\n",
    "\n",
    "tags_nltk_test = pad_sequences([[tag2idx_nltk.get(l) for l in lab] for lab in labels],\n",
    "                     maxlen=max_length, value=tag2idx_nltk[\"PAD\"], padding=\"post\",\n",
    "                     dtype=\"long\", truncating=\"post\")\n",
    "\n",
    "attention_masks_nltk_test = [[float(i != 0.0) for i in ii] for ii in input_ids_nltk_test]\n",
    "input_ids_nltk_test[0], tags_nltk_test[0]"
   ]
  },
  {
   "cell_type": "code",
   "execution_count": 46,
   "metadata": {
    "colab": {
     "base_uri": "https://localhost:8080/"
    },
    "id": "R-U9PCK4zGvz",
    "outputId": "821e4222-9c4b-4737-c4c0-147c660788bd"
   },
   "outputs": [
    {
     "data": {
      "text/plain": [
       "(array([ 194, 1818,    0,    0,    0,    0,    0,    0,    0,    0,    0,\n",
       "           0,    0,    0,    0,    0,    0,    0,    0,    0,    0,    0,\n",
       "           0,    0,    0,    0,    0,    0,    0,    0,    0,    0,    0,\n",
       "           0,    0,    0,    0,    0,    0,    0,    0,    0,    0,    0,\n",
       "           0,    0,    0,    0,    0,    0,    0,    0,    0,    0,    0,\n",
       "           0,    0,    0,    0,    0,    0,    0,    0,    0,    0,    0,\n",
       "           0,    0,    0,    0,    0,    0,    0,    0,    0,    0,    0,\n",
       "           0,    0]),\n",
       " array([0, 0, 2, 2, 2, 2, 2, 2, 2, 2, 2, 2, 2, 2, 2, 2, 2, 2, 2, 2, 2, 2,\n",
       "        2, 2, 2, 2, 2, 2, 2, 2, 2, 2, 2, 2, 2, 2, 2, 2, 2, 2, 2]))"
      ]
     },
     "execution_count": 46,
     "metadata": {
      "tags": []
     },
     "output_type": "execute_result"
    }
   ],
   "source": [
    "# binary\n",
    "all_sentence_list_binary_test = []\n",
    "all_label_list_binary_test = []\n",
    "for i in range(len(sentences_test)):\n",
    "  tokenized_sentence_list = []\n",
    "  label_list = []\n",
    "  for word, label in zip(sentences_test[i], binary_AspectTags_test[i]):\n",
    "    tokenized_word = tokenizer.tokenize(word)\n",
    "    n_subwords = len(tokenized_word)\n",
    "    tokenized_sentence_list.extend(tokenized_word)\n",
    "    label_list.extend([label] * n_subwords)\n",
    "  all_sentence_list_binary_test.append(tokenized_sentence_list)\n",
    "  all_label_list_binary_test.append(label_list)\n",
    "\n",
    "# Raw Inputs\n",
    "tokenized_texts_binary_test = all_sentence_list_binary_test\n",
    "labels_binary_test = all_label_list_binary_test\n",
    "\n",
    "# Max length\n",
    "max_length_binary_test = max([len(sen) for sen in tokenized_texts_binary_test])\n",
    "\n",
    "input_ids_binary_test = pad_sequences([tokenizer.convert_tokens_to_ids(txt) for txt in tokenized_texts_binary_test],\n",
    "                          maxlen=max_length_binary_test, dtype=\"long\", value=0.0,\n",
    "                          truncating=\"post\", padding=\"post\")\n",
    "\n",
    "tags_binary_test = pad_sequences([[tag2idx_binary.get(l) for l in lab] for lab in labels_binary_test],\n",
    "                     maxlen=max_length, value=tag2idx_binary[\"PAD\"], padding=\"post\",\n",
    "                     dtype=\"long\", truncating=\"post\")\n",
    "\n",
    "attention_masks_binary_test = [[float(i != 0.0) for i in ii] for ii in input_ids_binary_test]\n",
    "input_ids_binary_test[0], tags_binary_test[0]"
   ]
  },
  {
   "cell_type": "code",
   "execution_count": 47,
   "metadata": {
    "colab": {
     "base_uri": "https://localhost:8080/"
    },
    "id": "IC6LmeHfzh_C",
    "outputId": "93831cad-fd7b-4275-c8cb-416417dd3667"
   },
   "outputs": [
    {
     "data": {
      "text/plain": [
       "(array([ 194, 1818,    0,    0,    0,    0,    0,    0,    0,    0,    0,\n",
       "           0,    0,    0,    0,    0,    0,    0,    0,    0,    0,    0,\n",
       "           0,    0,    0,    0,    0,    0,    0,    0,    0,    0,    0,\n",
       "           0,    0,    0,    0,    0,    0,    0,    0,    0,    0,    0,\n",
       "           0,    0,    0,    0,    0,    0,    0,    0,    0,    0,    0,\n",
       "           0,    0,    0,    0,    0,    0,    0,    0,    0,    0,    0,\n",
       "           0,    0,    0,    0,    0,    0,    0,    0,    0,    0,    0,\n",
       "           0,    0]),\n",
       " array([2, 2, 3, 3, 3, 3, 3, 3, 3, 3, 3, 3, 3, 3, 3, 3, 3, 3, 3, 3, 3, 3,\n",
       "        3, 3, 3, 3, 3, 3, 3, 3, 3, 3, 3, 3, 3, 3, 3, 3, 3, 3, 3]))"
      ]
     },
     "execution_count": 47,
     "metadata": {
      "tags": []
     },
     "output_type": "execute_result"
    }
   ],
   "source": [
    "# IOB\n",
    "all_sentence_list_IOB_test = []\n",
    "all_label_list_IOB_test = []\n",
    "for i in range(len(sentences_test)):\n",
    "  tokenized_sentence_list = []\n",
    "  label_list = []\n",
    "  for word, label in zip(sentences_test[i], BIO_aspectTags_test[i]):\n",
    "    tokenized_word = tokenizer.tokenize(word)\n",
    "    n_subwords = len(tokenized_word)\n",
    "    tokenized_sentence_list.extend(tokenized_word)\n",
    "    label_list.extend([label] * n_subwords)\n",
    "  all_sentence_list_IOB_test.append(tokenized_sentence_list)\n",
    "  all_label_list_IOB_test.append(label_list)\n",
    "\n",
    "# Raw Inputs\n",
    "tokenized_texts_IOB_test = all_sentence_list_IOB_test\n",
    "labels_IOB_test = all_label_list_IOB_test\n",
    "\n",
    "# Max length\n",
    "max_length_IOB_test = max([len(sen) for sen in tokenized_texts_IOB_test])\n",
    "\n",
    "input_ids_IOB_test= pad_sequences([tokenizer.convert_tokens_to_ids(txt) for txt in tokenized_texts_IOB_test],\n",
    "                          maxlen=max_length_IOB_test, dtype=\"long\", value=0.0,\n",
    "                          truncating=\"post\", padding=\"post\")\n",
    "\n",
    "tags_IOB_test = pad_sequences([[tag2idx_IOB.get(l) for l in lab] for lab in labels_IOB_test],\n",
    "                     maxlen=max_length, value=tag2idx_IOB[\"PAD\"], padding=\"post\",\n",
    "                     dtype=\"long\", truncating=\"post\")\n",
    "\n",
    "attention_masks_IOB_test = [[float(i != 0.0) for i in ii] for ii in input_ids_IOB_test]\n",
    "input_ids_IOB_test[0], tags_IOB_test[0]"
   ]
  },
  {
   "cell_type": "markdown",
   "metadata": {
    "id": "DSrijwVH2MhQ"
   },
   "source": [
    "### Predictions"
   ]
  },
  {
   "cell_type": "code",
   "execution_count": 48,
   "metadata": {
    "id": "svSPZaUE2VdG"
   },
   "outputs": [],
   "source": [
    "# nltk\n",
    "test_Text = test_Text.reset_index(drop = True)\n",
    "data_list_nltk, all_predictions_nltk = [], []\n",
    "for i in range(len(test_Text)):\n",
    "  tkns = tokenizer.tokenize(test_Text[i])\n",
    "  indexed_tokens = tokenizer.convert_tokens_to_ids(tkns)\n",
    "  segments_ids = [0] * len(tkns)\n",
    "  tokens_tensor = torch.tensor([indexed_tokens])\n",
    "  segments_tensors = torch.tensor([segments_ids])\n",
    "\n",
    "  model_nltk.eval()\n",
    "  with torch.no_grad():\n",
    "    prediction_nltk = []\n",
    "    output_test = model_nltk(tokens_tensor, token_type_ids=None,\n",
    "                      attention_mask=segments_tensors)\n",
    "    logit = output_test[0].numpy()\n",
    "  prediction_nltk.extend(p for p in np.argmax(logit, axis=2))\n",
    "  prediction_nltk = list(prediction_nltk[0])\n",
    "\n",
    "  new_tokens_nltk, new_labels_nltk = [], []\n",
    "  for token, label in zip(tkns, prediction_nltk):\n",
    "    if token.startswith(\"##\"):\n",
    "      new_tokens_nltk[-1] = new_tokens_nltk[-1] + token[2:]\n",
    "    else:\n",
    "      new_tokens_nltk.append(token)\n",
    "      new_labels_nltk.append(label)\n",
    "    df_sentence_nltk = pd.DataFrame({'tokens':pd.Series(new_tokens_nltk), 'tags':pd.Series(new_labels_nltk)})\n",
    "  all_predictions_nltk.append(new_labels_nltk)\n",
    "  data_list_nltk.append(df_sentence_nltk) "
   ]
  },
  {
   "cell_type": "code",
   "execution_count": 49,
   "metadata": {
    "id": "LyZr9ozD3739"
   },
   "outputs": [],
   "source": [
    "# binary\n",
    "test_Text = test_Text.reset_index(drop = True)\n",
    "data_list_binary, all_predictions_binary = [], []\n",
    "for i in range(len(test_Text)):\n",
    "  tkns = tokenizer.tokenize(test_Text[i])\n",
    "  indexed_tokens = tokenizer.convert_tokens_to_ids(tkns)\n",
    "  segments_ids = [0] * len(tkns)\n",
    "  tokens_tensor = torch.tensor([indexed_tokens])\n",
    "  segments_tensors = torch.tensor([segments_ids])\n",
    "\n",
    "  model_binary.eval()\n",
    "  with torch.no_grad():\n",
    "    prediction_binary = []\n",
    "    output_test = model_binary(tokens_tensor, token_type_ids=None,\n",
    "                      attention_mask=segments_tensors)\n",
    "    logit = output_test[0].numpy()\n",
    "  prediction_binary.extend(p for p in np.argmax(logit, axis=2))\n",
    "  prediction_binary = list(prediction_binary[0])\n",
    "\n",
    "  new_tokens_binary, new_labels_binary = [], []\n",
    "  for token, label in zip(tkns, prediction_binary):\n",
    "    if token.startswith(\"##\"):\n",
    "      new_tokens_binary[-1] = new_tokens_binary[-1] + token[2:]\n",
    "    else:\n",
    "      new_tokens_binary.append(token)\n",
    "      new_labels_binary.append(label)\n",
    "    df_sentence_binary = pd.DataFrame({'tokens':pd.Series(new_tokens_binary), 'tags':pd.Series(new_labels_binary)})\n",
    "  all_predictions_binary.append(new_labels_binary)\n",
    "  data_list_binary.append(df_sentence_binary) "
   ]
  },
  {
   "cell_type": "code",
   "execution_count": 50,
   "metadata": {
    "id": "yx9ZPCJv3ANr"
   },
   "outputs": [],
   "source": [
    "# IOB\n",
    "test_Text = test_Text.reset_index(drop = True)\n",
    "data_list_IOB, all_predictions_IOB = [], []\n",
    "for i in range(len(test_Text)):\n",
    "  tkns = tokenizer.tokenize(test_Text[i])\n",
    "  indexed_tokens = tokenizer.convert_tokens_to_ids(tkns)\n",
    "  segments_ids = [0] * len(tkns)\n",
    "  tokens_tensor = torch.tensor([indexed_tokens])\n",
    "  segments_tensors = torch.tensor([segments_ids])\n",
    "\n",
    "  model_IOB.eval()\n",
    "  with torch.no_grad():\n",
    "    prediction_IOB = []\n",
    "    output_test = model_IOB(tokens_tensor, token_type_ids=None,\n",
    "                      attention_mask=segments_tensors)\n",
    "    logit = output_test[0].numpy()\n",
    "  prediction_IOB.extend(p for p in np.argmax(logit, axis=2))\n",
    "  prediction_IOB = list(prediction_IOB[0])\n",
    "\n",
    "  new_tokens_IOB, new_labels_IOB = [], []\n",
    "  for token, label in zip(tkns, prediction_IOB):\n",
    "    if token.startswith(\"##\"):\n",
    "      new_tokens_IOB[-1] = new_tokens_IOB[-1] + token[2:]\n",
    "    elif token.startswith(\"'\"):   \n",
    "      new_tokens_IOB[-1] = new_tokens_IOB[-1] + token\n",
    "    else:\n",
    "      new_tokens_IOB.append(token)\n",
    "      new_labels_IOB.append(label)\n",
    "    df_sentence_IOB = pd.DataFrame({'tokens':pd.Series(new_tokens_IOB), 'tags':pd.Series(new_labels_IOB)})\n",
    "  all_predictions_IOB.append(new_labels_IOB)\n",
    "  data_list_IOB.append(df_sentence_IOB) "
   ]
  },
  {
   "cell_type": "markdown",
   "metadata": {
    "id": "21ihbqD3bNR3"
   },
   "source": [
    "### F1 Score & Accuracy & Classification Report"
   ]
  },
  {
   "cell_type": "code",
   "execution_count": 51,
   "metadata": {
    "colab": {
     "base_uri": "https://localhost:8080/"
    },
    "id": "Ml47G8l1aJfm",
    "outputId": "533904fd-ee36-4bb9-eb61-e5640f5b4f4c"
   },
   "outputs": [
    {
     "data": {
      "text/plain": [
       "({'B-NP': 1, 'I-NP': 0, 'O': 2, 'PAD': 3},\n",
       " {0: 0, 1: 1, 'PAD': 2},\n",
       " {'B-NP': 1, 'I-NP': 0, 'O': 2, 'PAD': 3})"
      ]
     },
     "execution_count": 51,
     "metadata": {
      "tags": []
     },
     "output_type": "execute_result"
    }
   ],
   "source": [
    "tag2idx_nltk, tag2idx_binary, tag2idx_IOB"
   ]
  },
  {
   "cell_type": "code",
   "execution_count": 52,
   "metadata": {
    "id": "OZeTC9W45RUJ"
   },
   "outputs": [],
   "source": [
    "# nltk\n",
    "for j in range(len(all_predictions_nltk)):\n",
    "  for n, i in enumerate(all_predictions_nltk[j]):\n",
    "    if i == 0:\n",
    "      all_predictions_nltk[j][n] = 'I-NP'\n",
    "    elif i == 1:\n",
    "      all_predictions_nltk[j][n] = 'B-NP'\n",
    "    else:\n",
    "      all_predictions_nltk[j][n] = 'O'\n",
    "true_labels_nltk = ntlkTags_test[:]\n",
    "\n",
    "# binary\n",
    "true_labels_binary = binary_AspectTags_test[:]\n",
    "\n",
    "# IOB\n",
    "for j in range(len(all_predictions_IOB)):\n",
    "  for n, i in enumerate(all_predictions_IOB[j]):\n",
    "    if i == 0:\n",
    "      all_predictions_IOB[j][n] = 'I-NP'\n",
    "    elif i == 1:\n",
    "      all_predictions_IOB[j][n] = 'B-NP'\n",
    "    else:\n",
    "      all_predictions_IOB[j][n] = 'O'\n",
    "true_labels_IOB = BIO_aspectTags_test[:]"
   ]
  },
  {
   "cell_type": "markdown",
   "metadata": {
    "id": "qJLW8YZZbdmG"
   },
   "source": [
    "### Output Frame"
   ]
  },
  {
   "cell_type": "code",
   "execution_count": 55,
   "metadata": {
    "colab": {
     "base_uri": "https://localhost:8080/",
     "height": 504
    },
    "id": "ltb9wofT6ts_",
    "outputId": "12e83592-ad07-411e-ff90-00fded5a30db"
   },
   "outputs": [
    {
     "data": {
      "text/html": [
       "<div>\n",
       "<style scoped>\n",
       "    .dataframe tbody tr th:only-of-type {\n",
       "        vertical-align: middle;\n",
       "    }\n",
       "\n",
       "    .dataframe tbody tr th {\n",
       "        vertical-align: top;\n",
       "    }\n",
       "\n",
       "    .dataframe thead th {\n",
       "        text-align: right;\n",
       "    }\n",
       "</style>\n",
       "<table border=\"1\" class=\"dataframe\">\n",
       "  <thead>\n",
       "    <tr style=\"text-align: right;\">\n",
       "      <th></th>\n",
       "      <th>Text</th>\n",
       "      <th>aspectTerms</th>\n",
       "      <th>aspectTerm_nltk</th>\n",
       "      <th>aspectTerm_binary</th>\n",
       "      <th>aspectTerm_IOB</th>\n",
       "    </tr>\n",
       "  </thead>\n",
       "  <tbody>\n",
       "    <tr>\n",
       "      <th>0</th>\n",
       "      <td>yum</td>\n",
       "      <td>[]</td>\n",
       "      <td>[]</td>\n",
       "      <td>[]</td>\n",
       "      <td>[]</td>\n",
       "    </tr>\n",
       "    <tr>\n",
       "      <th>1</th>\n",
       "      <td>serves really good sushi</td>\n",
       "      <td>[sushi]</td>\n",
       "      <td>[sushi]</td>\n",
       "      <td>[sushi]</td>\n",
       "      <td>[sushi]</td>\n",
       "    </tr>\n",
       "    <tr>\n",
       "      <th>2</th>\n",
       "      <td>not the biggest portions but adequate</td>\n",
       "      <td>[portions]</td>\n",
       "      <td>[]</td>\n",
       "      <td>[portions]</td>\n",
       "      <td>[]</td>\n",
       "    </tr>\n",
       "    <tr>\n",
       "      <th>3</th>\n",
       "      <td>green tea creme brulee is a must</td>\n",
       "      <td>[Green Tea creme brulee]</td>\n",
       "      <td>[Green, Tea, creme, brulee, a, must]</td>\n",
       "      <td>[Tea, creme, brulee]</td>\n",
       "      <td>[Tea, creme, brulee]</td>\n",
       "    </tr>\n",
       "    <tr>\n",
       "      <th>4</th>\n",
       "      <td>do not leave the restaurant without it</td>\n",
       "      <td>[]</td>\n",
       "      <td>[the, restaurant]</td>\n",
       "      <td>[]</td>\n",
       "      <td>[]</td>\n",
       "    </tr>\n",
       "    <tr>\n",
       "      <th>...</th>\n",
       "      <td>...</td>\n",
       "      <td>...</td>\n",
       "      <td>...</td>\n",
       "      <td>...</td>\n",
       "      <td>...</td>\n",
       "    </tr>\n",
       "    <tr>\n",
       "      <th>582</th>\n",
       "      <td>our server continued to be attentive throughou...</td>\n",
       "      <td>[server, Ray's]</td>\n",
       "      <td>[server, the, night, one, issue, Ray, s, an, a...</td>\n",
       "      <td>[server]</td>\n",
       "      <td>[server]</td>\n",
       "    </tr>\n",
       "    <tr>\n",
       "      <th>583</th>\n",
       "      <td>two rascally kids were seated near us for the ...</td>\n",
       "      <td>[]</td>\n",
       "      <td>[the, first, part, dinner, a, delightful, pret...</td>\n",
       "      <td>[]</td>\n",
       "      <td>[]</td>\n",
       "    </tr>\n",
       "    <tr>\n",
       "      <th>584</th>\n",
       "      <td>all considered i have to say that rays boathou...</td>\n",
       "      <td>[Ray's Boathouse]</td>\n",
       "      <td>[Ray, s, Boathouse, title, a, Seattle, institu...</td>\n",
       "      <td>[Boathouse]</td>\n",
       "      <td>[Boathouse]</td>\n",
       "    </tr>\n",
       "    <tr>\n",
       "      <th>585</th>\n",
       "      <td>while i could have done without the youth who ...</td>\n",
       "      <td>[food, , server]</td>\n",
       "      <td>[the, youth, the, evening, wonderful, server, ...</td>\n",
       "      <td>[server, food]</td>\n",
       "      <td>[server, food]</td>\n",
       "    </tr>\n",
       "    <tr>\n",
       "      <th>586</th>\n",
       "      <td>oh yeahthe view was good too</td>\n",
       "      <td>[view]</td>\n",
       "      <td>[the, view]</td>\n",
       "      <td>[view]</td>\n",
       "      <td>[view]</td>\n",
       "    </tr>\n",
       "  </tbody>\n",
       "</table>\n",
       "<p>587 rows × 5 columns</p>\n",
       "</div>"
      ],
      "text/plain": [
       "                                                  Text  ...        aspectTerm_IOB\n",
       "0                                                  yum  ...                    []\n",
       "1                             serves really good sushi  ...               [sushi]\n",
       "2                not the biggest portions but adequate  ...                    []\n",
       "3                     green tea creme brulee is a must  ...  [Tea, creme, brulee]\n",
       "4               do not leave the restaurant without it  ...                    []\n",
       "..                                                 ...  ...                   ...\n",
       "582  our server continued to be attentive throughou...  ...              [server]\n",
       "583  two rascally kids were seated near us for the ...  ...                    []\n",
       "584  all considered i have to say that rays boathou...  ...           [Boathouse]\n",
       "585  while i could have done without the youth who ...  ...        [server, food]\n",
       "586                       oh yeahthe view was good too  ...                [view]\n",
       "\n",
       "[587 rows x 5 columns]"
      ]
     },
     "execution_count": 55,
     "metadata": {
      "tags": []
     },
     "output_type": "execute_result"
    }
   ],
   "source": [
    "aspectTerm_nltk, aspectTerm_binary, aspectTerm_IOB = [], [], []\n",
    "for i in range(len(test_Text)):\n",
    "  aspectTerm_nltk.append(data_list_nltk[i].loc[data_list_nltk[i]['tags'].isin([1,0])].tokens.values)\n",
    "  aspectTerm_binary.append(data_list_binary[i].loc[data_list_binary[i]['tags'].isin([1])].tokens.values)\n",
    "  aspectTerm_IOB.append(data_list_IOB[i].loc[data_list_IOB[i]['tags'].isin([1,0])].tokens.values)\n",
    "  \n",
    "output_frame = pd.merge(test_df, pd.DataFrame({'aspectTerm_nltk': pd.Series(aspectTerm_nltk)}), \n",
    "                        left_index = True, right_index=True)\n",
    "output_frame = pd.merge(output_frame, pd.DataFrame({'aspectTerm_binary': pd.Series(aspectTerm_binary)}), \n",
    "                        left_index = True, right_index=True)\n",
    "output_frame = pd.merge(output_frame, pd.DataFrame({'aspectTerm_IOB': pd.Series(aspectTerm_IOB)}), \n",
    "                        left_index = True, right_index=True)\n",
    "output_frame"
   ]
  },
  {
   "cell_type": "code",
   "execution_count": null,
   "metadata": {
    "id": "DomzLN37ea7Y"
   },
   "outputs": [],
   "source": [
    "output_frame.to_excel('OutputFrame_NER.xlsx')\n",
    "output_frame.to_csv('OutputFrame_NER.csv')"
   ]
  }
 ],
 "metadata": {
  "accelerator": "TPU",
  "colab": {
   "collapsed_sections": [],
   "machine_shape": "hm",
   "name": "PyTorch NER.ipynb",
   "provenance": [],
   "toc_visible": true
  },
  "kernelspec": {
   "display_name": "Python 3",
   "language": "python",
   "name": "python3"
  },
  "language_info": {
   "codemirror_mode": {
    "name": "ipython",
    "version": 3
   },
   "file_extension": ".py",
   "mimetype": "text/x-python",
   "name": "python",
   "nbconvert_exporter": "python",
   "pygments_lexer": "ipython3",
   "version": "3.7.6"
  },
  "widgets": {
   "application/vnd.jupyter.widget-state+json": {
    "1c93bd125103426a817048b79763646e": {
     "model_module": "@jupyter-widgets/base",
     "model_name": "LayoutModel",
     "state": {
      "_model_module": "@jupyter-widgets/base",
      "_model_module_version": "1.2.0",
      "_model_name": "LayoutModel",
      "_view_count": null,
      "_view_module": "@jupyter-widgets/base",
      "_view_module_version": "1.2.0",
      "_view_name": "LayoutView",
      "align_content": null,
      "align_items": null,
      "align_self": null,
      "border": null,
      "bottom": null,
      "display": null,
      "flex": null,
      "flex_flow": null,
      "grid_area": null,
      "grid_auto_columns": null,
      "grid_auto_flow": null,
      "grid_auto_rows": null,
      "grid_column": null,
      "grid_gap": null,
      "grid_row": null,
      "grid_template_areas": null,
      "grid_template_columns": null,
      "grid_template_rows": null,
      "height": null,
      "justify_content": null,
      "justify_items": null,
      "left": null,
      "margin": null,
      "max_height": null,
      "max_width": null,
      "min_height": null,
      "min_width": null,
      "object_fit": null,
      "object_position": null,
      "order": null,
      "overflow": null,
      "overflow_x": null,
      "overflow_y": null,
      "padding": null,
      "right": null,
      "top": null,
      "visibility": null,
      "width": null
     }
    },
    "29eda6b5991c492ebae8ecae233ae43c": {
     "model_module": "@jupyter-widgets/base",
     "model_name": "LayoutModel",
     "state": {
      "_model_module": "@jupyter-widgets/base",
      "_model_module_version": "1.2.0",
      "_model_name": "LayoutModel",
      "_view_count": null,
      "_view_module": "@jupyter-widgets/base",
      "_view_module_version": "1.2.0",
      "_view_name": "LayoutView",
      "align_content": null,
      "align_items": null,
      "align_self": null,
      "border": null,
      "bottom": null,
      "display": null,
      "flex": null,
      "flex_flow": null,
      "grid_area": null,
      "grid_auto_columns": null,
      "grid_auto_flow": null,
      "grid_auto_rows": null,
      "grid_column": null,
      "grid_gap": null,
      "grid_row": null,
      "grid_template_areas": null,
      "grid_template_columns": null,
      "grid_template_rows": null,
      "height": null,
      "justify_content": null,
      "justify_items": null,
      "left": null,
      "margin": null,
      "max_height": null,
      "max_width": null,
      "min_height": null,
      "min_width": null,
      "object_fit": null,
      "object_position": null,
      "order": null,
      "overflow": null,
      "overflow_x": null,
      "overflow_y": null,
      "padding": null,
      "right": null,
      "top": null,
      "visibility": null,
      "width": null
     }
    },
    "935a44999ee24bf692d15b77c9d09dbc": {
     "model_module": "@jupyter-widgets/controls",
     "model_name": "HTMLModel",
     "state": {
      "_dom_classes": [],
      "_model_module": "@jupyter-widgets/controls",
      "_model_module_version": "1.5.0",
      "_model_name": "HTMLModel",
      "_view_count": null,
      "_view_module": "@jupyter-widgets/controls",
      "_view_module_version": "1.5.0",
      "_view_name": "HTMLView",
      "description": "",
      "description_tooltip": null,
      "layout": "IPY_MODEL_1c93bd125103426a817048b79763646e",
      "placeholder": "​",
      "style": "IPY_MODEL_c7f3d46c9a774a4abd7db95a803800bc",
      "value": " 213k/213k [00:00&lt;00:00, 1.54MB/s]"
     }
    },
    "b3193611ab244fa9a47f8b9b3ee79bd0": {
     "model_module": "@jupyter-widgets/base",
     "model_name": "LayoutModel",
     "state": {
      "_model_module": "@jupyter-widgets/base",
      "_model_module_version": "1.2.0",
      "_model_name": "LayoutModel",
      "_view_count": null,
      "_view_module": "@jupyter-widgets/base",
      "_view_module_version": "1.2.0",
      "_view_name": "LayoutView",
      "align_content": null,
      "align_items": null,
      "align_self": null,
      "border": null,
      "bottom": null,
      "display": null,
      "flex": null,
      "flex_flow": null,
      "grid_area": null,
      "grid_auto_columns": null,
      "grid_auto_flow": null,
      "grid_auto_rows": null,
      "grid_column": null,
      "grid_gap": null,
      "grid_row": null,
      "grid_template_areas": null,
      "grid_template_columns": null,
      "grid_template_rows": null,
      "height": null,
      "justify_content": null,
      "justify_items": null,
      "left": null,
      "margin": null,
      "max_height": null,
      "max_width": null,
      "min_height": null,
      "min_width": null,
      "object_fit": null,
      "object_position": null,
      "order": null,
      "overflow": null,
      "overflow_x": null,
      "overflow_y": null,
      "padding": null,
      "right": null,
      "top": null,
      "visibility": null,
      "width": null
     }
    },
    "c7cfd7586e9a4fcba99fa03f62ab5a82": {
     "model_module": "@jupyter-widgets/controls",
     "model_name": "HBoxModel",
     "state": {
      "_dom_classes": [],
      "_model_module": "@jupyter-widgets/controls",
      "_model_module_version": "1.5.0",
      "_model_name": "HBoxModel",
      "_view_count": null,
      "_view_module": "@jupyter-widgets/controls",
      "_view_module_version": "1.5.0",
      "_view_name": "HBoxView",
      "box_style": "",
      "children": [
       "IPY_MODEL_d879c2d319734878be9f86b7ea06931a",
       "IPY_MODEL_935a44999ee24bf692d15b77c9d09dbc"
      ],
      "layout": "IPY_MODEL_b3193611ab244fa9a47f8b9b3ee79bd0"
     }
    },
    "c7f3d46c9a774a4abd7db95a803800bc": {
     "model_module": "@jupyter-widgets/controls",
     "model_name": "DescriptionStyleModel",
     "state": {
      "_model_module": "@jupyter-widgets/controls",
      "_model_module_version": "1.5.0",
      "_model_name": "DescriptionStyleModel",
      "_view_count": null,
      "_view_module": "@jupyter-widgets/base",
      "_view_module_version": "1.2.0",
      "_view_name": "StyleView",
      "description_width": ""
     }
    },
    "d879c2d319734878be9f86b7ea06931a": {
     "model_module": "@jupyter-widgets/controls",
     "model_name": "FloatProgressModel",
     "state": {
      "_dom_classes": [],
      "_model_module": "@jupyter-widgets/controls",
      "_model_module_version": "1.5.0",
      "_model_name": "FloatProgressModel",
      "_view_count": null,
      "_view_module": "@jupyter-widgets/controls",
      "_view_module_version": "1.5.0",
      "_view_name": "ProgressView",
      "bar_style": "success",
      "description": "Downloading: 100%",
      "description_tooltip": null,
      "layout": "IPY_MODEL_29eda6b5991c492ebae8ecae233ae43c",
      "max": 213450,
      "min": 0,
      "orientation": "horizontal",
      "style": "IPY_MODEL_e75d9d06d3c74594a07331844df0dca9",
      "value": 213450
     }
    },
    "e75d9d06d3c74594a07331844df0dca9": {
     "model_module": "@jupyter-widgets/controls",
     "model_name": "ProgressStyleModel",
     "state": {
      "_model_module": "@jupyter-widgets/controls",
      "_model_module_version": "1.5.0",
      "_model_name": "ProgressStyleModel",
      "_view_count": null,
      "_view_module": "@jupyter-widgets/base",
      "_view_module_version": "1.2.0",
      "_view_name": "StyleView",
      "bar_color": null,
      "description_width": "initial"
     }
    }
   }
  }
 },
 "nbformat": 4,
 "nbformat_minor": 4
}
